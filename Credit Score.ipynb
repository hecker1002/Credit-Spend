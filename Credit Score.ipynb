{
 "cells": [
  {
   "cell_type": "code",
   "execution_count": 64,
   "metadata": {},
   "outputs": [],
   "source": [
    "import numpy as np \n",
    "import pandas as pd \n",
    "import matplotlib.pyplot as plt \n",
    "import seaborn as sns \n",
    "from mpl_toolkits import mplot3d\n",
    "import pickle # convert model into bytestream\n",
    "\n",
    "pd.options.mode.chained_assignment = None "
   ]
  },
  {
   "cell_type": "code",
   "execution_count": 65,
   "metadata": {},
   "outputs": [],
   "source": [
    "data = pd.read_csv('D:\\This Project\\Credit Spend\\CreditCards.csv')"
   ]
  },
  {
   "cell_type": "code",
   "execution_count": 66,
   "metadata": {},
   "outputs": [
    {
     "data": {
      "text/plain": [
       "' \\ngiven ->> amount of transaction at one go for a person \\n\\nAim ->  to predict transaction for a person in particular month , gender , card type \\n\\n    -> cluster customers based on card type , amount and gender and give reminder of saving and amount to\\n save to customers spending more frequently \\n\\n \\nNEW AIMS - Include YOur Knowledge about Quants( how Credits , Equities work in market ) \\n      -  Also uae a RNN to analyze transctino amnt of indiviudla users and do future prediction basedon prev transaction (RNN)\\n'"
      ]
     },
     "execution_count": 66,
     "metadata": {},
     "output_type": "execute_result"
    }
   ],
   "source": [
    "''' \n",
    "given ->> amount of transaction at one go for a person \n",
    "\n",
    "Aim ->  to predict transaction for a person in particular month , gender , card type \n",
    "\n",
    "    -> cluster customers based on card type , amount and gender and give reminder of saving and amount to\n",
    " save to customers spending more frequently \n",
    "\n",
    " \n",
    "NEW AIMS - Include YOur Knowledge about Quants( how Credits , Equities work in market ) \n",
    "      -  Also uae a RNN to analyze transctino amnt of indiviudla users and do future prediction basedon prev transaction (RNN)\n",
    "'''"
   ]
  },
  {
   "cell_type": "code",
   "execution_count": 67,
   "metadata": {},
   "outputs": [
    {
     "name": "stdout",
     "output_type": "stream",
     "text": [
      "<class 'pandas.core.frame.DataFrame'>\n",
      "RangeIndex: 26054 entries, 0 to 26053\n",
      "Data columns (total 9 columns):\n",
      " #   Column     Non-Null Count  Dtype  \n",
      "---  ------     --------------  -----  \n",
      " 0   index      26052 non-null  float64\n",
      " 1   City       26052 non-null  object \n",
      " 2   Date       26054 non-null  object \n",
      " 3   Card Type  26052 non-null  object \n",
      " 4   Exp Type   26052 non-null  object \n",
      " 5   Gender     26052 non-null  object \n",
      " 6   Amount     26052 non-null  float64\n",
      " 7   Year       26052 non-null  float64\n",
      " 8   Month      26052 non-null  object \n",
      "dtypes: float64(3), object(6)\n",
      "memory usage: 1.8+ MB\n"
     ]
    }
   ],
   "source": [
    "data.info()\n",
    "\n",
    "''' 2 rows are empty '''\n",
    "\n",
    "data.dropna( inplace = True )"
   ]
  },
  {
   "cell_type": "code",
   "execution_count": 68,
   "metadata": {},
   "outputs": [
    {
     "data": {
      "text/plain": [
       "'  Numericla attributes only'"
      ]
     },
     "execution_count": 68,
     "metadata": {},
     "output_type": "execute_result"
    }
   ],
   "source": [
    "data.describe() \n",
    "'''  Numericla attributes only'''"
   ]
  },
  {
   "cell_type": "code",
   "execution_count": 69,
   "metadata": {},
   "outputs": [],
   "source": [
    "''' Removing 'India' name from City  and adding a new field of cities '''\n",
    "\n",
    "\n",
    "def extract_city ( col ) :\n",
    "    cities = []\n",
    "    rows = len(col) \n",
    "    for i in range(rows ) :\n",
    "\n",
    "        st = data.loc[i]['City']\n",
    "        city = st.split(',')[0]\n",
    "        cities.append(city )\n",
    "    \n",
    "    return cities \n",
    "\n",
    "cities = extract_city( data['City'])\n",
    "\n",
    "data.drop( 'City' , axis=1 , inplace= True )"
   ]
  },
  {
   "cell_type": "code",
   "execution_count": 70,
   "metadata": {},
   "outputs": [],
   "source": [
    "'''  Adding this new field of only cities ''' \n",
    "\n",
    "data['Cities'] = cities \n"
   ]
  },
  {
   "cell_type": "code",
   "execution_count": 71,
   "metadata": {},
   "outputs": [],
   "source": [
    "''' Dropping the Date & Index Column since Month ( festivities) are already given '''\n",
    "\n",
    "data = data.drop( ['Date' , 'index' ] , axis = 1 )\n"
   ]
  },
  {
   "cell_type": "code",
   "execution_count": 72,
   "metadata": {},
   "outputs": [
    {
     "data": {
      "text/html": [
       "<div>\n",
       "<style scoped>\n",
       "    .dataframe tbody tr th:only-of-type {\n",
       "        vertical-align: middle;\n",
       "    }\n",
       "\n",
       "    .dataframe tbody tr th {\n",
       "        vertical-align: top;\n",
       "    }\n",
       "\n",
       "    .dataframe thead th {\n",
       "        text-align: right;\n",
       "    }\n",
       "</style>\n",
       "<table border=\"1\" class=\"dataframe\">\n",
       "  <thead>\n",
       "    <tr style=\"text-align: right;\">\n",
       "      <th></th>\n",
       "      <th>Card Type</th>\n",
       "      <th>Exp Type</th>\n",
       "      <th>Gender</th>\n",
       "      <th>Amount</th>\n",
       "      <th>Year</th>\n",
       "      <th>Month</th>\n",
       "      <th>Cities</th>\n",
       "    </tr>\n",
       "  </thead>\n",
       "  <tbody>\n",
       "    <tr>\n",
       "      <th>0</th>\n",
       "      <td>Gold</td>\n",
       "      <td>Bills</td>\n",
       "      <td>F</td>\n",
       "      <td>82475.0</td>\n",
       "      <td>2014.0</td>\n",
       "      <td>October</td>\n",
       "      <td>Delhi</td>\n",
       "    </tr>\n",
       "    <tr>\n",
       "      <th>1</th>\n",
       "      <td>Platinum</td>\n",
       "      <td>Bills</td>\n",
       "      <td>F</td>\n",
       "      <td>32555.0</td>\n",
       "      <td>2014.0</td>\n",
       "      <td>August</td>\n",
       "      <td>Greater Mumbai</td>\n",
       "    </tr>\n",
       "    <tr>\n",
       "      <th>2</th>\n",
       "      <td>Silver</td>\n",
       "      <td>Bills</td>\n",
       "      <td>F</td>\n",
       "      <td>101738.0</td>\n",
       "      <td>2014.0</td>\n",
       "      <td>August</td>\n",
       "      <td>Bengaluru</td>\n",
       "    </tr>\n",
       "    <tr>\n",
       "      <th>3</th>\n",
       "      <td>Signature</td>\n",
       "      <td>Bills</td>\n",
       "      <td>F</td>\n",
       "      <td>123424.0</td>\n",
       "      <td>2014.0</td>\n",
       "      <td>April</td>\n",
       "      <td>Greater Mumbai</td>\n",
       "    </tr>\n",
       "    <tr>\n",
       "      <th>4</th>\n",
       "      <td>Gold</td>\n",
       "      <td>Bills</td>\n",
       "      <td>F</td>\n",
       "      <td>171574.0</td>\n",
       "      <td>2015.0</td>\n",
       "      <td>May</td>\n",
       "      <td>Bengaluru</td>\n",
       "    </tr>\n",
       "  </tbody>\n",
       "</table>\n",
       "</div>"
      ],
      "text/plain": [
       "   Card Type Exp Type Gender    Amount    Year    Month          Cities\n",
       "0       Gold    Bills      F   82475.0  2014.0  October           Delhi\n",
       "1   Platinum    Bills      F   32555.0  2014.0   August  Greater Mumbai\n",
       "2     Silver    Bills      F  101738.0  2014.0   August       Bengaluru\n",
       "3  Signature    Bills      F  123424.0  2014.0    April  Greater Mumbai\n",
       "4       Gold    Bills      F  171574.0  2015.0      May       Bengaluru"
      ]
     },
     "execution_count": 72,
     "metadata": {},
     "output_type": "execute_result"
    }
   ],
   "source": [
    "data.head()"
   ]
  },
  {
   "cell_type": "code",
   "execution_count": 73,
   "metadata": {},
   "outputs": [
    {
     "name": "stdout",
     "output_type": "stream",
     "text": [
      " Per month , there have been , Average 2171.0 transactions \n"
     ]
    }
   ],
   "source": [
    "''' Some inferences from the RAW dataset '''\n",
    "\n",
    "'''  Average amount of transactions per month '''\n",
    "\n",
    "avg_trans_month = len( data['Amount']) / 12 \n",
    "\n",
    "print( f\" Per month , there have been , Average {avg_trans_month} transactions \" )\n",
    "\n"
   ]
  },
  {
   "cell_type": "code",
   "execution_count": 74,
   "metadata": {},
   "outputs": [
    {
     "data": {
      "text/html": [
       "<div>\n",
       "<style scoped>\n",
       "    .dataframe tbody tr th:only-of-type {\n",
       "        vertical-align: middle;\n",
       "    }\n",
       "\n",
       "    .dataframe tbody tr th {\n",
       "        vertical-align: top;\n",
       "    }\n",
       "\n",
       "    .dataframe thead th {\n",
       "        text-align: right;\n",
       "    }\n",
       "</style>\n",
       "<table border=\"1\" class=\"dataframe\">\n",
       "  <thead>\n",
       "    <tr style=\"text-align: right;\">\n",
       "      <th></th>\n",
       "      <th>Card Type</th>\n",
       "      <th>Exp Type</th>\n",
       "      <th>Gender</th>\n",
       "      <th>Amount</th>\n",
       "      <th>Year</th>\n",
       "      <th>Month</th>\n",
       "      <th>Cities</th>\n",
       "    </tr>\n",
       "  </thead>\n",
       "  <tbody>\n",
       "    <tr>\n",
       "      <th>0</th>\n",
       "      <td>Gold</td>\n",
       "      <td>Bills</td>\n",
       "      <td>F</td>\n",
       "      <td>82475.0</td>\n",
       "      <td>2014.0</td>\n",
       "      <td>October</td>\n",
       "      <td>Delhi</td>\n",
       "    </tr>\n",
       "    <tr>\n",
       "      <th>1</th>\n",
       "      <td>Platinum</td>\n",
       "      <td>Bills</td>\n",
       "      <td>F</td>\n",
       "      <td>32555.0</td>\n",
       "      <td>2014.0</td>\n",
       "      <td>August</td>\n",
       "      <td>Greater Mumbai</td>\n",
       "    </tr>\n",
       "    <tr>\n",
       "      <th>2</th>\n",
       "      <td>Silver</td>\n",
       "      <td>Bills</td>\n",
       "      <td>F</td>\n",
       "      <td>101738.0</td>\n",
       "      <td>2014.0</td>\n",
       "      <td>August</td>\n",
       "      <td>Bengaluru</td>\n",
       "    </tr>\n",
       "    <tr>\n",
       "      <th>3</th>\n",
       "      <td>Signature</td>\n",
       "      <td>Bills</td>\n",
       "      <td>F</td>\n",
       "      <td>123424.0</td>\n",
       "      <td>2014.0</td>\n",
       "      <td>April</td>\n",
       "      <td>Greater Mumbai</td>\n",
       "    </tr>\n",
       "    <tr>\n",
       "      <th>4</th>\n",
       "      <td>Gold</td>\n",
       "      <td>Bills</td>\n",
       "      <td>F</td>\n",
       "      <td>171574.0</td>\n",
       "      <td>2015.0</td>\n",
       "      <td>May</td>\n",
       "      <td>Bengaluru</td>\n",
       "    </tr>\n",
       "  </tbody>\n",
       "</table>\n",
       "</div>"
      ],
      "text/plain": [
       "   Card Type Exp Type Gender    Amount    Year    Month          Cities\n",
       "0       Gold    Bills      F   82475.0  2014.0  October           Delhi\n",
       "1   Platinum    Bills      F   32555.0  2014.0   August  Greater Mumbai\n",
       "2     Silver    Bills      F  101738.0  2014.0   August       Bengaluru\n",
       "3  Signature    Bills      F  123424.0  2014.0    April  Greater Mumbai\n",
       "4       Gold    Bills      F  171574.0  2015.0      May       Bengaluru"
      ]
     },
     "execution_count": 74,
     "metadata": {},
     "output_type": "execute_result"
    }
   ],
   "source": [
    "data.head()"
   ]
  },
  {
   "cell_type": "code",
   "execution_count": 75,
   "metadata": {},
   "outputs": [
    {
     "data": {
      "image/png": "[encoded data removed]",
      "text/plain": [
       "<Figure size 1200x500 with 1 Axes>"
      ]
     },
     "metadata": {},
     "output_type": "display_data"
    }
   ],
   "source": [
    "'''  Seeinf Expense made  MOnth-Wise '''\n",
    "\n",
    "data['Month'].hist(bins  =50 ,  figsize  = (12 , 5))\n",
    "plt.show()"
   ]
  },
  {
   "cell_type": "code",
   "execution_count": 76,
   "metadata": {},
   "outputs": [
    {
     "data": {
      "image/png": "[encoded data removed]",
      "text/plain": [
       "<Figure size 640x480 with 1 Axes>"
      ]
     },
     "metadata": {},
     "output_type": "display_data"
    },
    {
     "data": {
      "text/plain": [
       "Card Type\n",
       "Silver       6840\n",
       "Signature    6447\n",
       "Platinum     6398\n",
       "Gold         6367\n",
       "Name: count, dtype: int64"
      ]
     },
     "execution_count": 76,
     "metadata": {},
     "output_type": "execute_result"
    }
   ],
   "source": [
    "data.plot( kind  = 'scatter' , x = 'Card Type' , y = 'Amount')\n",
    "\n",
    "plt.show()\n",
    "\n",
    "data['Card Type'].value_counts()"
   ]
  },
  {
   "cell_type": "code",
   "execution_count": 77,
   "metadata": {},
   "outputs": [
    {
     "data": {
      "image/png": "[encoded data removed]",
      "text/plain": [
       "<Figure size 640x480 with 1 Axes>"
      ]
     },
     "metadata": {},
     "output_type": "display_data"
    },
    {
     "data": {
      "text/plain": [
       "' HIhest Amount of Transactions have been made from the Platinum Card > Gold Card \\nInference -> Seems Platinum Card is More Powerful .\\n'"
      ]
     },
     "execution_count": 77,
     "metadata": {},
     "output_type": "execute_result"
    }
   ],
   "source": [
    "''' More than 5.0 lakh ruppes transaction from the Card Type '''\n",
    "\n",
    "df2 = data[  data['Amount'] >= 500000]\n",
    "\n",
    "df2.plot( kind  = 'scatter' , x = 'Card Type' , y = 'Amount')\n",
    "\n",
    "plt.show()\n",
    "\n",
    "df2['Card Type'].value_counts()\n",
    "\n",
    "''' HIhest Amount of Transactions have been made from the Platinum Card > Gold Card \n",
    "Inference -> Seems Platinum Card is More Powerful .\n",
    "'''\n"
   ]
  },
  {
   "cell_type": "code",
   "execution_count": 78,
   "metadata": {},
   "outputs": [
    {
     "data": {
      "text/plain": [
       "' Inference  -  1 LAkh to 3 Lakhs transactions are highest '"
      ]
     },
     "execution_count": 78,
     "metadata": {},
     "output_type": "execute_result"
    },
    {
     "data": {
      "image/png": "[encoded data removed]",
      "text/plain": [
       "<Figure size 640x480 with 1 Axes>"
      ]
     },
     "metadata": {},
     "output_type": "display_data"
    }
   ],
   "source": [
    "''' Categorise the Amount of Transaction and see Which range amount has been drawn more '''\n",
    "data1 = data.copy()\n",
    "data1['Amount'] = pd.cut( data1['Amount'] , bins = [ 0 , 100000 ,  200000 ,  300000 ,  400000 ,  500000 ,  600000 ,  700000 ,  800000 ,  900000 , np.inf] ,\n",
    "                          labels = [1,2,3,4,5,6,7,8,9,10])\n",
    "data1['Amount'].hist( bins = 20 )\n",
    "\n",
    "''' Inference  -  1 LAkh to 3 Lakhs transactions are highest '''"
   ]
  },
  {
   "cell_type": "code",
   "execution_count": 79,
   "metadata": {},
   "outputs": [],
   "source": [
    "''' Dummy data '''\n",
    "dummy = data.copy() \n"
   ]
  },
  {
   "cell_type": "code",
   "execution_count": 80,
   "metadata": {},
   "outputs": [],
   "source": [
    "'''  Standarizing the amount Data ( making variance  = 1) and seeing its dsitrbution )( Amount  -> Continuous Random Variable )'''\n",
    "\n",
    "from sklearn.preprocessing import StandardScaler \n",
    "\n",
    "std_scale = StandardScaler()\n",
    "\n",
    "dummy['Amount']  = std_scale.fit_transform( dummy[['Amount']])\n",
    "\n"
   ]
  },
  {
   "cell_type": "code",
   "execution_count": 81,
   "metadata": {},
   "outputs": [
    {
     "data": {
      "image/png": "[encoded data removed]",
      "text/plain": [
       "<Figure size 640x480 with 1 Axes>"
      ]
     },
     "metadata": {},
     "output_type": "display_data"
    },
    {
     "data": {
      "text/plain": [
       "' pdf is higly skewed ( right / positive skewed ) Since people exxpending high Amount of money is usually less in a normal society \\nmost are middle class ( mean > median) , so use median to represent data since its least affected by outliers or spread of data  '"
      ]
     },
     "execution_count": 81,
     "metadata": {},
     "output_type": "execute_result"
    }
   ],
   "source": [
    "''' Visualizing the pdf of Scaled Amount  '''\n",
    "\n",
    "dummy['Amount'].hist ( bins  = 100 )\n",
    "plt.show()\n",
    "\n",
    "''' pdf is higly skewed ( right / positive skewed ) Since people exxpending high Amount of money is usually less in a normal society \n",
    "most are middle class ( mean > median) , so use median to represent data since its least affected by outliers or spread of data  '''"
   ]
  },
  {
   "cell_type": "code",
   "execution_count": 82,
   "metadata": {},
   "outputs": [],
   "source": [
    "'''  Use Ordinal Encoder to encode Months , since they have rwaaltion b/w them  '''\n",
    "from sklearn.preprocessing import OrdinalEncoder\n",
    "\n",
    "\n",
    "def ordinal_encode( col , data , newColName   ) : \n",
    "    ord_encode = OrdinalEncoder()\n",
    "    newCol = ord_encode.fit_transform( data[[ col ]])\n",
    "    newCols   = pd.DataFrame ( newCol, columns  = [ newColName] )\n",
    "    data  = pd.concat( [data , newCols ] , axis =1 )\n",
    "    data = data.drop( col  , axis = 1 )\n",
    "    return data \n",
    "\n",
    "data  = ordinal_encode( 'Month' , data , 'Months' )\n",
    "data = ordinal_encode('Gender' , data , 'Genders')\n",
    "\n",
    "data = ordinal_encode( 'Exp Type' , data  , 'Exp Type')"
   ]
  },
  {
   "cell_type": "code",
   "execution_count": 83,
   "metadata": {},
   "outputs": [
    {
     "name": "stderr",
     "output_type": "stream",
     "text": [
      "C:\\Users\\HP\\AppData\\Roaming\\Python\\Python38\\site-packages\\sklearn\\preprocessing\\_encoders.py:972: FutureWarning: `sparse` was renamed to `sparse_output` in version 1.2 and will be removed in 1.4. `sparse_output` is ignored unless you leave `sparse` to its default value.\n",
      "  warnings.warn(\n",
      "C:\\Users\\HP\\AppData\\Roaming\\Python\\Python38\\site-packages\\sklearn\\preprocessing\\_encoders.py:972: FutureWarning: `sparse` was renamed to `sparse_output` in version 1.2 and will be removed in 1.4. `sparse_output` is ignored unless you leave `sparse` to its default value.\n",
      "  warnings.warn(\n"
     ]
    }
   ],
   "source": [
    "'''Doing Onr-Hot-encoding on the cattegorical data ( Card , Gender  )'''\n",
    "\n",
    "from sklearn.preprocessing import OneHotEncoder \n",
    "\n",
    "\n",
    "def one_hot_encode ( col , data ) :\n",
    "    encoder = OneHotEncoder( sparse = False )\n",
    "    df1 = encoder.fit_transform( data[[ col ]] )\n",
    "    encoded_df = pd.DataFrame ( df1 , columns  = encoder.categories_)\n",
    "    data = pd.concat( [ encoded_df , data ] , axis =1 )\n",
    "    data.drop( [ col ] , axis =1 , inplace = True )\n",
    "    return data \n",
    "\n",
    "\n",
    "data = one_hot_encode( 'Card Type' , data )\n",
    "data  = one_hot_encode( 'Cities' , data )\n",
    "\n"
   ]
  },
  {
   "cell_type": "code",
   "execution_count": 84,
   "metadata": {},
   "outputs": [
    {
     "data": {
      "image/png": "[encoded data removed]",
      "text/plain": [
       "<Figure size 640x480 with 2 Axes>"
      ]
     },
     "metadata": {},
     "output_type": "display_data"
    },
    {
     "name": "stdout",
     "output_type": "stream",
     "text": [
      "(Achalpur,)     0.003987\n",
      "(Adilabad,)     0.003904\n",
      "(Adityapur,)    0.000626\n",
      "(Adoni,)        0.003360\n",
      "(Adoor,)       -0.010161\n",
      "                  ...   \n",
      "(Silver,)      -0.000204\n",
      "Amount          1.000000\n",
      "Year            0.009809\n",
      "Months         -0.007141\n",
      "Genders        -0.048928\n",
      "Name: Amount, Length: 994, dtype: float64\n"
     ]
    }
   ],
   "source": [
    "''' To find the Most important feature , we use Correlation Matrix \n",
    "and find correaltion of Amount( target var) wrt each column \n",
    "'''\n",
    "\n",
    "corr = data.corr()\n",
    "\n",
    "sns.heatmap( corr[['Amount']].transpose()  , vmin = -1 , vmax =1 )\n",
    "\n",
    "plt.show()\n",
    "\n",
    "print( corr['Amount'])"
   ]
  },
  {
   "cell_type": "code",
   "execution_count": 85,
   "metadata": {},
   "outputs": [],
   "source": [
    "'''  Train Test split on the dataset and make sure the test dataset has NO sampling bias ( use Stratified Sampling Technique )\n",
    "     Target Variable -  Amount \n",
    "\n",
    "     and Based on Correaltion matrix , most important features are  -  BIlls and Gender \n",
    "     But by intutuin , I think Months , BIlls and Gender are good features to ccorealte column of Amount with \n",
    "     hence , \n",
    "     Most Important Feature I selected -  Months ( earlier I selected Gender bby intution)\n",
    "\n",
    "     But by Using feature importance of Random Forest and intutuion selected Months \n",
    "\n",
    "     Now , we split the data based on 'Months ' and this column is almost balanced \n",
    "\n",
    "'''\n",
    "\n",
    "''' No nned to categorise since Gender is ALREADY a catgorical column '''\n",
    "'''   Just split the data based on data variation in 'Months' Column  ( hence , NO SAMPLING BIAS )'''\n",
    "\n",
    "from sklearn.model_selection import StratifiedShuffleSplit  # returs the train and test index based on actual variations \n",
    "\n",
    "''' splis =1 ( since ONLY train and  test data )' and generate same train and test indexes everytime ( random_state  = 42 )\n",
    "and use .loc to pick those returned indices \n",
    "'''\n",
    "\n",
    "\n",
    "a = StratifiedShuffleSplit ( n_splits =1  , test_size = 0.1 , random_state= 42 )\n",
    "\n",
    "for train_index , test_index  in a.split( data , data['Months']) :\n",
    "    strat_train_set = data.loc[ train_index ] \n",
    "    strat_test_set = data.loc[ test_index]\n",
    "    \n"
   ]
  },
  {
   "cell_type": "code",
   "execution_count": null,
   "metadata": {},
   "outputs": [],
   "source": []
  },
  {
   "cell_type": "code",
   "execution_count": 86,
   "metadata": {},
   "outputs": [
    {
     "data": {
      "image/png": "[encoded data removed]",
      "text/plain": [
       "<Figure size 640x480 with 1 Axes>"
      ]
     },
     "metadata": {},
     "output_type": "display_data"
    }
   ],
   "source": [
    "''' Set axes system to 3D '''\n",
    "ax= plt.axes( projection = '3d')\n",
    "\n",
    "''' Specify the quantiy on X , Y , Z axes '''\n",
    "\n",
    "x = data['Months'] \n",
    "y = data['Genders']\n",
    "z = data['Amount']\n",
    "\n",
    "''' c =x + y changes color theme . Why ?  '''\n",
    "ax.scatter( x , y , z , c =x + y  )\n",
    "\n",
    "ax.set_xlabel('Months ')\n",
    "ax.set_ylabel('Genders')\n",
    "ax.set_zlabel('Amount')\n",
    "\n",
    "''' Zoomed out to see Z label '''\n",
    "ax.set_box_aspect(aspect=None, zoom=0.8)\n",
    "\n",
    "''' Gender 0 : Female    AND 1: MAle -> Females spent a lot more Money '''\n",
    "\n",
    "plt.show()"
   ]
  },
  {
   "cell_type": "code",
   "execution_count": 87,
   "metadata": {},
   "outputs": [
    {
     "data": {
      "text/plain": [
       "'  Large Number of outliers in Transaction amount but less than novelties ( normal data )\\n\\n   But removing them is NOT a good choice here as they might indicate abnormal transactions ( might also help in fraud detection parallely)\\n   or some transaction for unique part of population \\n   \\n'"
      ]
     },
     "execution_count": 87,
     "metadata": {},
     "output_type": "execute_result"
    },
    {
     "data": {
      "image/png": "[encoded data removed]",
      "text/plain": [
       "<Figure size 640x480 with 1 Axes>"
      ]
     },
     "metadata": {},
     "output_type": "display_data"
    }
   ],
   "source": [
    "''' FInding if there are outliers in the Amount column '''\n",
    "\n",
    "sns.boxplot( data['Amount'])\n",
    "sns.stripplot( data['Amount'] , color  = \"red\" )\n",
    "\n",
    "'''  Large Number of outliers in Transaction amount but less than novelties ( normal data )\n",
    "\n",
    "   But removing them is NOT a good choice here as they might indicate abnormal transactions ( might also help in fraud detection parallely)\n",
    "   or some transaction for unique part of population \n",
    "   \n",
    "'''\n",
    "\n"
   ]
  },
  {
   "cell_type": "code",
   "execution_count": 88,
   "metadata": {},
   "outputs": [
    {
     "data": {
      "text/plain": [
       "' Data_out - Without Outlier DF\\n    Data = With Outlier DF \\n'"
      ]
     },
     "execution_count": 88,
     "metadata": {},
     "output_type": "execute_result"
    }
   ],
   "source": [
    "# ist Quantile \n",
    "q1 = data['Amount'].quantile( 0.25 )\n",
    "#3  quantile \n",
    "q3 = data['Amount'].quantile( 0.75 )\n",
    "\n",
    "iqr = q3 - q1  \n",
    "\n",
    "low_lim = q1 - 1.75* iqr \n",
    "upp_lim = q3 + 1.75*iqr \n",
    "\n",
    "\n",
    "''' Removing Outliers in data   ( OPTIONAL - more experimentation ) '''\n",
    "\n",
    "data_out = data [ data['Amount'] <= upp_lim ]\n",
    "# Sucne , outlier after upper bound \n",
    "#data_out = data_out [ data['Amount'] >= low_lim ]\n",
    "''' Data_out - Without Outlier DF\n",
    "    Data = With Outlier DF \n",
    "'''\n"
   ]
  },
  {
   "cell_type": "code",
   "execution_count": 89,
   "metadata": {},
   "outputs": [
    {
     "data": {
      "text/plain": [
       "(26052, 994)"
      ]
     },
     "execution_count": 89,
     "metadata": {},
     "output_type": "execute_result"
    }
   ],
   "source": [
    "data.shape"
   ]
  },
  {
   "cell_type": "code",
   "execution_count": 90,
   "metadata": {},
   "outputs": [
    {
     "data": {
      "text/plain": [
       "' The Amount column has large varations in the data '"
      ]
     },
     "execution_count": 90,
     "metadata": {},
     "output_type": "execute_result"
    }
   ],
   "source": [
    "''' The Amount column has large varations in the data '''"
   ]
  },
  {
   "cell_type": "code",
   "execution_count": 91,
   "metadata": {},
   "outputs": [
    {
     "data": {
      "text/html": [
       "<div>\n",
       "<style scoped>\n",
       "    .dataframe tbody tr th:only-of-type {\n",
       "        vertical-align: middle;\n",
       "    }\n",
       "\n",
       "    .dataframe tbody tr th {\n",
       "        vertical-align: top;\n",
       "    }\n",
       "\n",
       "    .dataframe thead th {\n",
       "        text-align: right;\n",
       "    }\n",
       "</style>\n",
       "<table border=\"1\" class=\"dataframe\">\n",
       "  <thead>\n",
       "    <tr style=\"text-align: right;\">\n",
       "      <th></th>\n",
       "      <th>(Achalpur,)</th>\n",
       "      <th>(Adilabad,)</th>\n",
       "      <th>(Adityapur,)</th>\n",
       "      <th>(Adoni,)</th>\n",
       "      <th>(Adoor,)</th>\n",
       "      <th>(Afzalpur,)</th>\n",
       "      <th>(Agartala,)</th>\n",
       "      <th>(Agra,)</th>\n",
       "      <th>(Ahmedabad,)</th>\n",
       "      <th>(Ahmednagar,)</th>\n",
       "      <th>...</th>\n",
       "      <th>(Zirakpur,)</th>\n",
       "      <th>(Zunheboto,)</th>\n",
       "      <th>(Gold,)</th>\n",
       "      <th>(Platinum,)</th>\n",
       "      <th>(Signature,)</th>\n",
       "      <th>(Silver,)</th>\n",
       "      <th>Amount</th>\n",
       "      <th>Year</th>\n",
       "      <th>Months</th>\n",
       "      <th>Genders</th>\n",
       "    </tr>\n",
       "  </thead>\n",
       "  <tbody>\n",
       "    <tr>\n",
       "      <th>0</th>\n",
       "      <td>0.0</td>\n",
       "      <td>0.0</td>\n",
       "      <td>0.0</td>\n",
       "      <td>0.0</td>\n",
       "      <td>0.0</td>\n",
       "      <td>0.0</td>\n",
       "      <td>0.0</td>\n",
       "      <td>0.0</td>\n",
       "      <td>0.0</td>\n",
       "      <td>0.0</td>\n",
       "      <td>...</td>\n",
       "      <td>0.0</td>\n",
       "      <td>0.0</td>\n",
       "      <td>1.0</td>\n",
       "      <td>0.0</td>\n",
       "      <td>0.0</td>\n",
       "      <td>0.0</td>\n",
       "      <td>82475.0</td>\n",
       "      <td>2014.0</td>\n",
       "      <td>10.0</td>\n",
       "      <td>0.0</td>\n",
       "    </tr>\n",
       "    <tr>\n",
       "      <th>1</th>\n",
       "      <td>0.0</td>\n",
       "      <td>0.0</td>\n",
       "      <td>0.0</td>\n",
       "      <td>0.0</td>\n",
       "      <td>0.0</td>\n",
       "      <td>0.0</td>\n",
       "      <td>0.0</td>\n",
       "      <td>0.0</td>\n",
       "      <td>0.0</td>\n",
       "      <td>0.0</td>\n",
       "      <td>...</td>\n",
       "      <td>0.0</td>\n",
       "      <td>0.0</td>\n",
       "      <td>0.0</td>\n",
       "      <td>1.0</td>\n",
       "      <td>0.0</td>\n",
       "      <td>0.0</td>\n",
       "      <td>32555.0</td>\n",
       "      <td>2014.0</td>\n",
       "      <td>1.0</td>\n",
       "      <td>0.0</td>\n",
       "    </tr>\n",
       "    <tr>\n",
       "      <th>2</th>\n",
       "      <td>0.0</td>\n",
       "      <td>0.0</td>\n",
       "      <td>0.0</td>\n",
       "      <td>0.0</td>\n",
       "      <td>0.0</td>\n",
       "      <td>0.0</td>\n",
       "      <td>0.0</td>\n",
       "      <td>0.0</td>\n",
       "      <td>0.0</td>\n",
       "      <td>0.0</td>\n",
       "      <td>...</td>\n",
       "      <td>0.0</td>\n",
       "      <td>0.0</td>\n",
       "      <td>0.0</td>\n",
       "      <td>0.0</td>\n",
       "      <td>0.0</td>\n",
       "      <td>1.0</td>\n",
       "      <td>101738.0</td>\n",
       "      <td>2014.0</td>\n",
       "      <td>1.0</td>\n",
       "      <td>0.0</td>\n",
       "    </tr>\n",
       "    <tr>\n",
       "      <th>3</th>\n",
       "      <td>0.0</td>\n",
       "      <td>0.0</td>\n",
       "      <td>0.0</td>\n",
       "      <td>0.0</td>\n",
       "      <td>0.0</td>\n",
       "      <td>0.0</td>\n",
       "      <td>0.0</td>\n",
       "      <td>0.0</td>\n",
       "      <td>0.0</td>\n",
       "      <td>0.0</td>\n",
       "      <td>...</td>\n",
       "      <td>0.0</td>\n",
       "      <td>0.0</td>\n",
       "      <td>0.0</td>\n",
       "      <td>0.0</td>\n",
       "      <td>1.0</td>\n",
       "      <td>0.0</td>\n",
       "      <td>123424.0</td>\n",
       "      <td>2014.0</td>\n",
       "      <td>0.0</td>\n",
       "      <td>0.0</td>\n",
       "    </tr>\n",
       "    <tr>\n",
       "      <th>4</th>\n",
       "      <td>0.0</td>\n",
       "      <td>0.0</td>\n",
       "      <td>0.0</td>\n",
       "      <td>0.0</td>\n",
       "      <td>0.0</td>\n",
       "      <td>0.0</td>\n",
       "      <td>0.0</td>\n",
       "      <td>0.0</td>\n",
       "      <td>0.0</td>\n",
       "      <td>0.0</td>\n",
       "      <td>...</td>\n",
       "      <td>0.0</td>\n",
       "      <td>0.0</td>\n",
       "      <td>1.0</td>\n",
       "      <td>0.0</td>\n",
       "      <td>0.0</td>\n",
       "      <td>0.0</td>\n",
       "      <td>171574.0</td>\n",
       "      <td>2015.0</td>\n",
       "      <td>8.0</td>\n",
       "      <td>0.0</td>\n",
       "    </tr>\n",
       "  </tbody>\n",
       "</table>\n",
       "<p>5 rows × 994 columns</p>\n",
       "</div>"
      ],
      "text/plain": [
       "   (Achalpur,)  (Adilabad,)  (Adityapur,)  (Adoni,)  (Adoor,)  (Afzalpur,)  \\\n",
       "0          0.0          0.0           0.0       0.0       0.0          0.0   \n",
       "1          0.0          0.0           0.0       0.0       0.0          0.0   \n",
       "2          0.0          0.0           0.0       0.0       0.0          0.0   \n",
       "3          0.0          0.0           0.0       0.0       0.0          0.0   \n",
       "4          0.0          0.0           0.0       0.0       0.0          0.0   \n",
       "\n",
       "   (Agartala,)  (Agra,)  (Ahmedabad,)  (Ahmednagar,)  ...  (Zirakpur,)  \\\n",
       "0          0.0      0.0           0.0            0.0  ...          0.0   \n",
       "1          0.0      0.0           0.0            0.0  ...          0.0   \n",
       "2          0.0      0.0           0.0            0.0  ...          0.0   \n",
       "3          0.0      0.0           0.0            0.0  ...          0.0   \n",
       "4          0.0      0.0           0.0            0.0  ...          0.0   \n",
       "\n",
       "   (Zunheboto,)  (Gold,)  (Platinum,)  (Signature,)  (Silver,)    Amount  \\\n",
       "0           0.0      1.0          0.0           0.0        0.0   82475.0   \n",
       "1           0.0      0.0          1.0           0.0        0.0   32555.0   \n",
       "2           0.0      0.0          0.0           0.0        1.0  101738.0   \n",
       "3           0.0      0.0          0.0           1.0        0.0  123424.0   \n",
       "4           0.0      1.0          0.0           0.0        0.0  171574.0   \n",
       "\n",
       "     Year  Months  Genders  \n",
       "0  2014.0    10.0      0.0  \n",
       "1  2014.0     1.0      0.0  \n",
       "2  2014.0     1.0      0.0  \n",
       "3  2014.0     0.0      0.0  \n",
       "4  2015.0     8.0      0.0  \n",
       "\n",
       "[5 rows x 994 columns]"
      ]
     },
     "execution_count": 91,
     "metadata": {},
     "output_type": "execute_result"
    }
   ],
   "source": [
    "data.head()"
   ]
  },
  {
   "cell_type": "code",
   "execution_count": 92,
   "metadata": {},
   "outputs": [],
   "source": [
    "''' Features and labels Sepration '''\n",
    "\n",
    "\n",
    "X_train , y_train = strat_train_set.drop( ['Amount'] , axis =1 ) , strat_train_set['Amount']\n",
    "\n",
    "X_test , y_test= strat_test_set.drop( ['Amount'] , axis =1 ) , strat_test_set['Amount']"
   ]
  },
  {
   "cell_type": "code",
   "execution_count": 93,
   "metadata": {},
   "outputs": [
    {
     "data": {
      "text/plain": [
       "(25843, 994)"
      ]
     },
     "execution_count": 93,
     "metadata": {},
     "output_type": "execute_result"
    }
   ],
   "source": [
    "data_out.shape"
   ]
  },
  {
   "cell_type": "code",
   "execution_count": 94,
   "metadata": {},
   "outputs": [],
   "source": [
    "''' Features and labels Sepration - BAsed on Data with no Outliers  '''\n",
    "\n",
    "b = StratifiedShuffleSplit ( n_splits =1  , test_size = 0.2 , random_state= 42 )\n",
    "\n",
    "for train_index , test_index  in b.split( data_out , data_out['Months']) :\n",
    "    strat_train_set = data_out.iloc[ train_index ] \n",
    "    strat_test_set = data_out.iloc[ test_index]\n",
    "    \n",
    "\n",
    "X_q , y_q = strat_train_set.drop( ['Amount'] , axis =1 ) , strat_train_set['Amount']\n",
    "\n",
    "X_qq , y_qq = strat_test_set.drop( ['Amount'] , axis =1 ) , strat_test_set['Amount']"
   ]
  },
  {
   "cell_type": "code",
   "execution_count": 95,
   "metadata": {},
   "outputs": [],
   "source": [
    "''' COnverting all column NAMES to string '''\n",
    "\n",
    "X_train.columns  = X_train.columns.astype(str)\n",
    "\n",
    "X_test.columns  = X_test.columns.astype(str)\n",
    "\n",
    "X_q.columns  = X_train.columns.astype(str)\n",
    "\n",
    "X_qq.columns  = X_test.columns.astype(str)\n"
   ]
  },
  {
   "cell_type": "code",
   "execution_count": 96,
   "metadata": {},
   "outputs": [
    {
     "data": {
      "text/plain": [
       "' bootstrap = False , the whole data is sued to build Decison tree '"
      ]
     },
     "execution_count": 96,
     "metadata": {},
     "output_type": "execute_result"
    }
   ],
   "source": [
    "'''  Now making some assumptions about the data and choosing the ML model '''\n",
    "\n",
    "from sklearn.ensemble import RandomForestRegressor \n",
    "\n",
    "forest_reg = RandomForestRegressor( n_estimators = 100 , bootstrap = False  )\n",
    "\n",
    "forest_reg.fit( X_train , y_train )\n",
    "\n",
    "''' bootstrap = False , the whole data is sued to build Decison tree '''"
   ]
  },
  {
   "cell_type": "code",
   "execution_count": 97,
   "metadata": {},
   "outputs": [
    {
     "name": "stdout",
     "output_type": "stream",
     "text": [
      "('Achalpur',)   0.0004045227626486564\n",
      "('Adilabad',)   0.0008741672584511023\n",
      "('Adityapur',)   0.0005386648978912363\n",
      "('Adoni',)   0.000791626669150118\n",
      "('Adoor',)   0.0012732214735371062\n",
      "('Afzalpur',)   0.0009437176005386297\n",
      "('Agartala',)   0.0010110700196861548\n",
      "('Agra',)   4.123399738316433e-05\n",
      "('Ahmedabad',)   0.007474969731425035\n",
      "('Ahmednagar',)   0.0001657486340566689\n",
      "('Aizawl',)   0.0003556118189816087\n",
      "('Ajmer',)   0.0006750333791956754\n",
      "('Akola',)   0.0011914022625479687\n",
      "('Akot',)   0.0012096280144712368\n",
      "('Alappuzha',)   0.000919058771062094\n",
      "('Aligarh',)   0.0005314902873553904\n",
      "('Alipurduar',)   0.0004115523078509348\n",
      "('Alirajpur',)   0.0\n",
      "('Allahabad',)   0.0005444507302672263\n",
      "('Alwar',)   0.0006133582321603545\n",
      "('Amalapuram',)   0.0004704379947272479\n",
      "('Amalner',)   0.0004835156601377795\n",
      "('Ambejogai',)   0.0008643321913983193\n",
      "('Ambikapur',)   0.0008986749412403061\n",
      "('Amravati',)   0.0006716249487858094\n",
      "('Amreli',)   0.00050604136478191\n",
      "('Amritsar',)   0.0006584755367133058\n",
      "('Amroha',)   0.0007235105084356975\n",
      "('Anakapalle',)   8.515540742377448e-05\n",
      "('Anand',)   0.0001803428976650632\n",
      "('Anantapur',)   0.0005731094855421138\n",
      "('Anantnag',)   0.0006139595102404565\n",
      "('Anjangaon',)   0.0005247366054751336\n",
      "('Anjar',)   7.373036860560695e-05\n",
      "('Ankleshwar',)   0.0003017137394139481\n",
      "('Arakkonam',)   0.0006252123273282254\n",
      "('Arambagh',)   0.000983193047868637\n",
      "('Araria',)   0.0012363292796994517\n",
      "('Arrah',)   0.00017372192817024807\n",
      "('Arsikere',)   0.0010811538879228202\n",
      "('Aruppukkottai',)   0.0007113535878540967\n",
      "('Arvi',)   0.0006721743594728554\n",
      "('Arwal',)   0.0006186317162632919\n",
      "('Asansol',)   0.0007014494156069662\n",
      "('Ashok Nagar',)   0.0005815361786716198\n",
      "('Athni',)   0.0006183750297984527\n",
      "('Attingal',)   0.00034630265501718214\n",
      "('Aurangabad',)   0.000757375763923253\n",
      "('Azamgarh',)   0.00033327577380309263\n",
      "('Bagaha',)   0.00014369916916521545\n",
      "('Bahadurgarh',)   0.0006529106337995421\n",
      "('Baharampur',)   0.000903956739380938\n",
      "('Bahraich',)   0.0006462903262111644\n",
      "('Balaghat',)   0.0003783015547856919\n",
      "('Balangir',)   0.0001619032558559316\n",
      "('Baleshwar Town',)   0.0005231010365199592\n",
      "('Ballari',)   0.0003987846358842781\n",
      "('Balurghat',)   0.0003261282897074009\n",
      "('Bankura',)   0.00050685360055458\n",
      "('Bapatla',)   0.0001208690296999464\n",
      "('Baramula',)   0.0010852768396823476\n",
      "('Barbil',)   0.0005704979833905994\n",
      "('Bargarh',)   2.9835846750606346e-05\n",
      "('Baripada Town',)   0.0008977285236634076\n",
      "('Barnala',)   0.0003453249368516097\n",
      "('Barpeta',)   0.0007642805874475772\n",
      "('Batala',)   0.0006594399815102245\n",
      "('Bathinda',)   0.0013451915190994359\n",
      "('Begusarai',)   0.0005731063606018975\n",
      "('Belagavi',)   0.0008418219108916876\n",
      "('Bellampalle',)   0.000514265595827115\n",
      "('Bengaluru',)   0.009182271763243885\n",
      "('Bettiah',)   1.9916272139033412e-05\n",
      "('Bhabua',)   0.0010373115676477471\n",
      "('Bhadrachalam',)   0.0011443276894487792\n",
      "('Bhadrak',)   0.0011432162875679192\n",
      "('Bhagalpur',)   0.0005326854472479087\n",
      "('Bhainsa',)   0.0005474683130284963\n",
      "('Bharatpur',)   0.001088314002740311\n",
      "('Bharuch',)   0.00047480070849616586\n",
      "('Bhatapara',)   0.0007157249777020546\n",
      "('Bhavnagar',)   0.0002051571840562262\n",
      "('Bhawanipatna',)   5.888300794923223e-05\n",
      "('Bheemunipatnam',)   0.001456210277148179\n",
      "('Bhilai Nagar',)   0.001449516186671604\n",
      "('Bhilwara',)   0.0004159565646672371\n",
      "('Bhimavaram',)   0.0005568447676588957\n",
      "('Bhiwandi',)   0.0007507439810299207\n",
      "('Bhiwani',)   0.0008735030150618484\n",
      "('Bhongir',)   0.000831886730680048\n",
      "('Bhopal',)   6.623432150602217e-05\n",
      "('Bhubaneswar',)   0.0004434499014278248\n",
      "('Bhuj',)   0.0012325157841564386\n",
      "('Bikaner',)   0.001232084930568034\n",
      "('Bilaspur',)   0.00037607272807481623\n",
      "('Bobbili',)   0.00041557838385337877\n",
      "('Bodhan',)   1.6400859551889418e-05\n",
      "('Bokaro Steel City',)   0.00047357733258367396\n",
      "('Bongaigaon City',)   0.0009748642508967943\n",
      "('Brahmapur',)   0.00038737368642714965\n",
      "('Buxar',)   0.0005561181849778256\n",
      "('Byasanagar',)   0.0011089494790615067\n",
      "('Chaibasa',)   0.00036620690529202347\n",
      "('Chalakudy',)   0.0005344699089545253\n",
      "('Chandausi',)   0.0003933538083059144\n",
      "('Chandigarh',)   0.00039646396670024985\n",
      "('Changanassery',)   0.0002649704360616589\n",
      "('Charkhi Dadri',)   0.0010375021234988598\n",
      "('Chatra',)   0.0008549045843713782\n",
      "('Chennai',)   0.0061775646564578846\n",
      "('Cherthala',)   0.0002505513393919422\n",
      "('Chikkamagaluru',)   0.0005513015742632242\n",
      "('Chilakaluripet',)   0.0013394952688284003\n",
      "('Chirala',)   0.00016946536790586592\n",
      "('Chirkunda',)   0.000560890601441914\n",
      "('Chirmiri',)   0.00036579872445904887\n",
      "('Chittoor',)   0.0006622371423215334\n",
      "('Chittur-Thathamangalam',)   0.0005868330434705164\n",
      "('Cuttack',)   0.0011203122518676503\n",
      "('Dalli-Rajhara',)   0.0012000441324211816\n",
      "('Darbhanga',)   0.0008621066257209069\n",
      "('Darjiling',)   0.00018695605857185633\n",
      "('Davanagere',)   0.0007304093156527816\n",
      "('Deesa',)   0.00022244088084713123\n",
      "('Dehradun',)   0.001429399777014148\n",
      "('Dehri-on-Sone',)   0.0009148887764169575\n",
      "('Delhi',)   0.009726150991147677\n",
      "('Deoghar',)   0.0009623160201577139\n",
      "('Dhamtari',)   0.0006747369009473032\n",
      "('Dhanbad',)   0.0005016793657360799\n",
      "('Dharmanagar',)   0.001133135307647747\n",
      "('Dharmavaram',)   0.0005457023653449105\n",
      "('Dhenkanal',)   0.0005488416373707462\n",
      "('Dhoraji',)   0.0004653577051307974\n",
      "('Dhubri',)   0.001341203089704923\n",
      "('Dhule',)   0.0004357114714371358\n",
      "('Dhuri',)   0.0005479438564481087\n",
      "('Dibrugarh',)   0.00017000325057535748\n",
      "('Dimapur',)   0.0013729712975239657\n",
      "('Diphu',)   0.001251345141863192\n",
      "('Dumka',)   0.00037653976648066584\n",
      "('Dumraon',)   0.0006303887937969044\n",
      "('Durg',)   0.0009016019732533226\n",
      "('Eluru',)   0.0008321001939714077\n",
      "('English Bazar',)   0.0004139486518370817\n",
      "('Erode',)   0.0006184796460503169\n",
      "('Etawah',)   0.0008900639484318715\n",
      "('Faridabad',)   0.0011835718435609522\n",
      "('Faridkot',)   0.0005017053977541387\n",
      "('Farooqnagar',)   0.0010487767849768346\n",
      "('Fatehabad',)   0.0005259136879002347\n",
      "('Fatehpur Sikri',)   0.0006269338218232568\n",
      "('Fazilka',)   0.00032325622610690177\n",
      "('Firozabad',)   0.00035538234593867826\n",
      "('Firozpur',)   0.0006707063687172811\n",
      "('Firozpur Cantt.',)   0.0005613749934778937\n",
      "('Forbesganj',)   0.00028254309163820273\n",
      "('Gadwal',)   0.000561193393758569\n",
      "('Gangarampur',)   0.00048135265362736273\n",
      "('Ganjbasoda',)   0.00018826725118868895\n",
      "('Gaya',)   0.0003596284040933083\n",
      "('Giridih',)   0.0007533228378458504\n",
      "('Goalpara',)   0.00032133473180948757\n",
      "('Gobichettipalayam',)   0.001116366420405399\n",
      "('Gobindgarh',)   0.0009313455981419204\n",
      "('Godhra',)   4.9189054754825505e-06\n",
      "('Gohana',)   0.0003712782018219485\n",
      "('Gokak',)   0.001068994603002332\n",
      "('Gooty',)   0.0005465668239784789\n",
      "('Gopalganj',)   0.0006016087635251567\n",
      "('Greater Mumbai',)   0.011758264691830394\n",
      "('Gudivada',)   0.0008236091348979416\n",
      "('Gudur',)   0.00043622125469175774\n",
      "('Gumia',)   9.298049627702296e-05\n",
      "('Guntakal',)   0.00025105421590838173\n",
      "('Guntur',)   0.000762234111340211\n",
      "('Gurdaspur',)   0.000552503131804641\n",
      "('Gurgaon',)   0.0006117378113559751\n",
      "('Guwahati',)   0.0010516805761145857\n",
      "('Gwalior',)   0.0006211322721899979\n",
      "('Habra',)   0.00036588120711420846\n",
      "('Hajipur',)   0.0005562897739709356\n",
      "('Haldwani-cum-Kathgodam',)   0.0002724383457766026\n",
      "('Hansi',)   0.0004687023751045802\n",
      "('Hapur',)   4.585610700169077e-05\n",
      "('Hardoi ',)   0.0007628612414025715\n",
      "('Hardwar',)   0.0003433340598854519\n",
      "('Hazaribag',)   8.791474698092541e-05\n",
      "('Hindupur',)   0.0005216012486981158\n",
      "('Hisar',)   0.0009821256092627068\n",
      "('Hoshiarpur',)   0.00040288916931155455\n",
      "('Hubli-Dharwad',)   0.0018298796741789225\n",
      "('Hugli-Chinsurah',)   1.657986550508888e-05\n",
      "('Hyderabad',)   0.006002894467400421\n",
      "('Ichalkaranji',)   0.00047805673490096954\n",
      "('Imphal',)   0.0008715635812966835\n",
      "('Indore',)   0.0006384600472286395\n",
      "('Itarsi',)   0.00037593877852664504\n",
      "('Jabalpur',)   0.0001440762773178855\n",
      "('Jagdalpur',)   0.0010213232088642115\n",
      "('Jaggaiahpet',)   0.0006299032025154072\n",
      "('Jagraon',)   0.0005348645045596563\n",
      "('Jagtial',)   0.0007171601960739585\n",
      "('Jaipur',)   0.005678913562719818\n",
      "('Jalandhar',)   0.0008912067609646021\n",
      "('Jalandhar Cantt.',)   0.0003324253261815191\n",
      "('Jalpaiguri',)   0.00031024035453300455\n",
      "('Jamalpur',)   0.000614754278612649\n",
      "('Jammalamadugu',)   0.00040554961829591274\n",
      "('Jammu',)   0.0008453578134280386\n",
      "('Jamnagar',)   0.0013636229789050949\n",
      "('Jamshedpur',)   0.001598232996965914\n",
      "('Jamui',)   0.0009954478330059214\n",
      "('Jangaon',)   0.0007383952114154213\n",
      "('Jatani',)   0.0003736251442672898\n",
      "('Jehanabad',)   0.00048150760788972374\n",
      "('Jhansi',)   0.001574241018255745\n",
      "('Jhargram',)   0.000944461153550554\n",
      "('Jharsuguda',)   0.0006864454719556708\n",
      "('Jhumri Tilaiya',)   9.908744843226121e-05\n",
      "('Jind',)   0.0019197562328280482\n",
      "('Jodhpur',)   7.41352913925497e-05\n",
      "('Jorhat',)   0.0005592182018309013\n",
      "('Kadapa',)   0.0012421286179061517\n",
      "('Kadi',)   0.00021708652082280555\n",
      "('Kadiri',)   0.00034816695255356057\n",
      "('Kagaznagar',)   0.00015320335521580296\n",
      "('Kaithal',)   0.0009605122232517843\n",
      "('Kakinada',)   0.0007107444692686772\n",
      "('Kalimpong',)   0.00018030958838797172\n",
      "('Kalpi',)   0.0013839834228787065\n",
      "('Kalyan-Dombivali',)   0.0015367060938468427\n",
      "('Kamareddy',)   0.00034647837529883725\n",
      "('Kancheepuram',)   0.000394457802412043\n",
      "('Kandukur',)   0.000617542741148112\n",
      "('Kanhangad',)   0.00020447410529066232\n",
      "('Kannur',)   0.00031707642526242544\n",
      "('Kanpur',)   0.0062004026436124635\n",
      "('Kapadvanj',)   0.0003547300124691051\n",
      "('Kapurthala',)   0.00065213996781884\n",
      "('Karaikal',)   0.00036444988054325374\n",
      "('Karimganj',)   0.0005971591338162983\n",
      "('Karimnagar',)   0.00020946583294463898\n",
      "('Karjat',)   0.00034588700480746326\n",
      "('Karnal',)   0.00017263934579030683\n",
      "('Karur',)   0.00042985686520710025\n",
      "('Karwar',)   0.0005145717278253885\n",
      "('Kasaragod',)   0.0006777834500372283\n",
      "('Kashipur',)   0.0005694971647994281\n",
      "('Kathua',)   5.401034094878538e-05\n",
      "('Katihar',)   0.0003342279198985943\n",
      "('Kavali',)   0.0004453381252687304\n",
      "('Kayamkulam',)   0.0002808194988873524\n",
      "('Kendrapara',)   0.00024658478509713275\n",
      "('Kendujhar',)   0.000728195566681593\n",
      "('Keshod',)   0.000924773365881511\n",
      "('Khair',)   0.0009987329490439162\n",
      "('Khambhat',)   0.0007275207713121053\n",
      "('Khammam',)   0.00028762128998588687\n",
      "('Khanna',)   0.0003044410247362225\n",
      "('Kharagpur',)   0.0007619418232805257\n",
      "('Kharar',)   0.0013174299503596028\n",
      "('Kishanganj',)   0.000244248923648142\n",
      "('Kochi',)   0.00032386160387757137\n",
      "('Kodungallur',)   0.0005205530744198861\n",
      "('Kohima',)   0.0004671346764713257\n",
      "('Kolar',)   0.0007577390582962653\n",
      "('Kolkata',)   0.0058466868334922815\n",
      "('Kollam',)   0.0004256812715544983\n",
      "('Koratla',)   0.0007657645259740979\n",
      "('Korba',)   0.00042461661295621443\n",
      "('Kot Kapura',)   0.0003875527982797334\n",
      "('Kothagudem',)   2.116349798895428e-05\n",
      "('Kottayam',)   0.0008703796965540113\n",
      "('Kovvur',)   0.0002580842055040046\n",
      "('Koyilandy',)   0.0008505884590663663\n",
      "('Kozhikode',)   0.0011984825145832277\n",
      "('Kunnamkulam',)   0.00040087127524870763\n",
      "('Kurnool',)   0.0008680055025398902\n",
      "('Kyathampalle',)   0.0005263658925801415\n",
      "('Lachhmangarh',)   0.0005766407620998725\n",
      "('Ladnu',)   0.0007621520879930914\n",
      "('Ladwa',)   0.0007370986033688406\n",
      "('Lahar',)   0.0005150280392886652\n",
      "('Laharpur',)   0.0005738947690532569\n",
      "('Lakheri',)   0.0009507858588247951\n",
      "('Lakhimpur',)   0.00034125429588820915\n",
      "('Lakhisarai',)   0.0006612160862516018\n",
      "('Lakshmeshwar',)   0.0009528063607360422\n",
      "('Lal Gopalganj Nindaura',)   0.0006210140410140581\n",
      "('Lalitpur',)   0.0010008816734119045\n",
      "('Lalsot',)   0.00048786985439429776\n",
      "('Lanka',)   0.0008726116680116978\n",
      "('Lar',)   0.0005361239362673685\n",
      "('Latur',)   0.0006747401202842\n",
      "('Limbdi',)   0.00036740920097174523\n",
      "('Lingsugur',)   0.001001120253281908\n",
      "('Lonavla',)   0.00044020073927344906\n",
      "('Loni',)   0.0009154686346938255\n",
      "('Losal',)   0.0009254421506463651\n",
      "('Lucknow',)   0.00514606419179775\n",
      "('Ludhiana',)   0.0007735845750025254\n",
      "('Lumding',)   8.630561071610432e-05\n",
      "('Lunawada',)   0.0009136250092894426\n",
      "('Lunglei',)   0.0008102388452482646\n",
      "('Macherla',)   0.00022684450406712392\n",
      "('Machilipatnam',)   0.0007347101319126177\n",
      "('Madanapalle',)   0.0005164970870614301\n",
      "('Maddur',)   0.0012416850009818036\n",
      "('Madhepura',)   0.00025998904657152064\n",
      "('Madhubani',)   0.0007616098549539706\n",
      "('Madhugiri',)   0.0004211950472498005\n",
      "('Madhupur',)   0.00045437860446131506\n",
      "('Madikeri',)   0.0013607475892115058\n",
      "('Madurai',)   0.00013642972438209454\n",
      "('Mahalingapura',)   0.000551974020125988\n",
      "('Mahasamund',)   0.00042230516815943255\n",
      "('Mahbubnagar',)   0.00029903042329055483\n",
      "('Mahe',)   0.0003320450638455601\n",
      "('Mahemdabad',)   0.0003469553908111049\n",
      "('Mahesana',)   0.00040082046653136446\n",
      "('Mahidpur',)   0.0001230036452523364\n",
      "('Mahnar Bazar',)   0.001138835552427193\n",
      "('Mahuva',)   0.0010501421469111397\n",
      "('Maihar',)   0.0008723951010943683\n",
      "('Mainaguri',)   0.0012122478782425926\n",
      "('Makhdumpur',)   0.000797082703380585\n",
      "('Makrana',)   0.0003783139687466464\n",
      "('Malaj Khand',)   0.0002841939805838429\n",
      "('Malappuram',)   0.0009198131713144857\n",
      "('Malavalli',)   0.00041995696445102314\n",
      "('Malegaon',)   0.0013180669159523397\n",
      "('Malerkotla',)   0.00027584931887569494\n",
      "('Malkapur',)   3.675821971244496e-05\n",
      "('Malout',)   0.00043526462738138256\n",
      "('Malpura',)   0.001044181517084943\n",
      "('Malur',)   0.00038164429573279355\n",
      "('Manavadar',)   0.00031145107466367446\n",
      "('Mancherial',)   0.0012571937049385131\n",
      "('Mandamarri',)   7.074444882833839e-05\n",
      "('Mandapeta',)   0.0004597306100023462\n",
      "('Mandi',)   0.00017838199438337105\n",
      "('Mandi Dabwali',)   0.00022304709607092596\n",
      "('Mandideep',)   0.0015363664119366518\n",
      "('Mandla',)   0.0010999741652333828\n",
      "('Mandsaur',)   0.0004805299429117843\n",
      "('Mandvi',)   0.0006088289765408209\n",
      "('Mandya',)   0.0003941518142610334\n",
      "('Manendragarh',)   0.00024301824869520878\n",
      "('Maner',)   0.0007130984172807282\n",
      "('Mangaluru',)   0.00011689124674830232\n",
      "('Manglaur',)   0.0006041995544185156\n",
      "('Mangrol',)   0.000865646140275994\n",
      "('Mangrulpir',)   0.000479109997399058\n",
      "('Manjlegaon',)   0.0014674156863171805\n",
      "('Mankachar',)   0.0006082968007112361\n",
      "('Manmad',)   0.0002614444465371161\n",
      "('Mansa',)   0.0006785659425013814\n",
      "('Manuguru',)   0.00039148381932346815\n",
      "('Manvi',)   0.00035701622131667477\n",
      "('Manwath',)   0.0006818531249891451\n",
      "('Mapusa',)   0.0002707370644192523\n",
      "('Margao',)   0.0010496385004783255\n",
      "('Markapur',)   0.000635981750208242\n",
      "('Marmagao',)   0.0005736980937559607\n",
      "('Masaurhi',)   0.00013486267220793946\n",
      "('Mathura',)   0.00026056155948756313\n",
      "('Mattannur',)   0.0004919049288905583\n",
      "('Mavelikkara',)   0.00024435421373680035\n",
      "('Mavoor',)   0.0009273397901464465\n",
      "('Medak',)   0.0002150878233179767\n",
      "('Medininagar (Daltonganj)',)   0.00019188734738473834\n",
      "('Medinipur',)   0.000606530875957689\n",
      "('Meerut',)   0.0007836589169502529\n",
      "('Mehkar',)   0.0007415173888894734\n",
      "('Memari',)   0.0005439420939195168\n",
      "('Merta City',)   0.0005282975140935293\n",
      "('Mhow Cantonment',)   0.0006728103256555119\n",
      "('Mihijam',)   3.99571592036618e-06\n",
      "('Mira-Bhayandar',)   0.0003342655548959497\n",
      "('Miryalaguda',)   0.00013262849061878115\n",
      "('Modasa',)   0.0005989253098040849\n",
      "('Modinagar',)   0.0003561534610697597\n",
      "('Moga',)   0.00045428592027600185\n",
      "('Mohali',)   0.0016167448377104904\n",
      "('Mokameh',)   0.00016739683856213672\n",
      "('Mokokchung',)   0.0005686264874999029\n",
      "('Moradabad',)   0.0007270839096525359\n",
      "('Morena',)   0.0008455053184656821\n",
      "('Morshi',)   0.0006708294554696271\n",
      "('Morvi',)   0.0005975584021290769\n",
      "('Motihari',)   0.0016188422273294425\n",
      "('Mudalagi',)   0.00038685498991026114\n",
      "('Muddebihal',)   0.00043976642657009356\n",
      "('Mudhol',)   0.0012918615354650111\n",
      "('Muktsar',)   0.0009703236168797969\n",
      "('Mulbagal',)   0.00034412252245169544\n",
      "('Mundi',)   0.0011929108753859533\n",
      "('Mungeli',)   0.0005885634590953591\n",
      "('Munger',)   0.0006650288240638757\n",
      "('Murshidabad',)   0.0009105665524999049\n",
      "('Murtijapur',)   0.0005410634696393145\n",
      "('Murwara (Katni)',)   0.0005008002290192527\n",
      "('Musabani',)   0.0007466767759580203\n",
      "('Mussoorie',)   0.00017300304943413476\n",
      "('Muvattupuzha',)   0.0012570428641552505\n",
      "('Muzaffarpur',)   4.9684157072866975e-05\n",
      "('Mysore',)   0.0009399540105498733\n",
      "('Nabadwip',)   0.0006728609125282801\n",
      "('Nabarangapur',)   0.00017719967246788168\n",
      "('Nabha',)   0.001008983740577378\n",
      "('Nadbai',)   0.001301885878387668\n",
      "('Nadiad',)   0.0006163212717988812\n",
      "('Nagaon',)   0.00043939057161725825\n",
      "('Nagapattinam',)   0.00038851528231174026\n",
      "('Nagari',)   0.0008269613115869229\n",
      "('Nagarkurnool',)   0.0005888744432797777\n",
      "('Nagaur',)   0.0015939643538402657\n",
      "('Nagda',)   0.0005572256477578715\n",
      "('Nagercoil',)   0.0003701530841486889\n",
      "('Nagina',)   0.0005994365346795806\n",
      "('Nagpur',)   0.0013409219482110038\n",
      "('Nahan',)   0.0011188079535640297\n",
      "('Naharlagun',)   0.000376545643583294\n",
      "('Naidupet',)   0.0014811907923276998\n",
      "('Naihati',)   0.0008639194227605157\n",
      "('Naila Janjgir',)   0.0011724677454841433\n",
      "('Nainital',)   0.0010246189489761528\n",
      "('Najibabad',)   0.0004229608141765942\n",
      "('Nakodar',)   5.4243976072306695e-05\n",
      "('Nalbari',)   7.143490568209809e-05\n",
      "('Namakkal',)   0.0004902687355047981\n",
      "('Nanded-Waghala',)   0.001158671242050327\n",
      "('Nandivaram-Guduvancheri',)   0.00029123046134319646\n",
      "('Nandura',)   0.00031906079901487485\n",
      "('Nandurbar',)   0.0006304096397366367\n",
      "('Nandyal',)   0.0003810339555792824\n",
      "('Nangal',)   0.0004949381040176402\n",
      "('Nanjangud',)   0.0005436664623127364\n",
      "('Nanjikottai',)   0.0007302796370822221\n",
      "('Nanpara',)   0.0005722656537684163\n",
      "('Narasapuram',)   0.0005638755234860844\n",
      "('Narasaraopet',)   2.9607723905433034e-05\n",
      "('Narayanpet',)   0.001116688742522412\n",
      "('Nargund',)   0.00022593621376112608\n",
      "('Narkatiaganj',)   0.00012492323480313414\n",
      "('Narnaul',)   0.0003384953225242624\n",
      "('Narsinghgarh',)   0.0012113672433002494\n",
      "('Narsipatnam',)   0.00016332814893098055\n",
      "('Narwana',)   0.0002292540077625217\n",
      "('Nashik',)   0.0003769949263955387\n",
      "('Nasirabad',)   0.0014569842602300829\n",
      "('Nathdwara',)   0.0008933841952132354\n",
      "('Naugachhia',)   0.00028034418432851553\n",
      "('Naugawan Sadat',)   0.0005704456677095497\n",
      "('Nautanwa',)   0.0006902583347460787\n",
      "('Navi Mumbai',)   0.001308789772965612\n",
      "('Navsari',)   0.00036336950877270604\n",
      "('Nawabganj',)   0.00033957102724558203\n",
      "('Nawada',)   0.0007578308711799025\n",
      "('Nawanshahr',)   0.0005332870460670204\n",
      "('Nawapur',)   0.0006897709239728995\n",
      "('Nedumangad',)   0.0008415357715648986\n",
      "('Neem-Ka-Thana',)   0.0004069745786416466\n",
      "('Neemuch',)   0.000816987938896878\n",
      "('Nehtaur',)   0.00036317799888966\n",
      "('Nelamangala',)   0.0005181964038809501\n",
      "('Nellikuppam',)   0.0007749969475797692\n",
      "('Nellore',)   0.0007642227627124284\n",
      "('Nepanagar',)   0.0008828049401202436\n",
      "('New Delhi',)   0.0005245631062551771\n",
      "('Neyveli (TS)',)   0.0007485876297332339\n",
      "('Neyyattinkara',)   0.000839491963046336\n",
      "('Nidadavole',)   0.0007097471660055618\n",
      "('Nilambur',)   0.0006652973961950947\n",
      "('Nilanga',)   0.0003858515649533689\n",
      "('Nimbahera',)   0.0002675166360530632\n",
      "('Nirmal',)   0.000533562460312637\n",
      "('Nizamabad',)   0.0003051777864915277\n",
      "('Nohar',)   3.4815026162109254e-05\n",
      "('Noida',)   0.0006684451428991282\n",
      "('Nokha',)   0.0005127871324763592\n",
      "('Nongstoin',)   5.0638881644394804e-05\n",
      "('Noorpur',)   0.00037383413170701576\n",
      "('North Lakhimpur',)   0.00037124847379809935\n",
      "('Nowgong',)   0.00044866359963272924\n",
      "('Nuzvid',)   0.0006156754742473306\n",
      "('Oddanchatram',)   0.0011132668040051555\n",
      "('Ongole',)   4.2858793426103134e-05\n",
      "('Orai',)   0.0007187706390034767\n",
      "('Osmanabad',)   0.0010528710886634355\n",
      "('Ottappalam',)   0.0013637900885323457\n",
      "('Ozar',)   0.0008646376952440177\n",
      "('Pachora',)   2.883474158915572e-05\n",
      "('Padra',)   0.001419388971984987\n",
      "('Padrauna',)   0.0006260314223757029\n",
      "('Paithan',)   0.00020054630163034056\n",
      "('Pakaur',)   0.0002598112248269933\n",
      "('Palacole',)   0.0006367749387063134\n",
      "('Palakkad',)   0.0003491956412974983\n",
      "('Palani',)   0.0009621637884479103\n",
      "('Palanpur',)   0.0006345875706566787\n",
      "('Palasa Kasibugga',)   0.0007701766393053614\n",
      "('Palghar',)   0.000564317592901821\n",
      "('Pali',)   0.0006531454937962769\n",
      "('Palia Kalan',)   0.00027229420795630676\n",
      "('Palitana',)   0.0005492364501712968\n",
      "('Palladam',)   0.0004948822685562211\n",
      "('Palwal',)   0.0007060014622906252\n",
      "('Palwancha',)   0.0006426964050563379\n",
      "('Panaji',)   0.00023614019150976242\n",
      "('Panchkula',)   0.0003873530931431869\n",
      "('Pandharkaoda',)   0.0002919959605418123\n",
      "('Pandharpur',)   0.0010957078910660304\n",
      "('Pandhurna',)   0.0007409211316423363\n",
      "('Pandua',)   0.0005639395082086967\n",
      "('Panipat',)   0.0009860143944711993\n",
      "('Panna',)   0.00054758662360054\n",
      "('Panruti',)   0.0005836419310725973\n",
      "('Panvel',)   0.00042603864233245025\n",
      "('Pappinisseri',)   0.0005641558896050266\n",
      "('Paradip',)   5.4590547920467086e-05\n",
      "('Paramakudi',)   0.00110612370251641\n",
      "('Paravoor',)   0.0015304577093918075\n",
      "('Parbhani',)   0.0003718856483055937\n",
      "('Parlakhemundi',)   0.0003876643274883629\n",
      "('Parli',)   0.0006710000905118099\n",
      "('Partur',)   7.720040878860679e-05\n",
      "('Parvathipuram',)   0.0007663675085917003\n",
      "('Pasan',)   0.0006087238533673288\n",
      "('Paschim Punropara',)   0.0005277801736840355\n",
      "('Patan',)   2.7320164345440395e-06\n",
      "('Pathanamthitta',)   0.0007156023287579056\n",
      "('Pathankot',)   0.0005335648791857782\n",
      "('Pathri',)   0.0013923041804018333\n",
      "('Patiala',)   0.0004819883599639453\n",
      "('Patna',)   0.000739600555818981\n",
      "('Patratu',)   0.00028244152816341966\n",
      "('Pattamundai',)   0.00035690816429113947\n",
      "('Patti',)   0.0005767468473047225\n",
      "('Pattukkottai',)   0.0013880590474489407\n",
      "('Pavagada',)   0.0005338939428557366\n",
      "('Pedana',)   0.00025103053893862925\n",
      "('Peddapuram',)   0.0005242186386085062\n",
      "('Pehowa',)   0.000669428672099024\n",
      "('Pen',)   9.42510829883855e-05\n",
      "('Perambalur',)   0.000512787481889182\n",
      "('Peringathur',)   0.0002431848173548512\n",
      "('Perinthalmanna',)   0.0002682254148639248\n",
      "('Periyakulam',)   0.0011965668631515492\n",
      "('Periyasemur',)   0.001543010318990542\n",
      "('Pernampattu',)   0.0005922524103458769\n",
      "('Perumbavoor',)   2.9438874511037524e-05\n",
      "('Petlad',)   0.00014099723028948238\n",
      "('Phagwara',)   0.000559530453778573\n",
      "('Phalodi',)   0.000777615296927055\n",
      "('Phaltan',)   0.0008160371369302679\n",
      "('Phulabani',)   0.001186147119684747\n",
      "('Phusro',)   0.0005849585329185822\n",
      "('Pihani',)   0.0008955731638109959\n",
      "('Pilani',)   0.0008571274796965913\n",
      "('Pilibanga',)   0.0002010084820059734\n",
      "('Pilibhit',)   0.0008495625576412051\n",
      "('Pilkhuwa',)   0.0006660393435870639\n",
      "('Pinjore',)   0.0008684673386502346\n",
      "('Pipar City',)   0.0008269410368064682\n",
      "('Pipariya',)   0.0003641797262216438\n",
      "('Pithampur',)   0.0008430270741676563\n",
      "('Pithapuram',)   0.00023151329959552808\n",
      "('Pithoragarh',)   0.0011423766615312023\n",
      "('Pollachi',)   0.00046304313644165935\n",
      "('Pondicherry',)   1.4090093129176763e-05\n",
      "('Ponnani',)   0.0003450551874621631\n",
      "('Ponnur',)   0.0006649353352758493\n",
      "('Porbandar',)   0.0012569381863268827\n",
      "('Porsa',)   0.0005807331700906537\n",
      "('Port Blair',)   0.0007318421555577798\n",
      "('Pratapgarh',)   0.0008430729844758116\n",
      "('Proddatur',)   0.00014093011492763245\n",
      "('Pudukkottai',)   0.0006200310870702264\n",
      "('Pulgaon',)   0.0014597795242677414\n",
      "('Puliyankudi',)   0.0023890737263960165\n",
      "('Punalur',)   0.0004988960830974169\n",
      "('Punch',)   0.0006268568210733362\n",
      "('Pune',)   0.006424039975445506\n",
      "('Punganur',)   1.5237844442001933e-06\n",
      "('Puranpur',)   0.0011145327011921893\n",
      "('Puri',)   0.0005060805591337382\n",
      "('Purna',)   0.0012248223629545663\n",
      "('Purnia',)   0.0004791663395998075\n",
      "('Purulia',)   0.0008405455864351484\n",
      "('Pusad',)   0.0009620023572160068\n",
      "('Puttur',)   0.0017448214621771177\n",
      "('Raayachuru',)   0.00033375143836952137\n",
      "('Rabkavi Banhatti',)   0.0013179477269444483\n",
      "('Radhanpur',)   0.0004600175171808325\n",
      "('Rae Bareli',)   0.0009218340954081268\n",
      "('Raghogarh-Vijaypur',)   0.0011954796549017847\n",
      "('Raghunathganj',)   0.00032576486872010814\n",
      "('Rahuri',)   0.0010215412055957186\n",
      "('Raiganj',)   5.766488228025196e-05\n",
      "('Raigarh',)   0.0010734548880419706\n",
      "('Raipur',)   0.0006055524103015312\n",
      "('Raisen',)   0.0011876872713704192\n",
      "('Raisinghnagar',)   0.0001229306919231667\n",
      "('Rajagangapur',)   0.0006545153421292364\n",
      "('Rajahmundry',)   0.0008206637490051264\n",
      "('Rajakhera',)   0.00046579980153593564\n",
      "('Rajampet',)   0.00030567853609234015\n",
      "('Rajapalayam',)   0.0012778630483909331\n",
      "('Rajgarh (Churu)',)   0.0010389760977929207\n",
      "('Rajgir',)   0.0004172488613330278\n",
      "('Rajkot',)   0.0006182772318430283\n",
      "('Rajnandgaon',)   0.0006419848282979853\n",
      "('Rajpipla',)   0.00044763997891696154\n",
      "('Rajpura',)   5.0199034953384844e-05\n",
      "('Rajsamand',)   0.0013935208239606956\n",
      "('Rajula',)   0.001196480396473538\n",
      "('Ramachandrapuram',)   0.00045196022532650876\n",
      "('Ramagundam',)   0.0007287303810036617\n",
      "('Ramanagaram',)   0.00029552603878627216\n",
      "('Ramanathapuram',)   0.00035890232305272\n",
      "('Ramdurg',)   0.0010395372771246885\n",
      "('Rameshwaram',)   0.00029006421021857836\n",
      "('Ramganj Mandi',)   0.0012793644669223778\n",
      "('Ramgarh',)   0.0005658714787650423\n",
      "('Ramnagar',)   0.001451866249929811\n",
      "('Ramngarh',)   0.0007205739553012156\n",
      "('Rampur',)   0.0010695659748794005\n",
      "('Rampura Phul',)   4.1948143533975516e-05\n",
      "('Rampurhat',)   0.0010114163453688915\n",
      "('Ranaghat',)   0.001232622486469264\n",
      "('Ranavav',)   0.0006065352311662235\n",
      "('Ranchi',)   0.0006252225757756219\n",
      "('Ranebennuru',)   0.00022262705588060275\n",
      "('Ranibennur',)   0.0004954562118591812\n",
      "('Ranipet',)   0.00041479441839943414\n",
      "('Rasipuram',)   0.0003060102305271622\n",
      "('Rasra',)   0.00029151985969216794\n",
      "('Ratangarh',)   0.0007852215036012369\n",
      "('Rath',)   0.0010647203282973668\n",
      "('Ratlam',)   0.00016710682634968118\n",
      "('Ratnagiri',)   0.0003035370791516841\n",
      "('Raurkela',)   0.0005501396511042119\n",
      "('Raver',)   0.0004210479289024801\n",
      "('Rawatbhata',)   0.0003607645325995476\n",
      "('Rawatsar',)   0.0002744735321955905\n",
      "('Raxaul Bazar',)   0.00011400435614096816\n",
      "('Rayachoti',)   0.0005641875951045766\n",
      "('Rayadurg',)   0.0003209941660221648\n",
      "('Rayagada',)   5.3888361370926194e-05\n",
      "('Renukoot',)   0.0004733785850714509\n",
      "('Repalle',)   0.0002863710799679513\n",
      "('Revelganj',)   0.0001910544076688912\n",
      "('Rewa',)   0.0009640935518635678\n",
      "('Rewari',)   0.0009320406221431512\n",
      "('Rishikesh',)   0.0007724014695273938\n",
      "('Risod',)   0.0008652391779456609\n",
      "('Robertsganj',)   0.001190850330263962\n",
      "('Robertson Pet',)   0.0008709917033529004\n",
      "('Rohtak',)   0.0007933349081091327\n",
      "('Roorkee',)   0.0004510316907296493\n",
      "('Rosera',)   0.0005985496647421224\n",
      "('Rudauli',)   0.000824933767147581\n",
      "('Rudrapur',)   0.0008692206622522331\n",
      "('Rupnagar',)   0.00029323031600892493\n",
      "('Sabalgarh',)   0.00021792139609876898\n",
      "('Sadabad',)   0.00045588006283846504\n",
      "('Sadasivpet',)   0.0006840769000915402\n",
      "('Sadulpur',)   0.0005891555294521363\n",
      "('Safidon',)   0.00011472241454438793\n",
      "('Sagar',)   0.0007635746927424912\n",
      "('Sagara',)   0.00020349316570581507\n",
      "('Sagwara',)   0.0004368934590309684\n",
      "('Saharanpur',)   0.000563196686298081\n",
      "('Saharsa',)   0.0004941580051686379\n",
      "('Sahaswan',)   0.0010319144677566475\n",
      "('Sahibganj',)   0.0009991615211518458\n",
      "('Sailu',)   0.0010177077014116812\n",
      "('Sainthia',)   0.0008020700885350438\n",
      "('Salaya',)   0.00022885613601406765\n",
      "('Salem',)   0.0005595319001669153\n",
      "('Salur',)   0.00022382934134373533\n",
      "('Samalkot',)   5.777861910855088e-07\n",
      "('Samana',)   0.0008048888020443012\n",
      "('Samastipur',)   0.0005044884820414462\n",
      "('Sambalpur',)   0.0001966397340502221\n",
      "('Sambhal',)   0.0009253812122152576\n",
      "('Sanand',)   0.0005871362436453368\n",
      "('Sanawad',)   0.0007758724239630654\n",
      "('Sandila',)   0.0004084143535549931\n",
      "('Sanduru',)   0.0010114598235778892\n",
      "('Sangamner',)   0.0004780921638766954\n",
      "('Sangareddy',)   8.158391576128826e-05\n",
      "('Sangaria',)   0.0007476833918317869\n",
      "('Sangli',)   0.0006919545773023344\n",
      "('Sangole',)   0.0002607601914192864\n",
      "('Sangrur',)   0.0007058082624052765\n",
      "('Sankarankoil',)   0.000489719064587548\n",
      "('Sankari',)   0.0005725670314183099\n",
      "('Sankeshwara',)   0.000621781168354997\n",
      "('Santipur',)   0.00048457021352254397\n",
      "('Sarangpur',)   0.0005620152959990289\n",
      "('Sardarshahar',)   0.00027256012071682416\n",
      "('Sardhana',)   0.00032174709962261966\n",
      "('Sarni',)   0.00041300247573102406\n",
      "('Sasaram',)   0.0011959007734057827\n",
      "('Sasvad',)   0.0002543541600034949\n",
      "('Satana',)   0.00041601338623879514\n",
      "('Satara',)   0.0004987378809818351\n",
      "('Sathyamangalam',)   0.0004284540417113881\n",
      "('Satna',)   2.9104605195091254e-05\n",
      "('Sattenapalle',)   0.0005884298663969574\n",
      "('Sattur',)   0.0003143327233160534\n",
      "('Saunda',)   0.0008904365222298375\n",
      "('Saundatti-Yellamma',)   7.337630364767644e-05\n",
      "('Savanur',)   0.00011422391018375135\n",
      "('Savarkundla',)   0.000452131948813774\n",
      "('Savner',)   0.0002044722437376678\n",
      "('Sawai Madhopur',)   0.00018687049551291648\n",
      "('Sedam',)   0.0004719383286646197\n",
      "('Sehore',)   0.0005945618975444577\n",
      "('Sendhwa',)   0.00036886617929773603\n",
      "('Seohara',)   0.0005699439943175811\n",
      "('Seoni',)   0.0010279861794790781\n",
      "('Seoni-Malwa',)   0.000505854308921284\n",
      "('Shahabad',)   0.00019364444402920927\n",
      "('Shahabad Hardoi',)   0.0002509390405001826\n",
      "('Shahabad Rampur',)   0.0008111824211772259\n",
      "('Shahade',)   0.0006050391174119014\n",
      "('Shahbad',)   0.0006866538472552134\n",
      "('Shahdol',)   0.0010981328034601644\n",
      "('Shahjahanpur',)   0.0006003611346237507\n",
      "('Shahpur',)   0.0010214822068162178\n",
      "('Shahpura',)   0.0011803647344434834\n",
      "('Shajapur',)   0.0004547842598074675\n",
      "('Shamli',)   0.0004988120894601054\n",
      "('Shamsabad Agra',)   0.0009341687146502824\n",
      "('Shegaon',)   0.0006304551444022213\n",
      "('Sheikhpura',)   0.0012499502869889316\n",
      "('Shenkottai',)   0.00043779793192396977\n",
      "('Sheopur',)   0.000564557527410595\n",
      "('Sherghati',)   3.489083012522311e-05\n",
      "('Sherkot',)   0.0008915641458420959\n",
      "('Shikaripur',)   0.0005108369269460851\n",
      "('Shikarpur Bulandshahr',)   0.0006070458245181139\n",
      "('Shikohabad',)   0.0009157600086947698\n",
      "('Shillong',)   0.0001916303611558637\n",
      "('Shimla',)   0.0011801377139166599\n",
      "('Shirdi',)   0.001214610819164602\n",
      "('Shirpur-Warwade',)   0.0004947718127527724\n",
      "('Shirur',)   0.0008028366050847062\n",
      "('Shivamogga',)   0.0005255979819761626\n",
      "('Shivpuri',)   0.0008507048591589465\n",
      "('Sholingur',)   0.0011034346428473692\n",
      "('Shoranur',)   0.0005305426789125671\n",
      "('Shrigonda',)   0.00045644428814164273\n",
      "('Shrirampur',)   0.0001736910654032963\n",
      "('Shujalpur',)   0.00010969366479374015\n",
      "('Siana',)   0.000664398243642145\n",
      "('Sibsagar',)   0.000657698197592664\n",
      "('Siddipet',)   0.0006026846267821486\n",
      "('Sidhi',)   0.0006087642257952432\n",
      "('Sidhpur',)   0.0007670803162827349\n",
      "('Sidlaghatta',)   0.0004267726856941555\n",
      "('Sihor',)   0.0003508189062457461\n",
      "('Sihora',)   0.0007529242368691778\n",
      "('Sikandra Rao',)   0.0003430193560295624\n",
      "('Sikandrabad',)   0.0006854767497880781\n",
      "('Sikar',)   0.0005817996644127891\n",
      "('Silchar',)   0.0007917334875019624\n",
      "('Siliguri',)   4.5929303000452955e-05\n",
      "('Sillod',)   0.0007175554771327815\n",
      "('Simdega',)   0.0006073319949217573\n",
      "('Sindhagi',)   0.001226294215512849\n",
      "('Sindhnur',)   0.0007043584683848337\n",
      "('Singrauli',)   0.0008845679895962624\n",
      "('Sinnar',)   0.0014245254387733803\n",
      "('Sira',)   0.0005988380418854504\n",
      "('Sircilla',)   0.0003330806250378776\n",
      "('Sirhind Fatehgarh Sahib',)   0.0007100297113361838\n",
      "('Sirkali',)   0.0007344939458794517\n",
      "('Sirohi',)   0.0006641131950701778\n",
      "('Sironj',)   0.00021326598261117686\n",
      "('Sirsa',)   0.0015295396502352065\n",
      "('Sirsaganj',)   6.932466406177432e-05\n",
      "('Sirsi',)   0.0005640536471736097\n",
      "('Siruguppa',)   0.00043685130964902363\n",
      "('Sitamarhi',)   0.0006905085910882953\n",
      "('Sitapur',)   0.0008608282134470875\n",
      "('Sivaganga',)   0.00037976543203701473\n",
      "('Sivakasi',)   0.0004800661863833058\n",
      "('Siwan',)   0.0001314723798138783\n",
      "('Sohna',)   0.00021637832097517922\n",
      "('Sojat',)   0.00037490107270900957\n",
      "('Solan',)   0.0007417664431426291\n",
      "('Solapur',)   0.00046937807050864195\n",
      "('Sonamukhi',)   0.00032311780057373376\n",
      "('Sonepur',)   0.0010613272224839659\n",
      "('Sonipat',)   0.0007223343987343407\n",
      "('Sopore',)   0.00026144733845716057\n",
      "('Soro',)   0.0005971292833668193\n",
      "('Soron',)   0.0016069154094203806\n",
      "('Sri Madhopur',)   0.0003033615290007272\n",
      "('Srikakulam',)   0.00044591123472813364\n",
      "('Srikalahasti',)   0.0006666572589786051\n",
      "('Srinagar',)   0.0004485052861431815\n",
      "('Srivilliputhur',)   0.0004527346943372526\n",
      "('Suar',)   0.0005990313733200466\n",
      "('Sugauli',)   0.0008711899305165059\n",
      "('Sujangarh',)   0.0010335332014476545\n",
      "('Sullurpeta',)   0.00021076232759122788\n",
      "('Sultanganj',)   0.00043370334531463357\n",
      "('Sultanpur',)   0.0006603760639687233\n",
      "('Sumerpur',)   0.0006243525979607228\n",
      "('Sunabeda',)   0.0013195279542538294\n",
      "('Sunam',)   0.000665279736520043\n",
      "('Sundargarh',)   0.0005744073762700437\n",
      "('Supaul',)   0.0005727811314424193\n",
      "('Surandai',)   0.00043991853863493475\n",
      "('Surapura',)   0.0003664499364156866\n",
      "('Surat',)   0.008416441271366594\n",
      "('Suratgarh',)   0.0004344346834540413\n",
      "('Suri',)   5.089420423431341e-08\n",
      "('Suryapet',)   0.0003946184070231722\n",
      "('Tadepalligudem',)   0.0002435232108213279\n",
      "('Tadpatri',)   0.0007526509459818851\n",
      "('Taki',)   6.379239111828907e-05\n",
      "('Talaja',)   0.001070466594757902\n",
      "('Talcher',)   0.0004977036892933879\n",
      "('Talegaon Dabhade',)   0.0009736014254067933\n",
      "('Talikota',)   0.0004187615590217724\n",
      "('Taliparamba',)   0.0009063421962648747\n",
      "('Talode',)   0.0006669854082588309\n",
      "('Tamluk',)   0.0005056892376292045\n",
      "('Tanda',)   0.0009659755078788524\n",
      "('Tandur',)   0.0010013585893930642\n",
      "('Tanuku',)   0.001477526397408606\n",
      "('Tarakeswar',)   0.0011431471557000084\n",
      "('Taranagar',)   0.00025842093259460455\n",
      "('Tarikere',)   0.0001999059753918581\n",
      "('Tarn Taran',)   0.0005190803316030929\n",
      "('Tasgaon',)   0.0011922287341561981\n",
      "('Tekkalakote',)   0.00037778023758025455\n",
      "('Tenali',)   0.0005230395894016486\n",
      "('Tenkasi',)   0.000492715239200151\n",
      "('Terdal',)   0.0006032239605227303\n",
      "('Tezpur',)   0.00024067066256289158\n",
      "('Thakurdwara',)   0.0003135064264147523\n",
      "('Thana Bhawan',)   0.0009052807469917029\n",
      "('Thane',)   0.000568291981829457\n",
      "('Thanesar',)   0.000162490273109894\n",
      "('Thangadh',)   0.0006365798029689742\n",
      "('Thanjavur',)   0.0010009313996187637\n",
      "('Tharad',)   0.0011729022777673163\n",
      "('Tharamangalam',)   0.0011073793633633725\n",
      "('Theni Allinagaram',)   0.0002689492031445081\n",
      "('Thirumangalam',)   0.0013297539603641692\n",
      "('Thiruvalla',)   0.00043715868640681533\n",
      "('Thiruvallur',)   0.0005050086982461631\n",
      "('Thiruvananthapuram',)   0.00030755154950668656\n",
      "('Thiruvarur',)   0.0010531766856136694\n",
      "('Thodupuzha',)   0.00036584810765989055\n",
      "('Thoubal',)   0.0010806928972347122\n",
      "('Thrissur',)   0.0006995455303092383\n",
      "('Thuraiyur',)   0.0003259265892382072\n",
      "('Tikamgarh',)   0.0011696110756126603\n",
      "('Tilda Newra',)   0.0006734573786601199\n",
      "('Tilhar',)   0.0008988286021975283\n",
      "('Tindivanam',)   0.0005568712210375618\n",
      "('Tinsukia',)   0.00021738964821443215\n",
      "('Tiptur',)   0.00032693944247876716\n",
      "('Tiruchendur',)   0.0008294665465968847\n",
      "('Tiruchengode',)   0.0007764135362148773\n",
      "('Tiruchirappalli',)   0.0005910138382967668\n",
      "('Tirukalukundram',)   0.0011580253652363334\n",
      "('Tirukkoyilur',)   0.00033909883958586516\n",
      "('Tirunelveli',)   0.00028686028696480343\n",
      "('Tirupathur',)   0.00022703375650845434\n",
      "('Tirupati',)   0.0002950505220192688\n",
      "('Tiruppur',)   0.000730982209614271\n",
      "('Tirur',)   0.00019988009444523594\n",
      "('Tiruttani',)   0.00060041390422781\n",
      "('Tiruvannamalai',)   0.0005910399212996752\n",
      "('Tiruvethipuram',)   0.0005440273975508693\n",
      "('Tiruvuru',)   0.0007113555441942123\n",
      "('Titlagarh',)   0.0006745504402028836\n",
      "('Tohana',)   0.0012049824269614285\n",
      "('Tonk',)   0.0006707392513921174\n",
      "('Tuensang',)   0.00047204749933520135\n",
      "('Tuljapur',)   0.00046050927111918716\n",
      "('Tumkur',)   0.0005567973434715891\n",
      "('Tumsar',)   0.0012259888328049584\n",
      "('Tundla',)   0.0004049139481049631\n",
      "('Tuni',)   0.0002987072595055374\n",
      "('Tura',)   0.0011764992243944558\n",
      "('Uchgaon',)   0.0005423362385077268\n",
      "('Udaipur',)   0.0012568018365883696\n",
      "('Udaipurwati',)   0.0007788892615145366\n",
      "('Udgir',)   0.0011902277894445979\n",
      "('Udhagamandalam',)   0.00163042355605065\n",
      "('Udhampur',)   0.0007849158469839249\n",
      "('Udumalaipettai',)   0.000539506191676878\n",
      "('Udupi',)   0.0009636909094994892\n",
      "('Ujhani',)   9.434976582168073e-05\n",
      "('Ujjain',)   0.0008539305088844924\n",
      "('Umarga',)   0.0005860598390502819\n",
      "('Umaria',)   6.780589551086339e-05\n",
      "('Umarkhed',)   0.0005396380262649784\n",
      "('Umbergaon',)   8.237181179937058e-07\n",
      "('Umred',)   0.001020195519305611\n",
      "('Umreth',)   3.833447993431465e-05\n",
      "('Una',)   0.00048421602619909925\n",
      "('Unjha',)   0.0005063775983186559\n",
      "('Unnao',)   0.0007667767816540462\n",
      "('Upleta',)   0.0005933983815443938\n",
      "('Uran',)   0.00034551975851968697\n",
      "('Uran Islampur',)   0.0002569682441448846\n",
      "('Uravakonda',)   0.0014033297219615522\n",
      "('Usilampatti',)   0.0005278918245903743\n",
      "('Uthamapalayam',)   0.0005080432227677968\n",
      "('Utraula',)   0.0007824386315959233\n",
      "('Vadakkuvalliyur',)   0.00042719608890404853\n",
      "('Vadalur',)   0.0006186385577893403\n",
      "('Vadipatti',)   0.00012767044257900578\n",
      "('Vadnagar',)   0.0007396284066845488\n",
      "('Vadodara',)   0.000513360776488093\n",
      "('Vaijapur',)   0.0006244421936487388\n",
      "('Valparai',)   0.0007660525893928027\n",
      "('Valsad',)   0.0009391349330543224\n",
      "('Vandavasi',)   0.00043159282424054784\n",
      "('Vaniyambadi',)   0.00042605984551307623\n",
      "('Vapi',)   0.0015103369506686175\n",
      "('Varanasi',)   2.423125910873667e-06\n",
      "('Varkala',)   0.00025010503772318913\n",
      "('Vasai-Virar',)   0.0006006758138333831\n",
      "('Vatakara',)   0.0007401745225569093\n",
      "('Vedaranyam',)   0.00033290132195016697\n",
      "('Vellakoil',)   0.000953293728758086\n",
      "('Vellore',)   0.00018564071210168824\n",
      "('Venkatagiri',)   0.0005471918719805198\n",
      "('Veraval',)   0.0007979489451311342\n",
      "('Vidisha',)   0.0006151272494799024\n",
      "('Vijainagar Ajmer',)   0.0003771778669776481\n",
      "('Vijayapura',)   0.0009729614991871447\n",
      "('Vijayawada',)   8.511968712696347e-06\n",
      "('Vikarabad',)   0.00014980395719305618\n",
      "('Vikramasingapuram',)   0.00019444728446555437\n",
      "('Viluppuram',)   0.00013796064797431433\n",
      "('Vinukonda',)   0.0005246291248270522\n",
      "('Viramgam',)   0.001108040560398412\n",
      "('Virudhachalam',)   0.0005065285347404942\n",
      "('Virudhunagar',)   0.0006846630028570637\n",
      "('Visakhapatnam',)   0.0006571029230193606\n",
      "('Visnagar',)   0.0008482702565119537\n",
      "('Vita',)   0.0\n",
      "('Vizianagaram',)   0.00043053768427998683\n",
      "('Vrindavan',)   0.0006017287237173944\n",
      "('Vyara',)   0.0011638724362718488\n",
      "('Wadgaon Road',)   0.0007881363938361806\n",
      "('Wadhwan',)   0.00024636154158247836\n",
      "('Wadi',)   0.0009098132004092805\n",
      "('Wai',)   0.00042880369524173306\n",
      "('Wanaparthy',)   0.0001251701950124608\n",
      "('Wani',)   3.7953866837216455e-05\n",
      "('Wankaner',)   0.0002294113516193968\n",
      "('Warangal',)   0.0003130223497380186\n",
      "('Wardha',)   0.0004074328298302393\n",
      "('Warisaliganj',)   9.66733580436771e-05\n",
      "('Warora',)   0.0008802083438894101\n",
      "('Washim',)   0.0007144498817097475\n",
      "('Wokha',)   0.00041307602684210575\n",
      "('Yadgir',)   0.0006518080823044741\n",
      "('Yamunanagar',)   0.0007716461184262759\n",
      "('Yanam',)   0.0005796932487120585\n",
      "('Yavatmal',)   0.0005492394638948099\n",
      "('Yawal',)   0.00017512116548415565\n",
      "('Yellandu',)   0.0010460841246119313\n",
      "('Yemmiganur',)   0.000386310660553197\n",
      "('Yerraguntla',)   0.0005400728822121168\n",
      "('Yevla',)   5.583951293384321e-05\n",
      "('Zaidpur',)   0.0012043073663530182\n",
      "('Zamania',)   0.0006756468332703107\n",
      "('Zira',)   0.0009758204808804013\n",
      "('Zirakpur',)   0.00042327874809884656\n",
      "('Zunheboto',)   0.00015526723468452903\n",
      "('Gold',)   0.03232988622395804\n",
      "('Platinum',)   0.027352318099719802\n",
      "('Signature',)   0.033160106722765835\n",
      "('Silver',)   0.03171218642702121\n",
      "Year   0.05123729749250394\n",
      "Months   0.12524490361315907\n",
      "Genders   0.010900687455942755\n"
     ]
    },
    {
     "data": {
      "text/plain": [
       "' Most IMportant feature is  - Months '"
      ]
     },
     "execution_count": 97,
     "metadata": {},
     "output_type": "execute_result"
    }
   ],
   "source": [
    "''' Seeing the most important features '''\n",
    "imp = forest_reg.feature_importances_\n",
    "col = X_train.columns\n",
    "\n",
    "for i in range( len(col) ) :\n",
    "    print(col[i] , \" \" , imp[i])\n",
    "\n",
    "''' Most IMportant feature is  - Months '''\n"
   ]
  },
  {
   "cell_type": "code",
   "execution_count": 98,
   "metadata": {},
   "outputs": [
    {
     "name": "stdout",
     "output_type": "stream",
     "text": [
      " the RMSE training error for Rand FOrest is 90350.66849770596\n"
     ]
    }
   ],
   "source": [
    "''' Find training error - MSE (y , y_hat) '''\n",
    "\n",
    "y_train_rand = forest_reg.predict( X_train )\n",
    "\n",
    "from sklearn.metrics import mean_squared_error\n",
    "\n",
    "error = mean_squared_error( y_train , y_train_rand)\n",
    "error = np.sqrt( error )\n",
    "\n",
    "print( f\" the RMSE training error for Rand FOrest is {error }\")"
   ]
  },
  {
   "cell_type": "code",
   "execution_count": 99,
   "metadata": {},
   "outputs": [],
   "source": [
    "# ''' Find ANother form of trainig error , cross validation score '''\n",
    "# from sklearn.model_selection import cross_val_score\n",
    "\n",
    "# score = cross_val_score( forest_reg , X_train , y_train , cv = 5  , scoring = \"neg_mean_squared_error\" )\n",
    "\n",
    "# print(score)\n",
    "\n",
    "# print( f\" The average of these Negative mean squared error in cross validation is {score.mean()}\")\n",
    "# ''' nearer to 0 ( negative MSE ) is good '''\n"
   ]
  },
  {
   "cell_type": "code",
   "execution_count": 100,
   "metadata": {},
   "outputs": [],
   "source": [
    "''' Doing prediction on Test Data '''\n",
    "\n",
    "y_test_rand = forest_reg.predict( X_test)\n"
   ]
  },
  {
   "cell_type": "code",
   "execution_count": 101,
   "metadata": {},
   "outputs": [
    {
     "name": "stdout",
     "output_type": "stream",
     "text": [
      " THe testing error(RMSE) for Random Forest Regressor model(before fine tuning) is = 111464.02344455442 \n"
     ]
    },
    {
     "data": {
      "text/plain": [
       "' Inference , testing error too high ( Very Wrong Predictions )'"
      ]
     },
     "execution_count": 101,
     "metadata": {},
     "output_type": "execute_result"
    }
   ],
   "source": [
    "''' Testing error '''\n",
    "\n",
    "test_error = np.sqrt(mean_squared_error( y_test , y_test_rand ) )\n",
    "\n",
    "print(f\" THe testing error(RMSE) for Random Forest Regressor model(before fine tuning) is = {test_error} \")\n",
    "\n",
    "''' Inference , testing error too high ( Very Wrong Predictions )'''"
   ]
  },
  {
   "cell_type": "code",
   "execution_count": 102,
   "metadata": {},
   "outputs": [
    {
     "name": "stdout",
     "output_type": "stream",
     "text": [
      "-0.16849226907601045\n"
     ]
    },
    {
     "data": {
      "text/plain": [
       "'  From R2 Score , we infer - Polynomial Regression  Model performing better '"
      ]
     },
     "execution_count": 102,
     "metadata": {},
     "output_type": "execute_result"
    }
   ],
   "source": [
    "from sklearn.metrics import r2_score\n",
    "\n",
    "print( r2_score ( y_test , y_test_rand ))\n",
    "\n",
    "'''  From R2 Score , we infer - Polynomial Regression  Model performing better '''"
   ]
  },
  {
   "cell_type": "code",
   "execution_count": 103,
   "metadata": {},
   "outputs": [],
   "source": [
    "# ''' Fine tune the Model '''\n",
    "\n",
    "# ''' THe ONly hyper param I am concerned about  - No of decision trees in Random Forest , SO use Grid Search > Randomized Sarch '''\n",
    "\n",
    "# from sklearn.model_selection import GridSearchCV \n",
    "\n",
    "# params = [ { \"n_estimators\" : [ 500 , 1000 ]} , { \"n_estimators\" : [ 100 , 200 , 300 ]  , \"bootstrap \" : [False]} ] \n",
    "\n",
    "# grid_search = GridSearchCV( forest_reg , params , cv = 5 )\n",
    "\n",
    "# grid_search.fit( X_train , y_train)"
   ]
  },
  {
   "cell_type": "code",
   "execution_count": 104,
   "metadata": {},
   "outputs": [
    {
     "data": {
      "text/plain": [
       "(5169,)"
      ]
     },
     "execution_count": 104,
     "metadata": {},
     "output_type": "execute_result"
    }
   ],
   "source": [
    "# '''  Drawing the Learnign Curve of Model - showing Training error and Validation error as a function of increasing dataset size '''\n",
    "\n",
    "# from sklearn.model_selection import train_test_split\n",
    "\n",
    "# X_t ,X_val , y_t, y_val = train_test_split( X_train[:100] , y_train[:100] , test_size=0.2 )\n",
    "\n",
    "\n",
    "# train_error =[]\n",
    "# val_error = []\n",
    "\n",
    "# for i in range(1 ,  len(X_t)) :\n",
    "#     X1 = X_t[:i]\n",
    "#     y1 = y_t[:i]\n",
    "#     forest_reg.fit(X1 , y1 )\n",
    "#     y_t_pred = forest_reg.predict(X1)\n",
    "\n",
    "#     y_val_pred = forest_reg.predict(X_val)\n",
    "    \n",
    "#     # validation set iss ame but as the model learns more , the validation score changes \n",
    "#     train_error.append( np.sqrt(mean_squared_error(y1 , y_t_pred)) )\n",
    "#     val_error.append( np.sqrt(mean_squared_error(y_val , y_val_pred)))\n",
    "\n",
    "# plt.plot ( range(1 , len(X_t)) , train_error , \"r--\" , label = \"Training_error \")\n",
    "# plt.plot( range( 1 , len(X_t)) , val_error , \"b--\" , label = \"Validation_error\")\n",
    "# plt.show()\n",
    "\n",
    "# ''' Model is highly underfitting , so MAybe , MAny outliers in data  '''\n",
    "# ''' After removing outliers , high improvement ( but model is highly overfitting now )'''\n",
    "\n",
    "y_qq.shape"
   ]
  },
  {
   "cell_type": "code",
   "execution_count": 105,
   "metadata": {},
   "outputs": [
    {
     "data": {
      "text/html": [
       "<style>#sk-container-id-3 {color: black;}#sk-container-id-3 pre{padding: 0;}#sk-container-id-3 div.sk-toggleable {background-color: white;}#sk-container-id-3 label.sk-toggleable__label {cursor: pointer;display: block;width: 100%;margin-bottom: 0;padding: 0.3em;box-sizing: border-box;text-align: center;}#sk-container-id-3 label.sk-toggleable__label-arrow:before {content: \"▸\";float: left;margin-right: 0.25em;color: #696969;}#sk-container-id-3 label.sk-toggleable__label-arrow:hover:before {color: black;}#sk-container-id-3 div.sk-estimator:hover label.sk-toggleable__label-arrow:before {color: black;}#sk-container-id-3 div.sk-toggleable__content {max-height: 0;max-width: 0;overflow: hidden;text-align: left;background-color: #f0f8ff;}#sk-container-id-3 div.sk-toggleable__content pre {margin: 0.2em;color: black;border-radius: 0.25em;background-color: #f0f8ff;}#sk-container-id-3 input.sk-toggleable__control:checked~div.sk-toggleable__content {max-height: 200px;max-width: 100%;overflow: auto;}#sk-container-id-3 input.sk-toggleable__control:checked~label.sk-toggleable__label-arrow:before {content: \"▾\";}#sk-container-id-3 div.sk-estimator input.sk-toggleable__control:checked~label.sk-toggleable__label {background-color: #d4ebff;}#sk-container-id-3 div.sk-label input.sk-toggleable__control:checked~label.sk-toggleable__label {background-color: #d4ebff;}#sk-container-id-3 input.sk-hidden--visually {border: 0;clip: rect(1px 1px 1px 1px);clip: rect(1px, 1px, 1px, 1px);height: 1px;margin: -1px;overflow: hidden;padding: 0;position: absolute;width: 1px;}#sk-container-id-3 div.sk-estimator {font-family: monospace;background-color: #f0f8ff;border: 1px dotted black;border-radius: 0.25em;box-sizing: border-box;margin-bottom: 0.5em;}#sk-container-id-3 div.sk-estimator:hover {background-color: #d4ebff;}#sk-container-id-3 div.sk-parallel-item::after {content: \"\";width: 100%;border-bottom: 1px solid gray;flex-grow: 1;}#sk-container-id-3 div.sk-label:hover label.sk-toggleable__label {background-color: #d4ebff;}#sk-container-id-3 div.sk-serial::before {content: \"\";position: absolute;border-left: 1px solid gray;box-sizing: border-box;top: 0;bottom: 0;left: 50%;z-index: 0;}#sk-container-id-3 div.sk-serial {display: flex;flex-direction: column;align-items: center;background-color: white;padding-right: 0.2em;padding-left: 0.2em;position: relative;}#sk-container-id-3 div.sk-item {position: relative;z-index: 1;}#sk-container-id-3 div.sk-parallel {display: flex;align-items: stretch;justify-content: center;background-color: white;position: relative;}#sk-container-id-3 div.sk-item::before, #sk-container-id-3 div.sk-parallel-item::before {content: \"\";position: absolute;border-left: 1px solid gray;box-sizing: border-box;top: 0;bottom: 0;left: 50%;z-index: -1;}#sk-container-id-3 div.sk-parallel-item {display: flex;flex-direction: column;z-index: 1;position: relative;background-color: white;}#sk-container-id-3 div.sk-parallel-item:first-child::after {align-self: flex-end;width: 50%;}#sk-container-id-3 div.sk-parallel-item:last-child::after {align-self: flex-start;width: 50%;}#sk-container-id-3 div.sk-parallel-item:only-child::after {width: 0;}#sk-container-id-3 div.sk-dashed-wrapped {border: 1px dashed gray;margin: 0 0.4em 0.5em 0.4em;box-sizing: border-box;padding-bottom: 0.4em;background-color: white;}#sk-container-id-3 div.sk-label label {font-family: monospace;font-weight: bold;display: inline-block;line-height: 1.2em;}#sk-container-id-3 div.sk-label-container {text-align: center;}#sk-container-id-3 div.sk-container {/* jupyter's `normalize.less` sets `[hidden] { display: none; }` but bootstrap.min.css set `[hidden] { display: none !important; }` so we also need the `!important` here to be able to override the default hidden behavior on the sphinx rendered scikit-learn.org. See: https://github.com/scikit-learn/scikit-learn/issues/21755 */display: inline-block !important;position: relative;}#sk-container-id-3 div.sk-text-repr-fallback {display: none;}</style><div id=\"sk-container-id-3\" class=\"sk-top-container\"><div class=\"sk-text-repr-fallback\"><pre>SGDRegressor(l1_ratio=0.5, penalty=&#x27;elasticnet&#x27;)</pre><b>In a Jupyter environment, please rerun this cell to show the HTML representation or trust the notebook. <br />On GitHub, the HTML representation is unable to render, please try loading this page with nbviewer.org.</b></div><div class=\"sk-container\" hidden><div class=\"sk-item\"><div class=\"sk-estimator sk-toggleable\"><input class=\"sk-toggleable__control sk-hidden--visually\" id=\"sk-estimator-id-3\" type=\"checkbox\" checked><label for=\"sk-estimator-id-3\" class=\"sk-toggleable__label sk-toggleable__label-arrow\">SGDRegressor</label><div class=\"sk-toggleable__content\"><pre>SGDRegressor(l1_ratio=0.5, penalty=&#x27;elasticnet&#x27;)</pre></div></div></div></div></div>"
      ],
      "text/plain": [
       "SGDRegressor(l1_ratio=0.5, penalty='elasticnet')"
      ]
     },
     "execution_count": 105,
     "metadata": {},
     "output_type": "execute_result"
    }
   ],
   "source": [
    "from sklearn.linear_model import SGDRegressor \n",
    "\n",
    "''' Elastic Net -  weighted sum of Ridge and LAsso regularization to prevent Overfitting'''\n",
    "sgd = SGDRegressor( penalty = \"elasticnet\" , l1_ratio= 0.5 )\n",
    "sgd.fit( X_q , y_q)\n"
   ]
  },
  {
   "cell_type": "code",
   "execution_count": 106,
   "metadata": {},
   "outputs": [
    {
     "name": "stdout",
     "output_type": "stream",
     "text": [
      " The trainin error RMSE for ElasticNet regularzied Linear Model  -1271983458904627.5\n"
     ]
    }
   ],
   "source": [
    "''' RMSE training error'''\n",
    "y_train_elas = sgd.predict( X_q )\n",
    "\n",
    "score_elas  = np.sqrt(mean_squared_error( y_q , y_train_elas) )\n",
    "\n",
    "print( f\" The trainin error RMSE for ElasticNet regularzied Linear Model  -{score_elas}\")"
   ]
  },
  {
   "cell_type": "code",
   "execution_count": 107,
   "metadata": {},
   "outputs": [],
   "source": [
    "# ''' Find ANother form of trainig error , cross validation score '''\n",
    "\n",
    "\n",
    "# score = cross_val_score( sgd , X_train , y_train , cv = 5  , scoring = \"neg_mean_squared_error\" )\n",
    "\n",
    "# print(score)\n",
    "\n",
    "# print( f\" The average of these Negative mean squared error in cross validation is {score.mean()}\")\n",
    "# ''' nearer to 0 ( negative MSE ) is good '''\n"
   ]
  },
  {
   "cell_type": "code",
   "execution_count": 108,
   "metadata": {},
   "outputs": [],
   "source": [
    "y_hat_elas = sgd.predict(X_qq)"
   ]
  },
  {
   "cell_type": "code",
   "execution_count": 109,
   "metadata": {},
   "outputs": [
    {
     "name": "stdout",
     "output_type": "stream",
     "text": [
      " THe testing error(RMSE) for SGDRegressor with ElasticNet Regularization term added  model(before fine tuning) is = 1271992399237568.0 \n"
     ]
    },
    {
     "data": {
      "text/plain": [
       "' Inference , testing error too high ( Very Wrong Predictions )'"
      ]
     },
     "execution_count": 109,
     "metadata": {},
     "output_type": "execute_result"
    }
   ],
   "source": [
    "''' Testing error '''\n",
    "\n",
    "test_error = np.sqrt(mean_squared_error( y_qq , y_hat_elas ) )\n",
    "\n",
    "print(f\" THe testing error(RMSE) for SGDRegressor with ElasticNet Regularization term added  model(before fine tuning) is = {test_error} \")\n",
    "\n",
    "''' Inference , testing error too high ( Very Wrong Predictions )'''"
   ]
  },
  {
   "cell_type": "code",
   "execution_count": 110,
   "metadata": {},
   "outputs": [],
   "source": [
    "# '''  Drawing the Learnign Curve of Model - showing Training error and Validation error as a function of increasing dataset size '''\n",
    "\n",
    "\n",
    "\n",
    "# X_t ,X_val , y_t, y_val = train_test_split( X_train[:100] , y_train[:100] , test_size=0.2 )\n",
    "\n",
    "\n",
    "# train_error =[]\n",
    "# val_error = []\n",
    "\n",
    "# for i in range(1 ,  len(X_t)) :\n",
    "#     X1 = X_t[:i]\n",
    "#     y1 = y_t[:i]\n",
    "#     sgd.fit(X1 , y1 )\n",
    "#     y_t_pred = sgd.predict(X1)\n",
    "\n",
    "#     y_val_pred = sgd.predict(X_val)\n",
    "    \n",
    "#     # validation set issame but as the model learns more , the validation score changes \n",
    "#     train_error.append( np.sqrt(mean_squared_error(y1 , y_t_pred)) )\n",
    "#     val_error.append( np.sqrt(mean_squared_error(y_val , y_val_pred)))\n",
    "\n",
    "# plt.plot ( range(1 , len(X_t)) , train_error , \"r--\" , label = \"Training_error \")\n",
    "# plt.plot( range( 1 , len(X_t)) , val_error , \"b--\" , label = \"Validation_error\")\n",
    "# plt.show()\n",
    "\n",
    "# ''' Highly Overfitting - Without removing the dataset '''"
   ]
  },
  {
   "cell_type": "code",
   "execution_count": 111,
   "metadata": {},
   "outputs": [
    {
     "name": "stdout",
     "output_type": "stream",
     "text": [
      "-2.128695117532298e+20\n"
     ]
    },
    {
     "data": {
      "text/plain": [
       "'  From R2 Score , we infer - SGD Regression  Model '"
      ]
     },
     "execution_count": 111,
     "metadata": {},
     "output_type": "execute_result"
    }
   ],
   "source": [
    "from sklearn.metrics import r2_score\n",
    "\n",
    "print( r2_score ( y_qq , y_hat_elas ))\n",
    "\n",
    "'''  From R2 Score , we infer - SGD Regression  Model '''"
   ]
  },
  {
   "cell_type": "code",
   "execution_count": 112,
   "metadata": {},
   "outputs": [
    {
     "data": {
      "text/plain": [
       "(20674, 993)"
      ]
     },
     "execution_count": 112,
     "metadata": {},
     "output_type": "execute_result"
    }
   ],
   "source": [
    "X_q.shape"
   ]
  },
  {
   "cell_type": "code",
   "execution_count": 113,
   "metadata": {},
   "outputs": [
    {
     "data": {
      "text/html": [
       "<style>#sk-container-id-4 {color: black;}#sk-container-id-4 pre{padding: 0;}#sk-container-id-4 div.sk-toggleable {background-color: white;}#sk-container-id-4 label.sk-toggleable__label {cursor: pointer;display: block;width: 100%;margin-bottom: 0;padding: 0.3em;box-sizing: border-box;text-align: center;}#sk-container-id-4 label.sk-toggleable__label-arrow:before {content: \"▸\";float: left;margin-right: 0.25em;color: #696969;}#sk-container-id-4 label.sk-toggleable__label-arrow:hover:before {color: black;}#sk-container-id-4 div.sk-estimator:hover label.sk-toggleable__label-arrow:before {color: black;}#sk-container-id-4 div.sk-toggleable__content {max-height: 0;max-width: 0;overflow: hidden;text-align: left;background-color: #f0f8ff;}#sk-container-id-4 div.sk-toggleable__content pre {margin: 0.2em;color: black;border-radius: 0.25em;background-color: #f0f8ff;}#sk-container-id-4 input.sk-toggleable__control:checked~div.sk-toggleable__content {max-height: 200px;max-width: 100%;overflow: auto;}#sk-container-id-4 input.sk-toggleable__control:checked~label.sk-toggleable__label-arrow:before {content: \"▾\";}#sk-container-id-4 div.sk-estimator input.sk-toggleable__control:checked~label.sk-toggleable__label {background-color: #d4ebff;}#sk-container-id-4 div.sk-label input.sk-toggleable__control:checked~label.sk-toggleable__label {background-color: #d4ebff;}#sk-container-id-4 input.sk-hidden--visually {border: 0;clip: rect(1px 1px 1px 1px);clip: rect(1px, 1px, 1px, 1px);height: 1px;margin: -1px;overflow: hidden;padding: 0;position: absolute;width: 1px;}#sk-container-id-4 div.sk-estimator {font-family: monospace;background-color: #f0f8ff;border: 1px dotted black;border-radius: 0.25em;box-sizing: border-box;margin-bottom: 0.5em;}#sk-container-id-4 div.sk-estimator:hover {background-color: #d4ebff;}#sk-container-id-4 div.sk-parallel-item::after {content: \"\";width: 100%;border-bottom: 1px solid gray;flex-grow: 1;}#sk-container-id-4 div.sk-label:hover label.sk-toggleable__label {background-color: #d4ebff;}#sk-container-id-4 div.sk-serial::before {content: \"\";position: absolute;border-left: 1px solid gray;box-sizing: border-box;top: 0;bottom: 0;left: 50%;z-index: 0;}#sk-container-id-4 div.sk-serial {display: flex;flex-direction: column;align-items: center;background-color: white;padding-right: 0.2em;padding-left: 0.2em;position: relative;}#sk-container-id-4 div.sk-item {position: relative;z-index: 1;}#sk-container-id-4 div.sk-parallel {display: flex;align-items: stretch;justify-content: center;background-color: white;position: relative;}#sk-container-id-4 div.sk-item::before, #sk-container-id-4 div.sk-parallel-item::before {content: \"\";position: absolute;border-left: 1px solid gray;box-sizing: border-box;top: 0;bottom: 0;left: 50%;z-index: -1;}#sk-container-id-4 div.sk-parallel-item {display: flex;flex-direction: column;z-index: 1;position: relative;background-color: white;}#sk-container-id-4 div.sk-parallel-item:first-child::after {align-self: flex-end;width: 50%;}#sk-container-id-4 div.sk-parallel-item:last-child::after {align-self: flex-start;width: 50%;}#sk-container-id-4 div.sk-parallel-item:only-child::after {width: 0;}#sk-container-id-4 div.sk-dashed-wrapped {border: 1px dashed gray;margin: 0 0.4em 0.5em 0.4em;box-sizing: border-box;padding-bottom: 0.4em;background-color: white;}#sk-container-id-4 div.sk-label label {font-family: monospace;font-weight: bold;display: inline-block;line-height: 1.2em;}#sk-container-id-4 div.sk-label-container {text-align: center;}#sk-container-id-4 div.sk-container {/* jupyter's `normalize.less` sets `[hidden] { display: none; }` but bootstrap.min.css set `[hidden] { display: none !important; }` so we also need the `!important` here to be able to override the default hidden behavior on the sphinx rendered scikit-learn.org. See: https://github.com/scikit-learn/scikit-learn/issues/21755 */display: inline-block !important;position: relative;}#sk-container-id-4 div.sk-text-repr-fallback {display: none;}</style><div id=\"sk-container-id-4\" class=\"sk-top-container\"><div class=\"sk-text-repr-fallback\"><pre>SVR()</pre><b>In a Jupyter environment, please rerun this cell to show the HTML representation or trust the notebook. <br />On GitHub, the HTML representation is unable to render, please try loading this page with nbviewer.org.</b></div><div class=\"sk-container\" hidden><div class=\"sk-item\"><div class=\"sk-estimator sk-toggleable\"><input class=\"sk-toggleable__control sk-hidden--visually\" id=\"sk-estimator-id-4\" type=\"checkbox\" checked><label for=\"sk-estimator-id-4\" class=\"sk-toggleable__label sk-toggleable__label-arrow\">SVR</label><div class=\"sk-toggleable__content\"><pre>SVR()</pre></div></div></div></div></div>"
      ],
      "text/plain": [
       "SVR()"
      ]
     },
     "execution_count": 113,
     "metadata": {},
     "output_type": "execute_result"
    }
   ],
   "source": [
    "from sklearn.svm import SVR\n",
    "\n",
    "# fit a NOn Linear Regression model on data\n",
    "''' Radial Basis FUnction Kernel '''\n",
    "\n",
    "svr_rbf = SVR(  kernel=\"rbf\" )\n",
    "# do wide margin regression \n",
    "svr_rbf.fit( X_train , y_train)"
   ]
  },
  {
   "cell_type": "code",
   "execution_count": 114,
   "metadata": {},
   "outputs": [
    {
     "name": "stdout",
     "output_type": "stream",
     "text": [
      " The trainin error RMSE for SVR  with simialrity function of RBF Model  -103099.0761218269\n"
     ]
    }
   ],
   "source": [
    "''' RMSE training error'''\n",
    "y_train_rbf = svr_rbf.predict( X_train )\n",
    "\n",
    "score_rbf  = np.sqrt(mean_squared_error( y_train  , y_train_rbf) )\n",
    "\n",
    "print( f\" The trainin error RMSE for SVR  with simialrity function of RBF Model  -{score_rbf}\")"
   ]
  },
  {
   "cell_type": "code",
   "execution_count": 115,
   "metadata": {},
   "outputs": [],
   "source": [
    "# # fit a NOn Linear Regression model on data\n",
    "# ''' Poly Kernel '''\n",
    "\n",
    "# svr_poly = SVR(  kernel=\"poly\" )\n",
    "\n",
    "# svr_poly.fit( X_train , y_train)"
   ]
  },
  {
   "cell_type": "code",
   "execution_count": 116,
   "metadata": {},
   "outputs": [],
   "source": [
    "# ''' Linear SVM , ( fitting amargin , wide street Find ANother form of trainig error , cross validation score '''\n",
    "\n",
    "\n",
    "# score = cross_val_score( Lin_svm , X_train , y_train , cv = 5  , scoring = \"neg_mean_squared_error\" )\n",
    "\n",
    "# print(score)\n",
    "\n",
    "# print( f\" The average of these Negative mean squared error in cross validation is {score.mean()}\")\n",
    "# ''' nearer to 0 ( negative MSE ) is good '''\n"
   ]
  },
  {
   "cell_type": "code",
   "execution_count": 117,
   "metadata": {},
   "outputs": [],
   "source": [
    "y_pred_rbf = svr_rbf.predict( X_test )\n"
   ]
  },
  {
   "cell_type": "code",
   "execution_count": 118,
   "metadata": {},
   "outputs": [],
   "source": [
    "# y_pred_svr = svr.predict( X_test )\n"
   ]
  },
  {
   "cell_type": "code",
   "execution_count": 119,
   "metadata": {},
   "outputs": [
    {
     "name": "stdout",
     "output_type": "stream",
     "text": [
      " THe testing error(MSE) for SVR RBF for non linear regresion (before fine tuning) is = 10632717236.077177 \n"
     ]
    }
   ],
   "source": [
    "''' Testing error '''\n",
    "\n",
    "test_error_rbf = mean_squared_error( y_test , y_pred_rbf )\n",
    "\n",
    "print(f\" THe testing error(MSE) for SVR RBF for non linear regresion (before fine tuning) is = {test_error_rbf} \")\n"
   ]
  },
  {
   "cell_type": "code",
   "execution_count": 120,
   "metadata": {},
   "outputs": [],
   "source": [
    "# ''' Testing error '''\n",
    "\n",
    "# test_error = mean_squared_error( y_test , y_pred_svr )\n",
    "\n",
    "# print(f\" THe testing error(MSE) for SVR  model(before fine tuning) is = {test_error} \")\n",
    "\n",
    "# ''' Inference , testing error too high ( Very Wrong Predictions )'''"
   ]
  },
  {
   "cell_type": "code",
   "execution_count": 121,
   "metadata": {},
   "outputs": [
    {
     "name": "stdout",
     "output_type": "stream",
     "text": [
      " R2 score for  SVM Non Linear Regressor is -1.5588234887342622e-06\n"
     ]
    },
    {
     "data": {
      "text/plain": [
       "'  Alittle Better'"
      ]
     },
     "execution_count": 121,
     "metadata": {},
     "output_type": "execute_result"
    }
   ],
   "source": [
    "score = r2_score( y_test , y_pred_rbf)\n",
    "\n",
    "print( f\" R2 score for  SVM Non Linear Regressor is {score}\")\n",
    "'''  Alittle Better'''"
   ]
  },
  {
   "cell_type": "code",
   "execution_count": 122,
   "metadata": {},
   "outputs": [],
   "source": [
    "# score = r2_score( y_test , y_pred_svm)\n",
    "\n",
    "# print( f\" R2 score for linear SVM Regressor is {score}\")\n",
    "# '''  Alittle Better'''"
   ]
  },
  {
   "cell_type": "code",
   "execution_count": 127,
   "metadata": {},
   "outputs": [
    {
     "data": {
      "text/plain": [
       "153561.50028460572"
      ]
     },
     "execution_count": 127,
     "metadata": {},
     "output_type": "execute_result"
    }
   ],
   "source": [
    "svr_rbf.predict(X_train[:1])[0]"
   ]
  },
  {
   "cell_type": "code",
   "execution_count": 128,
   "metadata": {},
   "outputs": [],
   "source": [
    "''' Making Ensemble of HYperparam Tuned Model '''\n",
    "\n",
    "def transaction_predictor( x ):\n",
    "    # x - feature instance \n",
    "    pred1 = forest_reg.predict( x)\n",
    "    pred2 = sgd.predict( x)\n",
    "    pred3 = svr_rbf.predict( x)\n",
    "\n",
    "    return (pred1+pred2+pred3)/3\n"
   ]
  },
  {
   "cell_type": "code",
   "execution_count": 129,
   "metadata": {},
   "outputs": [
    {
     "data": {
      "text/plain": [
       "-1.6907279205073705e+19"
      ]
     },
     "execution_count": 129,
     "metadata": {},
     "output_type": "execute_result"
    }
   ],
   "source": [
    "y_t = transaction_predictor( X_test )\n",
    "\n",
    "\n",
    "r2_score( y_test , y_t )"
   ]
  },
  {
   "cell_type": "code",
   "execution_count": 134,
   "metadata": {},
   "outputs": [],
   "source": [
    "data.to_csv(\"df1.csv\")"
   ]
  },
  {
   "cell_type": "code",
   "execution_count": null,
   "metadata": {},
   "outputs": [
    {
     "data": {
      "text/plain": [
       "' Pickling the Model and Running the Streamlit function '"
      ]
     },
     "execution_count": 131,
     "metadata": {},
     "output_type": "execute_result"
    }
   ],
   "source": [
    "''' Pickling the Model and Running the Streamlit function '''\n",
    "\n",
    "# with open('forest_reg.pkl', 'wb') as file:\n",
    "#     pickle.dump(forest_reg, file)\n",
    "\n",
    "# import streamlit as st \n",
    "# # !streamlit run test.py "
   ]
  },
  {
   "cell_type": "code",
   "execution_count": 132,
   "metadata": {},
   "outputs": [
    {
     "data": {
      "text/plain": [
       "-2.9341940460496638e+19"
      ]
     },
     "execution_count": 132,
     "metadata": {},
     "output_type": "execute_result"
    }
   ],
   "source": [
    "y_t1 = transaction_predictor( X_test[-10:] )\n",
    "\n",
    "r2_score( y_test[-10:] , y_t1 )"
   ]
  },
  {
   "cell_type": "code",
   "execution_count": null,
   "metadata": {},
   "outputs": [
    {
     "data": {
      "text/plain": [
       "(20841,)"
      ]
     },
     "execution_count": 245,
     "metadata": {},
     "output_type": "execute_result"
    }
   ],
   "source": [
    "y_train.shape"
   ]
  },
  {
   "cell_type": "code",
   "execution_count": null,
   "metadata": {},
   "outputs": [],
   "source": []
  }
 ],
 "metadata": {
  "kernelspec": {
   "display_name": "Python 3",
   "language": "python",
   "name": "python3"
  },
  "language_info": {
   "codemirror_mode": {
    "name": "ipython",
    "version": 3
   },
   "file_extension": ".py",
   "mimetype": "text/x-python",
   "name": "python",
   "nbconvert_exporter": "python",
   "pygments_lexer": "ipython3",
   "version": "3.8.2"
  }
 },
 "nbformat": 4,
 "nbformat_minor": 2
}
