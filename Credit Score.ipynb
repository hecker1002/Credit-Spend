{
 "cells": [
  {
   "cell_type": "code",
   "execution_count": 172,
   "metadata": {},
   "outputs": [],
   "source": [
    "import numpy as np \n",
    "import pandas as pd \n",
    "import matplotlib.pyplot as plt \n",
    "import seaborn as sns \n",
    "from mpl_toolkits import mplot3d\n",
    "import pickle # convert model into bytestream\n",
    "\n",
    "pd.options.mode.chained_assignment = None "
   ]
  },
  {
   "cell_type": "code",
   "execution_count": 173,
   "metadata": {},
   "outputs": [],
   "source": [
    "data = pd.read_csv('D:\\This Project\\Credit Spend\\CreditCards.csv')"
   ]
  },
  {
   "cell_type": "code",
   "execution_count": 174,
   "metadata": {},
   "outputs": [
    {
     "data": {
      "text/plain": [
       "' \\ngiven ->> amount of transaction at one go for a person \\n\\nAim ->  to predict transaction for a person in particular month , gender , card type \\n\\n    -> cluster customers based on card type , amount and gender and give reminder of saving and amount to\\n save to customers spending more frequently \\n\\n \\nNEW AIMS - Include YOur Knowledge about Quants( how Credits , Equities work in market ) \\n      -  Also uae a RNN to analyze transctino amnt of indiviudla users and do future prediction basedon prev transaction (RNN)\\n'"
      ]
     },
     "execution_count": 174,
     "metadata": {},
     "output_type": "execute_result"
    }
   ],
   "source": [
    "''' \n",
    "given ->> amount of transaction at one go for a person \n",
    "\n",
    "Aim ->  to predict transaction for a person in particular month , gender , card type \n",
    "\n",
    "    -> cluster customers based on card type , amount and gender and give reminder of saving and amount to\n",
    " save to customers spending more frequently \n",
    "\n",
    " \n",
    "NEW AIMS - Include YOur Knowledge about Quants( how Credits , Equities work in market ) \n",
    "      -  Also uae a RNN to analyze transctino amnt of indiviudla users and do future prediction basedon prev transaction (RNN)\n",
    "'''"
   ]
  },
  {
   "cell_type": "code",
   "execution_count": 175,
   "metadata": {},
   "outputs": [
    {
     "name": "stdout",
     "output_type": "stream",
     "text": [
      "<class 'pandas.core.frame.DataFrame'>\n",
      "RangeIndex: 26054 entries, 0 to 26053\n",
      "Data columns (total 9 columns):\n",
      " #   Column     Non-Null Count  Dtype  \n",
      "---  ------     --------------  -----  \n",
      " 0   index      26052 non-null  float64\n",
      " 1   City       26052 non-null  object \n",
      " 2   Date       26054 non-null  object \n",
      " 3   Card Type  26052 non-null  object \n",
      " 4   Exp Type   26052 non-null  object \n",
      " 5   Gender     26052 non-null  object \n",
      " 6   Amount     26052 non-null  float64\n",
      " 7   Year       26052 non-null  float64\n",
      " 8   Month      26052 non-null  object \n",
      "dtypes: float64(3), object(6)\n",
      "memory usage: 1.8+ MB\n"
     ]
    }
   ],
   "source": [
    "data.info()\n",
    "\n",
    "''' 2 rows are empty '''\n",
    "\n",
    "data.dropna( inplace = True )"
   ]
  },
  {
   "cell_type": "code",
   "execution_count": 176,
   "metadata": {},
   "outputs": [
    {
     "data": {
      "text/plain": [
       "'  Numericla attributes only'"
      ]
     },
     "execution_count": 176,
     "metadata": {},
     "output_type": "execute_result"
    }
   ],
   "source": [
    "data.describe() \n",
    "'''  Numericla attributes only'''"
   ]
  },
  {
   "cell_type": "code",
   "execution_count": 177,
   "metadata": {},
   "outputs": [],
   "source": [
    "''' Removing 'India' name from City  and adding a new field of cities '''\n",
    "\n",
    "\n",
    "def extract_city ( col ) :\n",
    "    cities = []\n",
    "    rows = len(col) \n",
    "    for i in range(rows ) :\n",
    "\n",
    "        st = data.loc[i]['City']\n",
    "        city = st.split(',')[0]\n",
    "        cities.append(city )\n",
    "    \n",
    "    return cities \n",
    "\n",
    "cities = extract_city( data['City'])\n",
    "\n",
    "data.drop( 'City' , axis=1 , inplace= True )"
   ]
  },
  {
   "cell_type": "code",
   "execution_count": 178,
   "metadata": {},
   "outputs": [],
   "source": [
    "'''  Adding this new field of only cities ''' \n",
    "\n",
    "data['Cities'] = cities \n"
   ]
  },
  {
   "cell_type": "code",
   "execution_count": 179,
   "metadata": {},
   "outputs": [],
   "source": [
    "''' Dropping the Date & Index Column since Month ( festivities) are already given '''\n",
    "\n",
    "data = data.drop( ['Date' , 'index' ] , axis = 1 )\n"
   ]
  },
  {
   "cell_type": "code",
   "execution_count": 180,
   "metadata": {},
   "outputs": [
    {
     "data": {
      "text/html": [
       "<div>\n",
       "<style scoped>\n",
       "    .dataframe tbody tr th:only-of-type {\n",
       "        vertical-align: middle;\n",
       "    }\n",
       "\n",
       "    .dataframe tbody tr th {\n",
       "        vertical-align: top;\n",
       "    }\n",
       "\n",
       "    .dataframe thead th {\n",
       "        text-align: right;\n",
       "    }\n",
       "</style>\n",
       "<table border=\"1\" class=\"dataframe\">\n",
       "  <thead>\n",
       "    <tr style=\"text-align: right;\">\n",
       "      <th></th>\n",
       "      <th>Card Type</th>\n",
       "      <th>Exp Type</th>\n",
       "      <th>Gender</th>\n",
       "      <th>Amount</th>\n",
       "      <th>Year</th>\n",
       "      <th>Month</th>\n",
       "      <th>Cities</th>\n",
       "    </tr>\n",
       "  </thead>\n",
       "  <tbody>\n",
       "    <tr>\n",
       "      <th>0</th>\n",
       "      <td>Gold</td>\n",
       "      <td>Bills</td>\n",
       "      <td>F</td>\n",
       "      <td>82475.0</td>\n",
       "      <td>2014.0</td>\n",
       "      <td>October</td>\n",
       "      <td>Delhi</td>\n",
       "    </tr>\n",
       "    <tr>\n",
       "      <th>1</th>\n",
       "      <td>Platinum</td>\n",
       "      <td>Bills</td>\n",
       "      <td>F</td>\n",
       "      <td>32555.0</td>\n",
       "      <td>2014.0</td>\n",
       "      <td>August</td>\n",
       "      <td>Greater Mumbai</td>\n",
       "    </tr>\n",
       "    <tr>\n",
       "      <th>2</th>\n",
       "      <td>Silver</td>\n",
       "      <td>Bills</td>\n",
       "      <td>F</td>\n",
       "      <td>101738.0</td>\n",
       "      <td>2014.0</td>\n",
       "      <td>August</td>\n",
       "      <td>Bengaluru</td>\n",
       "    </tr>\n",
       "    <tr>\n",
       "      <th>3</th>\n",
       "      <td>Signature</td>\n",
       "      <td>Bills</td>\n",
       "      <td>F</td>\n",
       "      <td>123424.0</td>\n",
       "      <td>2014.0</td>\n",
       "      <td>April</td>\n",
       "      <td>Greater Mumbai</td>\n",
       "    </tr>\n",
       "    <tr>\n",
       "      <th>4</th>\n",
       "      <td>Gold</td>\n",
       "      <td>Bills</td>\n",
       "      <td>F</td>\n",
       "      <td>171574.0</td>\n",
       "      <td>2015.0</td>\n",
       "      <td>May</td>\n",
       "      <td>Bengaluru</td>\n",
       "    </tr>\n",
       "  </tbody>\n",
       "</table>\n",
       "</div>"
      ],
      "text/plain": [
       "   Card Type Exp Type Gender    Amount    Year    Month          Cities\n",
       "0       Gold    Bills      F   82475.0  2014.0  October           Delhi\n",
       "1   Platinum    Bills      F   32555.0  2014.0   August  Greater Mumbai\n",
       "2     Silver    Bills      F  101738.0  2014.0   August       Bengaluru\n",
       "3  Signature    Bills      F  123424.0  2014.0    April  Greater Mumbai\n",
       "4       Gold    Bills      F  171574.0  2015.0      May       Bengaluru"
      ]
     },
     "execution_count": 180,
     "metadata": {},
     "output_type": "execute_result"
    }
   ],
   "source": [
    "data.head()"
   ]
  },
  {
   "cell_type": "code",
   "execution_count": 181,
   "metadata": {},
   "outputs": [
    {
     "name": "stdout",
     "output_type": "stream",
     "text": [
      " Per month , there have been , Average 2171.0 transactions \n"
     ]
    }
   ],
   "source": [
    "''' Some inferences from the RAW dataset '''\n",
    "\n",
    "'''  Average amount of transactions per month '''\n",
    "\n",
    "avg_trans_month = len( data['Amount']) / 12 \n",
    "\n",
    "print( f\" Per month , there have been , Average {avg_trans_month} transactions \" )\n",
    "\n"
   ]
  },
  {
   "cell_type": "code",
   "execution_count": 182,
   "metadata": {},
   "outputs": [
    {
     "data": {
      "text/html": [
       "<div>\n",
       "<style scoped>\n",
       "    .dataframe tbody tr th:only-of-type {\n",
       "        vertical-align: middle;\n",
       "    }\n",
       "\n",
       "    .dataframe tbody tr th {\n",
       "        vertical-align: top;\n",
       "    }\n",
       "\n",
       "    .dataframe thead th {\n",
       "        text-align: right;\n",
       "    }\n",
       "</style>\n",
       "<table border=\"1\" class=\"dataframe\">\n",
       "  <thead>\n",
       "    <tr style=\"text-align: right;\">\n",
       "      <th></th>\n",
       "      <th>Card Type</th>\n",
       "      <th>Exp Type</th>\n",
       "      <th>Gender</th>\n",
       "      <th>Amount</th>\n",
       "      <th>Year</th>\n",
       "      <th>Month</th>\n",
       "      <th>Cities</th>\n",
       "    </tr>\n",
       "  </thead>\n",
       "  <tbody>\n",
       "    <tr>\n",
       "      <th>0</th>\n",
       "      <td>Gold</td>\n",
       "      <td>Bills</td>\n",
       "      <td>F</td>\n",
       "      <td>82475.0</td>\n",
       "      <td>2014.0</td>\n",
       "      <td>October</td>\n",
       "      <td>Delhi</td>\n",
       "    </tr>\n",
       "    <tr>\n",
       "      <th>1</th>\n",
       "      <td>Platinum</td>\n",
       "      <td>Bills</td>\n",
       "      <td>F</td>\n",
       "      <td>32555.0</td>\n",
       "      <td>2014.0</td>\n",
       "      <td>August</td>\n",
       "      <td>Greater Mumbai</td>\n",
       "    </tr>\n",
       "    <tr>\n",
       "      <th>2</th>\n",
       "      <td>Silver</td>\n",
       "      <td>Bills</td>\n",
       "      <td>F</td>\n",
       "      <td>101738.0</td>\n",
       "      <td>2014.0</td>\n",
       "      <td>August</td>\n",
       "      <td>Bengaluru</td>\n",
       "    </tr>\n",
       "    <tr>\n",
       "      <th>3</th>\n",
       "      <td>Signature</td>\n",
       "      <td>Bills</td>\n",
       "      <td>F</td>\n",
       "      <td>123424.0</td>\n",
       "      <td>2014.0</td>\n",
       "      <td>April</td>\n",
       "      <td>Greater Mumbai</td>\n",
       "    </tr>\n",
       "    <tr>\n",
       "      <th>4</th>\n",
       "      <td>Gold</td>\n",
       "      <td>Bills</td>\n",
       "      <td>F</td>\n",
       "      <td>171574.0</td>\n",
       "      <td>2015.0</td>\n",
       "      <td>May</td>\n",
       "      <td>Bengaluru</td>\n",
       "    </tr>\n",
       "  </tbody>\n",
       "</table>\n",
       "</div>"
      ],
      "text/plain": [
       "   Card Type Exp Type Gender    Amount    Year    Month          Cities\n",
       "0       Gold    Bills      F   82475.0  2014.0  October           Delhi\n",
       "1   Platinum    Bills      F   32555.0  2014.0   August  Greater Mumbai\n",
       "2     Silver    Bills      F  101738.0  2014.0   August       Bengaluru\n",
       "3  Signature    Bills      F  123424.0  2014.0    April  Greater Mumbai\n",
       "4       Gold    Bills      F  171574.0  2015.0      May       Bengaluru"
      ]
     },
     "execution_count": 182,
     "metadata": {},
     "output_type": "execute_result"
    }
   ],
   "source": [
    "data.head()"
   ]
  },
  {
   "cell_type": "code",
   "execution_count": 183,
   "metadata": {},
   "outputs": [
    {
     "data": {
      "image/png": "[encoded data removed]",
      "text/plain": [
       "<Figure size 1200x500 with 1 Axes>"
      ]
     },
     "metadata": {},
     "output_type": "display_data"
    }
   ],
   "source": [
    "'''  Seeinf Expense made  MOnth-Wise '''\n",
    "\n",
    "data['Month'].hist(bins  =50 ,  figsize  = (12 , 5))\n",
    "plt.show()"
   ]
  },
  {
   "cell_type": "code",
   "execution_count": 184,
   "metadata": {},
   "outputs": [
    {
     "data": {
      "image/png": "[encoded data removed]",
      "text/plain": [
       "<Figure size 640x480 with 1 Axes>"
      ]
     },
     "metadata": {},
     "output_type": "display_data"
    },
    {
     "data": {
      "text/plain": [
       "Card Type\n",
       "Silver       6840\n",
       "Signature    6447\n",
       "Platinum     6398\n",
       "Gold         6367\n",
       "Name: count, dtype: int64"
      ]
     },
     "execution_count": 184,
     "metadata": {},
     "output_type": "execute_result"
    }
   ],
   "source": [
    "data.plot( kind  = 'scatter' , x = 'Card Type' , y = 'Amount')\n",
    "\n",
    "plt.show()\n",
    "\n",
    "data['Card Type'].value_counts()"
   ]
  },
  {
   "cell_type": "code",
   "execution_count": 185,
   "metadata": {},
   "outputs": [
    {
     "data": {
      "image/png": "[encoded data removed]",
      "text/plain": [
       "<Figure size 640x480 with 1 Axes>"
      ]
     },
     "metadata": {},
     "output_type": "display_data"
    },
    {
     "data": {
      "text/plain": [
       "' HIhest Amount of Transactions have been made from the Platinum Card > Gold Card \\nInference -> Seems Platinum Card is More Powerful .\\n'"
      ]
     },
     "execution_count": 185,
     "metadata": {},
     "output_type": "execute_result"
    }
   ],
   "source": [
    "''' More than 5.0 lakh ruppes transaction from the Card Type '''\n",
    "\n",
    "df2 = data[  data['Amount'] >= 500000]\n",
    "\n",
    "df2.plot( kind  = 'scatter' , x = 'Card Type' , y = 'Amount')\n",
    "\n",
    "plt.show()\n",
    "\n",
    "df2['Card Type'].value_counts()\n",
    "\n",
    "''' HIhest Amount of Transactions have been made from the Platinum Card > Gold Card \n",
    "Inference -> Seems Platinum Card is More Powerful .\n",
    "'''\n"
   ]
  },
  {
   "cell_type": "code",
   "execution_count": 186,
   "metadata": {},
   "outputs": [
    {
     "data": {
      "text/plain": [
       "' Inference  -  1 LAkh to 3 Lakhs transactions are highest '"
      ]
     },
     "execution_count": 186,
     "metadata": {},
     "output_type": "execute_result"
    },
    {
     "data": {
      "image/png": "[encoded data removed]",
      "text/plain": [
       "<Figure size 640x480 with 1 Axes>"
      ]
     },
     "metadata": {},
     "output_type": "display_data"
    }
   ],
   "source": [
    "''' Categorise the Amount of Transaction and see Which range amount has been drawn more '''\n",
    "data1 = data.copy()\n",
    "data1['Amount'] = pd.cut( data1['Amount'] , bins = [ 0 , 100000 ,  200000 ,  300000 ,  400000 ,  500000 ,  600000 ,  700000 ,  800000 ,  900000 , np.inf] ,\n",
    "                          labels = [1,2,3,4,5,6,7,8,9,10])\n",
    "data1['Amount'].hist( bins = 20 )\n",
    "\n",
    "''' Inference  -  1 LAkh to 3 Lakhs transactions are highest '''"
   ]
  },
  {
   "cell_type": "code",
   "execution_count": 187,
   "metadata": {},
   "outputs": [],
   "source": [
    "''' Dummy data '''\n",
    "dummy = data.copy() \n"
   ]
  },
  {
   "cell_type": "code",
   "execution_count": 188,
   "metadata": {},
   "outputs": [],
   "source": [
    "'''  Standarizing the amount Data ( making variance  = 1) and seeing its dsitrbution )( Amount  -> Continuous Random Variable )'''\n",
    "\n",
    "from sklearn.preprocessing import StandardScaler \n",
    "\n",
    "std_scale = StandardScaler()\n",
    "\n",
    "dummy['Amount']  = std_scale.fit_transform( dummy[['Amount']])\n",
    "\n"
   ]
  },
  {
   "cell_type": "code",
   "execution_count": 189,
   "metadata": {},
   "outputs": [
    {
     "data": {
      "image/png": "[encoded data removed]",
      "text/plain": [
       "<Figure size 640x480 with 1 Axes>"
      ]
     },
     "metadata": {},
     "output_type": "display_data"
    },
    {
     "data": {
      "text/plain": [
       "' pdf is higly skewed ( right / positive skewed ) Since people exxpending high Amount of money is usually less in a normal society \\nmost are middle class ( mean > median) , so use median to represent data since its least affected by outliers or spread of data  '"
      ]
     },
     "execution_count": 189,
     "metadata": {},
     "output_type": "execute_result"
    }
   ],
   "source": [
    "''' Visualizing the pdf of Scaled Amount  '''\n",
    "\n",
    "dummy['Amount'].hist ( bins  = 100 )\n",
    "plt.show()\n",
    "\n",
    "''' pdf is higly skewed ( right / positive skewed ) Since people exxpending high Amount of money is usually less in a normal society \n",
    "most are middle class ( mean > median) , so use median to represent data since its least affected by outliers or spread of data  '''"
   ]
  },
  {
   "cell_type": "code",
   "execution_count": 190,
   "metadata": {},
   "outputs": [],
   "source": [
    "'''  Use Ordinal Encoder to encode Months , since they have rwaaltion b/w them  '''\n",
    "from sklearn.preprocessing import OrdinalEncoder\n",
    "\n",
    "\n",
    "def ordinal_encode( col , data , newColName   ) : \n",
    "    ord_encode = OrdinalEncoder()\n",
    "    newCol = ord_encode.fit_transform( data[[ col ]])\n",
    "    newCols   = pd.DataFrame ( newCol, columns  = [ newColName] )\n",
    "    data  = pd.concat( [data , newCols ] , axis =1 )\n",
    "    data = data.drop( col  , axis = 1 )\n",
    "    return data \n",
    "\n",
    "data  = ordinal_encode( 'Month' , data , 'Months' )\n",
    "data = ordinal_encode('Gender' , data , 'Genders')\n",
    "\n",
    "data = ordinal_encode( 'Exp Type' , data  , 'Exp Type')"
   ]
  },
  {
   "cell_type": "code",
   "execution_count": 191,
   "metadata": {},
   "outputs": [
    {
     "name": "stderr",
     "output_type": "stream",
     "text": [
      "C:\\Users\\HP\\AppData\\Roaming\\Python\\Python38\\site-packages\\sklearn\\preprocessing\\_encoders.py:972: FutureWarning: `sparse` was renamed to `sparse_output` in version 1.2 and will be removed in 1.4. `sparse_output` is ignored unless you leave `sparse` to its default value.\n",
      "  warnings.warn(\n",
      "C:\\Users\\HP\\AppData\\Roaming\\Python\\Python38\\site-packages\\sklearn\\preprocessing\\_encoders.py:972: FutureWarning: `sparse` was renamed to `sparse_output` in version 1.2 and will be removed in 1.4. `sparse_output` is ignored unless you leave `sparse` to its default value.\n",
      "  warnings.warn(\n"
     ]
    }
   ],
   "source": [
    "'''Doing Onr-Hot-encoding on the cattegorical data ( Card , Gender  )'''\n",
    "\n",
    "from sklearn.preprocessing import OneHotEncoder \n",
    "\n",
    "\n",
    "def one_hot_encode ( col , data ) :\n",
    "    encoder = OneHotEncoder( sparse = False )\n",
    "    df1 = encoder.fit_transform( data[[ col ]] )\n",
    "    encoded_df = pd.DataFrame ( df1 , columns  = encoder.categories_)\n",
    "    data = pd.concat( [ encoded_df , data ] , axis =1 )\n",
    "    data.drop( [ col ] , axis =1 , inplace = True )\n",
    "    return data \n",
    "\n",
    "\n",
    "data = one_hot_encode( 'Card Type' , data )\n",
    "data  = one_hot_encode( 'Cities' , data )\n",
    "\n"
   ]
  },
  {
   "cell_type": "code",
   "execution_count": 192,
   "metadata": {},
   "outputs": [
    {
     "data": {
      "image/png": "[encoded data removed]",
      "text/plain": [
       "<Figure size 640x480 with 2 Axes>"
      ]
     },
     "metadata": {},
     "output_type": "display_data"
    },
    {
     "name": "stdout",
     "output_type": "stream",
     "text": [
      "(Achalpur,)     0.003987\n",
      "(Adilabad,)     0.003904\n",
      "(Adityapur,)    0.000626\n",
      "(Adoni,)        0.003360\n",
      "(Adoor,)       -0.010161\n",
      "                  ...   \n",
      "(Silver,)      -0.000204\n",
      "Amount          1.000000\n",
      "Year            0.009809\n",
      "Months         -0.007141\n",
      "Genders        -0.048928\n",
      "Name: Amount, Length: 994, dtype: float64\n"
     ]
    }
   ],
   "source": [
    "''' To find the Most important feature , we use Correlation Matrix \n",
    "and find correaltion of Amount( target var) wrt each column \n",
    "'''\n",
    "\n",
    "corr = data.corr()\n",
    "\n",
    "sns.heatmap( corr[['Amount']].transpose()  , vmin = -1 , vmax =1 )\n",
    "\n",
    "plt.show()\n",
    "\n",
    "print( corr['Amount'])"
   ]
  },
  {
   "cell_type": "code",
   "execution_count": 193,
   "metadata": {},
   "outputs": [],
   "source": [
    "'''  Train Test split on the dataset and make sure the test dataset has NO sampling bias ( use Stratified Sampling Technique )\n",
    "     Target Variable -  Amount \n",
    "\n",
    "     and Based on Correaltion matrix , most important features are  -  BIlls and Gender \n",
    "     But by intutuin , I think Months , BIlls and Gender are good features to ccorealte column of Amount with \n",
    "     hence , \n",
    "     Most Important Feature I selected -  Months ( earlier I selected Gender bby intution)\n",
    "\n",
    "     But by Using feature importance of Random Forest and intutuion selected Months \n",
    "\n",
    "     Now , we split the data based on 'Months ' and this column is almost balanced \n",
    "\n",
    "'''\n",
    "\n",
    "''' No nned to categorise since Gender is ALREADY a catgorical column '''\n",
    "'''   Just split the data based on data variation in 'Months' Column  ( hence , NO SAMPLING BIAS )'''\n",
    "\n",
    "from sklearn.model_selection import StratifiedShuffleSplit  # returs the train and test index based on actual variations \n",
    "\n",
    "''' splis =1 ( since ONLY train and  test data )' and generate same train and test indexes everytime ( random_state  = 42 )\n",
    "and use .loc to pick those returned indices \n",
    "'''\n",
    "\n",
    "\n",
    "a = StratifiedShuffleSplit ( n_splits =1  , test_size = 0.1 , random_state= 42 )\n",
    "\n",
    "for train_index , test_index  in a.split( data , data['Months']) :\n",
    "    strat_train_set = data.loc[ train_index ] \n",
    "    strat_test_set = data.loc[ test_index]\n",
    "    \n"
   ]
  },
  {
   "cell_type": "code",
   "execution_count": null,
   "metadata": {},
   "outputs": [],
   "source": []
  },
  {
   "cell_type": "code",
   "execution_count": 194,
   "metadata": {},
   "outputs": [
    {
     "data": {
      "image/png": "[encoded data removed]",
      "text/plain": [
       "<Figure size 640x480 with 1 Axes>"
      ]
     },
     "metadata": {},
     "output_type": "display_data"
    }
   ],
   "source": [
    "''' Set axes system to 3D '''\n",
    "ax= plt.axes( projection = '3d')\n",
    "\n",
    "''' Specify the quantiy on X , Y , Z axes '''\n",
    "\n",
    "x = data['Months'] \n",
    "y = data['Genders']\n",
    "z = data['Amount']\n",
    "\n",
    "''' c =x + y changes color theme . Why ?  '''\n",
    "ax.scatter( x , y , z , c =x + y  )\n",
    "\n",
    "ax.set_xlabel('Months ')\n",
    "ax.set_ylabel('Genders')\n",
    "ax.set_zlabel('Amount')\n",
    "\n",
    "''' Zoomed out to see Z label '''\n",
    "ax.set_box_aspect(aspect=None, zoom=0.8)\n",
    "\n",
    "''' Gender 0 : Female    AND 1: MAle -> Females spent a lot more Money '''\n",
    "\n",
    "plt.show()"
   ]
  },
  {
   "cell_type": "code",
   "execution_count": 195,
   "metadata": {},
   "outputs": [
    {
     "data": {
      "text/plain": [
       "'  Large Number of outliers in Transaction amount but less than novelties ( normal data )\\n\\n   But removing them is NOT a good choice here as they might indicate abnormal transactions ( might also help in fraud detection parallely)\\n   or some transaction for unique part of population \\n   \\n'"
      ]
     },
     "execution_count": 195,
     "metadata": {},
     "output_type": "execute_result"
    },
    {
     "data": {
      "image/png": "[encoded data removed]",
      "text/plain": [
       "<Figure size 640x480 with 1 Axes>"
      ]
     },
     "metadata": {},
     "output_type": "display_data"
    }
   ],
   "source": [
    "''' FInding if there are outliers in the Amount column '''\n",
    "\n",
    "sns.boxplot( data['Amount'])\n",
    "sns.stripplot( data['Amount'] , color  = \"red\" )\n",
    "\n",
    "'''  Large Number of outliers in Transaction amount but less than novelties ( normal data )\n",
    "\n",
    "   But removing them is NOT a good choice here as they might indicate abnormal transactions ( might also help in fraud detection parallely)\n",
    "   or some transaction for unique part of population \n",
    "   \n",
    "'''\n",
    "\n"
   ]
  },
  {
   "cell_type": "code",
   "execution_count": 284,
   "metadata": {},
   "outputs": [
    {
     "data": {
      "text/plain": [
       "' Data_out - Without Outlier DF\\n    Data = With Outlier DF \\n'"
      ]
     },
     "execution_count": 284,
     "metadata": {},
     "output_type": "execute_result"
    }
   ],
   "source": [
    "# ist Quantile \n",
    "q1 = data['Amount'].quantile( 0.25 )\n",
    "#3  quantile \n",
    "q3 = data['Amount'].quantile( 0.75 )\n",
    "\n",
    "iqr = q3 - q1  \n",
    "\n",
    "low_lim = q1 - 1.75* iqr \n",
    "upp_lim = q3 + 1.75*iqr \n",
    "\n",
    "\n",
    "''' Removing Outliers in data   ( OPTIONAL - more experimentation ) '''\n",
    "\n",
    "data_out = data [ data['Amount'] <= upp_lim ]\n",
    "# Sucne , outlier after upper bound \n",
    "#data_out = data_out [ data['Amount'] >= low_lim ]\n",
    "''' Data_out - Without Outlier DF\n",
    "    Data = With Outlier DF \n",
    "'''\n"
   ]
  },
  {
   "cell_type": "code",
   "execution_count": 197,
   "metadata": {},
   "outputs": [
    {
     "data": {
      "text/plain": [
       "(26052, 994)"
      ]
     },
     "execution_count": 197,
     "metadata": {},
     "output_type": "execute_result"
    }
   ],
   "source": [
    "data.shape"
   ]
  },
  {
   "cell_type": "code",
   "execution_count": 198,
   "metadata": {},
   "outputs": [
    {
     "data": {
      "text/plain": [
       "' The Amount column has large varations in the data '"
      ]
     },
     "execution_count": 198,
     "metadata": {},
     "output_type": "execute_result"
    }
   ],
   "source": [
    "''' The Amount column has large varations in the data '''"
   ]
  },
  {
   "cell_type": "code",
   "execution_count": 199,
   "metadata": {},
   "outputs": [
    {
     "data": {
      "text/html": [
       "<div>\n",
       "<style scoped>\n",
       "    .dataframe tbody tr th:only-of-type {\n",
       "        vertical-align: middle;\n",
       "    }\n",
       "\n",
       "    .dataframe tbody tr th {\n",
       "        vertical-align: top;\n",
       "    }\n",
       "\n",
       "    .dataframe thead th {\n",
       "        text-align: right;\n",
       "    }\n",
       "</style>\n",
       "<table border=\"1\" class=\"dataframe\">\n",
       "  <thead>\n",
       "    <tr style=\"text-align: right;\">\n",
       "      <th></th>\n",
       "      <th>(Achalpur,)</th>\n",
       "      <th>(Adilabad,)</th>\n",
       "      <th>(Adityapur,)</th>\n",
       "      <th>(Adoni,)</th>\n",
       "      <th>(Adoor,)</th>\n",
       "      <th>(Afzalpur,)</th>\n",
       "      <th>(Agartala,)</th>\n",
       "      <th>(Agra,)</th>\n",
       "      <th>(Ahmedabad,)</th>\n",
       "      <th>(Ahmednagar,)</th>\n",
       "      <th>...</th>\n",
       "      <th>(Zirakpur,)</th>\n",
       "      <th>(Zunheboto,)</th>\n",
       "      <th>(Gold,)</th>\n",
       "      <th>(Platinum,)</th>\n",
       "      <th>(Signature,)</th>\n",
       "      <th>(Silver,)</th>\n",
       "      <th>Amount</th>\n",
       "      <th>Year</th>\n",
       "      <th>Months</th>\n",
       "      <th>Genders</th>\n",
       "    </tr>\n",
       "  </thead>\n",
       "  <tbody>\n",
       "    <tr>\n",
       "      <th>0</th>\n",
       "      <td>0.0</td>\n",
       "      <td>0.0</td>\n",
       "      <td>0.0</td>\n",
       "      <td>0.0</td>\n",
       "      <td>0.0</td>\n",
       "      <td>0.0</td>\n",
       "      <td>0.0</td>\n",
       "      <td>0.0</td>\n",
       "      <td>0.0</td>\n",
       "      <td>0.0</td>\n",
       "      <td>...</td>\n",
       "      <td>0.0</td>\n",
       "      <td>0.0</td>\n",
       "      <td>1.0</td>\n",
       "      <td>0.0</td>\n",
       "      <td>0.0</td>\n",
       "      <td>0.0</td>\n",
       "      <td>82475.0</td>\n",
       "      <td>2014.0</td>\n",
       "      <td>10.0</td>\n",
       "      <td>0.0</td>\n",
       "    </tr>\n",
       "    <tr>\n",
       "      <th>1</th>\n",
       "      <td>0.0</td>\n",
       "      <td>0.0</td>\n",
       "      <td>0.0</td>\n",
       "      <td>0.0</td>\n",
       "      <td>0.0</td>\n",
       "      <td>0.0</td>\n",
       "      <td>0.0</td>\n",
       "      <td>0.0</td>\n",
       "      <td>0.0</td>\n",
       "      <td>0.0</td>\n",
       "      <td>...</td>\n",
       "      <td>0.0</td>\n",
       "      <td>0.0</td>\n",
       "      <td>0.0</td>\n",
       "      <td>1.0</td>\n",
       "      <td>0.0</td>\n",
       "      <td>0.0</td>\n",
       "      <td>32555.0</td>\n",
       "      <td>2014.0</td>\n",
       "      <td>1.0</td>\n",
       "      <td>0.0</td>\n",
       "    </tr>\n",
       "    <tr>\n",
       "      <th>2</th>\n",
       "      <td>0.0</td>\n",
       "      <td>0.0</td>\n",
       "      <td>0.0</td>\n",
       "      <td>0.0</td>\n",
       "      <td>0.0</td>\n",
       "      <td>0.0</td>\n",
       "      <td>0.0</td>\n",
       "      <td>0.0</td>\n",
       "      <td>0.0</td>\n",
       "      <td>0.0</td>\n",
       "      <td>...</td>\n",
       "      <td>0.0</td>\n",
       "      <td>0.0</td>\n",
       "      <td>0.0</td>\n",
       "      <td>0.0</td>\n",
       "      <td>0.0</td>\n",
       "      <td>1.0</td>\n",
       "      <td>101738.0</td>\n",
       "      <td>2014.0</td>\n",
       "      <td>1.0</td>\n",
       "      <td>0.0</td>\n",
       "    </tr>\n",
       "    <tr>\n",
       "      <th>3</th>\n",
       "      <td>0.0</td>\n",
       "      <td>0.0</td>\n",
       "      <td>0.0</td>\n",
       "      <td>0.0</td>\n",
       "      <td>0.0</td>\n",
       "      <td>0.0</td>\n",
       "      <td>0.0</td>\n",
       "      <td>0.0</td>\n",
       "      <td>0.0</td>\n",
       "      <td>0.0</td>\n",
       "      <td>...</td>\n",
       "      <td>0.0</td>\n",
       "      <td>0.0</td>\n",
       "      <td>0.0</td>\n",
       "      <td>0.0</td>\n",
       "      <td>1.0</td>\n",
       "      <td>0.0</td>\n",
       "      <td>123424.0</td>\n",
       "      <td>2014.0</td>\n",
       "      <td>0.0</td>\n",
       "      <td>0.0</td>\n",
       "    </tr>\n",
       "    <tr>\n",
       "      <th>4</th>\n",
       "      <td>0.0</td>\n",
       "      <td>0.0</td>\n",
       "      <td>0.0</td>\n",
       "      <td>0.0</td>\n",
       "      <td>0.0</td>\n",
       "      <td>0.0</td>\n",
       "      <td>0.0</td>\n",
       "      <td>0.0</td>\n",
       "      <td>0.0</td>\n",
       "      <td>0.0</td>\n",
       "      <td>...</td>\n",
       "      <td>0.0</td>\n",
       "      <td>0.0</td>\n",
       "      <td>1.0</td>\n",
       "      <td>0.0</td>\n",
       "      <td>0.0</td>\n",
       "      <td>0.0</td>\n",
       "      <td>171574.0</td>\n",
       "      <td>2015.0</td>\n",
       "      <td>8.0</td>\n",
       "      <td>0.0</td>\n",
       "    </tr>\n",
       "  </tbody>\n",
       "</table>\n",
       "<p>5 rows × 994 columns</p>\n",
       "</div>"
      ],
      "text/plain": [
       "   (Achalpur,)  (Adilabad,)  (Adityapur,)  (Adoni,)  (Adoor,)  (Afzalpur,)  \\\n",
       "0          0.0          0.0           0.0       0.0       0.0          0.0   \n",
       "1          0.0          0.0           0.0       0.0       0.0          0.0   \n",
       "2          0.0          0.0           0.0       0.0       0.0          0.0   \n",
       "3          0.0          0.0           0.0       0.0       0.0          0.0   \n",
       "4          0.0          0.0           0.0       0.0       0.0          0.0   \n",
       "\n",
       "   (Agartala,)  (Agra,)  (Ahmedabad,)  (Ahmednagar,)  ...  (Zirakpur,)  \\\n",
       "0          0.0      0.0           0.0            0.0  ...          0.0   \n",
       "1          0.0      0.0           0.0            0.0  ...          0.0   \n",
       "2          0.0      0.0           0.0            0.0  ...          0.0   \n",
       "3          0.0      0.0           0.0            0.0  ...          0.0   \n",
       "4          0.0      0.0           0.0            0.0  ...          0.0   \n",
       "\n",
       "   (Zunheboto,)  (Gold,)  (Platinum,)  (Signature,)  (Silver,)    Amount  \\\n",
       "0           0.0      1.0          0.0           0.0        0.0   82475.0   \n",
       "1           0.0      0.0          1.0           0.0        0.0   32555.0   \n",
       "2           0.0      0.0          0.0           0.0        1.0  101738.0   \n",
       "3           0.0      0.0          0.0           1.0        0.0  123424.0   \n",
       "4           0.0      1.0          0.0           0.0        0.0  171574.0   \n",
       "\n",
       "     Year  Months  Genders  \n",
       "0  2014.0    10.0      0.0  \n",
       "1  2014.0     1.0      0.0  \n",
       "2  2014.0     1.0      0.0  \n",
       "3  2014.0     0.0      0.0  \n",
       "4  2015.0     8.0      0.0  \n",
       "\n",
       "[5 rows x 994 columns]"
      ]
     },
     "execution_count": 199,
     "metadata": {},
     "output_type": "execute_result"
    }
   ],
   "source": [
    "data.head()"
   ]
  },
  {
   "cell_type": "code",
   "execution_count": 246,
   "metadata": {},
   "outputs": [],
   "source": [
    "''' Features and labels Sepration '''\n",
    "\n",
    "\n",
    "X_train , y_train = strat_train_set.drop( ['Amount'] , axis =1 ) , strat_train_set['Amount']\n",
    "\n",
    "X_test , y_test= strat_test_set.drop( ['Amount'] , axis =1 ) , strat_test_set['Amount']"
   ]
  },
  {
   "cell_type": "code",
   "execution_count": 255,
   "metadata": {},
   "outputs": [
    {
     "data": {
      "text/plain": [
       "(25843, 994)"
      ]
     },
     "execution_count": 255,
     "metadata": {},
     "output_type": "execute_result"
    }
   ],
   "source": [
    "data_out.shape"
   ]
  },
  {
   "cell_type": "code",
   "execution_count": 285,
   "metadata": {},
   "outputs": [],
   "source": [
    "''' Features and labels Sepration - BAsed on Data with no Outliers  '''\n",
    "\n",
    "b = StratifiedShuffleSplit ( n_splits =1  , test_size = 0.2 , random_state= 42 )\n",
    "\n",
    "for train_index , test_index  in b.split( data_out , data_out['Months']) :\n",
    "    strat_train_set = data_out.iloc[ train_index ] \n",
    "    strat_test_set = data_out.iloc[ test_index]\n",
    "    \n",
    "\n",
    "X_q , y_q = strat_train_set.drop( ['Amount'] , axis =1 ) , strat_train_set['Amount']\n",
    "\n",
    "X_qq , y_qq = strat_test_set.drop( ['Amount'] , axis =1 ) , strat_test_set['Amount']"
   ]
  },
  {
   "cell_type": "code",
   "execution_count": 286,
   "metadata": {},
   "outputs": [],
   "source": [
    "''' COnverting all column NAMES to string '''\n",
    "\n",
    "X_train.columns  = X_train.columns.astype(str)\n",
    "\n",
    "X_test.columns  = X_test.columns.astype(str)\n",
    "\n",
    "X_q.columns  = X_train.columns.astype(str)\n",
    "\n",
    "X_qq.columns  = X_test.columns.astype(str)\n"
   ]
  },
  {
   "cell_type": "code",
   "execution_count": 202,
   "metadata": {},
   "outputs": [
    {
     "data": {
      "text/plain": [
       "' bootstrap = False , the whole data is sued to build Decison tree '"
      ]
     },
     "execution_count": 202,
     "metadata": {},
     "output_type": "execute_result"
    }
   ],
   "source": [
    "'''  Now making some assumptions about the data and choosing the ML model '''\n",
    "\n",
    "from sklearn.ensemble import RandomForestRegressor \n",
    "\n",
    "forest_reg = RandomForestRegressor( n_estimators = 100 , bootstrap = False  )\n",
    "\n",
    "forest_reg.fit( X_train , y_train )\n",
    "\n",
    "''' bootstrap = False , the whole data is sued to build Decison tree '''"
   ]
  },
  {
   "cell_type": "code",
   "execution_count": 203,
   "metadata": {},
   "outputs": [
    {
     "name": "stdout",
     "output_type": "stream",
     "text": [
      "('Achalpur',)   0.0003472684181225346\n",
      "('Adilabad',)   0.0009517408457406126\n",
      "('Adityapur',)   0.0006398801901455958\n",
      "('Adoni',)   0.0007731436277267164\n",
      "('Adoor',)   0.0009712389704324282\n",
      "('Afzalpur',)   0.0008977035360158935\n",
      "('Agartala',)   0.0011181016496505903\n",
      "('Agra',)   7.519573901686677e-05\n",
      "('Ahmedabad',)   0.010339656835329137\n",
      "('Ahmednagar',)   0.00018266543036960512\n",
      "('Aizawl',)   0.0003469312363854825\n",
      "('Ajmer',)   0.0009130480440571327\n",
      "('Akola',)   0.0014025437850164666\n",
      "('Akot',)   0.0012614305701950936\n",
      "('Alappuzha',)   0.0008882186592051915\n",
      "('Aligarh',)   0.00048785143553717965\n",
      "('Alipurduar',)   0.0003877640517731651\n",
      "('Alirajpur',)   0.0\n",
      "('Allahabad',)   0.0005532642985362703\n",
      "('Alwar',)   0.0006631709853014427\n",
      "('Amalapuram',)   0.0004934273535856234\n",
      "('Amalner',)   0.0004887901308963295\n",
      "('Ambejogai',)   0.0009582285861352055\n",
      "('Ambikapur',)   0.0007206366734299114\n",
      "('Amravati',)   0.0006122868531957412\n",
      "('Amreli',)   0.0005665153139361015\n",
      "('Amritsar',)   0.0007051475823978142\n",
      "('Amroha',)   0.00044985677307935357\n",
      "('Anakapalle',)   0.00012438264161954791\n",
      "('Anand',)   0.00030749308403529087\n",
      "('Anantapur',)   0.00035511912228939713\n",
      "('Anantnag',)   0.0006549343531923103\n",
      "('Anjangaon',)   0.0006249802826779023\n",
      "('Anjar',)   9.06223348165771e-06\n",
      "('Ankleshwar',)   0.00030144204136408736\n",
      "('Arakkonam',)   0.00035620967335701513\n",
      "('Arambagh',)   0.0007520898957006418\n",
      "('Araria',)   0.001360685077486147\n",
      "('Arrah',)   0.0001831527384146753\n",
      "('Arsikere',)   0.0008432872795177973\n",
      "('Aruppukkottai',)   0.0007313509761409365\n",
      "('Arvi',)   0.000817748797402795\n",
      "('Arwal',)   0.0006974041005061425\n",
      "('Asansol',)   0.00066418752607002\n",
      "('Ashok Nagar',)   0.0006630283128280386\n",
      "('Athni',)   0.0005941545147520008\n",
      "('Attingal',)   0.00038025355179141453\n",
      "('Aurangabad',)   0.0007577355935252522\n",
      "('Azamgarh',)   0.0004134138241116277\n",
      "('Bagaha',)   3.803317609931647e-05\n",
      "('Bahadurgarh',)   0.0007138564638278643\n",
      "('Baharampur',)   0.0010064669330567542\n",
      "('Bahraich',)   0.0007702758911109454\n",
      "('Balaghat',)   0.0003166705520638502\n",
      "('Balangir',)   0.00014350114295336167\n",
      "('Baleshwar Town',)   0.0003742013721900178\n",
      "('Ballari',)   0.00018488572029880961\n",
      "('Balurghat',)   0.00026402735561508974\n",
      "('Bankura',)   0.0005146943033554138\n",
      "('Bapatla',)   0.000133699413730802\n",
      "('Baramula',)   0.0010421747162473632\n",
      "('Barbil',)   0.0006386605252680628\n",
      "('Bargarh',)   3.567926421214849e-05\n",
      "('Baripada Town',)   0.0011236655684389756\n",
      "('Barnala',)   0.0002956200779276987\n",
      "('Barpeta',)   0.0007767363677320383\n",
      "('Batala',)   0.0008938275568756747\n",
      "('Bathinda',)   0.0016609191422333998\n",
      "('Begusarai',)   0.00020209008469365312\n",
      "('Belagavi',)   0.0010241253577247908\n",
      "('Bellampalle',)   0.000518902090512134\n",
      "('Bengaluru',)   0.009356176131512836\n",
      "('Bettiah',)   0.0005421953613317878\n",
      "('Bhabua',)   0.0008918280299510241\n",
      "('Bhadrachalam',)   0.0005196697418084018\n",
      "('Bhadrak',)   0.001149339412514518\n",
      "('Bhagalpur',)   0.0003259274699860148\n",
      "('Bhainsa',)   0.00063061073223733\n",
      "('Bharatpur',)   0.0011441354105246355\n",
      "('Bharuch',)   0.0004225448513649249\n",
      "('Bhatapara',)   0.0007364907156021789\n",
      "('Bhavnagar',)   0.0003008398269012876\n",
      "('Bhawanipatna',)   0.00011047195463571685\n",
      "('Bheemunipatnam',)   0.0015544129945607723\n",
      "('Bhilai Nagar',)   0.0014426829561272224\n",
      "('Bhilwara',)   0.0003367989729161983\n",
      "('Bhimavaram',)   0.000503049831137211\n",
      "('Bhiwandi',)   0.0008112840765533841\n",
      "('Bhiwani',)   0.0006711466880066694\n",
      "('Bhongir',)   0.0008464045099816908\n",
      "('Bhopal',)   1.560698309459964e-05\n",
      "('Bhubaneswar',)   0.0006141624164233572\n",
      "('Bhuj',)   0.0012794270593299263\n",
      "('Bikaner',)   0.0012867836953927023\n",
      "('Bilaspur',)   0.0003998917619478002\n",
      "('Bobbili',)   0.0003758635607452387\n",
      "('Bodhan',)   2.2066989868417884e-06\n",
      "('Bokaro Steel City',)   0.0004887291679934244\n",
      "('Bongaigaon City',)   0.0011462111251310523\n",
      "('Brahmapur',)   0.00044304459273607216\n",
      "('Buxar',)   0.0008168493010909611\n",
      "('Byasanagar',)   0.0007739177797940744\n",
      "('Chaibasa',)   0.0004211742999297189\n",
      "('Chalakudy',)   0.0004688018867329561\n",
      "('Chandausi',)   0.00028219404538083493\n",
      "('Chandigarh',)   0.00042078098877741524\n",
      "('Changanassery',)   0.0003033500459008022\n",
      "('Charkhi Dadri',)   0.0007635179077656541\n",
      "('Chatra',)   0.0009216011335368933\n",
      "('Chennai',)   0.006667338055747319\n",
      "('Cherthala',)   0.00037675235469405917\n",
      "('Chikkamagaluru',)   0.00030012162417456407\n",
      "('Chilakaluripet',)   0.001000454375819963\n",
      "('Chirala',)   0.0001721986530584191\n",
      "('Chirkunda',)   0.0005238657936296086\n",
      "('Chirmiri',)   0.00030418403265228234\n",
      "('Chittoor',)   0.0007929032819233197\n",
      "('Chittur-Thathamangalam',)   0.0007452376135491503\n",
      "('Cuttack',)   0.001191731597630182\n",
      "('Dalli-Rajhara',)   0.0013524155988099815\n",
      "('Darbhanga',)   0.0007329467642974198\n",
      "('Darjiling',)   0.0001797427024723951\n",
      "('Davanagere',)   0.0007280597848850296\n",
      "('Deesa',)   0.0002237388191826394\n",
      "('Dehradun',)   0.001566389744878669\n",
      "('Dehri-on-Sone',)   0.0011804120263964823\n",
      "('Delhi',)   0.010322674614817897\n",
      "('Deoghar',)   0.0009321576843338944\n",
      "('Dhamtari',)   0.0006654176223507341\n",
      "('Dhanbad',)   0.0002862009402099459\n",
      "('Dharmanagar',)   0.001195828901284682\n",
      "('Dharmavaram',)   0.0006436834727717393\n",
      "('Dhenkanal',)   0.0005773729736363586\n",
      "('Dhoraji',)   0.0005621827423958893\n",
      "('Dhubri',)   0.0013489216532356254\n",
      "('Dhule',)   0.000543061960368046\n",
      "('Dhuri',)   0.0003302694458434156\n",
      "('Dibrugarh',)   0.0003154187177331805\n",
      "('Dimapur',)   0.0015812559538741417\n",
      "('Diphu',)   0.00123854854075467\n",
      "('Dumka',)   0.0004900028329020697\n",
      "('Dumraon',)   0.0006579430659971338\n",
      "('Durg',)   0.0003242100484602642\n",
      "('Eluru',)   0.000699880085353619\n",
      "('English Bazar',)   0.00043017113157289654\n",
      "('Erode',)   0.0006653859298189976\n",
      "('Etawah',)   0.000895886881183698\n",
      "('Faridabad',)   0.001100717200736456\n",
      "('Faridkot',)   0.00029235808270753493\n",
      "('Farooqnagar',)   0.001302612862732728\n",
      "('Fatehabad',)   0.00037903051066853695\n",
      "('Fatehpur Sikri',)   0.000666197471644182\n",
      "('Fazilka',)   0.0003668107753361077\n",
      "('Firozabad',)   0.00043321771674398703\n",
      "('Firozpur',)   0.0006150772887009922\n",
      "('Firozpur Cantt.',)   0.00037991603296266287\n",
      "('Forbesganj',)   0.0003967577817096598\n",
      "('Gadwal',)   0.0005188075614787341\n",
      "('Gangarampur',)   0.0006717604213799471\n",
      "('Ganjbasoda',)   1.1204308360136645e-06\n",
      "('Gaya',)   0.00016877847375886904\n",
      "('Giridih',)   0.000649802316620866\n",
      "('Goalpara',)   0.0003373032987825915\n",
      "('Gobichettipalayam',)   0.0012412236097865653\n",
      "('Gobindgarh',)   0.0010716274516296656\n",
      "('Godhra',)   3.463416283265466e-10\n",
      "('Gohana',)   0.0003751407894262404\n",
      "('Gokak',)   0.001092905481136375\n",
      "('Gooty',)   2.9763151228605074e-05\n",
      "('Gopalganj',)   0.0004293088499132257\n",
      "('Greater Mumbai',)   0.014146749619671772\n",
      "('Gudivada',)   0.0007177038882857352\n",
      "('Gudur',)   0.0007689571310356501\n",
      "('Gumia',)   6.186932354888526e-05\n",
      "('Guntakal',)   0.000372434936744833\n",
      "('Guntur',)   0.0005819280696683083\n",
      "('Gurdaspur',)   0.0005007528234025008\n",
      "('Gurgaon',)   0.00045640794541622424\n",
      "('Guwahati',)   0.0007948988079141216\n",
      "('Gwalior',)   0.0006169552416380731\n",
      "('Habra',)   0.001674937928569293\n",
      "('Hajipur',)   0.0006823840131218769\n",
      "('Haldwani-cum-Kathgodam',)   0.0002886333065488591\n",
      "('Hansi',)   0.0004332106033908842\n",
      "('Hapur',)   9.420129530048768e-05\n",
      "('Hardoi ',)   0.0007485112063042354\n",
      "('Hardwar',)   0.0006499977609714659\n",
      "('Hazaribag',)   4.850456954350074e-05\n",
      "('Hindupur',)   0.0005814049923911436\n",
      "('Hisar',)   0.000598280403348861\n",
      "('Hoshiarpur',)   0.0003793454708473406\n",
      "('Hubli-Dharwad',)   0.0006254446960856573\n",
      "('Hugli-Chinsurah',)   6.843695540056949e-06\n",
      "('Hyderabad',)   0.00548590191934309\n",
      "('Ichalkaranji',)   0.0004401533108498447\n",
      "('Imphal',)   0.0011749464917516113\n",
      "('Indore',)   0.0005245216194999705\n",
      "('Itarsi',)   0.0002713662295893452\n",
      "('Jabalpur',)   0.00012346991172999374\n",
      "('Jagdalpur',)   0.0011158950037321767\n",
      "('Jaggaiahpet',)   0.0006739263008436547\n",
      "('Jagraon',)   0.0004996543722324121\n",
      "('Jagtial',)   0.00048165562645646927\n",
      "('Jaipur',)   0.0072368348394610685\n",
      "('Jalandhar',)   0.0010657077712985798\n",
      "('Jalandhar Cantt.',)   0.0003067177850111312\n",
      "('Jalpaiguri',)   0.0002693132500010729\n",
      "('Jamalpur',)   0.0004822376200365723\n",
      "('Jammalamadugu',)   0.0008943905695293978\n",
      "('Jammu',)   0.0006179240829218958\n",
      "('Jamnagar',)   0.0014054161792193295\n",
      "('Jamshedpur',)   0.0014131866226580352\n",
      "('Jamui',)   0.0006850794080486199\n",
      "('Jangaon',)   0.0006758915285322943\n",
      "('Jatani',)   0.0004248393309313791\n",
      "('Jehanabad',)   0.0006493789913465967\n",
      "('Jhansi',)   0.0013168724292691233\n",
      "('Jhargram',)   0.0009962726916315156\n",
      "('Jharsuguda',)   0.0006190729242937578\n",
      "('Jhumri Tilaiya',)   0.00013370235324856457\n",
      "('Jind',)   0.0019322719126441484\n",
      "('Jodhpur',)   5.789095708012952e-05\n",
      "('Jorhat',)   0.0004822520481471833\n",
      "('Kadapa',)   0.0007995074854033185\n",
      "('Kadi',)   0.0002662411126478704\n",
      "('Kadiri',)   0.0003803100802585146\n",
      "('Kagaznagar',)   0.00018550491372449078\n",
      "('Kaithal',)   0.0008844503247169894\n",
      "('Kakinada',)   0.0007209470968419969\n",
      "('Kalimpong',)   0.00012376611705440345\n",
      "('Kalpi',)   0.0012186174312021278\n",
      "('Kalyan-Dombivali',)   0.0020141260567736723\n",
      "('Kamareddy',)   0.00037727587593673547\n",
      "('Kancheepuram',)   3.8081453213946085e-05\n",
      "('Kandukur',)   0.0004979973804726346\n",
      "('Kanhangad',)   0.0002112651448824414\n",
      "('Kannur',)   0.00032453698100666143\n",
      "('Kanpur',)   0.0086514041347742\n",
      "('Kapadvanj',)   1.3149673000578876e-05\n",
      "('Kapurthala',)   0.0006843615950822036\n",
      "('Karaikal',)   0.0005389446035691576\n",
      "('Karimganj',)   0.0006941732476612724\n",
      "('Karimnagar',)   0.00020506684406343913\n",
      "('Karjat',)   0.00013455939558232194\n",
      "('Karnal',)   0.00017782213081028692\n",
      "('Karur',)   0.00011588902078431088\n",
      "('Karwar',)   0.0005684319501136677\n",
      "('Kasaragod',)   0.0006230555854700543\n",
      "('Kashipur',)   0.0006024664240111567\n",
      "('Kathua',)   7.355052947958576e-05\n",
      "('Katihar',)   5.205454921859724e-05\n",
      "('Kavali',)   0.0004664459430400361\n",
      "('Kayamkulam',)   0.00030929941616256526\n",
      "('Kendrapara',)   0.0003329061728639254\n",
      "('Kendujhar',)   0.0007816176223274276\n",
      "('Keshod',)   0.0010254476885206924\n",
      "('Khair',)   0.001085336927646119\n",
      "('Khambhat',)   0.0007230146296277051\n",
      "('Khammam',)   0.00021165754546072227\n",
      "('Khanna',)   0.0004883061279934846\n",
      "('Kharagpur',)   0.0006687527761805931\n",
      "('Kharar',)   0.0014303860307204224\n",
      "('Kishanganj',)   0.0002532872287595066\n",
      "('Kochi',)   0.00035996875132406785\n",
      "('Kodungallur',)   0.0004460487658794735\n",
      "('Kohima',)   0.0004324107601459189\n",
      "('Kolar',)   0.0009216141428857323\n",
      "('Kolkata',)   0.004451938006893746\n",
      "('Kollam',)   0.00042414567864003627\n",
      "('Koratla',)   0.0009870162419071862\n",
      "('Korba',)   0.0002836743426448422\n",
      "('Kot Kapura',)   0.0003354695074297982\n",
      "('Kothagudem',)   1.2639550371403891e-05\n",
      "('Kottayam',)   0.0007559061206697342\n",
      "('Kovvur',)   0.0001276530187464148\n",
      "('Koyilandy',)   0.001050814698826164\n",
      "('Kozhikode',)   0.0009992245472488183\n",
      "('Kunnamkulam',)   0.0002750786264530342\n",
      "('Kurnool',)   0.0008686084689319967\n",
      "('Kyathampalle',)   0.0005739238208665648\n",
      "('Lachhmangarh',)   0.0006235328690959563\n",
      "('Ladnu',)   0.0008377018676397897\n",
      "('Ladwa',)   0.0008001890459324743\n",
      "('Lahar',)   0.0005905113301093496\n",
      "('Laharpur',)   0.00014709489857399745\n",
      "('Lakheri',)   0.0010642748768422041\n",
      "('Lakhimpur',)   0.0005575851040215835\n",
      "('Lakhisarai',)   0.0006763862516937908\n",
      "('Lakshmeshwar',)   0.0010987815351505706\n",
      "('Lal Gopalganj Nindaura',)   0.0007551335789565614\n",
      "('Lalitpur',)   0.0003862771160066578\n",
      "('Lalsot',)   0.00044862006773860346\n",
      "('Lanka',)   0.0009592562796301536\n",
      "('Lar',)   0.000579264841726546\n",
      "('Latur',)   0.0005325458804780415\n",
      "('Limbdi',)   0.0004587240600612691\n",
      "('Lingsugur',)   0.0007090718465006023\n",
      "('Lonavla',)   0.0004809916320135682\n",
      "('Loni',)   0.0008748083782002805\n",
      "('Losal',)   0.0009057917384941623\n",
      "('Lucknow',)   0.007207373220198721\n",
      "('Ludhiana',)   0.0007554947996265087\n",
      "('Lumding',)   2.9252345647110567e-05\n",
      "('Lunawada',)   0.0010100621040621718\n",
      "('Lunglei',)   0.0005728277107108497\n",
      "('Macherla',)   0.0002503691192048189\n",
      "('Machilipatnam',)   0.00030635435068091893\n",
      "('Madanapalle',)   0.0003691804292286301\n",
      "('Maddur',)   0.0013918718778606221\n",
      "('Madhepura',)   0.0002872042999831722\n",
      "('Madhubani',)   0.0005674342904052313\n",
      "('Madhugiri',)   0.0004957510078781245\n",
      "('Madhupur',)   0.0004749441897225751\n",
      "('Madikeri',)   0.0012083930846148135\n",
      "('Madurai',)   0.0001180422853525216\n",
      "('Mahalingapura',)   0.0006614682429119478\n",
      "('Mahasamund',)   0.0007889314340034533\n",
      "('Mahbubnagar',)   0.0\n",
      "('Mahe',)   0.0004168042518683752\n",
      "('Mahemdabad',)   0.0003046169453623674\n",
      "('Mahesana',)   0.00043017867184876247\n",
      "('Mahidpur',)   0.0001323211129771701\n",
      "('Mahnar Bazar',)   0.0013064273093446289\n",
      "('Mahuva',)   0.0012013407626730451\n",
      "('Maihar',)   0.0009200498806132332\n",
      "('Mainaguri',)   0.0011349379364960813\n",
      "('Makhdumpur',)   0.0009026436887955385\n",
      "('Makrana',)   0.0002720120681647326\n",
      "('Malaj Khand',)   0.000373596645307506\n",
      "('Malappuram',)   0.0008772226582408376\n",
      "('Malavalli',)   0.0005607490102556358\n",
      "('Malegaon',)   0.0009262232033516264\n",
      "('Malerkotla',)   0.0002915848846004913\n",
      "('Malkapur',)   9.407826353484472e-05\n",
      "('Malout',)   0.0005145569037357955\n",
      "('Malpura',)   0.001284525496427395\n",
      "('Malur',)   0.0006151252562230421\n",
      "('Manavadar',)   0.0004496357160601236\n",
      "('Mancherial',)   0.0010395078137622191\n",
      "('Mandamarri',)   5.787026430498913e-05\n",
      "('Mandapeta',)   0.00047148380811389744\n",
      "('Mandi',)   0.0002421980107588861\n",
      "('Mandi Dabwali',)   0.00020000030397993157\n",
      "('Mandideep',)   0.0012319430652545336\n",
      "('Mandla',)   0.0011151467230920984\n",
      "('Mandsaur',)   0.0005575297598403024\n",
      "('Mandvi',)   0.0010092466357030476\n",
      "('Mandya',)   0.00043562770832479574\n",
      "('Manendragarh',)   0.0\n",
      "('Maner',)   0.000764838211604955\n",
      "('Mangaluru',)   0.00010997210784747902\n",
      "('Manglaur',)   0.0005918378751971947\n",
      "('Mangrol',)   0.0008316991185312266\n",
      "('Mangrulpir',)   0.0005750937437557381\n",
      "('Manjlegaon',)   0.00118456504152811\n",
      "('Mankachar',)   0.00036478594418880766\n",
      "('Manmad',)   0.00015164809095482432\n",
      "('Mansa',)   0.0006765564581640703\n",
      "('Manuguru',)   0.0003218497331644675\n",
      "('Manvi',)   0.00041727469204456323\n",
      "('Manwath',)   0.0006986076686178685\n",
      "('Mapusa',)   0.0003032847505108028\n",
      "('Margao',)   0.0009093852739483012\n",
      "('Markapur',)   0.00028706993492988344\n",
      "('Marmagao',)   0.001087595942049368\n",
      "('Masaurhi',)   0.00016180977010661862\n",
      "('Mathura',)   0.00021318867354589116\n",
      "('Mattannur',)   0.00040655981497931333\n",
      "('Mavelikkara',)   0.00018878224748619877\n",
      "('Mavoor',)   0.0011710325927652137\n",
      "('Medak',)   0.0002494356851909275\n",
      "('Medininagar (Daltonganj)',)   0.0011260055498021355\n",
      "('Medinipur',)   0.0007307715084361267\n",
      "('Meerut',)   0.0008233933405307329\n",
      "('Mehkar',)   0.0005800438186554333\n",
      "('Memari',)   0.0006060228432555608\n",
      "('Merta City',)   0.0005237296138405006\n",
      "('Mhow Cantonment',)   0.0003412821958622491\n",
      "('Mihijam',)   5.3400454833861286e-05\n",
      "('Mira-Bhayandar',)   0.0001578184070476093\n",
      "('Miryalaguda',)   9.475628483799604e-05\n",
      "('Modasa',)   0.0007227713545319603\n",
      "('Modinagar',)   0.0\n",
      "('Moga',)   0.0005289633560762037\n",
      "('Mohali',)   0.0018210664051061228\n",
      "('Mokameh',)   0.00032583078100343146\n",
      "('Mokokchung',)   0.0009037053463817428\n",
      "('Moradabad',)   0.0007944430452069046\n",
      "('Morena',)   0.0007362565743291579\n",
      "('Morshi',)   0.0006971534402790643\n",
      "('Morvi',)   0.0006350602716521642\n",
      "('Motihari',)   0.0014108893092823294\n",
      "('Mudalagi',)   0.00036310961151404743\n",
      "('Muddebihal',)   0.0004388307782810962\n",
      "('Mudhol',)   0.001132457879894019\n",
      "('Muktsar',)   0.0009699815649885125\n",
      "('Mulbagal',)   0.00041005796672812173\n",
      "('Mundi',)   0.0013722816597019933\n",
      "('Mungeli',)   0.0006155864884376393\n",
      "('Munger',)   0.0005583977852099364\n",
      "('Murshidabad',)   0.0010598867239465795\n",
      "('Murtijapur',)   0.0005920538203307321\n",
      "('Murwara (Katni)',)   0.0005863377483174282\n",
      "('Musabani',)   0.0005884728439258367\n",
      "('Mussoorie',)   1.579321136626808e-08\n",
      "('Muvattupuzha',)   0.0013740794452392188\n",
      "('Muzaffarpur',)   7.63615951647199e-05\n",
      "('Mysore',)   0.00112415301452888\n",
      "('Nabadwip',)   0.0005382882112282214\n",
      "('Nabarangapur',)   0.00023442887154026887\n",
      "('Nabha',)   0.0013830516123502323\n",
      "('Nadbai',)   0.002159865414753792\n",
      "('Nadiad',)   0.0005076240620455356\n",
      "('Nagaon',)   0.0007570299369263856\n",
      "('Nagapattinam',)   0.0004398313704929644\n",
      "('Nagari',)   0.0005822059214612704\n",
      "('Nagarkurnool',)   0.0007757948676058611\n",
      "('Nagaur',)   0.0014980686940737173\n",
      "('Nagda',)   0.0006306566222032391\n",
      "('Nagercoil',)   0.00039864981960758617\n",
      "('Nagina',)   0.0009138584854331426\n",
      "('Nagpur',)   0.0008403193909195715\n",
      "('Nahan',)   0.000820396751177255\n",
      "('Naharlagun',)   0.0006884193160743346\n",
      "('Naidupet',)   0.002214854092486174\n",
      "('Naihati',)   0.0010552654568334009\n",
      "('Naila Janjgir',)   0.0017316606306163604\n",
      "('Nainital',)   0.0010734982938279361\n",
      "('Najibabad',)   0.0001293725285427925\n",
      "('Nakodar',)   7.072495300083077e-05\n",
      "('Nalbari',)   9.65170444334619e-05\n",
      "('Namakkal',)   0.0005767233583553868\n",
      "('Nanded-Waghala',)   0.0013545861620478104\n",
      "('Nandivaram-Guduvancheri',)   0.00026097226913992464\n",
      "('Nandura',)   0.0003668913748410002\n",
      "('Nandurbar',)   0.0006464091433969354\n",
      "('Nandyal',)   0.0001796517291828278\n",
      "('Nangal',)   0.0005158318654059304\n",
      "('Nanjangud',)   0.0006673976798540072\n",
      "('Nanjikottai',)   0.0007485441898402792\n",
      "('Nanpara',)   0.0007266240921916371\n",
      "('Narasapuram',)   0.000673158499911058\n",
      "('Narasaraopet',)   3.820284120998381e-05\n",
      "('Narayanpet',)   0.0012807699570722428\n",
      "('Nargund',)   0.0002639915634135249\n",
      "('Narkatiaganj',)   0.00013515586975805475\n",
      "('Narnaul',)   0.00035309963701317615\n",
      "('Narsinghgarh',)   0.0005980851318816636\n",
      "('Narsipatnam',)   0.00017138047585986548\n",
      "('Narwana',)   0.00020323751375846816\n",
      "('Nashik',)   0.00019276230621167006\n",
      "('Nasirabad',)   0.0012413583827283444\n",
      "('Nathdwara',)   0.00106003660328698\n",
      "('Naugachhia',)   0.0003391446133346542\n",
      "('Naugawan Sadat',)   0.0005915023862797439\n",
      "('Nautanwa',)   0.001282542359866534\n",
      "('Navi Mumbai',)   0.001089943919328102\n",
      "('Navsari',)   0.0003607262577268274\n",
      "('Nawabganj',)   0.000625545858231501\n",
      "('Nawada',)   0.0006444015746427188\n",
      "('Nawanshahr',)   0.0005701278556653429\n",
      "('Nawapur',)   0.0007639961265481822\n",
      "('Nedumangad',)   0.0005563950642563796\n",
      "('Neem-Ka-Thana',)   0.0004086928365969839\n",
      "('Neemuch',)   0.000897244464863874\n",
      "('Nehtaur',)   0.00025053469185054144\n",
      "('Nelamangala',)   0.00026331523143010004\n",
      "('Nellikuppam',)   0.0009810446743137545\n",
      "('Nellore',)   0.0007639109319632684\n",
      "('Nepanagar',)   0.0010140218184650069\n",
      "('New Delhi',)   0.0005186599324423645\n",
      "('Neyveli (TS)',)   0.0007688006231347012\n",
      "('Neyyattinkara',)   0.0010295992708217639\n",
      "('Nidadavole',)   0.0005995430528702058\n",
      "('Nilambur',)   0.0007679405915612516\n",
      "('Nilanga',)   0.00048097432129229096\n",
      "('Nimbahera',)   0.00019685206757170593\n",
      "('Nirmal',)   0.0006500771572272315\n",
      "('Nizamabad',)   0.0001329673225457728\n",
      "('Nohar',)   6.142605511501627e-06\n",
      "('Noida',)   0.0007261011536494332\n",
      "('Nokha',)   0.0006565448905769704\n",
      "('Nongstoin',)   1.233852378094322e-05\n",
      "('Noorpur',)   2.4381818065474102e-05\n",
      "('North Lakhimpur',)   0.0004856256023562707\n",
      "('Nowgong',)   0.0005303008345521312\n",
      "('Nuzvid',)   0.0005786659269619032\n",
      "('Oddanchatram',)   0.0009390329654644831\n",
      "('Ongole',)   0.0002887830504854416\n",
      "('Orai',)   0.0008697585045202154\n",
      "('Osmanabad',)   0.0010823632994056934\n",
      "('Ottappalam',)   0.0006053372926045055\n",
      "('Ozar',)   0.0007124849638034318\n",
      "('Pachora',)   0.00010572259630071084\n",
      "('Padra',)   0.0014696139748011086\n",
      "('Padrauna',)   0.0006014650615281117\n",
      "('Paithan',)   0.00016483228412873498\n",
      "('Pakaur',)   0.00026584999387203856\n",
      "('Palacole',)   0.0008436344299951784\n",
      "('Palakkad',)   0.0002464232782717397\n",
      "('Palani',)   0.0010114485474899306\n",
      "('Palanpur',)   0.0003474205452390174\n",
      "('Palasa Kasibugga',)   0.0007864066827046642\n",
      "('Palghar',)   0.00047499608300990113\n",
      "('Pali',)   0.0006031323023941243\n",
      "('Palia Kalan',)   0.00013753220326767062\n",
      "('Palitana',)   0.0006100252381115948\n",
      "('Palladam',)   0.0005644141974271582\n",
      "('Palwal',)   0.0008551417109342183\n",
      "('Palwancha',)   0.0008889073772742475\n",
      "('Panaji',)   0.00031270772989433064\n",
      "('Panchkula',)   0.0005648720863055612\n",
      "('Pandharkaoda',)   5.243814465064227e-05\n",
      "('Pandharpur',)   0.0010529622902342847\n",
      "('Pandhurna',)   0.0005501475779464821\n",
      "('Pandua',)   0.00023989684403848244\n",
      "('Panipat',)   0.0006861686005116275\n",
      "('Panna',)   0.000602964683435464\n",
      "('Panruti',)   0.0006294153879932567\n",
      "('Panvel',)   0.00047871943220485254\n",
      "('Pappinisseri',)   0.00016744845196282085\n",
      "('Paradip',)   5.275057288296226e-05\n",
      "('Paramakudi',)   0.0009066238480505692\n",
      "('Paravoor',)   0.0012844912371750114\n",
      "('Parbhani',)   6.487025434742293e-05\n",
      "('Parlakhemundi',)   0.0003567046674294722\n",
      "('Parli',)   0.0007034970008262345\n",
      "('Partur',)   0.00018919075875439975\n",
      "('Parvathipuram',)   0.0008086513220414961\n",
      "('Pasan',)   0.0009501375530966128\n",
      "('Paschim Punropara',)   0.00012937170516931832\n",
      "('Patan',)   2.37459798226175e-05\n",
      "('Pathanamthitta',)   0.0004041395725225274\n",
      "('Pathankot',)   0.0006220058654820785\n",
      "('Pathri',)   0.0011872693006804603\n",
      "('Patiala',)   0.0007371085653579226\n",
      "('Patna',)   0.0006565698463279632\n",
      "('Patratu',)   0.0002606894475911533\n",
      "('Pattamundai',)   0.0002243558516733978\n",
      "('Patti',)   0.0006562873241575252\n",
      "('Pattukkottai',)   0.0014715758554391762\n",
      "('Pavagada',)   0.000548462325328616\n",
      "('Pedana',)   0.00027464565356829476\n",
      "('Peddapuram',)   0.000521144144802919\n",
      "('Pehowa',)   0.0007176822213797508\n",
      "('Pen',)   0.00020111209267134825\n",
      "('Perambalur',)   0.00035845652460671234\n",
      "('Peringathur',)   0.0003518000986237057\n",
      "('Perinthalmanna',)   8.841898099062545e-05\n",
      "('Periyakulam',)   0.0009308873687372026\n",
      "('Periyasemur',)   0.001992336411250712\n",
      "('Pernampattu',)   0.0005328279805300992\n",
      "('Perumbavoor',)   1.030440775545642e-05\n",
      "('Petlad',)   0.00014021134193208234\n",
      "('Phagwara',)   0.00044417359620875524\n",
      "('Phalodi',)   0.0005802551779175662\n",
      "('Phaltan',)   0.0006314941373676607\n",
      "('Phulabani',)   0.0006284524620678371\n",
      "('Phusro',)   0.0006729029813492565\n",
      "('Pihani',)   0.0009077146091117879\n",
      "('Pilani',)   0.0009428486517509709\n",
      "('Pilibanga',)   0.0002235277754434328\n",
      "('Pilibhit',)   0.0009247892958416233\n",
      "('Pilkhuwa',)   0.0006531825158319778\n",
      "('Pinjore',)   0.0003702589295675386\n",
      "('Pipar City',)   0.0008721131952515488\n",
      "('Pipariya',)   0.0003483772396252431\n",
      "('Pithampur',)   0.0006548608009645253\n",
      "('Pithapuram',)   0.00021368274747863528\n",
      "('Pithoragarh',)   0.0011277388923803119\n",
      "('Pollachi',)   0.0002682051535257098\n",
      "('Pondicherry',)   1.861589826044484e-05\n",
      "('Ponnani',)   0.0002602749541664113\n",
      "('Ponnur',)   0.0010298947752755418\n",
      "('Porbandar',)   0.0014450110372225293\n",
      "('Porsa',)   0.0005997748001318266\n",
      "('Port Blair',)   0.0008386825522003405\n",
      "('Pratapgarh',)   0.0010976520839177668\n",
      "('Proddatur',)   0.00021745213714861568\n",
      "('Pudukkottai',)   0.0005065957429857237\n",
      "('Pulgaon',)   0.0013556863862684413\n",
      "('Puliyankudi',)   0.0014584880900981394\n",
      "('Punalur',)   0.00047412141635408357\n",
      "('Punch',)   0.0006440305912348581\n",
      "('Pune',)   0.007300919287679937\n",
      "('Punganur',)   2.346290568516426e-06\n",
      "('Puranpur',)   0.0012056244188395767\n",
      "('Puri',)   0.00041210813863753315\n",
      "('Purna',)   0.0009677048890159998\n",
      "('Purnia',)   0.0004773490126990191\n",
      "('Purulia',)   0.0008737510859142649\n",
      "('Pusad',)   0.0007078488799642156\n",
      "('Puttur',)   0.0016726917542793554\n",
      "('Raayachuru',)   0.00040290226465864527\n",
      "('Rabkavi Banhatti',)   0.0008761126608858522\n",
      "('Radhanpur',)   0.0005052115478192243\n",
      "('Rae Bareli',)   0.0010317781041096314\n",
      "('Raghogarh-Vijaypur',)   0.0013208716185631293\n",
      "('Raghunathganj',)   0.0003535733994135051\n",
      "('Rahuri',)   0.0017993652541431352\n",
      "('Raiganj',)   8.645116885337025e-05\n",
      "('Raigarh',)   0.0010607123637815746\n",
      "('Raipur',)   0.0006128856992676777\n",
      "('Raisen',)   0.0016443214750566754\n",
      "('Raisinghnagar',)   0.00018220648053996955\n",
      "('Rajagangapur',)   0.0006858637470771574\n",
      "('Rajahmundry',)   0.0007513857918038791\n",
      "('Rajakhera',)   0.00026582820278687346\n",
      "('Rajampet',)   0.00021069040417618742\n",
      "('Rajapalayam',)   0.0011990902471510744\n",
      "('Rajgarh (Churu)',)   0.0009445681331209526\n",
      "('Rajgir',)   0.0003590372292320106\n",
      "('Rajkot',)   0.0007359898651232295\n",
      "('Rajnandgaon',)   0.0005407244078904483\n",
      "('Rajpipla',)   0.00017112250856856877\n",
      "('Rajpura',)   8.332213946219551e-05\n",
      "('Rajsamand',)   0.0002149433837288602\n",
      "('Rajula',)   0.0011589942448715657\n",
      "('Ramachandrapuram',)   0.0004778042502004676\n",
      "('Ramagundam',)   0.0009475166862423782\n",
      "('Ramanagaram',)   0.00044173850620996365\n",
      "('Ramanathapuram',)   0.00045365891553134584\n",
      "('Ramdurg',)   0.0005356699600545016\n",
      "('Rameshwaram',)   0.0001868207535498809\n",
      "('Ramganj Mandi',)   0.0014000323226770759\n",
      "('Ramgarh',)   0.0005758232087401187\n",
      "('Ramnagar',)   0.002076185666467494\n",
      "('Ramngarh',)   0.0007500244925351808\n",
      "('Rampur',)   0.0008206632563393132\n",
      "('Rampura Phul',)   4.5487892739057456e-05\n",
      "('Rampurhat',)   0.001052201899381918\n",
      "('Ranaghat',)   0.0013255992017890744\n",
      "('Ranavav',)   0.0005453421397599692\n",
      "('Ranchi',)   0.0004801246744404389\n",
      "('Ranebennuru',)   0.00028941063367800556\n",
      "('Ranibennur',)   0.00045504366071943774\n",
      "('Ranipet',)   0.00045678662567039796\n",
      "('Rasipuram',)   0.000358181844642002\n",
      "('Rasra',)   0.00023082757205844916\n",
      "('Ratangarh',)   0.000957127124281018\n",
      "('Rath',)   0.0009556771995995337\n",
      "('Ratlam',)   0.0001583740797683132\n",
      "('Ratnagiri',)   0.00034862096027719956\n",
      "('Raurkela',)   0.00043435929144688864\n",
      "('Raver',)   0.0003469984691451019\n",
      "('Rawatbhata',)   0.0004170527150916323\n",
      "('Rawatsar',)   0.00037840955464604065\n",
      "('Raxaul Bazar',)   0.00011719835866708426\n",
      "('Rayachoti',)   0.0006592780814751782\n",
      "('Rayadurg',)   0.00015757829132052463\n",
      "('Rayagada',)   4.776356577521103e-05\n",
      "('Renukoot',)   0.0005229191973114898\n",
      "('Repalle',)   7.986199790552781e-05\n",
      "('Revelganj',)   0.0002351916560153795\n",
      "('Rewa',)   0.0005609464955852155\n",
      "('Rewari',)   0.0010101406780790685\n",
      "('Rishikesh',)   0.0005827085039878417\n",
      "('Risod',)   0.0009070229570780668\n",
      "('Robertsganj',)   0.000856459768075614\n",
      "('Robertson Pet',)   0.001004757603686317\n",
      "('Rohtak',)   0.0008891399076729939\n",
      "('Roorkee',)   0.0004186314117196055\n",
      "('Rosera',)   0.0006762348560372856\n",
      "('Rudauli',)   0.0006167465718317933\n",
      "('Rudrapur',)   0.0006362057464063001\n",
      "('Rupnagar',)   9.7655920886941e-05\n",
      "('Sabalgarh',)   0.00024391308031723825\n",
      "('Sadabad',)   0.000486237708471475\n",
      "('Sadasivpet',)   0.0004127686742353212\n",
      "('Sadulpur',)   0.0005748502566562837\n",
      "('Safidon',)   0.00012557538775458991\n",
      "('Sagar',)   0.0008326043272544969\n",
      "('Sagara',)   0.00021658568009393054\n",
      "('Sagwara',)   0.0005269045999819686\n",
      "('Saharanpur',)   0.0006840645084023219\n",
      "('Saharsa',)   0.00014520735968947044\n",
      "('Sahaswan',)   0.0011710947252141668\n",
      "('Sahibganj',)   0.001070152017190227\n",
      "('Sailu',)   0.0011508071360454434\n",
      "('Sainthia',)   0.000926422155414778\n",
      "('Salaya',)   9.993571525655323e-05\n",
      "('Salem',)   0.00038301274064936276\n",
      "('Salur',)   7.173480407476398e-05\n",
      "('Samalkot',)   6.253191562439213e-07\n",
      "('Samana',)   0.0008605346242333922\n",
      "('Samastipur',)   0.0004636248913226813\n",
      "('Sambalpur',)   0.00021251072114678742\n",
      "('Sambhal',)   0.0007732660462626218\n",
      "('Sanand',)   0.0004482173378974595\n",
      "('Sanawad',)   0.0006399249824556681\n",
      "('Sandila',)   0.00043158675572393696\n",
      "('Sanduru',)   0.0006460950189506459\n",
      "('Sangamner',)   0.0006423993047417006\n",
      "('Sangareddy',)   9.53255308718964e-05\n",
      "('Sangaria',)   0.0009446450217286819\n",
      "('Sangli',)   0.0009982907238204467\n",
      "('Sangole',)   0.00019559156999042108\n",
      "('Sangrur',)   0.0005207420908789845\n",
      "('Sankarankoil',)   0.0005644244824154338\n",
      "('Sankari',)   0.0005565332956788817\n",
      "('Sankeshwara',)   0.000660420044304763\n",
      "('Santipur',)   0.00036084533573034895\n",
      "('Sarangpur',)   0.0004059882226708361\n",
      "('Sardarshahar',)   0.00033984437735894743\n",
      "('Sardhana',)   0.0008291424940116055\n",
      "('Sarni',)   0.00028257743685492035\n",
      "('Sasaram',)   0.0012629565160677961\n",
      "('Sasvad',)   0.0003537997580886704\n",
      "('Satana',)   0.0006298394596169225\n",
      "('Satara',)   0.0009594454006805336\n",
      "('Sathyamangalam',)   0.0004703168166199716\n",
      "('Satna',)   2.810632212246398e-06\n",
      "('Sattenapalle',)   0.0006273764977651335\n",
      "('Sattur',)   0.00022983075150051258\n",
      "('Saunda',)   0.0007276665779921555\n",
      "('Saundatti-Yellamma',)   0.00015883493580193782\n",
      "('Savanur',)   0.000165058314820112\n",
      "('Savarkundla',)   0.000496997807071532\n",
      "('Savner',)   0.00032863739044302725\n",
      "('Sawai Madhopur',)   0.00010237562748582268\n",
      "('Sedam',)   0.0003523386868603238\n",
      "('Sehore',)   0.0007558726598512394\n",
      "('Sendhwa',)   0.0003354153117230833\n",
      "('Seohara',)   0.0006601188844403918\n",
      "('Seoni',)   0.001501827173028877\n",
      "('Seoni-Malwa',)   0.000545939673326903\n",
      "('Shahabad',)   0.00016571948823917957\n",
      "('Shahabad Hardoi',)   0.0003230588008004272\n",
      "('Shahabad Rampur',)   0.0008202315106651483\n",
      "('Shahade',)   0.0006044564420860913\n",
      "('Shahbad',)   0.0006010092804061284\n",
      "('Shahdol',)   0.0013893656616682207\n",
      "('Shahjahanpur',)   0.0004992865462860367\n",
      "('Shahpur',)   0.0007446770964431498\n",
      "('Shahpura',)   0.0010051184694418137\n",
      "('Shajapur',)   0.0004681013543994926\n",
      "('Shamli',)   0.0005886678714835791\n",
      "('Shamsabad Agra',)   0.0012183031254504346\n",
      "('Shegaon',)   0.0007858667905455513\n",
      "('Sheikhpura',)   0.001263864120774872\n",
      "('Shenkottai',)   0.00027734839672092143\n",
      "('Sheopur',)   0.0005669490892286351\n",
      "('Sherghati',)   6.301210077663518e-06\n",
      "('Sherkot',)   0.001064493970418731\n",
      "('Shikaripur',)   0.0003840303087444564\n",
      "('Shikarpur Bulandshahr',)   0.0007232198433057681\n",
      "('Shikohabad',)   0.001224626448119121\n",
      "('Shillong',)   0.00030839589357997785\n",
      "('Shimla',)   0.0009442070934155268\n",
      "('Shirdi',)   0.0009570366287351684\n",
      "('Shirpur-Warwade',)   0.0004986575261627656\n",
      "('Shirur',)   0.000804265490732803\n",
      "('Shivamogga',)   0.00041418684327148675\n",
      "('Shivpuri',)   0.0008555289123937334\n",
      "('Sholingur',)   0.0007877676025849256\n",
      "('Shoranur',)   0.000616722109299292\n",
      "('Shrigonda',)   0.000522707118303286\n",
      "('Shrirampur',)   0.00018654037818037372\n",
      "('Shujalpur',)   0.00011198238205433255\n",
      "('Siana',)   0.0007364888735910044\n",
      "('Sibsagar',)   0.0007434980341471046\n",
      "('Siddipet',)   0.0003871530741198972\n",
      "('Sidhi',)   0.0004014309624013687\n",
      "('Sidhpur',)   0.0009795446252061954\n",
      "('Sidlaghatta',)   0.00045750583860199745\n",
      "('Sihor',)   0.00036761750754552057\n",
      "('Sihora',)   0.0007730764034127993\n",
      "('Sikandra Rao',)   0.00031499142192064505\n",
      "('Sikandrabad',)   0.0006754513179266017\n",
      "('Sikar',)   0.0005793383171269359\n",
      "('Silchar',)   0.0010765968000407175\n",
      "('Siliguri',)   0.00010527851887120852\n",
      "('Sillod',)   0.0006403265758752157\n",
      "('Simdega',)   0.0006624080920052881\n",
      "('Sindhagi',)   0.0011678815151485757\n",
      "('Sindhnur',)   0.0003118121947514464\n",
      "('Singrauli',)   0.0007214393852163778\n",
      "('Sinnar',)   0.0011171308821754655\n",
      "('Sira',)   0.0006102229327205037\n",
      "('Sircilla',)   0.0004946833456621496\n",
      "('Sirhind Fatehgarh Sahib',)   0.0007383286265340791\n",
      "('Sirkali',)   0.0007973049015694749\n",
      "('Sirohi',)   0.0007145343810485284\n",
      "('Sironj',)   0.00018831123923717416\n",
      "('Sirsa',)   0.0012713320551875384\n",
      "('Sirsaganj',)   5.620316229047833e-05\n",
      "('Sirsi',)   0.00045324344519835397\n",
      "('Siruguppa',)   0.0004103381841225951\n",
      "('Sitamarhi',)   0.0007275687382412731\n",
      "('Sitapur',)   0.0007570116863345618\n",
      "('Sivaganga',)   0.0003882017015190677\n",
      "('Sivakasi',)   0.00042485200048049897\n",
      "('Siwan',)   0.0008683538845339809\n",
      "('Sohna',)   0.0006149184586428535\n",
      "('Sojat',)   0.0005666717845595068\n",
      "('Solan',)   0.0007672718291602834\n",
      "('Solapur',)   7.880977882840713e-05\n",
      "('Sonamukhi',)   0.00037448596415723406\n",
      "('Sonepur',)   0.001115283933790647\n",
      "('Sonipat',)   0.000867703317108236\n",
      "('Sopore',)   0.00027993545271713985\n",
      "('Soro',)   0.0003270988185757185\n",
      "('Soron',)   0.0017525239320289737\n",
      "('Sri Madhopur',)   0.0002865760442218451\n",
      "('Srikakulam',)   0.0004420533170712282\n",
      "('Srikalahasti',)   0.0007301529076142515\n",
      "('Srinagar',)   0.000701860204232969\n",
      "('Srivilliputhur',)   0.00044435819160396593\n",
      "('Suar',)   0.0006996483894529519\n",
      "('Sugauli',)   0.0009387877233649849\n",
      "('Sujangarh',)   0.0011388344797320824\n",
      "('Sullurpeta',)   0.00022595871048846524\n",
      "('Sultanganj',)   0.000449081655073716\n",
      "('Sultanpur',)   0.0004049232993930859\n",
      "('Sumerpur',)   0.00029252380560576546\n",
      "('Sunabeda',)   0.0013454418890795601\n",
      "('Sunam',)   0.0006881573780510574\n",
      "('Sundargarh',)   0.00041184996728417517\n",
      "('Supaul',)   0.0009052089900577033\n",
      "('Surandai',)   0.0004356363630826922\n",
      "('Surapura',)   0.0003447682316080348\n",
      "('Surat',)   0.0057585547120985354\n",
      "('Suratgarh',)   0.00016625239198157085\n",
      "('Suri',)   2.7696016764530134e-07\n",
      "('Suryapet',)   0.0004106903204286746\n",
      "('Tadepalligudem',)   0.000348602635302716\n",
      "('Tadpatri',)   0.0005503855666423372\n",
      "('Taki',)   7.550334982084612e-05\n",
      "('Talaja',)   0.0009059725890818334\n",
      "('Talcher',)   0.0005617064678277193\n",
      "('Talegaon Dabhade',)   0.0005303511975540757\n",
      "('Talikota',)   0.0004435937334415962\n",
      "('Taliparamba',)   0.0008385075555628758\n",
      "('Talode',)   0.0006295214687660651\n",
      "('Tamluk',)   0.0005263515619856167\n",
      "('Tanda',)   0.0010843006323229298\n",
      "('Tandur',)   0.0008521705154985181\n",
      "('Tanuku',)   0.001546983614396672\n",
      "('Tarakeswar',)   0.0012377925465967303\n",
      "('Taranagar',)   0.0002779518396902499\n",
      "('Tarikere',)   0.00012305924077223777\n",
      "('Tarn Taran',)   0.0004388509396259331\n",
      "('Tasgaon',)   0.0009408215298906874\n",
      "('Tekkalakote',)   0.0004335559733152733\n",
      "('Tenali',)   0.0004972104588573095\n",
      "('Tenkasi',)   0.0005861090909795866\n",
      "('Terdal',)   0.0005403716343988017\n",
      "('Tezpur',)   5.206195824401533e-05\n",
      "('Thakurdwara',)   0.0003751968021492656\n",
      "('Thana Bhawan',)   0.0011189008574259407\n",
      "('Thane',)   0.0008367595630868573\n",
      "('Thanesar',)   0.00017150327776035163\n",
      "('Thangadh',)   0.0005074406717727721\n",
      "('Thanjavur',)   0.0006963236540314882\n",
      "('Tharad',)   0.0011615100726465868\n",
      "('Tharamangalam',)   0.0013001123422189684\n",
      "('Theni Allinagaram',)   9.95439452843351e-05\n",
      "('Thirumangalam',)   0.000896526029716821\n",
      "('Thiruvalla',)   0.0005425798117898538\n",
      "('Thiruvallur',)   0.0008574486240488184\n",
      "('Thiruvananthapuram',)   0.0004018164690878095\n",
      "('Thiruvarur',)   0.0007712838982615891\n",
      "('Thodupuzha',)   0.0003825728523767178\n",
      "('Thoubal',)   0.0011712135513819895\n",
      "('Thrissur',)   0.0007195325574235419\n",
      "('Thuraiyur',)   0.0002788247708390036\n",
      "('Tikamgarh',)   0.0012991850302630252\n",
      "('Tilda Newra',)   0.0007215188211088037\n",
      "('Tilhar',)   0.0009596053200907244\n",
      "('Tindivanam',)   0.0005023612017057717\n",
      "('Tinsukia',)   0.00021330688832010456\n",
      "('Tiptur',)   0.0004230326566098283\n",
      "('Tiruchendur',)   0.0007566497304143091\n",
      "('Tiruchengode',)   0.0008721336830346412\n",
      "('Tiruchirappalli',)   0.0007038412586509997\n",
      "('Tirukalukundram',)   0.0011074590615724465\n",
      "('Tirukkoyilur',)   0.0002608058685664651\n",
      "('Tirunelveli',)   0.00023883642771027586\n",
      "('Tirupathur',)   0.00020636077862945144\n",
      "('Tirupati',)   0.00028611781806900106\n",
      "('Tiruppur',)   0.0007632543914355554\n",
      "('Tirur',)   0.00014193778347718078\n",
      "('Tiruttani',)   0.00048260138950609376\n",
      "('Tiruvannamalai',)   0.0005479458069458172\n",
      "('Tiruvethipuram',)   0.0005724938727384775\n",
      "('Tiruvuru',)   0.0007776499753413736\n",
      "('Titlagarh',)   0.0005103733342367721\n",
      "('Tohana',)   0.0013848890150087118\n",
      "('Tonk',)   0.0006412674907601143\n",
      "('Tuensang',)   0.0003736595566162884\n",
      "('Tuljapur',)   0.0003374364670495293\n",
      "('Tumkur',)   0.00044961372516780977\n",
      "('Tumsar',)   0.0012571804197562394\n",
      "('Tundla',)   0.00014947455549930768\n",
      "('Tuni',)   0.0003542680650770775\n",
      "('Tura',)   0.0011439158187136619\n",
      "('Uchgaon',)   0.0008474343157253661\n",
      "('Udaipur',)   0.0011588709173241776\n",
      "('Udaipurwati',)   0.001376267383947418\n",
      "('Udgir',)   0.0012874441367267807\n",
      "('Udhagamandalam',)   0.0016127232383118704\n",
      "('Udhampur',)   0.0006041390289907577\n",
      "('Udumalaipettai',)   0.0005949650808909422\n",
      "('Udupi',)   0.001113104176612603\n",
      "('Ujhani',)   0.00010815220638184246\n",
      "('Ujjain',)   0.0007390125781209675\n",
      "('Umarga',)   0.0005371717494773863\n",
      "('Umaria',)   9.920437691849859e-05\n",
      "('Umarkhed',)   0.0005923879565540808\n",
      "('Umbergaon',)   1.8729338403734898e-05\n",
      "('Umred',)   0.000791860727550979\n",
      "('Umreth',)   2.513584729520466e-05\n",
      "('Una',)   0.0005355379592762306\n",
      "('Unjha',)   0.0007721138242835266\n",
      "('Unnao',)   0.0008771419265754251\n",
      "('Upleta',)   0.0005003392367810657\n",
      "('Uran',)   0.00039512288368038573\n",
      "('Uran Islampur',)   0.00030020903164348147\n",
      "('Uravakonda',)   0.001636823896261862\n",
      "('Usilampatti',)   0.0005205789164467871\n",
      "('Uthamapalayam',)   0.0005782938751949117\n",
      "('Utraula',)   0.0008483580116965788\n",
      "('Vadakkuvalliyur',)   0.0003559485264073731\n",
      "('Vadalur',)   0.0006075637071952439\n",
      "('Vadipatti',)   0.00013803422121684003\n",
      "('Vadnagar',)   0.0003509893946318584\n",
      "('Vadodara',)   0.0006379062361354119\n",
      "('Vaijapur',)   0.0005177444534015806\n",
      "('Valparai',)   0.0006364336389676569\n",
      "('Valsad',)   0.0010423332639585183\n",
      "('Vandavasi',)   2.023258706240903e-05\n",
      "('Vaniyambadi',)   0.0\n",
      "('Vapi',)   0.0016078862403406196\n",
      "('Varanasi',)   2.0358106779394177e-10\n",
      "('Varkala',)   0.00030359333044592876\n",
      "('Vasai-Virar',)   0.0006615014996423277\n",
      "('Vatakara',)   0.0007396397169037029\n",
      "('Vedaranyam',)   7.491760199480019e-05\n",
      "('Vellakoil',)   0.0006692249416915419\n",
      "('Vellore',)   0.00016548697637021662\n",
      "('Venkatagiri',)   0.0005987973341189792\n",
      "('Veraval',)   0.0007582262917376821\n",
      "('Vidisha',)   0.0006984668808343481\n",
      "('Vijainagar Ajmer',)   0.00041203870799818237\n",
      "('Vijayapura',)   0.0014589231618841734\n",
      "('Vijayawada',)   5.4524959918453686e-05\n",
      "('Vikarabad',)   0.0002066881738713445\n",
      "('Vikramasingapuram',)   0.0003077218792240766\n",
      "('Viluppuram',)   3.6954148990220137e-06\n",
      "('Vinukonda',)   0.0004872908069276164\n",
      "('Viramgam',)   0.0008812244327219237\n",
      "('Virudhachalam',)   0.00018899801088207842\n",
      "('Virudhunagar',)   0.0003716926456577697\n",
      "('Visakhapatnam',)   0.0007924056236087389\n",
      "('Visnagar',)   0.0009826165358017421\n",
      "('Vita',)   0.0\n",
      "('Vizianagaram',)   0.00028304081925471786\n",
      "('Vrindavan',)   0.0004998031645770469\n",
      "('Vyara',)   0.0009468885768203945\n",
      "('Wadgaon Road',)   0.0007780864612598653\n",
      "('Wadhwan',)   0.0003093305521959107\n",
      "('Wadi',)   0.0002678564540316538\n",
      "('Wai',)   0.0003255862110673634\n",
      "('Wanaparthy',)   0.0001130562008718002\n",
      "('Wani',)   3.661874181202631e-05\n",
      "('Wankaner',)   0.00013737207296606082\n",
      "('Warangal',)   0.00021331002769762664\n",
      "('Wardha',)   0.00045097675941876503\n",
      "('Warisaliganj',)   9.290272729297338e-05\n",
      "('Warora',)   0.0008930449241921945\n",
      "('Washim',)   0.000663812956363561\n",
      "('Wokha',)   0.0007916238133008625\n",
      "('Yadgir',)   0.0007179657457987373\n",
      "('Yamunanagar',)   0.0008516758689140669\n",
      "('Yanam',)   0.0005869351041689253\n",
      "('Yavatmal',)   0.0006018598381630972\n",
      "('Yawal',)   0.00018612953872130391\n",
      "('Yellandu',)   0.0013551100924559967\n",
      "('Yemmiganur',)   0.00041383990597767417\n",
      "('Yerraguntla',)   0.000534869931732634\n",
      "('Yevla',)   5.596318423640189e-05\n",
      "('Zaidpur',)   0.0013316747594143852\n",
      "('Zamania',)   0.00022540756672629152\n",
      "('Zira',)   0.001142412204107531\n",
      "('Zirakpur',)   0.00047887105121881485\n",
      "('Zunheboto',)   0.00015747513373388187\n",
      "('Gold',)   0.02998471785032244\n",
      "('Platinum',)   0.02359674925329134\n",
      "('Signature',)   0.03647172311659657\n",
      "('Silver',)   0.02840599139952571\n",
      "Year   0.044435274744975474\n",
      "Months   0.13609318347861243\n",
      "Genders   0.010706132403474934\n"
     ]
    },
    {
     "data": {
      "text/plain": [
       "' Most IMportant feature is  - Months '"
      ]
     },
     "execution_count": 203,
     "metadata": {},
     "output_type": "execute_result"
    }
   ],
   "source": [
    "''' Seeing the most important features '''\n",
    "imp = forest_reg.feature_importances_\n",
    "col = X_train.columns\n",
    "\n",
    "for i in range( len(col) ) :\n",
    "    print(col[i] , \" \" , imp[i])\n",
    "\n",
    "''' Most IMportant feature is  - Months '''\n"
   ]
  },
  {
   "cell_type": "code",
   "execution_count": 204,
   "metadata": {},
   "outputs": [
    {
     "name": "stdout",
     "output_type": "stream",
     "text": [
      " the RMSE training error for Rand FOrest is 89472.19785496574\n"
     ]
    }
   ],
   "source": [
    "''' Find training error - MSE (y , y_hat) '''\n",
    "\n",
    "y_train_rand = forest_reg.predict( X_train )\n",
    "\n",
    "from sklearn.metrics import mean_squared_error\n",
    "\n",
    "error = mean_squared_error( y_train , y_train_rand)\n",
    "error = np.sqrt( error )\n",
    "\n",
    "print( f\" the RMSE training error for Rand FOrest is {error }\")"
   ]
  },
  {
   "cell_type": "code",
   "execution_count": 205,
   "metadata": {},
   "outputs": [],
   "source": [
    "# ''' Find ANother form of trainig error , cross validation score '''\n",
    "# from sklearn.model_selection import cross_val_score\n",
    "\n",
    "# score = cross_val_score( forest_reg , X_train , y_train , cv = 5  , scoring = \"neg_mean_squared_error\" )\n",
    "\n",
    "# print(score)\n",
    "\n",
    "# print( f\" The average of these Negative mean squared error in cross validation is {score.mean()}\")\n",
    "# ''' nearer to 0 ( negative MSE ) is good '''\n"
   ]
  },
  {
   "cell_type": "code",
   "execution_count": 206,
   "metadata": {},
   "outputs": [],
   "source": [
    "''' Doing prediction on Test Data '''\n",
    "\n",
    "y_test_rand = forest_reg.predict( X_test)\n"
   ]
  },
  {
   "cell_type": "code",
   "execution_count": 207,
   "metadata": {},
   "outputs": [
    {
     "name": "stdout",
     "output_type": "stream",
     "text": [
      " THe testing error(RMSE) for Random Forest Regressor model(before fine tuning) is = 112682.33253225303 \n"
     ]
    },
    {
     "data": {
      "text/plain": [
       "' Inference , testing error too high ( Very Wrong Predictions )'"
      ]
     },
     "execution_count": 207,
     "metadata": {},
     "output_type": "execute_result"
    }
   ],
   "source": [
    "''' Testing error '''\n",
    "\n",
    "test_error = np.sqrt(mean_squared_error( y_test , y_test_rand ) )\n",
    "\n",
    "print(f\" THe testing error(RMSE) for Random Forest Regressor model(before fine tuning) is = {test_error} \")\n",
    "\n",
    "''' Inference , testing error too high ( Very Wrong Predictions )'''"
   ]
  },
  {
   "cell_type": "code",
   "execution_count": 208,
   "metadata": {},
   "outputs": [
    {
     "name": "stdout",
     "output_type": "stream",
     "text": [
      "-0.16646552269517545\n"
     ]
    },
    {
     "data": {
      "text/plain": [
       "'  From R2 Score , we infer - Polynomial Regression  Model performing better '"
      ]
     },
     "execution_count": 208,
     "metadata": {},
     "output_type": "execute_result"
    }
   ],
   "source": [
    "from sklearn.metrics import r2_score\n",
    "\n",
    "print( r2_score ( y_test , y_test_rand ))\n",
    "\n",
    "'''  From R2 Score , we infer - Polynomial Regression  Model performing better '''"
   ]
  },
  {
   "cell_type": "code",
   "execution_count": 209,
   "metadata": {},
   "outputs": [],
   "source": [
    "# ''' Fine tune the Model '''\n",
    "\n",
    "# ''' THe ONly hyper param I am concerned about  - No of decision trees in Random Forest , SO use Grid Search > Randomized Sarch '''\n",
    "\n",
    "# from sklearn.model_selection import GridSearchCV \n",
    "\n",
    "# params = [ { \"n_estimators\" : [ 500 , 1000 ]} , { \"n_estimators\" : [ 100 , 200 , 300 ]  , \"bootstrap \" : [False]} ] \n",
    "\n",
    "# grid_search = GridSearchCV( forest_reg , params , cv = 5 )\n",
    "\n",
    "# grid_search.fit( X_train , y_train)"
   ]
  },
  {
   "cell_type": "code",
   "execution_count": 276,
   "metadata": {},
   "outputs": [
    {
     "data": {
      "text/plain": [
       "(5169,)"
      ]
     },
     "execution_count": 276,
     "metadata": {},
     "output_type": "execute_result"
    }
   ],
   "source": [
    "# '''  Drawing the Learnign Curve of Model - showing Training error and Validation error as a function of increasing dataset size '''\n",
    "\n",
    "# from sklearn.model_selection import train_test_split\n",
    "\n",
    "# X_t ,X_val , y_t, y_val = train_test_split( X_train[:100] , y_train[:100] , test_size=0.2 )\n",
    "\n",
    "\n",
    "# train_error =[]\n",
    "# val_error = []\n",
    "\n",
    "# for i in range(1 ,  len(X_t)) :\n",
    "#     X1 = X_t[:i]\n",
    "#     y1 = y_t[:i]\n",
    "#     forest_reg.fit(X1 , y1 )\n",
    "#     y_t_pred = forest_reg.predict(X1)\n",
    "\n",
    "#     y_val_pred = forest_reg.predict(X_val)\n",
    "    \n",
    "#     # validation set iss ame but as the model learns more , the validation score changes \n",
    "#     train_error.append( np.sqrt(mean_squared_error(y1 , y_t_pred)) )\n",
    "#     val_error.append( np.sqrt(mean_squared_error(y_val , y_val_pred)))\n",
    "\n",
    "# plt.plot ( range(1 , len(X_t)) , train_error , \"r--\" , label = \"Training_error \")\n",
    "# plt.plot( range( 1 , len(X_t)) , val_error , \"b--\" , label = \"Validation_error\")\n",
    "# plt.show()\n",
    "\n",
    "# ''' Model is highly underfitting , so MAybe , MAny outliers in data  '''\n",
    "# ''' After removing outliers , high improvement ( but model is highly overfitting now )'''\n",
    "\n",
    "y_qq.shape"
   ]
  },
  {
   "cell_type": "code",
   "execution_count": 287,
   "metadata": {},
   "outputs": [
    {
     "data": {
      "text/html": [
       "<style>#sk-container-id-12 {color: black;}#sk-container-id-12 pre{padding: 0;}#sk-container-id-12 div.sk-toggleable {background-color: white;}#sk-container-id-12 label.sk-toggleable__label {cursor: pointer;display: block;width: 100%;margin-bottom: 0;padding: 0.3em;box-sizing: border-box;text-align: center;}#sk-container-id-12 label.sk-toggleable__label-arrow:before {content: \"▸\";float: left;margin-right: 0.25em;color: #696969;}#sk-container-id-12 label.sk-toggleable__label-arrow:hover:before {color: black;}#sk-container-id-12 div.sk-estimator:hover label.sk-toggleable__label-arrow:before {color: black;}#sk-container-id-12 div.sk-toggleable__content {max-height: 0;max-width: 0;overflow: hidden;text-align: left;background-color: #f0f8ff;}#sk-container-id-12 div.sk-toggleable__content pre {margin: 0.2em;color: black;border-radius: 0.25em;background-color: #f0f8ff;}#sk-container-id-12 input.sk-toggleable__control:checked~div.sk-toggleable__content {max-height: 200px;max-width: 100%;overflow: auto;}#sk-container-id-12 input.sk-toggleable__control:checked~label.sk-toggleable__label-arrow:before {content: \"▾\";}#sk-container-id-12 div.sk-estimator input.sk-toggleable__control:checked~label.sk-toggleable__label {background-color: #d4ebff;}#sk-container-id-12 div.sk-label input.sk-toggleable__control:checked~label.sk-toggleable__label {background-color: #d4ebff;}#sk-container-id-12 input.sk-hidden--visually {border: 0;clip: rect(1px 1px 1px 1px);clip: rect(1px, 1px, 1px, 1px);height: 1px;margin: -1px;overflow: hidden;padding: 0;position: absolute;width: 1px;}#sk-container-id-12 div.sk-estimator {font-family: monospace;background-color: #f0f8ff;border: 1px dotted black;border-radius: 0.25em;box-sizing: border-box;margin-bottom: 0.5em;}#sk-container-id-12 div.sk-estimator:hover {background-color: #d4ebff;}#sk-container-id-12 div.sk-parallel-item::after {content: \"\";width: 100%;border-bottom: 1px solid gray;flex-grow: 1;}#sk-container-id-12 div.sk-label:hover label.sk-toggleable__label {background-color: #d4ebff;}#sk-container-id-12 div.sk-serial::before {content: \"\";position: absolute;border-left: 1px solid gray;box-sizing: border-box;top: 0;bottom: 0;left: 50%;z-index: 0;}#sk-container-id-12 div.sk-serial {display: flex;flex-direction: column;align-items: center;background-color: white;padding-right: 0.2em;padding-left: 0.2em;position: relative;}#sk-container-id-12 div.sk-item {position: relative;z-index: 1;}#sk-container-id-12 div.sk-parallel {display: flex;align-items: stretch;justify-content: center;background-color: white;position: relative;}#sk-container-id-12 div.sk-item::before, #sk-container-id-12 div.sk-parallel-item::before {content: \"\";position: absolute;border-left: 1px solid gray;box-sizing: border-box;top: 0;bottom: 0;left: 50%;z-index: -1;}#sk-container-id-12 div.sk-parallel-item {display: flex;flex-direction: column;z-index: 1;position: relative;background-color: white;}#sk-container-id-12 div.sk-parallel-item:first-child::after {align-self: flex-end;width: 50%;}#sk-container-id-12 div.sk-parallel-item:last-child::after {align-self: flex-start;width: 50%;}#sk-container-id-12 div.sk-parallel-item:only-child::after {width: 0;}#sk-container-id-12 div.sk-dashed-wrapped {border: 1px dashed gray;margin: 0 0.4em 0.5em 0.4em;box-sizing: border-box;padding-bottom: 0.4em;background-color: white;}#sk-container-id-12 div.sk-label label {font-family: monospace;font-weight: bold;display: inline-block;line-height: 1.2em;}#sk-container-id-12 div.sk-label-container {text-align: center;}#sk-container-id-12 div.sk-container {/* jupyter's `normalize.less` sets `[hidden] { display: none; }` but bootstrap.min.css set `[hidden] { display: none !important; }` so we also need the `!important` here to be able to override the default hidden behavior on the sphinx rendered scikit-learn.org. See: https://github.com/scikit-learn/scikit-learn/issues/21755 */display: inline-block !important;position: relative;}#sk-container-id-12 div.sk-text-repr-fallback {display: none;}</style><div id=\"sk-container-id-12\" class=\"sk-top-container\"><div class=\"sk-text-repr-fallback\"><pre>SGDRegressor(l1_ratio=0.5, penalty=&#x27;elasticnet&#x27;)</pre><b>In a Jupyter environment, please rerun this cell to show the HTML representation or trust the notebook. <br />On GitHub, the HTML representation is unable to render, please try loading this page with nbviewer.org.</b></div><div class=\"sk-container\" hidden><div class=\"sk-item\"><div class=\"sk-estimator sk-toggleable\"><input class=\"sk-toggleable__control sk-hidden--visually\" id=\"sk-estimator-id-12\" type=\"checkbox\" checked><label for=\"sk-estimator-id-12\" class=\"sk-toggleable__label sk-toggleable__label-arrow\">SGDRegressor</label><div class=\"sk-toggleable__content\"><pre>SGDRegressor(l1_ratio=0.5, penalty=&#x27;elasticnet&#x27;)</pre></div></div></div></div></div>"
      ],
      "text/plain": [
       "SGDRegressor(l1_ratio=0.5, penalty='elasticnet')"
      ]
     },
     "execution_count": 287,
     "metadata": {},
     "output_type": "execute_result"
    }
   ],
   "source": [
    "from sklearn.linear_model import SGDRegressor \n",
    "\n",
    "''' Elastic Net -  weighted sum of Ridge and LAsso regularization to prevent Overfitting'''\n",
    "sgd = SGDRegressor( penalty = \"elasticnet\" , l1_ratio= 0.5 )\n",
    "sgd.fit( X_q , y_q)\n"
   ]
  },
  {
   "cell_type": "code",
   "execution_count": 288,
   "metadata": {},
   "outputs": [
    {
     "name": "stdout",
     "output_type": "stream",
     "text": [
      " The trainin error RMSE for ElasticNet regularzied Linear Model  -858057621749449.1\n"
     ]
    }
   ],
   "source": [
    "''' RMSE training error'''\n",
    "y_train_elas = sgd.predict( X_q )\n",
    "\n",
    "score_elas  = np.sqrt(mean_squared_error( y_q , y_train_elas) )\n",
    "\n",
    "print( f\" The trainin error RMSE for ElasticNet regularzied Linear Model  -{score_elas}\")"
   ]
  },
  {
   "cell_type": "code",
   "execution_count": null,
   "metadata": {},
   "outputs": [
    {
     "name": "stdout",
     "output_type": "stream",
     "text": [
      "[-1.90167440e+30 -2.64952875e+28 -1.60650671e+28 -2.57884443e+30\n",
      " -1.10668185e+30]\n",
      " The average of these Negative mean squared error in cross validation is -1.1259522089914112e+30\n"
     ]
    },
    {
     "data": {
      "text/plain": [
       "' nearer to 0 ( negative MSE ) is good '"
      ]
     },
     "execution_count": 117,
     "metadata": {},
     "output_type": "execute_result"
    }
   ],
   "source": [
    "# ''' Find ANother form of trainig error , cross validation score '''\n",
    "\n",
    "\n",
    "# score = cross_val_score( sgd , X_train , y_train , cv = 5  , scoring = \"neg_mean_squared_error\" )\n",
    "\n",
    "# print(score)\n",
    "\n",
    "# print( f\" The average of these Negative mean squared error in cross validation is {score.mean()}\")\n",
    "# ''' nearer to 0 ( negative MSE ) is good '''\n"
   ]
  },
  {
   "cell_type": "code",
   "execution_count": 289,
   "metadata": {},
   "outputs": [],
   "source": [
    "y_hat_elas = sgd.predict(X_qq)"
   ]
  },
  {
   "cell_type": "code",
   "execution_count": 290,
   "metadata": {},
   "outputs": [
    {
     "name": "stdout",
     "output_type": "stream",
     "text": [
      " THe testing error(RMSE) for SGDRegressor with ElasticNet Regularization term added  model(before fine tuning) is = 858061580578832.9 \n"
     ]
    },
    {
     "data": {
      "text/plain": [
       "' Inference , testing error too high ( Very Wrong Predictions )'"
      ]
     },
     "execution_count": 290,
     "metadata": {},
     "output_type": "execute_result"
    }
   ],
   "source": [
    "''' Testing error '''\n",
    "\n",
    "test_error = np.sqrt(mean_squared_error( y_qq , y_hat_elas ) )\n",
    "\n",
    "print(f\" THe testing error(RMSE) for SGDRegressor with ElasticNet Regularization term added  model(before fine tuning) is = {test_error} \")\n",
    "\n",
    "''' Inference , testing error too high ( Very Wrong Predictions )'''"
   ]
  },
  {
   "cell_type": "code",
   "execution_count": 292,
   "metadata": {},
   "outputs": [],
   "source": [
    "# '''  Drawing the Learnign Curve of Model - showing Training error and Validation error as a function of increasing dataset size '''\n",
    "\n",
    "\n",
    "\n",
    "# X_t ,X_val , y_t, y_val = train_test_split( X_train[:100] , y_train[:100] , test_size=0.2 )\n",
    "\n",
    "\n",
    "# train_error =[]\n",
    "# val_error = []\n",
    "\n",
    "# for i in range(1 ,  len(X_t)) :\n",
    "#     X1 = X_t[:i]\n",
    "#     y1 = y_t[:i]\n",
    "#     sgd.fit(X1 , y1 )\n",
    "#     y_t_pred = sgd.predict(X1)\n",
    "\n",
    "#     y_val_pred = sgd.predict(X_val)\n",
    "    \n",
    "#     # validation set issame but as the model learns more , the validation score changes \n",
    "#     train_error.append( np.sqrt(mean_squared_error(y1 , y_t_pred)) )\n",
    "#     val_error.append( np.sqrt(mean_squared_error(y_val , y_val_pred)))\n",
    "\n",
    "# plt.plot ( range(1 , len(X_t)) , train_error , \"r--\" , label = \"Training_error \")\n",
    "# plt.plot( range( 1 , len(X_t)) , val_error , \"b--\" , label = \"Validation_error\")\n",
    "# plt.show()\n",
    "\n",
    "# ''' Highly Overfitting - Without removing the dataset '''"
   ]
  },
  {
   "cell_type": "code",
   "execution_count": 291,
   "metadata": {},
   "outputs": [
    {
     "name": "stdout",
     "output_type": "stream",
     "text": [
      "-9.686822585024193e+19\n"
     ]
    },
    {
     "data": {
      "text/plain": [
       "'  From R2 Score , we infer - SGD Regression  Model '"
      ]
     },
     "execution_count": 291,
     "metadata": {},
     "output_type": "execute_result"
    }
   ],
   "source": [
    "from sklearn.metrics import r2_score\n",
    "\n",
    "print( r2_score ( y_qq , y_hat_elas ))\n",
    "\n",
    "'''  From R2 Score , we infer - SGD Regression  Model '''"
   ]
  },
  {
   "cell_type": "code",
   "execution_count": 283,
   "metadata": {},
   "outputs": [
    {
     "data": {
      "text/plain": [
       "(20674, 993)"
      ]
     },
     "execution_count": 283,
     "metadata": {},
     "output_type": "execute_result"
    }
   ],
   "source": [
    "X_q.shape"
   ]
  },
  {
   "cell_type": "code",
   "execution_count": 218,
   "metadata": {},
   "outputs": [
    {
     "data": {
      "text/html": [
       "<style>#sk-container-id-10 {color: black;}#sk-container-id-10 pre{padding: 0;}#sk-container-id-10 div.sk-toggleable {background-color: white;}#sk-container-id-10 label.sk-toggleable__label {cursor: pointer;display: block;width: 100%;margin-bottom: 0;padding: 0.3em;box-sizing: border-box;text-align: center;}#sk-container-id-10 label.sk-toggleable__label-arrow:before {content: \"▸\";float: left;margin-right: 0.25em;color: #696969;}#sk-container-id-10 label.sk-toggleable__label-arrow:hover:before {color: black;}#sk-container-id-10 div.sk-estimator:hover label.sk-toggleable__label-arrow:before {color: black;}#sk-container-id-10 div.sk-toggleable__content {max-height: 0;max-width: 0;overflow: hidden;text-align: left;background-color: #f0f8ff;}#sk-container-id-10 div.sk-toggleable__content pre {margin: 0.2em;color: black;border-radius: 0.25em;background-color: #f0f8ff;}#sk-container-id-10 input.sk-toggleable__control:checked~div.sk-toggleable__content {max-height: 200px;max-width: 100%;overflow: auto;}#sk-container-id-10 input.sk-toggleable__control:checked~label.sk-toggleable__label-arrow:before {content: \"▾\";}#sk-container-id-10 div.sk-estimator input.sk-toggleable__control:checked~label.sk-toggleable__label {background-color: #d4ebff;}#sk-container-id-10 div.sk-label input.sk-toggleable__control:checked~label.sk-toggleable__label {background-color: #d4ebff;}#sk-container-id-10 input.sk-hidden--visually {border: 0;clip: rect(1px 1px 1px 1px);clip: rect(1px, 1px, 1px, 1px);height: 1px;margin: -1px;overflow: hidden;padding: 0;position: absolute;width: 1px;}#sk-container-id-10 div.sk-estimator {font-family: monospace;background-color: #f0f8ff;border: 1px dotted black;border-radius: 0.25em;box-sizing: border-box;margin-bottom: 0.5em;}#sk-container-id-10 div.sk-estimator:hover {background-color: #d4ebff;}#sk-container-id-10 div.sk-parallel-item::after {content: \"\";width: 100%;border-bottom: 1px solid gray;flex-grow: 1;}#sk-container-id-10 div.sk-label:hover label.sk-toggleable__label {background-color: #d4ebff;}#sk-container-id-10 div.sk-serial::before {content: \"\";position: absolute;border-left: 1px solid gray;box-sizing: border-box;top: 0;bottom: 0;left: 50%;z-index: 0;}#sk-container-id-10 div.sk-serial {display: flex;flex-direction: column;align-items: center;background-color: white;padding-right: 0.2em;padding-left: 0.2em;position: relative;}#sk-container-id-10 div.sk-item {position: relative;z-index: 1;}#sk-container-id-10 div.sk-parallel {display: flex;align-items: stretch;justify-content: center;background-color: white;position: relative;}#sk-container-id-10 div.sk-item::before, #sk-container-id-10 div.sk-parallel-item::before {content: \"\";position: absolute;border-left: 1px solid gray;box-sizing: border-box;top: 0;bottom: 0;left: 50%;z-index: -1;}#sk-container-id-10 div.sk-parallel-item {display: flex;flex-direction: column;z-index: 1;position: relative;background-color: white;}#sk-container-id-10 div.sk-parallel-item:first-child::after {align-self: flex-end;width: 50%;}#sk-container-id-10 div.sk-parallel-item:last-child::after {align-self: flex-start;width: 50%;}#sk-container-id-10 div.sk-parallel-item:only-child::after {width: 0;}#sk-container-id-10 div.sk-dashed-wrapped {border: 1px dashed gray;margin: 0 0.4em 0.5em 0.4em;box-sizing: border-box;padding-bottom: 0.4em;background-color: white;}#sk-container-id-10 div.sk-label label {font-family: monospace;font-weight: bold;display: inline-block;line-height: 1.2em;}#sk-container-id-10 div.sk-label-container {text-align: center;}#sk-container-id-10 div.sk-container {/* jupyter's `normalize.less` sets `[hidden] { display: none; }` but bootstrap.min.css set `[hidden] { display: none !important; }` so we also need the `!important` here to be able to override the default hidden behavior on the sphinx rendered scikit-learn.org. See: https://github.com/scikit-learn/scikit-learn/issues/21755 */display: inline-block !important;position: relative;}#sk-container-id-10 div.sk-text-repr-fallback {display: none;}</style><div id=\"sk-container-id-10\" class=\"sk-top-container\"><div class=\"sk-text-repr-fallback\"><pre>SVR()</pre><b>In a Jupyter environment, please rerun this cell to show the HTML representation or trust the notebook. <br />On GitHub, the HTML representation is unable to render, please try loading this page with nbviewer.org.</b></div><div class=\"sk-container\" hidden><div class=\"sk-item\"><div class=\"sk-estimator sk-toggleable\"><input class=\"sk-toggleable__control sk-hidden--visually\" id=\"sk-estimator-id-10\" type=\"checkbox\" checked><label for=\"sk-estimator-id-10\" class=\"sk-toggleable__label sk-toggleable__label-arrow\">SVR</label><div class=\"sk-toggleable__content\"><pre>SVR()</pre></div></div></div></div></div>"
      ],
      "text/plain": [
       "SVR()"
      ]
     },
     "execution_count": 218,
     "metadata": {},
     "output_type": "execute_result"
    }
   ],
   "source": [
    "from sklearn.svm import SVR\n",
    "\n",
    "# fit a NOn Linear Regression model on data\n",
    "''' Radial Basis FUnction Kernel '''\n",
    "\n",
    "svr_rbf = SVR(  kernel=\"rbf\" )\n",
    "# do wide margin regression \n",
    "svr_rbf.fit( X_train , y_train)"
   ]
  },
  {
   "cell_type": "code",
   "execution_count": 220,
   "metadata": {},
   "outputs": [
    {
     "name": "stdout",
     "output_type": "stream",
     "text": [
      " The trainin error RMSE for SVR  with simialrity function of RBF Model  -102783.83168126314\n"
     ]
    }
   ],
   "source": [
    "''' RMSE training error'''\n",
    "y_train_rbf = svr_rbf.predict( X_train )\n",
    "\n",
    "score_rbf  = np.sqrt(mean_squared_error( y_train  , y_train_rbf) )\n",
    "\n",
    "print( f\" The trainin error RMSE for SVR  with simialrity function of RBF Model  -{score_rbf}\")"
   ]
  },
  {
   "cell_type": "code",
   "execution_count": null,
   "metadata": {},
   "outputs": [],
   "source": [
    "# # fit a NOn Linear Regression model on data\n",
    "# ''' Poly Kernel '''\n",
    "\n",
    "# svr_poly = SVR(  kernel=\"poly\" )\n",
    "\n",
    "# svr_poly.fit( X_train , y_train)"
   ]
  },
  {
   "cell_type": "code",
   "execution_count": null,
   "metadata": {},
   "outputs": [],
   "source": [
    "# ''' Linear SVM , ( fitting amargin , wide street Find ANother form of trainig error , cross validation score '''\n",
    "\n",
    "\n",
    "# score = cross_val_score( Lin_svm , X_train , y_train , cv = 5  , scoring = \"neg_mean_squared_error\" )\n",
    "\n",
    "# print(score)\n",
    "\n",
    "# print( f\" The average of these Negative mean squared error in cross validation is {score.mean()}\")\n",
    "# ''' nearer to 0 ( negative MSE ) is good '''\n"
   ]
  },
  {
   "cell_type": "code",
   "execution_count": 223,
   "metadata": {},
   "outputs": [],
   "source": [
    "y_pred_rbf = svr_rbf.predict( X_test )\n"
   ]
  },
  {
   "cell_type": "code",
   "execution_count": null,
   "metadata": {},
   "outputs": [],
   "source": [
    "# y_pred_svr = svr.predict( X_test )\n"
   ]
  },
  {
   "cell_type": "code",
   "execution_count": 227,
   "metadata": {},
   "outputs": [
    {
     "name": "stdout",
     "output_type": "stream",
     "text": [
      " THe testing error(MSE) for SVR RBF for non linear regresion (before fine tuning) is = 10886712879.237543 \n"
     ]
    }
   ],
   "source": [
    "''' Testing error '''\n",
    "\n",
    "test_error_rbf = mean_squared_error( y_test , y_pred_rbf )\n",
    "\n",
    "print(f\" THe testing error(MSE) for SVR RBF for non linear regresion (before fine tuning) is = {test_error_rbf} \")\n"
   ]
  },
  {
   "cell_type": "code",
   "execution_count": null,
   "metadata": {},
   "outputs": [
    {
     "name": "stdout",
     "output_type": "stream",
     "text": [
      " THe testing error(MSE) for SVR  model(before fine tuning) is = 10886712879.237543 \n"
     ]
    },
    {
     "data": {
      "text/plain": [
       "' Inference , testing error too high ( Very Wrong Predictions )'"
      ]
     },
     "execution_count": 128,
     "metadata": {},
     "output_type": "execute_result"
    }
   ],
   "source": [
    "# ''' Testing error '''\n",
    "\n",
    "# test_error = mean_squared_error( y_test , y_pred_svr )\n",
    "\n",
    "# print(f\" THe testing error(MSE) for SVR  model(before fine tuning) is = {test_error} \")\n",
    "\n",
    "# ''' Inference , testing error too high ( Very Wrong Predictions )'''"
   ]
  },
  {
   "cell_type": "code",
   "execution_count": 228,
   "metadata": {},
   "outputs": [
    {
     "name": "stdout",
     "output_type": "stream",
     "text": [
      " R2 score for  SVM Non Linear Regressor is -0.00013130060280075462\n"
     ]
    },
    {
     "data": {
      "text/plain": [
       "'  Alittle Better'"
      ]
     },
     "execution_count": 228,
     "metadata": {},
     "output_type": "execute_result"
    }
   ],
   "source": [
    "score = r2_score( y_test , y_pred_rbf)\n",
    "\n",
    "print( f\" R2 score for  SVM Non Linear Regressor is {score}\")\n",
    "'''  Alittle Better'''"
   ]
  },
  {
   "cell_type": "code",
   "execution_count": null,
   "metadata": {},
   "outputs": [
    {
     "name": "stdout",
     "output_type": "stream",
     "text": [
      " R2 score for linear SVM Regressor is -0.0006488304067653328\n"
     ]
    },
    {
     "data": {
      "text/plain": [
       "'  Alittle Better'"
      ]
     },
     "execution_count": 132,
     "metadata": {},
     "output_type": "execute_result"
    }
   ],
   "source": [
    "# score = r2_score( y_test , y_pred_svm)\n",
    "\n",
    "# print( f\" R2 score for linear SVM Regressor is {score}\")\n",
    "# '''  Alittle Better'''"
   ]
  },
  {
   "cell_type": "code",
   "execution_count": 230,
   "metadata": {},
   "outputs": [
    {
     "data": {
      "text/plain": [
       "153702.9971967287"
      ]
     },
     "execution_count": 230,
     "metadata": {},
     "output_type": "execute_result"
    }
   ],
   "source": [
    "svr_rbf.predict(X_train[:1])[0]"
   ]
  },
  {
   "cell_type": "code",
   "execution_count": 237,
   "metadata": {},
   "outputs": [],
   "source": [
    "''' Making Ensemble of HYperparam Tuned Model '''\n",
    "\n",
    "def transaction_predictor( x ):\n",
    "    # x - feature instance \n",
    "    pred1 = forest_reg.predict( x)\n",
    "    pred2 = sgd.predict( x)\n",
    "    pred3 = svr.predict( x)\n",
    "\n",
    "    return (pred1+pred2+pred3)/3\n"
   ]
  },
  {
   "cell_type": "code",
   "execution_count": 240,
   "metadata": {},
   "outputs": [
    {
     "data": {
      "text/plain": [
       "-1.9061261264826225e+19"
      ]
     },
     "execution_count": 240,
     "metadata": {},
     "output_type": "execute_result"
    }
   ],
   "source": [
    "y_t = transaction_predictor( X_test )\n",
    "\n",
    "r2_score( y_test , y_t )"
   ]
  },
  {
   "cell_type": "code",
   "execution_count": null,
   "metadata": {},
   "outputs": [
    {
     "data": {
      "text/plain": [
       "' Pickling the Model and Running the Streamlit function '"
      ]
     },
     "execution_count": 131,
     "metadata": {},
     "output_type": "execute_result"
    }
   ],
   "source": [
    "''' Pickling the Model and Running the Streamlit function '''\n",
    "\n",
    "# with open('forest_reg.pkl', 'wb') as file:\n",
    "#     pickle.dump(forest_reg, file)\n",
    "\n",
    "# import streamlit as st \n",
    "# # !streamlit run test.py "
   ]
  },
  {
   "cell_type": "code",
   "execution_count": 243,
   "metadata": {},
   "outputs": [
    {
     "data": {
      "text/plain": [
       "-5.210787972355896e+19"
      ]
     },
     "execution_count": 243,
     "metadata": {},
     "output_type": "execute_result"
    }
   ],
   "source": [
    "y_t1 = transaction_predictor( X_test[-10:] )\n",
    "\n",
    "r2_score( y_test[:] , y_t1 )"
   ]
  },
  {
   "cell_type": "code",
   "execution_count": 245,
   "metadata": {},
   "outputs": [
    {
     "data": {
      "text/plain": [
       "(20841,)"
      ]
     },
     "execution_count": 245,
     "metadata": {},
     "output_type": "execute_result"
    }
   ],
   "source": [
    "y_train.shape"
   ]
  },
  {
   "cell_type": "code",
   "execution_count": null,
   "metadata": {},
   "outputs": [],
   "source": []
  }
 ],
 "metadata": {
  "kernelspec": {
   "display_name": "Python 3",
   "language": "python",
   "name": "python3"
  },
  "language_info": {
   "codemirror_mode": {
    "name": "ipython",
    "version": 3
   },
   "file_extension": ".py",
   "mimetype": "text/x-python",
   "name": "python",
   "nbconvert_exporter": "python",
   "pygments_lexer": "ipython3",
   "version": "3.8.2"
  }
 },
 "nbformat": 4,
 "nbformat_minor": 2
}
