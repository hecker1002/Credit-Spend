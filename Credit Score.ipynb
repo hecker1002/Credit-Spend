{
 "cells": [
  {
   "cell_type": "code",
   "execution_count": 77,
   "metadata": {},
   "outputs": [],
   "source": [
    "import warnings \n",
    "warnings.filterwarnings('ignore')\n",
    "\n",
    "import numpy as np \n",
    "import pandas as pd \n",
    "import matplotlib.pyplot as plt \n",
    "import seaborn as sns \n",
    "from mpl_toolkits import mplot3d\n",
    "import pickle # convert model into bytestream\n",
    "\n",
    "pd.options.mode.chained_assignment = None "
   ]
  },
  {
   "cell_type": "code",
   "execution_count": 78,
   "metadata": {},
   "outputs": [],
   "source": [
    "data = pd.read_csv('D:\\This Project\\Credit Spend\\CreditCards.csv')"
   ]
  },
  {
   "cell_type": "code",
   "execution_count": 79,
   "metadata": {},
   "outputs": [
    {
     "data": {
      "text/plain": [
       "' \\ngiven ->> amount of transaction at one go for a person \\n\\nAim ->  to predict transaction for a person in particular month , gender , card type \\n\\n    -> cluster customers based on card type , amount and gender and give reminder of saving and amount to\\n save to customers spending more frequently \\n\\n \\nNEW AIMS - Include YOur Knowledge about Quants( how Credits , Equities work in market ) \\n      -  Also uae a RNN to analyze transctino amnt of indiviudla users and do future prediction basedon prev transaction (RNN)\\n'"
      ]
     },
     "execution_count": 79,
     "metadata": {},
     "output_type": "execute_result"
    }
   ],
   "source": [
    "''' \n",
    "given ->> amount of transaction at one go for a person \n",
    "\n",
    "Aim ->  to predict transaction for a person in particular month , gender , card type \n",
    "\n",
    "    -> cluster customers based on card type , amount and gender and give reminder of saving and amount to\n",
    " save to customers spending more frequently \n",
    "\n",
    " \n",
    "NEW AIMS - Include YOur Knowledge about Quants( how Credits , Equities work in market ) \n",
    "      -  Also uae a RNN to analyze transctino amnt of indiviudla users and do future prediction basedon prev transaction (RNN)\n",
    "'''"
   ]
  },
  {
   "cell_type": "code",
   "execution_count": 80,
   "metadata": {},
   "outputs": [
    {
     "name": "stdout",
     "output_type": "stream",
     "text": [
      "<class 'pandas.core.frame.DataFrame'>\n",
      "RangeIndex: 26054 entries, 0 to 26053\n",
      "Data columns (total 9 columns):\n",
      " #   Column     Non-Null Count  Dtype  \n",
      "---  ------     --------------  -----  \n",
      " 0   index      26052 non-null  float64\n",
      " 1   City       26052 non-null  object \n",
      " 2   Date       26054 non-null  object \n",
      " 3   Card Type  26052 non-null  object \n",
      " 4   Exp Type   26052 non-null  object \n",
      " 5   Gender     26052 non-null  object \n",
      " 6   Amount     26052 non-null  float64\n",
      " 7   Year       26052 non-null  float64\n",
      " 8   Month      26052 non-null  object \n",
      "dtypes: float64(3), object(6)\n",
      "memory usage: 1.8+ MB\n"
     ]
    }
   ],
   "source": [
    "data.info()\n",
    "\n",
    "''' 2 rows are empty '''\n",
    "\n",
    "data.dropna( inplace = True )"
   ]
  },
  {
   "cell_type": "code",
   "execution_count": 81,
   "metadata": {},
   "outputs": [
    {
     "data": {
      "text/plain": [
       "'  Numericla attributes only'"
      ]
     },
     "execution_count": 81,
     "metadata": {},
     "output_type": "execute_result"
    }
   ],
   "source": [
    "data.describe() \n",
    "'''  Numericla attributes only'''"
   ]
  },
  {
   "cell_type": "code",
   "execution_count": 82,
   "metadata": {},
   "outputs": [],
   "source": [
    "''' Removing 'India' name from City  and adding a new field of cities '''\n",
    "\n",
    "\n",
    "def extract_city ( col ) :\n",
    "    cities = []\n",
    "    rows = len(col) \n",
    "    for i in range(rows ) :\n",
    "\n",
    "        st = data.loc[i]['City']\n",
    "        city = st.split(',')[0]\n",
    "        cities.append(city )\n",
    "    \n",
    "    return cities \n",
    "\n",
    "cities = extract_city( data['City'])\n",
    "\n",
    "data.drop( 'City' , axis=1 , inplace= True )"
   ]
  },
  {
   "cell_type": "code",
   "execution_count": 83,
   "metadata": {},
   "outputs": [],
   "source": [
    "'''  Adding this new field of only cities ''' \n",
    "\n",
    "data['Cities'] = cities \n"
   ]
  },
  {
   "cell_type": "code",
   "execution_count": 84,
   "metadata": {},
   "outputs": [],
   "source": [
    "''' Dropping the Date & Index Column since Month ( festivities) are already given '''\n",
    "\n",
    "data = data.drop( ['Date' , 'index' ] , axis = 1 )\n"
   ]
  },
  {
   "cell_type": "code",
   "execution_count": 85,
   "metadata": {},
   "outputs": [
    {
     "data": {
      "text/html": [
       "<div>\n",
       "<style scoped>\n",
       "    .dataframe tbody tr th:only-of-type {\n",
       "        vertical-align: middle;\n",
       "    }\n",
       "\n",
       "    .dataframe tbody tr th {\n",
       "        vertical-align: top;\n",
       "    }\n",
       "\n",
       "    .dataframe thead th {\n",
       "        text-align: right;\n",
       "    }\n",
       "</style>\n",
       "<table border=\"1\" class=\"dataframe\">\n",
       "  <thead>\n",
       "    <tr style=\"text-align: right;\">\n",
       "      <th></th>\n",
       "      <th>Card Type</th>\n",
       "      <th>Exp Type</th>\n",
       "      <th>Gender</th>\n",
       "      <th>Amount</th>\n",
       "      <th>Year</th>\n",
       "      <th>Month</th>\n",
       "      <th>Cities</th>\n",
       "    </tr>\n",
       "  </thead>\n",
       "  <tbody>\n",
       "    <tr>\n",
       "      <th>0</th>\n",
       "      <td>Gold</td>\n",
       "      <td>Bills</td>\n",
       "      <td>F</td>\n",
       "      <td>82475.0</td>\n",
       "      <td>2014.0</td>\n",
       "      <td>October</td>\n",
       "      <td>Delhi</td>\n",
       "    </tr>\n",
       "    <tr>\n",
       "      <th>1</th>\n",
       "      <td>Platinum</td>\n",
       "      <td>Bills</td>\n",
       "      <td>F</td>\n",
       "      <td>32555.0</td>\n",
       "      <td>2014.0</td>\n",
       "      <td>August</td>\n",
       "      <td>Greater Mumbai</td>\n",
       "    </tr>\n",
       "    <tr>\n",
       "      <th>2</th>\n",
       "      <td>Silver</td>\n",
       "      <td>Bills</td>\n",
       "      <td>F</td>\n",
       "      <td>101738.0</td>\n",
       "      <td>2014.0</td>\n",
       "      <td>August</td>\n",
       "      <td>Bengaluru</td>\n",
       "    </tr>\n",
       "    <tr>\n",
       "      <th>3</th>\n",
       "      <td>Signature</td>\n",
       "      <td>Bills</td>\n",
       "      <td>F</td>\n",
       "      <td>123424.0</td>\n",
       "      <td>2014.0</td>\n",
       "      <td>April</td>\n",
       "      <td>Greater Mumbai</td>\n",
       "    </tr>\n",
       "    <tr>\n",
       "      <th>4</th>\n",
       "      <td>Gold</td>\n",
       "      <td>Bills</td>\n",
       "      <td>F</td>\n",
       "      <td>171574.0</td>\n",
       "      <td>2015.0</td>\n",
       "      <td>May</td>\n",
       "      <td>Bengaluru</td>\n",
       "    </tr>\n",
       "  </tbody>\n",
       "</table>\n",
       "</div>"
      ],
      "text/plain": [
       "   Card Type Exp Type Gender    Amount    Year    Month          Cities\n",
       "0       Gold    Bills      F   82475.0  2014.0  October           Delhi\n",
       "1   Platinum    Bills      F   32555.0  2014.0   August  Greater Mumbai\n",
       "2     Silver    Bills      F  101738.0  2014.0   August       Bengaluru\n",
       "3  Signature    Bills      F  123424.0  2014.0    April  Greater Mumbai\n",
       "4       Gold    Bills      F  171574.0  2015.0      May       Bengaluru"
      ]
     },
     "execution_count": 85,
     "metadata": {},
     "output_type": "execute_result"
    }
   ],
   "source": [
    "data.head()"
   ]
  },
  {
   "cell_type": "code",
   "execution_count": 86,
   "metadata": {},
   "outputs": [
    {
     "name": "stdout",
     "output_type": "stream",
     "text": [
      " Per month , there have been , Average 2171.0 transactions \n"
     ]
    }
   ],
   "source": [
    "''' Some inferences from the RAW dataset '''\n",
    "\n",
    "'''  Average amount of transactions per month FOr all population  '''\n",
    "\n",
    "avg_trans_month = len( data['Amount']) / 12 \n",
    "\n",
    "print( f\" Per month , there have been , Average {avg_trans_month} transactions \" )\n",
    "\n"
   ]
  },
  {
   "cell_type": "code",
   "execution_count": 146,
   "metadata": {},
   "outputs": [
    {
     "data": {
      "text/html": [
       "<div>\n",
       "<style scoped>\n",
       "    .dataframe tbody tr th:only-of-type {\n",
       "        vertical-align: middle;\n",
       "    }\n",
       "\n",
       "    .dataframe tbody tr th {\n",
       "        vertical-align: top;\n",
       "    }\n",
       "\n",
       "    .dataframe thead th {\n",
       "        text-align: right;\n",
       "    }\n",
       "</style>\n",
       "<table border=\"1\" class=\"dataframe\">\n",
       "  <thead>\n",
       "    <tr style=\"text-align: right;\">\n",
       "      <th></th>\n",
       "      <th>(Achalpur,)</th>\n",
       "      <th>(Adilabad,)</th>\n",
       "      <th>(Adityapur,)</th>\n",
       "      <th>(Adoni,)</th>\n",
       "      <th>(Adoor,)</th>\n",
       "      <th>(Afzalpur,)</th>\n",
       "      <th>(Agartala,)</th>\n",
       "      <th>(Agra,)</th>\n",
       "      <th>(Ahmedabad,)</th>\n",
       "      <th>(Ahmednagar,)</th>\n",
       "      <th>...</th>\n",
       "      <th>(Zirakpur,)</th>\n",
       "      <th>(Zunheboto,)</th>\n",
       "      <th>(Gold,)</th>\n",
       "      <th>(Platinum,)</th>\n",
       "      <th>(Signature,)</th>\n",
       "      <th>(Silver,)</th>\n",
       "      <th>Amount</th>\n",
       "      <th>Year</th>\n",
       "      <th>Months</th>\n",
       "      <th>Genders</th>\n",
       "    </tr>\n",
       "  </thead>\n",
       "  <tbody>\n",
       "    <tr>\n",
       "      <th>0</th>\n",
       "      <td>0.0</td>\n",
       "      <td>0.0</td>\n",
       "      <td>0.0</td>\n",
       "      <td>0.0</td>\n",
       "      <td>0.0</td>\n",
       "      <td>0.0</td>\n",
       "      <td>0.0</td>\n",
       "      <td>0.0</td>\n",
       "      <td>0.0</td>\n",
       "      <td>0.0</td>\n",
       "      <td>...</td>\n",
       "      <td>0.0</td>\n",
       "      <td>0.0</td>\n",
       "      <td>1.0</td>\n",
       "      <td>0.0</td>\n",
       "      <td>0.0</td>\n",
       "      <td>0.0</td>\n",
       "      <td>82475.0</td>\n",
       "      <td>2014.0</td>\n",
       "      <td>10.0</td>\n",
       "      <td>0.0</td>\n",
       "    </tr>\n",
       "    <tr>\n",
       "      <th>1</th>\n",
       "      <td>0.0</td>\n",
       "      <td>0.0</td>\n",
       "      <td>0.0</td>\n",
       "      <td>0.0</td>\n",
       "      <td>0.0</td>\n",
       "      <td>0.0</td>\n",
       "      <td>0.0</td>\n",
       "      <td>0.0</td>\n",
       "      <td>0.0</td>\n",
       "      <td>0.0</td>\n",
       "      <td>...</td>\n",
       "      <td>0.0</td>\n",
       "      <td>0.0</td>\n",
       "      <td>0.0</td>\n",
       "      <td>1.0</td>\n",
       "      <td>0.0</td>\n",
       "      <td>0.0</td>\n",
       "      <td>32555.0</td>\n",
       "      <td>2014.0</td>\n",
       "      <td>1.0</td>\n",
       "      <td>0.0</td>\n",
       "    </tr>\n",
       "    <tr>\n",
       "      <th>2</th>\n",
       "      <td>0.0</td>\n",
       "      <td>0.0</td>\n",
       "      <td>0.0</td>\n",
       "      <td>0.0</td>\n",
       "      <td>0.0</td>\n",
       "      <td>0.0</td>\n",
       "      <td>0.0</td>\n",
       "      <td>0.0</td>\n",
       "      <td>0.0</td>\n",
       "      <td>0.0</td>\n",
       "      <td>...</td>\n",
       "      <td>0.0</td>\n",
       "      <td>0.0</td>\n",
       "      <td>0.0</td>\n",
       "      <td>0.0</td>\n",
       "      <td>0.0</td>\n",
       "      <td>1.0</td>\n",
       "      <td>101738.0</td>\n",
       "      <td>2014.0</td>\n",
       "      <td>1.0</td>\n",
       "      <td>0.0</td>\n",
       "    </tr>\n",
       "    <tr>\n",
       "      <th>3</th>\n",
       "      <td>0.0</td>\n",
       "      <td>0.0</td>\n",
       "      <td>0.0</td>\n",
       "      <td>0.0</td>\n",
       "      <td>0.0</td>\n",
       "      <td>0.0</td>\n",
       "      <td>0.0</td>\n",
       "      <td>0.0</td>\n",
       "      <td>0.0</td>\n",
       "      <td>0.0</td>\n",
       "      <td>...</td>\n",
       "      <td>0.0</td>\n",
       "      <td>0.0</td>\n",
       "      <td>0.0</td>\n",
       "      <td>0.0</td>\n",
       "      <td>1.0</td>\n",
       "      <td>0.0</td>\n",
       "      <td>123424.0</td>\n",
       "      <td>2014.0</td>\n",
       "      <td>0.0</td>\n",
       "      <td>0.0</td>\n",
       "    </tr>\n",
       "    <tr>\n",
       "      <th>4</th>\n",
       "      <td>0.0</td>\n",
       "      <td>0.0</td>\n",
       "      <td>0.0</td>\n",
       "      <td>0.0</td>\n",
       "      <td>0.0</td>\n",
       "      <td>0.0</td>\n",
       "      <td>0.0</td>\n",
       "      <td>0.0</td>\n",
       "      <td>0.0</td>\n",
       "      <td>0.0</td>\n",
       "      <td>...</td>\n",
       "      <td>0.0</td>\n",
       "      <td>0.0</td>\n",
       "      <td>1.0</td>\n",
       "      <td>0.0</td>\n",
       "      <td>0.0</td>\n",
       "      <td>0.0</td>\n",
       "      <td>171574.0</td>\n",
       "      <td>2015.0</td>\n",
       "      <td>8.0</td>\n",
       "      <td>0.0</td>\n",
       "    </tr>\n",
       "  </tbody>\n",
       "</table>\n",
       "<p>5 rows × 994 columns</p>\n",
       "</div>"
      ],
      "text/plain": [
       "   (Achalpur,)  (Adilabad,)  (Adityapur,)  (Adoni,)  (Adoor,)  (Afzalpur,)  \\\n",
       "0          0.0          0.0           0.0       0.0       0.0          0.0   \n",
       "1          0.0          0.0           0.0       0.0       0.0          0.0   \n",
       "2          0.0          0.0           0.0       0.0       0.0          0.0   \n",
       "3          0.0          0.0           0.0       0.0       0.0          0.0   \n",
       "4          0.0          0.0           0.0       0.0       0.0          0.0   \n",
       "\n",
       "   (Agartala,)  (Agra,)  (Ahmedabad,)  (Ahmednagar,)  ...  (Zirakpur,)  \\\n",
       "0          0.0      0.0           0.0            0.0  ...          0.0   \n",
       "1          0.0      0.0           0.0            0.0  ...          0.0   \n",
       "2          0.0      0.0           0.0            0.0  ...          0.0   \n",
       "3          0.0      0.0           0.0            0.0  ...          0.0   \n",
       "4          0.0      0.0           0.0            0.0  ...          0.0   \n",
       "\n",
       "   (Zunheboto,)  (Gold,)  (Platinum,)  (Signature,)  (Silver,)    Amount  \\\n",
       "0           0.0      1.0          0.0           0.0        0.0   82475.0   \n",
       "1           0.0      0.0          1.0           0.0        0.0   32555.0   \n",
       "2           0.0      0.0          0.0           0.0        1.0  101738.0   \n",
       "3           0.0      0.0          0.0           1.0        0.0  123424.0   \n",
       "4           0.0      1.0          0.0           0.0        0.0  171574.0   \n",
       "\n",
       "     Year  Months  Genders  \n",
       "0  2014.0    10.0      0.0  \n",
       "1  2014.0     1.0      0.0  \n",
       "2  2014.0     1.0      0.0  \n",
       "3  2014.0     0.0      0.0  \n",
       "4  2015.0     8.0      0.0  \n",
       "\n",
       "[5 rows x 994 columns]"
      ]
     },
     "execution_count": 146,
     "metadata": {},
     "output_type": "execute_result"
    }
   ],
   "source": [
    "data.head()"
   ]
  },
  {
   "cell_type": "code",
   "execution_count": 89,
   "metadata": {},
   "outputs": [
    {
     "data": {
      "image/png": "[encoded data removed]",
      "text/plain": [
       "<Figure size 1200x500 with 1 Axes>"
      ]
     },
     "metadata": {},
     "output_type": "display_data"
    }
   ],
   "source": [
    "'''  Seeinf Expense made  MOnth-Wise '''\n",
    "\n",
    "data['Month'].hist(bins  =50 ,  figsize  = (12 , 5))\n",
    "plt.show()"
   ]
  },
  {
   "cell_type": "code",
   "execution_count": 90,
   "metadata": {},
   "outputs": [
    {
     "data": {
      "image/png": "[encoded data removed]",
      "text/plain": [
       "<Figure size 640x480 with 1 Axes>"
      ]
     },
     "metadata": {},
     "output_type": "display_data"
    },
    {
     "data": {
      "text/plain": [
       "Card Type\n",
       "Silver       6840\n",
       "Signature    6447\n",
       "Platinum     6398\n",
       "Gold         6367\n",
       "Name: count, dtype: int64"
      ]
     },
     "execution_count": 90,
     "metadata": {},
     "output_type": "execute_result"
    }
   ],
   "source": [
    "data.plot( kind  = 'scatter' , x = 'Card Type' , y = 'Amount')\n",
    "\n",
    "plt.show()\n",
    "\n",
    "data['Card Type'].value_counts()"
   ]
  },
  {
   "cell_type": "code",
   "execution_count": 91,
   "metadata": {},
   "outputs": [
    {
     "data": {
      "image/png": "[encoded data removed]",
      "text/plain": [
       "<Figure size 640x480 with 1 Axes>"
      ]
     },
     "metadata": {},
     "output_type": "display_data"
    },
    {
     "data": {
      "text/plain": [
       "' HIhest Amount of Transactions have been made from the Platinum Card > Gold Card \\nInference ->  Platinum Card is More Powerful .\\n'"
      ]
     },
     "execution_count": 91,
     "metadata": {},
     "output_type": "execute_result"
    }
   ],
   "source": [
    "''' More than 5.0 lakh ruppes transaction from the Card Type '''\n",
    "\n",
    "df2 = data[  data['Amount'] >= 500000]\n",
    "\n",
    "df2.plot( kind  = 'scatter' , x = 'Card Type' , y = 'Amount')\n",
    "\n",
    "plt.show()\n",
    "\n",
    "df2['Card Type'].value_counts()\n",
    "\n",
    "''' HIhest Amount of Transactions have been made from the Platinum Card > Gold Card \n",
    "Inference ->  Platinum Card is More Powerful .\n",
    "'''\n"
   ]
  },
  {
   "cell_type": "code",
   "execution_count": 92,
   "metadata": {},
   "outputs": [
    {
     "data": {
      "text/plain": [
       "' Inference  -  1 LAkh to 3 Lakhs transactions are highest '"
      ]
     },
     "execution_count": 92,
     "metadata": {},
     "output_type": "execute_result"
    },
    {
     "data": {
      "image/png": "[encoded data removed]",
      "text/plain": [
       "<Figure size 640x480 with 1 Axes>"
      ]
     },
     "metadata": {},
     "output_type": "display_data"
    }
   ],
   "source": [
    "''' Categorise the Amount of Transaction and see Which range amount has been drawn more '''\n",
    "data1 = data.copy()\n",
    "data1['Amount'] = pd.cut( data1['Amount'] , bins = [ 0 , 100000 ,  200000 ,  300000 ,  400000 ,  500000 ,  600000 ,  700000 ,  800000 ,  900000 , np.inf] ,\n",
    "                          labels = [1,2,3,4,5,6,7,8,9,10])\n",
    "from sklearn.preprocessing import MinMaxScaler\n",
    "\n",
    "min_max = MinMaxScaler()\n",
    "min_max.fit_transform(data1[['Amount']] ) \n",
    "\n",
    "data1['Amount'].hist( bins = 20 )\n",
    "\n",
    "''' Inference  -  1 LAkh to 3 Lakhs transactions are highest '''"
   ]
  },
  {
   "cell_type": "code",
   "execution_count": 93,
   "metadata": {},
   "outputs": [],
   "source": [
    "''' Dummy data '''\n",
    "dummy = data.copy() \n"
   ]
  },
  {
   "cell_type": "code",
   "execution_count": 94,
   "metadata": {},
   "outputs": [
    {
     "data": {
      "text/plain": [
       "' DO feature Scaling after splititng the Dataset '"
      ]
     },
     "execution_count": 94,
     "metadata": {},
     "output_type": "execute_result"
    }
   ],
   "source": [
    "# '''  Standarizing the amount Data ( making variance  = 1) and seeing its dsitrbution )( Amount  -> Continuous Random Variable )'''\n",
    "\n",
    "# from sklearn.preprocessing import StandardScaler \n",
    "\n",
    "# std_scale = StandardScaler()\n",
    "\n",
    "# dummy['Amount']  = std_scale.fit_transform( dummy[['Amount']])\n",
    "\n",
    "\n",
    "''' DO feature Scaling after splititng the Dataset '''"
   ]
  },
  {
   "cell_type": "code",
   "execution_count": 95,
   "metadata": {},
   "outputs": [
    {
     "data": {
      "image/png": "[encoded data removed]",
      "text/plain": [
       "<Figure size 500x500 with 1 Axes>"
      ]
     },
     "metadata": {},
     "output_type": "display_data"
    },
    {
     "data": {
      "text/plain": [
       "' pdf is higly skewed ( right / positive skewed ) Since people exxpending high Amount of money is usually less in a normal society \\nmost are middle class ( mean > median) , so use median to represent data since its least affected by outliers or spread of data  '"
      ]
     },
     "execution_count": 95,
     "metadata": {},
     "output_type": "execute_result"
    }
   ],
   "source": [
    "''' Visualizing the pdf of Scaled Amount  '''\n",
    "\n",
    "# dummy['Amount'].hist ( bins  = 100 )\n",
    "sns.displot( dummy['Amount'] , bins = 100  )\n",
    "plt.show()\n",
    "\n",
    "''' pdf is higly skewed ( right / positive skewed ) Since people exxpending high Amount of money is usually less in a normal society \n",
    "most are middle class ( mean > median) , so use median to represent data since its least affected by outliers or spread of data  '''"
   ]
  },
  {
   "cell_type": "code",
   "execution_count": 96,
   "metadata": {},
   "outputs": [],
   "source": [
    "'''  Use Ordinal Encoder to encode Months , since they have rwaaltion b/w them  '''\n",
    "from sklearn.preprocessing import OrdinalEncoder\n",
    "\n",
    "\n",
    "def ordinal_encode( col , data , newColName   ) : \n",
    "    ord_encode = OrdinalEncoder()\n",
    "    newCol = ord_encode.fit_transform( data[[ col ]])\n",
    "    newCols   = pd.DataFrame ( newCol, columns  = [ newColName] )\n",
    "    data  = pd.concat( [data , newCols ] , axis =1 )\n",
    "    data = data.drop( col  , axis = 1 )\n",
    "    return data \n",
    "\n",
    "data  = ordinal_encode( 'Month' , data , 'Months' )\n",
    "data = ordinal_encode('Gender' , data , 'Genders')\n",
    "\n",
    "# data = ordinal_encode( 'Exp Type' , data  , 'Exp Type')\n",
    "data.drop( ['Exp Type'] ,axis =1 , inplace=  True  )"
   ]
  },
  {
   "cell_type": "code",
   "execution_count": 97,
   "metadata": {},
   "outputs": [],
   "source": [
    "'''Doing Onr-Hot-encoding on the cattegorical data ( Card , Gender  )'''\n",
    "\n",
    "from sklearn.preprocessing import OneHotEncoder \n",
    "\n",
    "\n",
    "def one_hot_encode ( col , data ) :\n",
    "    encoder = OneHotEncoder( sparse = False )\n",
    "    df1 = encoder.fit_transform( data[[ col ]] )\n",
    "    encoded_df = pd.DataFrame ( df1 , columns  = encoder.categories_)\n",
    "    data = pd.concat( [ encoded_df , data ] , axis =1 )\n",
    "    data.drop( [ col ] , axis =1 , inplace = True )\n",
    "    return data \n",
    "\n",
    "\n",
    "data = one_hot_encode( 'Card Type' , data )\n",
    "data  = one_hot_encode( 'Cities' , data )\n",
    "\n"
   ]
  },
  {
   "cell_type": "code",
   "execution_count": 98,
   "metadata": {},
   "outputs": [
    {
     "data": {
      "image/png": "[encoded data removed]",
      "text/plain": [
       "<Figure size 640x480 with 2 Axes>"
      ]
     },
     "metadata": {},
     "output_type": "display_data"
    },
    {
     "name": "stdout",
     "output_type": "stream",
     "text": [
      "(Achalpur,)     0.003987\n",
      "(Adilabad,)     0.003904\n",
      "(Adityapur,)    0.000626\n",
      "(Adoni,)        0.003360\n",
      "(Adoor,)       -0.010161\n",
      "                  ...   \n",
      "(Silver,)      -0.000204\n",
      "Amount          1.000000\n",
      "Year            0.009809\n",
      "Months         -0.007141\n",
      "Genders        -0.048928\n",
      "Name: Amount, Length: 994, dtype: float64\n"
     ]
    }
   ],
   "source": [
    "''' To find the Most important feature , we use Correlation Matrix \n",
    "and find correaltion of Amount( target var) wrt each column \n",
    "'''\n",
    "\n",
    "corr = data.corr()\n",
    "\n",
    "sns.heatmap( corr[['Amount']].transpose()  , vmin = -1 , vmax =1 )\n",
    "\n",
    "plt.show()\n",
    "\n",
    "print( corr['Amount'])"
   ]
  },
  {
   "cell_type": "code",
   "execution_count": 99,
   "metadata": {},
   "outputs": [],
   "source": [
    "'''  Train Test split on the dataset and make sure the test dataset has NO sampling bias ( use Stratified Sampling Technique )\n",
    "     Target Variable -  Amount \n",
    "\n",
    "     and Based on Correaltion matrix , most important features are  -  BIlls and Gender \n",
    "     But by intutuin , I think Months , BIlls and Gender are good features to ccorealte column of Amount with \n",
    "     hence , \n",
    "     Most Important Feature I selected -  Months ( earlier I selected Gender bby intution)\n",
    "\n",
    "     But by Using feature importance of Random Forest and intutuion selected Months \n",
    "\n",
    "     Now , we split the data based on 'Months ' and this column is almost balanced \n",
    "\n",
    "'''\n",
    "\n",
    "''' No nned to categorise since Gender is ALREADY a catgorical column '''\n",
    "'''   Just split the data based on data variation in 'Months' Column  ( hence , NO SAMPLING BIAS )'''\n",
    "\n",
    "from sklearn.model_selection import StratifiedShuffleSplit  # returs the train and test index based on actual variations \n",
    "\n",
    "''' splis =1 ( since ONLY train and  test data )' and generate same train and test indexes everytime ( random_state  = 42 )\n",
    "and use .loc to pick those returned indices \n",
    "'''\n",
    "\n",
    "\n",
    "a = StratifiedShuffleSplit ( n_splits =1  , test_size = 0.1 , random_state= 42 )\n",
    "\n",
    "for train_index , test_index  in a.split( data , data['Months']) :\n",
    "    strat_train_set = data.loc[ train_index ] \n",
    "    strat_test_set = data.loc[ test_index]\n",
    "    \n"
   ]
  },
  {
   "cell_type": "code",
   "execution_count": 100,
   "metadata": {},
   "outputs": [
    {
     "data": {
      "image/png": "[encoded data removed]",
      "text/plain": [
       "<Figure size 640x480 with 1 Axes>"
      ]
     },
     "metadata": {},
     "output_type": "display_data"
    }
   ],
   "source": [
    "''' Set axes system to 3D '''\n",
    "ax= plt.axes( projection = '3d')\n",
    "\n",
    "''' Specify the quantiy on X , Y , Z axes '''\n",
    "\n",
    "x = data['Months'] \n",
    "y = data['Genders']\n",
    "z = data['Amount']\n",
    "\n",
    "''' c =x + y changes color theme . Why ?  '''\n",
    "ax.scatter( x , y , z , c =x + y  )\n",
    "\n",
    "ax.set_xlabel('Months ')\n",
    "ax.set_ylabel('Genders')\n",
    "ax.set_zlabel('Amount')\n",
    "\n",
    "''' Zoomed out to see Z label '''\n",
    "ax.set_box_aspect(aspect=None, zoom=0.8)\n",
    "\n",
    "''' Gender 0 : Female    AND 1: MAle -> Females spent a lot more Money '''\n",
    "\n",
    "plt.show()"
   ]
  },
  {
   "cell_type": "code",
   "execution_count": 101,
   "metadata": {},
   "outputs": [
    {
     "data": {
      "text/plain": [
       "'  Large Number of outliers in Transaction amount but less than novelties ( normal data )\\n\\n   But removing them is NOT a good choice here as they might indicate abnormal transactions ( might also help in fraud detection parallely)\\n   or some transaction for unique part of population \\n   \\n'"
      ]
     },
     "execution_count": 101,
     "metadata": {},
     "output_type": "execute_result"
    },
    {
     "data": {
      "image/png": "[encoded data removed]",
      "text/plain": [
       "<Figure size 640x480 with 1 Axes>"
      ]
     },
     "metadata": {},
     "output_type": "display_data"
    }
   ],
   "source": [
    "''' FInding if there are outliers in the Amount column '''\n",
    "\n",
    "sns.boxplot( data['Amount'])\n",
    "sns.stripplot( data['Amount'] , color  = \"red\" )\n",
    "\n",
    "'''  Large Number of outliers in Transaction amount but less than novelties ( normal data )\n",
    "\n",
    "   But removing them is NOT a good choice here as they might indicate abnormal transactions ( might also help in fraud detection parallely)\n",
    "   or some transaction for unique part of population \n",
    "   \n",
    "'''\n",
    "\n"
   ]
  },
  {
   "cell_type": "code",
   "execution_count": 102,
   "metadata": {},
   "outputs": [
    {
     "data": {
      "text/plain": [
       "' Data_out - Without Outlier DF\\n    Data = With Outlier DF \\n'"
      ]
     },
     "execution_count": 102,
     "metadata": {},
     "output_type": "execute_result"
    }
   ],
   "source": [
    "# ist Quantile \n",
    "q1 = data['Amount'].quantile( 0.25 )\n",
    "#3  quantile \n",
    "q3 = data['Amount'].quantile( 0.75 )\n",
    "\n",
    "iqr = q3 - q1  \n",
    "\n",
    "low_lim = q1 - 1.75* iqr \n",
    "upp_lim = q3 + 1.75*iqr \n",
    "\n",
    "\n",
    "''' Removing Outliers in data   ( OPTIONAL - more experimentation ) '''\n",
    "\n",
    "data_out = data [ data['Amount'] <= upp_lim ]\n",
    "# Sucne , outlier after upper bound \n",
    "#data_out = data_out [ data['Amount'] >= low_lim ]\n",
    "''' Data_out - Without Outlier DF\n",
    "    Data = With Outlier DF \n",
    "'''\n"
   ]
  },
  {
   "cell_type": "code",
   "execution_count": 103,
   "metadata": {},
   "outputs": [
    {
     "data": {
      "text/plain": [
       "(26052, 994)"
      ]
     },
     "execution_count": 103,
     "metadata": {},
     "output_type": "execute_result"
    }
   ],
   "source": [
    "data.shape"
   ]
  },
  {
   "cell_type": "code",
   "execution_count": 104,
   "metadata": {},
   "outputs": [
    {
     "data": {
      "text/plain": [
       "' The Amount column has large varations in the data '"
      ]
     },
     "execution_count": 104,
     "metadata": {},
     "output_type": "execute_result"
    }
   ],
   "source": [
    "''' The Amount column has large varations in the data '''"
   ]
  },
  {
   "cell_type": "code",
   "execution_count": 105,
   "metadata": {},
   "outputs": [
    {
     "data": {
      "text/html": [
       "<div>\n",
       "<style scoped>\n",
       "    .dataframe tbody tr th:only-of-type {\n",
       "        vertical-align: middle;\n",
       "    }\n",
       "\n",
       "    .dataframe tbody tr th {\n",
       "        vertical-align: top;\n",
       "    }\n",
       "\n",
       "    .dataframe thead th {\n",
       "        text-align: right;\n",
       "    }\n",
       "</style>\n",
       "<table border=\"1\" class=\"dataframe\">\n",
       "  <thead>\n",
       "    <tr style=\"text-align: right;\">\n",
       "      <th></th>\n",
       "      <th>(Achalpur,)</th>\n",
       "      <th>(Adilabad,)</th>\n",
       "      <th>(Adityapur,)</th>\n",
       "      <th>(Adoni,)</th>\n",
       "      <th>(Adoor,)</th>\n",
       "      <th>(Afzalpur,)</th>\n",
       "      <th>(Agartala,)</th>\n",
       "      <th>(Agra,)</th>\n",
       "      <th>(Ahmedabad,)</th>\n",
       "      <th>(Ahmednagar,)</th>\n",
       "      <th>...</th>\n",
       "      <th>(Zirakpur,)</th>\n",
       "      <th>(Zunheboto,)</th>\n",
       "      <th>(Gold,)</th>\n",
       "      <th>(Platinum,)</th>\n",
       "      <th>(Signature,)</th>\n",
       "      <th>(Silver,)</th>\n",
       "      <th>Amount</th>\n",
       "      <th>Year</th>\n",
       "      <th>Months</th>\n",
       "      <th>Genders</th>\n",
       "    </tr>\n",
       "  </thead>\n",
       "  <tbody>\n",
       "    <tr>\n",
       "      <th>0</th>\n",
       "      <td>0.0</td>\n",
       "      <td>0.0</td>\n",
       "      <td>0.0</td>\n",
       "      <td>0.0</td>\n",
       "      <td>0.0</td>\n",
       "      <td>0.0</td>\n",
       "      <td>0.0</td>\n",
       "      <td>0.0</td>\n",
       "      <td>0.0</td>\n",
       "      <td>0.0</td>\n",
       "      <td>...</td>\n",
       "      <td>0.0</td>\n",
       "      <td>0.0</td>\n",
       "      <td>1.0</td>\n",
       "      <td>0.0</td>\n",
       "      <td>0.0</td>\n",
       "      <td>0.0</td>\n",
       "      <td>82475.0</td>\n",
       "      <td>2014.0</td>\n",
       "      <td>10.0</td>\n",
       "      <td>0.0</td>\n",
       "    </tr>\n",
       "    <tr>\n",
       "      <th>1</th>\n",
       "      <td>0.0</td>\n",
       "      <td>0.0</td>\n",
       "      <td>0.0</td>\n",
       "      <td>0.0</td>\n",
       "      <td>0.0</td>\n",
       "      <td>0.0</td>\n",
       "      <td>0.0</td>\n",
       "      <td>0.0</td>\n",
       "      <td>0.0</td>\n",
       "      <td>0.0</td>\n",
       "      <td>...</td>\n",
       "      <td>0.0</td>\n",
       "      <td>0.0</td>\n",
       "      <td>0.0</td>\n",
       "      <td>1.0</td>\n",
       "      <td>0.0</td>\n",
       "      <td>0.0</td>\n",
       "      <td>32555.0</td>\n",
       "      <td>2014.0</td>\n",
       "      <td>1.0</td>\n",
       "      <td>0.0</td>\n",
       "    </tr>\n",
       "    <tr>\n",
       "      <th>2</th>\n",
       "      <td>0.0</td>\n",
       "      <td>0.0</td>\n",
       "      <td>0.0</td>\n",
       "      <td>0.0</td>\n",
       "      <td>0.0</td>\n",
       "      <td>0.0</td>\n",
       "      <td>0.0</td>\n",
       "      <td>0.0</td>\n",
       "      <td>0.0</td>\n",
       "      <td>0.0</td>\n",
       "      <td>...</td>\n",
       "      <td>0.0</td>\n",
       "      <td>0.0</td>\n",
       "      <td>0.0</td>\n",
       "      <td>0.0</td>\n",
       "      <td>0.0</td>\n",
       "      <td>1.0</td>\n",
       "      <td>101738.0</td>\n",
       "      <td>2014.0</td>\n",
       "      <td>1.0</td>\n",
       "      <td>0.0</td>\n",
       "    </tr>\n",
       "    <tr>\n",
       "      <th>3</th>\n",
       "      <td>0.0</td>\n",
       "      <td>0.0</td>\n",
       "      <td>0.0</td>\n",
       "      <td>0.0</td>\n",
       "      <td>0.0</td>\n",
       "      <td>0.0</td>\n",
       "      <td>0.0</td>\n",
       "      <td>0.0</td>\n",
       "      <td>0.0</td>\n",
       "      <td>0.0</td>\n",
       "      <td>...</td>\n",
       "      <td>0.0</td>\n",
       "      <td>0.0</td>\n",
       "      <td>0.0</td>\n",
       "      <td>0.0</td>\n",
       "      <td>1.0</td>\n",
       "      <td>0.0</td>\n",
       "      <td>123424.0</td>\n",
       "      <td>2014.0</td>\n",
       "      <td>0.0</td>\n",
       "      <td>0.0</td>\n",
       "    </tr>\n",
       "    <tr>\n",
       "      <th>4</th>\n",
       "      <td>0.0</td>\n",
       "      <td>0.0</td>\n",
       "      <td>0.0</td>\n",
       "      <td>0.0</td>\n",
       "      <td>0.0</td>\n",
       "      <td>0.0</td>\n",
       "      <td>0.0</td>\n",
       "      <td>0.0</td>\n",
       "      <td>0.0</td>\n",
       "      <td>0.0</td>\n",
       "      <td>...</td>\n",
       "      <td>0.0</td>\n",
       "      <td>0.0</td>\n",
       "      <td>1.0</td>\n",
       "      <td>0.0</td>\n",
       "      <td>0.0</td>\n",
       "      <td>0.0</td>\n",
       "      <td>171574.0</td>\n",
       "      <td>2015.0</td>\n",
       "      <td>8.0</td>\n",
       "      <td>0.0</td>\n",
       "    </tr>\n",
       "  </tbody>\n",
       "</table>\n",
       "<p>5 rows × 994 columns</p>\n",
       "</div>"
      ],
      "text/plain": [
       "   (Achalpur,)  (Adilabad,)  (Adityapur,)  (Adoni,)  (Adoor,)  (Afzalpur,)  \\\n",
       "0          0.0          0.0           0.0       0.0       0.0          0.0   \n",
       "1          0.0          0.0           0.0       0.0       0.0          0.0   \n",
       "2          0.0          0.0           0.0       0.0       0.0          0.0   \n",
       "3          0.0          0.0           0.0       0.0       0.0          0.0   \n",
       "4          0.0          0.0           0.0       0.0       0.0          0.0   \n",
       "\n",
       "   (Agartala,)  (Agra,)  (Ahmedabad,)  (Ahmednagar,)  ...  (Zirakpur,)  \\\n",
       "0          0.0      0.0           0.0            0.0  ...          0.0   \n",
       "1          0.0      0.0           0.0            0.0  ...          0.0   \n",
       "2          0.0      0.0           0.0            0.0  ...          0.0   \n",
       "3          0.0      0.0           0.0            0.0  ...          0.0   \n",
       "4          0.0      0.0           0.0            0.0  ...          0.0   \n",
       "\n",
       "   (Zunheboto,)  (Gold,)  (Platinum,)  (Signature,)  (Silver,)    Amount  \\\n",
       "0           0.0      1.0          0.0           0.0        0.0   82475.0   \n",
       "1           0.0      0.0          1.0           0.0        0.0   32555.0   \n",
       "2           0.0      0.0          0.0           0.0        1.0  101738.0   \n",
       "3           0.0      0.0          0.0           1.0        0.0  123424.0   \n",
       "4           0.0      1.0          0.0           0.0        0.0  171574.0   \n",
       "\n",
       "     Year  Months  Genders  \n",
       "0  2014.0    10.0      0.0  \n",
       "1  2014.0     1.0      0.0  \n",
       "2  2014.0     1.0      0.0  \n",
       "3  2014.0     0.0      0.0  \n",
       "4  2015.0     8.0      0.0  \n",
       "\n",
       "[5 rows x 994 columns]"
      ]
     },
     "execution_count": 105,
     "metadata": {},
     "output_type": "execute_result"
    }
   ],
   "source": [
    "data.head()"
   ]
  },
  {
   "cell_type": "code",
   "execution_count": null,
   "metadata": {},
   "outputs": [],
   "source": [
    "''' SINce , ONe Hot encoded Cities Vector was very sparse and too large , SO , losing them meant also losing a lot \n",
    "of useful demographic Info , Hence , performed KMeans CLustering to give a LAbel( with high importance of Columns of Cities )\n",
    "and assigned LAbesl based on the Citiies . \n",
    "'''\n",
    "\n",
    "from sklearn.cluster import KMeans \n",
    "\n",
    "kmeans = KMeans( n_clusters = 10 )\n",
    "\n",
    "data.columns  = data.columns.astype(str )\n",
    "\n",
    "kmeans.fit( data )\n",
    "\n",
    "data['City']  = kmeans.labels_\n",
    "\n",
    "data = data.iloc[ : , 986: ]\n",
    "data.head()"
   ]
  },
  {
   "cell_type": "code",
   "execution_count": 106,
   "metadata": {},
   "outputs": [],
   "source": [
    "''' Features and labels Sepration '''\n",
    "\n",
    "\n",
    "X_train , y_train = strat_train_set.drop( ['Amount'] , axis =1 ) , strat_train_set['Amount']\n",
    "\n",
    "X_test , y_test= strat_test_set.drop( ['Amount'] , axis =1 ) , strat_test_set['Amount']"
   ]
  },
  {
   "cell_type": "code",
   "execution_count": 107,
   "metadata": {},
   "outputs": [
    {
     "data": {
      "text/plain": [
       "(25843, 994)"
      ]
     },
     "execution_count": 107,
     "metadata": {},
     "output_type": "execute_result"
    }
   ],
   "source": [
    "data_out.shape"
   ]
  },
  {
   "cell_type": "code",
   "execution_count": 108,
   "metadata": {},
   "outputs": [],
   "source": [
    "''' Features and labels Sepration - BAsed on Data with no Outliers  '''\n",
    "\n",
    "b = StratifiedShuffleSplit ( n_splits =1  , test_size = 0.2 , random_state= 42 )\n",
    "\n",
    "for train_index , test_index  in b.split( data_out , data_out['Months']) :\n",
    "    strat_train_set = data_out.iloc[ train_index ] \n",
    "    strat_test_set = data_out.iloc[ test_index]\n",
    "    \n",
    "\n",
    "X_train_out , y_train_out = strat_train_set.drop( ['Amount'] , axis =1 ) , strat_train_set['Amount']\n",
    "\n",
    "X_test_out , y_test_out = strat_test_set.drop( ['Amount'] , axis =1 ) , strat_test_set['Amount']"
   ]
  },
  {
   "cell_type": "code",
   "execution_count": 109,
   "metadata": {},
   "outputs": [],
   "source": [
    "''' COnverting all column NAMES to string '''\n",
    "\n",
    "X_train.columns  = X_train.columns.astype(str)\n",
    "\n",
    "X_test.columns  = X_test.columns.astype(str)\n",
    "\n",
    "X_train_out.columns  = X_train_out.columns.astype(str)\n",
    "\n",
    "X_test_out.columns  = X_test_out .columns.astype(str)\n"
   ]
  },
  {
   "cell_type": "code",
   "execution_count": 110,
   "metadata": {},
   "outputs": [
    {
     "data": {
      "text/plain": [
       "' bootstrap = False , the whole data is sued to build Decison tree othwrwise , uses sampling with repalcement \\n\\n '"
      ]
     },
     "execution_count": 110,
     "metadata": {},
     "output_type": "execute_result"
    }
   ],
   "source": [
    "'''  Now making some assumptions about the data and choosing the ML model '''\n",
    "\n",
    "from sklearn.ensemble import RandomForestRegressor \n",
    "\n",
    "forest_reg = RandomForestRegressor( n_estimators = 100 , bootstrap = True   )\n",
    "\n",
    "forest_reg.fit( X_train , y_train )\n",
    "\n",
    "''' bootstrap = False , the whole data is sued to build Decison tree othwrwise , uses sampling with repalcement \n",
    "\n",
    " '''"
   ]
  },
  {
   "cell_type": "code",
   "execution_count": 111,
   "metadata": {},
   "outputs": [
    {
     "name": "stdout",
     "output_type": "stream",
     "text": [
      "('Achalpur',)   0.0002246993858653405\n",
      "('Adilabad',)   0.0006421814999101911\n",
      "('Adityapur',)   0.0004053855508085866\n",
      "('Adoni',)   0.000636938963595187\n",
      "('Adoor',)   0.0009333117746039041\n",
      "('Afzalpur',)   0.0008307185375192487\n",
      "('Agartala',)   0.0007302243791860438\n",
      "('Agra',)   3.215396880214924e-05\n",
      "('Ahmedabad',)   0.010223333649392026\n",
      "('Ahmednagar',)   0.00015762267635341376\n",
      "('Aizawl',)   0.0003217186161912239\n",
      "('Ajmer',)   0.000508714840611629\n",
      "('Akola',)   0.001119540563177108\n",
      "('Akot',)   0.0009245701815966945\n",
      "('Alappuzha',)   0.0006787418465560564\n",
      "('Aligarh',)   0.00044503133100246386\n",
      "('Alipurduar',)   0.000260867827339083\n",
      "('Alirajpur',)   0.0\n",
      "('Allahabad',)   0.00043339697652344496\n",
      "('Alwar',)   0.0004824303753382539\n",
      "('Amalapuram',)   0.00031016840303105795\n",
      "('Amalner',)   0.00038139164221383747\n",
      "('Ambejogai',)   0.0006748212267542121\n",
      "('Ambikapur',)   0.0007199238159087024\n",
      "('Amravati',)   0.0005855341223094121\n",
      "('Amreli',)   0.0004405937194785467\n",
      "('Amritsar',)   0.0004350120685857705\n",
      "('Amroha',)   0.0005372633789545659\n",
      "('Anakapalle',)   0.00010005940861876437\n",
      "('Anand',)   0.0002482356957359562\n",
      "('Anantapur',)   0.0004248858612566044\n",
      "('Anantnag',)   0.0005539578201671187\n",
      "('Anjangaon',)   0.0004365648354880678\n",
      "('Anjar',)   9.083181073113865e-05\n",
      "('Ankleshwar',)   0.00023367614280359698\n",
      "('Arakkonam',)   0.0005162958616317545\n",
      "('Arambagh',)   0.0005952461652449573\n",
      "('Araria',)   0.001052112677634771\n",
      "('Arrah',)   0.000233140717719581\n",
      "('Arsikere',)   0.0008616915691456243\n",
      "('Aruppukkottai',)   0.0004904658075856156\n",
      "('Arvi',)   0.0005704723623580444\n",
      "('Arwal',)   0.00041764047551856733\n",
      "('Asansol',)   0.00048714306964912836\n",
      "('Ashok Nagar',)   0.0006419269876875542\n",
      "('Athni',)   0.00041016997390263735\n",
      "('Attingal',)   0.00022706556097599312\n",
      "('Aurangabad',)   0.0006331027590976195\n",
      "('Azamgarh',)   0.0002645913425107926\n",
      "('Bagaha',)   7.687679226046515e-05\n",
      "('Bahadurgarh',)   0.00042405628201156945\n",
      "('Baharampur',)   0.0007178038381602908\n",
      "('Bahraich',)   0.0005134609450410893\n",
      "('Balaghat',)   0.0002812300648896457\n",
      "('Balangir',)   0.0001991906372660631\n",
      "('Baleshwar Town',)   0.00036643973657717\n",
      "('Ballari',)   0.00031130613762756464\n",
      "('Balurghat',)   0.0004052425007247181\n",
      "('Bankura',)   0.00034800628325194966\n",
      "('Bapatla',)   7.142210127305596e-05\n",
      "('Baramula',)   0.0009184300289695747\n",
      "('Barbil',)   0.000551724778113338\n",
      "('Bargarh',)   3.810701025213533e-05\n",
      "('Baripada Town',)   0.0007239504782311546\n",
      "('Barnala',)   0.0002679859603357527\n",
      "('Barpeta',)   0.0006167789878490545\n",
      "('Batala',)   0.0006175419218039533\n",
      "('Bathinda',)   0.0011831546079274623\n",
      "('Begusarai',)   0.00047807180103091174\n",
      "('Belagavi',)   0.0007183636510112019\n",
      "('Bellampalle',)   0.0003640050977785081\n",
      "('Bengaluru',)   0.010242938019564853\n",
      "('Bettiah',)   0.0002786755079209317\n",
      "('Bhabua',)   0.0006989831389693592\n",
      "('Bhadrachalam',)   0.0008002003943791272\n",
      "('Bhadrak',)   0.0008442040148189846\n",
      "('Bhagalpur',)   0.00039527992359452145\n",
      "('Bhainsa',)   0.0005806562031983451\n",
      "('Bharatpur',)   0.0009091076823762435\n",
      "('Bharuch',)   0.0004175301871874895\n",
      "('Bhatapara',)   0.0005058998159300451\n",
      "('Bhavnagar',)   0.00023587474033060055\n",
      "('Bhawanipatna',)   0.00013807162280823787\n",
      "('Bheemunipatnam',)   0.0009708114687170111\n",
      "('Bhilai Nagar',)   0.0011509073267420926\n",
      "('Bhilwara',)   0.0002942141825288577\n",
      "('Bhimavaram',)   0.0004895048885257618\n",
      "('Bhiwandi',)   0.0005609041897170785\n",
      "('Bhiwani',)   0.0007387010186719782\n",
      "('Bhongir',)   0.000578578673210656\n",
      "('Bhopal',)   0.00019250383140545401\n",
      "('Bhubaneswar',)   0.0004983244293644818\n",
      "('Bhuj',)   0.000939774167002419\n",
      "('Bikaner',)   0.000998035704890468\n",
      "('Bilaspur',)   0.00029549969626734934\n",
      "('Bobbili',)   0.00030178888179209414\n",
      "('Bodhan',)   7.894962142404332e-05\n",
      "('Bokaro Steel City',)   0.0003341481654218594\n",
      "('Bongaigaon City',)   0.0007753889242431805\n",
      "('Brahmapur',)   0.0003806519479496419\n",
      "('Buxar',)   0.0006230679766579937\n",
      "('Byasanagar',)   0.000764271935341064\n",
      "('Chaibasa',)   0.0002976411874471518\n",
      "('Chalakudy',)   0.0003761801632462258\n",
      "('Chandausi',)   0.0002284286368781367\n",
      "('Chandigarh',)   0.000318037733771075\n",
      "('Changanassery',)   0.00021597763239796362\n",
      "('Charkhi Dadri',)   0.0008477774263982084\n",
      "('Chatra',)   0.0006334285361172438\n",
      "('Chennai',)   0.009547741469829236\n",
      "('Cherthala',)   0.0001982287250309166\n",
      "('Chikkamagaluru',)   0.0004467215766701384\n",
      "('Chilakaluripet',)   0.0009282848709462615\n",
      "('Chirala',)   0.0001792126673792718\n",
      "('Chirkunda',)   0.000340021920536347\n",
      "('Chirmiri',)   0.00035213870268892516\n",
      "('Chittoor',)   0.000558127207702406\n",
      "('Chittur-Thathamangalam',)   0.0005925235895978412\n",
      "('Cuttack',)   0.0009113402899916418\n",
      "('Dalli-Rajhara',)   0.0009169059925514609\n",
      "('Darbhanga',)   0.0006432631951776667\n",
      "('Darjiling',)   0.00021273460096173224\n",
      "('Davanagere',)   0.0006063616335923195\n",
      "('Deesa',)   0.00016663818485432414\n",
      "('Dehradun',)   0.0012269744825714511\n",
      "('Dehri-on-Sone',)   0.000755940748482034\n",
      "('Delhi',)   0.009744895596469271\n",
      "('Deoghar',)   0.000736751296086999\n",
      "('Dhamtari',)   0.00048034092047267383\n",
      "('Dhanbad',)   0.00038082690091955187\n",
      "('Dharmanagar',)   0.0008361640877206363\n",
      "('Dharmavaram',)   0.00044150771700410924\n",
      "('Dhenkanal',)   0.00039346421045268707\n",
      "('Dhoraji',)   0.00036622755656831276\n",
      "('Dhubri',)   0.0009394562258406852\n",
      "('Dhule',)   0.00031988433155784134\n",
      "('Dhuri',)   0.0003723891769686996\n",
      "('Dibrugarh',)   0.00041052314319364215\n",
      "('Dimapur',)   0.0010667048073032064\n",
      "('Diphu',)   0.000945150383436409\n",
      "('Dumka',)   0.00032061778742304537\n",
      "('Dumraon',)   0.00046347068316917944\n",
      "('Durg',)   0.0008219467227675616\n",
      "('Eluru',)   0.0005641724495068358\n",
      "('English Bazar',)   0.00034540873250669924\n",
      "('Erode',)   0.0004580771962959648\n",
      "('Etawah',)   0.0006183399400236213\n",
      "('Faridabad',)   0.0009882865675732392\n",
      "('Faridkot',)   0.00036809184845220224\n",
      "('Farooqnagar',)   0.000839530680860839\n",
      "('Fatehabad',)   0.00041096464971282623\n",
      "('Fatehpur Sikri',)   0.0009849967742532738\n",
      "('Fazilka',)   0.00025118895920759574\n",
      "('Firozabad',)   0.00032545008193023714\n",
      "('Firozpur',)   0.0004361346023272044\n",
      "('Firozpur Cantt.',)   0.0006412575402206327\n",
      "('Forbesganj',)   0.00024308929551668693\n",
      "('Gadwal',)   0.00048490338964142884\n",
      "('Gangarampur',)   0.0005815600055118167\n",
      "('Ganjbasoda',)   0.00011271778080247094\n",
      "('Gaya',)   0.00035356651413135114\n",
      "('Giridih',)   0.0006233852167184186\n",
      "('Goalpara',)   0.0002921574586941136\n",
      "('Gobichettipalayam',)   0.0007780431338992131\n",
      "('Gobindgarh',)   0.0007661476148563954\n",
      "('Godhra',)   2.9127393401713603e-06\n",
      "('Gohana',)   0.0003017618329868845\n",
      "('Gokak',)   0.0008577979682958433\n",
      "('Gooty',)   0.0004863737605641132\n",
      "('Gopalganj',)   0.0005185812869595683\n",
      "('Greater Mumbai',)   0.012320805206917397\n",
      "('Gudivada',)   0.0006295438577795205\n",
      "('Gudur',)   0.00044832393227863107\n",
      "('Gumia',)   6.741039537535238e-05\n",
      "('Guntakal',)   0.00023965330548044825\n",
      "('Guntur',)   0.0005710266233891722\n",
      "('Gurdaspur',)   0.0004338217854581744\n",
      "('Gurgaon',)   0.0006031807101535322\n",
      "('Guwahati',)   0.0006997241248636432\n",
      "('Gwalior',)   0.0004437199165789907\n",
      "('Habra',)   0.0009818515964281308\n",
      "('Hajipur',)   0.00048237773342210905\n",
      "('Haldwani-cum-Kathgodam',)   0.0007848626817241252\n",
      "('Hansi',)   0.000297675789503079\n",
      "('Hapur',)   6.150408627361847e-05\n",
      "('Hardoi ',)   0.0006628777064701441\n",
      "('Hardwar',)   0.0003742504699480863\n",
      "('Hazaribag',)   0.00015901701880334323\n",
      "('Hindupur',)   0.000488790278403337\n",
      "('Hisar',)   0.0006468922798429474\n",
      "('Hoshiarpur',)   0.00029995891449873663\n",
      "('Hubli-Dharwad',)   0.0012963019463303831\n",
      "('Hugli-Chinsurah',)   8.951952650378811e-06\n",
      "('Hyderabad',)   0.009079171633718842\n",
      "('Ichalkaranji',)   0.00043258654062872185\n",
      "('Imphal',)   0.0008481388684985664\n",
      "('Indore',)   0.0004905686085177678\n",
      "('Itarsi',)   0.0005034444345574127\n",
      "('Jabalpur',)   0.0001002333470526764\n",
      "('Jagdalpur',)   0.0008036247095715686\n",
      "('Jaggaiahpet',)   0.0004872365395883455\n",
      "('Jagraon',)   0.00045656566254528256\n",
      "('Jagtial',)   0.0005471419346081782\n",
      "('Jaipur',)   0.009233813867808206\n",
      "('Jalandhar',)   0.0009950578265924864\n",
      "('Jalandhar Cantt.',)   0.00023112787600477382\n",
      "('Jalpaiguri',)   0.00024734836491897155\n",
      "('Jamalpur',)   0.0005147685823968482\n",
      "('Jammalamadugu',)   0.0006685457098773836\n",
      "('Jammu',)   0.0007454274125942562\n",
      "('Jamnagar',)   0.0009807229321343973\n",
      "('Jamshedpur',)   0.001050535378612674\n",
      "('Jamui',)   0.0006711640790725685\n",
      "('Jangaon',)   0.0005408096867724629\n",
      "('Jatani',)   0.00029171357628414343\n",
      "('Jehanabad',)   0.0003650870722651773\n",
      "('Jhansi',)   0.001270613676119434\n",
      "('Jhargram',)   0.0007409859250382389\n",
      "('Jharsuguda',)   0.0005801397092140903\n",
      "('Jhumri Tilaiya',)   7.506370528640173e-05\n",
      "('Jind',)   0.0013313341907589043\n",
      "('Jodhpur',)   9.485878571118561e-05\n",
      "('Jorhat',)   0.0003752059936964597\n",
      "('Kadapa',)   0.0011750214224928762\n",
      "('Kadi',)   0.00016534675517709992\n",
      "('Kadiri',)   0.00032337841617659203\n",
      "('Kagaznagar',)   0.00021698306727119262\n",
      "('Kaithal',)   0.0007000561198324231\n",
      "('Kakinada',)   0.0005883638659441852\n",
      "('Kalimpong',)   0.00010349241732824708\n",
      "('Kalpi',)   0.0010016357469979187\n",
      "('Kalyan-Dombivali',)   0.0015378634269127697\n",
      "('Kamareddy',)   0.00023820844276361078\n",
      "('Kancheepuram',)   0.0002811280064542954\n",
      "('Kandukur',)   0.0005350391115151184\n",
      "('Kanhangad',)   0.00017674058531374598\n",
      "('Kannur',)   0.00020658081522934165\n",
      "('Kanpur',)   0.00917087159390345\n",
      "('Kapadvanj',)   0.0003115539882587914\n",
      "('Kapurthala',)   0.0006027540202417552\n",
      "('Karaikal',)   0.00035710182099032555\n",
      "('Karimganj',)   0.0005394114557882142\n",
      "('Karimnagar',)   0.00013401275093583687\n",
      "('Karjat',)   0.0002774776260733178\n",
      "('Karnal',)   0.0001866333079484299\n",
      "('Karur',)   0.0003060609284010863\n",
      "('Karwar',)   0.0005701925519240087\n",
      "('Kasaragod',)   0.0004611503994054636\n",
      "('Kashipur',)   0.0004679015275102677\n",
      "('Kathua',)   6.153904340288266e-05\n",
      "('Katihar',)   0.00023077154931071045\n",
      "('Kavali',)   0.0002919928892774265\n",
      "('Kayamkulam',)   0.00027423091523275485\n",
      "('Kendrapara',)   0.00015254558499353378\n",
      "('Kendujhar',)   0.0005809119430561938\n",
      "('Keshod',)   0.0006553640973901177\n",
      "('Khair',)   0.0008648322970897277\n",
      "('Khambhat',)   0.0005387132587579234\n",
      "('Khammam',)   0.00017878763269641305\n",
      "('Khanna',)   0.0002647189237890422\n",
      "('Kharagpur',)   0.0005646075198338797\n",
      "('Kharar',)   0.0010646806818179505\n",
      "('Kishanganj',)   0.0002112474526492552\n",
      "('Kochi',)   0.0002352236707871417\n",
      "('Kodungallur',)   0.00039623930547411454\n",
      "('Kohima',)   0.00035977825293355837\n",
      "('Kolar',)   0.0006494369732468701\n",
      "('Kolkata',)   0.009079307434531962\n",
      "('Kollam',)   0.00034967237840109614\n",
      "('Koratla',)   0.0006937791626437953\n",
      "('Korba',)   0.00040388960721539574\n",
      "('Kot Kapura',)   0.0003087872202942987\n",
      "('Kothagudem',)   2.467435227180761e-05\n",
      "('Kottayam',)   0.00067268713514839\n",
      "('Kovvur',)   0.00018836616458799935\n",
      "('Koyilandy',)   0.0010680144960359436\n",
      "('Kozhikode',)   0.000942561864146819\n",
      "('Kunnamkulam',)   0.0002997661592741887\n",
      "('Kurnool',)   0.0010166045543548506\n",
      "('Kyathampalle',)   0.0003843539278148304\n",
      "('Lachhmangarh',)   0.00042498728124816564\n",
      "('Ladnu',)   0.0006585434272053114\n",
      "('Ladwa',)   0.0005920189975864949\n",
      "('Lahar',)   0.0004189889493372553\n",
      "('Laharpur',)   0.0003554262483719962\n",
      "('Lakheri',)   0.0008289566986233706\n",
      "('Lakhimpur',)   0.00032493834597975796\n",
      "('Lakhisarai',)   0.00043150973417610517\n",
      "('Lakshmeshwar',)   0.0006115539705515738\n",
      "('Lal Gopalganj Nindaura',)   0.0004921327555526793\n",
      "('Lalitpur',)   0.0006437576395431513\n",
      "('Lalsot',)   0.00037080191626171383\n",
      "('Lanka',)   0.0007149523474168128\n",
      "('Lar',)   0.00043248718973592647\n",
      "('Latur',)   0.0005732114866864594\n",
      "('Limbdi',)   0.0003756921737871741\n",
      "('Lingsugur',)   0.0008707930097955764\n",
      "('Lonavla',)   0.0002302706569343832\n",
      "('Loni',)   0.0009303204210186728\n",
      "('Losal',)   0.0007097000526829117\n",
      "('Lucknow',)   0.009826135125264058\n",
      "('Ludhiana',)   0.0006173841732050041\n",
      "('Lumding',)   6.444377955847094e-05\n",
      "('Lunawada',)   0.0007134395802221626\n",
      "('Lunglei',)   0.0007944725729862426\n",
      "('Macherla',)   0.00021179331514959525\n",
      "('Machilipatnam',)   0.0005458767514177102\n",
      "('Madanapalle',)   0.0003920592705716389\n",
      "('Maddur',)   0.0013155187331770149\n",
      "('Madhepura',)   0.00018690120148435706\n",
      "('Madhubani',)   0.0006660647028331484\n",
      "('Madhugiri',)   0.00034871069130235863\n",
      "('Madhupur',)   0.0003581823707926754\n",
      "('Madikeri',)   0.0008278048000397287\n",
      "('Madurai',)   7.882628365558803e-05\n",
      "('Mahalingapura',)   0.000412136854635025\n",
      "('Mahasamund',)   0.0005795906297435115\n",
      "('Mahbubnagar',)   0.0002635597288301772\n",
      "('Mahe',)   0.0002958653520907751\n",
      "('Mahemdabad',)   0.00022897719809951718\n",
      "('Mahesana',)   0.000376457068979827\n",
      "('Mahidpur',)   0.0001197539919271453\n",
      "('Mahnar Bazar',)   0.0007649940106377145\n",
      "('Mahuva',)   0.0008278847756973043\n",
      "('Maihar',)   0.0007593129218635991\n",
      "('Mainaguri',)   0.0009160943826012673\n",
      "('Makhdumpur',)   0.0006321524481440813\n",
      "('Makrana',)   0.00023068474456997711\n",
      "('Malaj Khand',)   0.00021379247934248875\n",
      "('Malappuram',)   0.0005851708594343014\n",
      "('Malavalli',)   0.00037199133854449464\n",
      "('Malegaon',)   0.0010519272301985356\n",
      "('Malerkotla',)   0.0003062073551617559\n",
      "('Malkapur',)   0.00014368422387004649\n",
      "('Malout',)   0.0003543903829283047\n",
      "('Malpura',)   0.000891552748072495\n",
      "('Malur',)   0.0004343634769429295\n",
      "('Manavadar',)   0.00024335642508129337\n",
      "('Mancherial',)   0.0009050780286905308\n",
      "('Mandamarri',)   3.167348426068214e-05\n",
      "('Mandapeta',)   0.00040606659861841375\n",
      "('Mandi',)   0.00017820380018673639\n",
      "('Mandi Dabwali',)   0.00017450061967222837\n",
      "('Mandideep',)   0.0011464580388292386\n",
      "('Mandla',)   0.0007813282128687994\n",
      "('Mandsaur',)   0.00039149542543946356\n",
      "('Mandvi',)   0.0007021299642259558\n",
      "('Mandya',)   0.000358369533283219\n",
      "('Manendragarh',)   0.0001998940078822796\n",
      "('Maner',)   0.0005320970549741516\n",
      "('Mangaluru',)   0.00010783254749746507\n",
      "('Manglaur',)   0.0004613271805896199\n",
      "('Mangrol',)   0.0008135442994242102\n",
      "('Mangrulpir',)   0.00042725983072302643\n",
      "('Manjlegaon',)   0.0011408995259281976\n",
      "('Mankachar',)   0.0005991136679599687\n",
      "('Manmad',)   0.00020429579836180628\n",
      "('Mansa',)   0.0005557853621646156\n",
      "('Manuguru',)   0.0003337297019718529\n",
      "('Manvi',)   0.00032058961308698274\n",
      "('Manwath',)   0.0005565131509967055\n",
      "('Mapusa',)   0.00028143531553066097\n",
      "('Margao',)   0.00097566965741483\n",
      "('Markapur',)   0.00041850916010467595\n",
      "('Marmagao',)   0.0006937024515201812\n",
      "('Masaurhi',)   0.0001703915312562237\n",
      "('Mathura',)   0.00017612690600426407\n",
      "('Mattannur',)   0.0003697154795385137\n",
      "('Mavelikkara',)   0.00015153229586879118\n",
      "('Mavoor',)   0.0008615812857310307\n",
      "('Medak',)   0.0002049047936272068\n",
      "('Medininagar (Daltonganj)',)   0.0006561685180353515\n",
      "('Medinipur',)   0.0005886610823936124\n",
      "('Meerut',)   0.0006940036865944688\n",
      "('Mehkar',)   0.0005287179327509703\n",
      "('Memari',)   0.00043446176354303346\n",
      "('Merta City',)   0.00044216237856519526\n",
      "('Mhow Cantonment',)   0.000544296660681862\n",
      "('Mihijam',)   5.230367659687196e-05\n",
      "('Mira-Bhayandar',)   0.00041886366444579423\n",
      "('Miryalaguda',)   9.900431590113272e-05\n",
      "('Modasa',)   0.00047437417545264206\n",
      "('Modinagar',)   0.00028114208069052274\n",
      "('Moga',)   0.00037835190578704115\n",
      "('Mohali',)   0.001171087110438939\n",
      "('Mokameh',)   0.00041396556990386414\n",
      "('Mokokchung',)   0.0006423560279001466\n",
      "('Moradabad',)   0.0005413256342204108\n",
      "('Morena',)   0.0006818810544707832\n",
      "('Morshi',)   0.0004747843867101772\n",
      "('Morvi',)   0.00045804862316544494\n",
      "('Motihari',)   0.0012252633750012953\n",
      "('Mudalagi',)   0.0002945312648524474\n",
      "('Muddebihal',)   0.0004183781182454073\n",
      "('Mudhol',)   0.0009369247028881125\n",
      "('Muktsar',)   0.0006780321368828304\n",
      "('Mulbagal',)   0.0002837171710212456\n",
      "('Mundi',)   0.0011401863153078257\n",
      "('Mungeli',)   0.0004481003894118677\n",
      "('Munger',)   0.0005986108960394425\n",
      "('Murshidabad',)   0.0007301168325048963\n",
      "('Murtijapur',)   0.0004541852772338476\n",
      "('Murwara (Katni)',)   0.0003930158421022713\n",
      "('Musabani',)   0.0004626822711355144\n",
      "('Mussoorie',)   0.00011810395601052636\n",
      "('Muvattupuzha',)   0.0010058052077993299\n",
      "('Muzaffarpur',)   7.863927909989486e-05\n",
      "('Mysore',)   0.0007952800182659322\n",
      "('Nabadwip',)   0.0005422089656383896\n",
      "('Nabarangapur',)   0.00011412376785093291\n",
      "('Nabha',)   0.0007989665387312171\n",
      "('Nadbai',)   0.0014792658724822076\n",
      "('Nadiad',)   0.00041113010358221675\n",
      "('Nagaon',)   0.0005431912943748922\n",
      "('Nagapattinam',)   0.0002909840358817934\n",
      "('Nagari',)   0.0007370958266762594\n",
      "('Nagarkurnool',)   0.0005510128939808619\n",
      "('Nagaur',)   0.0010428011802327897\n",
      "('Nagda',)   0.0005656344170192068\n",
      "('Nagercoil',)   0.0002592766885892899\n",
      "('Nagina',)   0.00059092561814236\n",
      "('Nagpur',)   0.0009304333181802286\n",
      "('Nahan',)   0.0008733398557615949\n",
      "('Naharlagun',)   0.0005029091323807878\n",
      "('Naidupet',)   0.0014648381641981683\n",
      "('Naihati',)   0.0006952101097309337\n",
      "('Naila Janjgir',)   0.0009869757336644987\n",
      "('Nainital',)   0.0009554612200673219\n",
      "('Najibabad',)   0.0002908009165944209\n",
      "('Nakodar',)   8.188200064185518e-05\n",
      "('Nalbari',)   6.373475804936884e-05\n",
      "('Namakkal',)   0.0005162089412468162\n",
      "('Nanded-Waghala',)   0.0010107008258176534\n",
      "('Nandivaram-Guduvancheri',)   0.00031372556696832173\n",
      "('Nandura',)   0.000265200302452072\n",
      "('Nandurbar',)   0.0004059303849175633\n",
      "('Nandyal',)   0.0001778369488425887\n",
      "('Nangal',)   0.00036131601406666557\n",
      "('Nanjangud',)   0.00044615422036743614\n",
      "('Nanjikottai',)   0.0007940834378262836\n",
      "('Nanpara',)   0.0004149820096759919\n",
      "('Narasapuram',)   0.00040920772872148574\n",
      "('Narasaraopet',)   2.1159755628804098e-05\n",
      "('Narayanpet',)   0.0008541259446474786\n",
      "('Nargund',)   0.00018363532160959494\n",
      "('Narkatiaganj',)   0.00021482449978108088\n",
      "('Narnaul',)   0.00026133276027962384\n",
      "('Narsinghgarh',)   0.0009113986290703925\n",
      "('Narsipatnam',)   0.00014485918703297798\n",
      "('Narwana',)   0.0003020486609606408\n",
      "('Nashik',)   0.0003237888221839421\n",
      "('Nasirabad',)   0.001103455390512195\n",
      "('Nathdwara',)   0.0009377483002384567\n",
      "('Naugachhia',)   0.000346685367390961\n",
      "('Naugawan Sadat',)   0.0004764251423469611\n",
      "('Nautanwa',)   0.0009333585133811814\n",
      "('Navi Mumbai',)   0.0008387018162717544\n",
      "('Navsari',)   0.0003820120580063193\n",
      "('Nawabganj',)   0.0004740414252028154\n",
      "('Nawada',)   0.0006053907143833498\n",
      "('Nawanshahr',)   0.0004889761335981576\n",
      "('Nawapur',)   0.0006598773864920885\n",
      "('Nedumangad',)   0.000671536889038285\n",
      "('Neem-Ka-Thana',)   0.000490184104142096\n",
      "('Neemuch',)   0.000637466251112943\n",
      "('Nehtaur',)   0.00032648692335138105\n",
      "('Nelamangala',)   0.0003556367494976033\n",
      "('Nellikuppam',)   0.0006907349900708313\n",
      "('Nellore',)   0.0005004745277641713\n",
      "('Nepanagar',)   0.00071890201118416\n",
      "('New Delhi',)   0.0004164728029503075\n",
      "('Neyveli (TS)',)   0.0005755445957683977\n",
      "('Neyyattinkara',)   0.0007364022700103067\n",
      "('Nidadavole',)   0.0005213136205345792\n",
      "('Nilambur',)   0.0005107426224850309\n",
      "('Nilanga',)   0.0004328889331072174\n",
      "('Nimbahera',)   0.00021271582042020517\n",
      "('Nirmal',)   0.00040766143808885244\n",
      "('Nizamabad',)   0.0002698309495273669\n",
      "('Nohar',)   3.494860494538249e-05\n",
      "('Noida',)   0.0004959726582628908\n",
      "('Nokha',)   0.0005853454155037338\n",
      "('Nongstoin',)   2.8526670090455547e-05\n",
      "('Noorpur',)   0.0003074898506300405\n",
      "('North Lakhimpur',)   0.00032457148535144947\n",
      "('Nowgong',)   0.0003376560565775397\n",
      "('Nuzvid',)   0.0007655603730125176\n",
      "('Oddanchatram',)   0.001074874951062474\n",
      "('Ongole',)   0.00019493408716070957\n",
      "('Orai',)   0.0006953001775855955\n",
      "('Osmanabad',)   0.0006970759931616799\n",
      "('Ottappalam',)   0.00097094356459766\n",
      "('Ozar',)   0.0006816974261189525\n",
      "('Pachora',)   7.952805299357874e-05\n",
      "('Padra',)   0.0010619637568861507\n",
      "('Padrauna',)   0.0005688117756933291\n",
      "('Paithan',)   0.00017130455587430478\n",
      "('Pakaur',)   0.00021698827141317724\n",
      "('Palacole',)   0.0006101832403128826\n",
      "('Palakkad',)   0.00024021245726427585\n",
      "('Palani',)   0.0006782332656465112\n",
      "('Palanpur',)   0.0005599049187484725\n",
      "('Palasa Kasibugga',)   0.0008010351726190118\n",
      "('Palghar',)   0.0005156272615671794\n",
      "('Pali',)   0.0005221319109389548\n",
      "('Palia Kalan',)   0.00015008462614440277\n",
      "('Palitana',)   0.00040071019960491374\n",
      "('Palladam',)   0.00036923394286301017\n",
      "('Palwal',)   0.0005310162395961678\n",
      "('Palwancha',)   0.0006100354640553849\n",
      "('Panaji',)   0.0002040493136718839\n",
      "('Panchkula',)   0.0003772139069739599\n",
      "('Pandharkaoda',)   0.00022771553684377172\n",
      "('Pandharpur',)   0.000765852428082612\n",
      "('Pandhurna',)   0.000459646418109068\n",
      "('Pandua',)   0.00030863583916724614\n",
      "('Panipat',)   0.0005895530255771936\n",
      "('Panna',)   0.00040984077763446617\n",
      "('Panruti',)   0.0004538345656478556\n",
      "('Panvel',)   0.00040811162375741926\n",
      "('Pappinisseri',)   0.0004472798696912594\n",
      "('Paradip',)   6.462460489218499e-05\n",
      "('Paramakudi',)   0.0007786501790806007\n",
      "('Paravoor',)   0.0011128900303686497\n",
      "('Parbhani',)   0.0003053721484205588\n",
      "('Parlakhemundi',)   0.0002790760820323485\n",
      "('Parli',)   0.0004433855369683834\n",
      "('Partur',)   0.00010166722864779987\n",
      "('Parvathipuram',)   0.0007144828442849153\n",
      "('Pasan',)   0.0005932212171769342\n",
      "('Paschim Punropara',)   0.00041060087226086104\n",
      "('Patan',)   3.882533857775129e-05\n",
      "('Pathanamthitta',)   0.0005982770277330259\n",
      "('Pathankot',)   0.0004208067911318113\n",
      "('Pathri',)   0.000990399094777504\n",
      "('Patiala',)   0.0005109765807371031\n",
      "('Patna',)   0.0005237234202416663\n",
      "('Patratu',)   0.00022481358879484651\n",
      "('Pattamundai',)   0.0004511372988479224\n",
      "('Patti',)   0.0004057204849827217\n",
      "('Pattukkottai',)   0.0011004541437812734\n",
      "('Pavagada',)   0.0003633528488426232\n",
      "('Pedana',)   0.00017651133907831503\n",
      "('Peddapuram',)   0.00040146795429435054\n",
      "('Pehowa',)   0.0006144572899248585\n",
      "('Pen',)   0.00020018858155754018\n",
      "('Perambalur',)   0.00043339003643044603\n",
      "('Peringathur',)   0.0002142156505823483\n",
      "('Perinthalmanna',)   0.00016130870875966056\n",
      "('Periyakulam',)   0.0009537398759154658\n",
      "('Periyasemur',)   0.001273341292845666\n",
      "('Pernampattu',)   0.0005556118020176781\n",
      "('Perumbavoor',)   7.933744330597742e-05\n",
      "('Petlad',)   0.00012684305845373043\n",
      "('Phagwara',)   0.0005124227699964169\n",
      "('Phalodi',)   0.000636026590733384\n",
      "('Phaltan',)   0.0005402853944321454\n",
      "('Phulabani',)   0.0009205661322762383\n",
      "('Phusro',)   0.00044074632705361\n",
      "('Pihani',)   0.000804752043409908\n",
      "('Pilani',)   0.0007047795376328291\n",
      "('Pilibanga',)   0.00018199180094541242\n",
      "('Pilibhit',)   0.0006425476849626405\n",
      "('Pilkhuwa',)   0.0004642568169147369\n",
      "('Pinjore',)   0.0005301952972981306\n",
      "('Pipar City',)   0.0007039472250788878\n",
      "('Pipariya',)   0.0004132637637530744\n",
      "('Pithampur',)   0.0006097844879674276\n",
      "('Pithapuram',)   0.0002711991125710573\n",
      "('Pithoragarh',)   0.0007958685911145289\n",
      "('Pollachi',)   0.0003649753499545001\n",
      "('Pondicherry',)   2.2270682901040436e-05\n",
      "('Ponnani',)   0.00022496214145555185\n",
      "('Ponnur',)   0.0006909082855385933\n",
      "('Porbandar',)   0.0008882272863015856\n",
      "('Porsa',)   0.00044432296157105345\n",
      "('Port Blair',)   0.0006361847101391084\n",
      "('Pratapgarh',)   0.0006457294701081752\n",
      "('Proddatur',)   0.00016656409000881132\n",
      "('Pudukkottai',)   0.0006290848315918738\n",
      "('Pulgaon',)   0.0009871668851018291\n",
      "('Puliyankudi',)   0.001558881829990927\n",
      "('Punalur',)   0.00038173438591036736\n",
      "('Punch',)   0.000539189265219428\n",
      "('Pune',)   0.009586492916884628\n",
      "('Punganur',)   2.350506743774584e-05\n",
      "('Puranpur',)   0.0009158612307547437\n",
      "('Puri',)   0.0004235992620098591\n",
      "('Purna',)   0.0008664279535295535\n",
      "('Purnia',)   0.00035475254429030934\n",
      "('Purulia',)   0.000998648798165327\n",
      "('Pusad',)   0.0006614606037970759\n",
      "('Puttur',)   0.0010586216264537867\n",
      "('Raayachuru',)   0.0003038915838209367\n",
      "('Rabkavi Banhatti',)   0.0010328590001112605\n",
      "('Radhanpur',)   0.0005024933991854828\n",
      "('Rae Bareli',)   0.0007153041838260184\n",
      "('Raghogarh-Vijaypur',)   0.001030339164756896\n",
      "('Raghunathganj',)   0.0002976884891126929\n",
      "('Rahuri',)   0.0014130974788256864\n",
      "('Raiganj',)   5.992512379374978e-05\n",
      "('Raigarh',)   0.0008435239597032712\n",
      "('Raipur',)   0.0005255224268687358\n",
      "('Raisen',)   0.0012631314834811902\n",
      "('Raisinghnagar',)   0.00012765762079224816\n",
      "('Rajagangapur',)   0.0005177947193289138\n",
      "('Rajahmundry',)   0.0006826659115070821\n",
      "('Rajakhera',)   0.00040121157626322275\n",
      "('Rajampet',)   0.0002663748051855244\n",
      "('Rajapalayam',)   0.0009452224684859926\n",
      "('Rajgarh (Churu)',)   0.0007057917586094058\n",
      "('Rajgir',)   0.0003533867172958798\n",
      "('Rajkot',)   0.0004917024702868048\n",
      "('Rajnandgaon',)   0.0004705645248564799\n",
      "('Rajpipla',)   0.0003782110913822743\n",
      "('Rajpura',)   3.7955222122737126e-05\n",
      "('Rajsamand',)   0.0009049733229302166\n",
      "('Rajula',)   0.0008936838955306446\n",
      "('Ramachandrapuram',)   0.0003413227814715694\n",
      "('Ramagundam',)   0.0006380258540545919\n",
      "('Ramanagaram',)   0.00029169995344877504\n",
      "('Ramanathapuram',)   0.00042357945265919896\n",
      "('Ramdurg',)   0.0007728151052123958\n",
      "('Rameshwaram',)   0.00018714713010372692\n",
      "('Ramganj Mandi',)   0.0008792401015334022\n",
      "('Ramgarh',)   0.00037954977236673293\n",
      "('Ramnagar',)   0.0015650741144471703\n",
      "('Ramngarh',)   0.0005056715767490371\n",
      "('Rampur',)   0.0007788101140173382\n",
      "('Rampura Phul',)   4.1785224387696175e-05\n",
      "('Rampurhat',)   0.0008359645716158714\n",
      "('Ranaghat',)   0.0009587141640169404\n",
      "('Ranavav',)   0.0005891311725247106\n",
      "('Ranchi',)   0.000591171702733503\n",
      "('Ranebennuru',)   0.00012441600129794344\n",
      "('Ranibennur',)   0.00032892120399655075\n",
      "('Ranipet',)   0.0003230589823258309\n",
      "('Rasipuram',)   0.00027348300046508076\n",
      "('Rasra',)   0.0002462680028734153\n",
      "('Ratangarh',)   0.0006197577952546802\n",
      "('Rath',)   0.0008208617863392098\n",
      "('Ratlam',)   0.00012692585651719564\n",
      "('Ratnagiri',)   0.00024230942070904807\n",
      "('Raurkela',)   0.00047871306099288573\n",
      "('Raver',)   0.00037396482870203534\n",
      "('Rawatbhata',)   0.00032392897382712096\n",
      "('Rawatsar',)   0.00022389189313185148\n",
      "('Raxaul Bazar',)   0.00010867717830088301\n",
      "('Rayachoti',)   0.00043951346281704586\n",
      "('Rayadurg',)   0.00026703468069769047\n",
      "('Rayagada',)   2.664141552307334e-05\n",
      "('Renukoot',)   0.00035218214721234625\n",
      "('Repalle',)   0.00017727004794358597\n",
      "('Revelganj',)   0.00022347862368581005\n",
      "('Rewa',)   0.0007393535127767086\n",
      "('Rewari',)   0.0007972802000345051\n",
      "('Rishikesh',)   0.0008316622964443795\n",
      "('Risod',)   0.0006713981124917382\n",
      "('Robertsganj',)   0.0008844833956123606\n",
      "('Robertson Pet',)   0.0006825467066365876\n",
      "('Rohtak',)   0.0006030332703713738\n",
      "('Roorkee',)   0.0003362991310955775\n",
      "('Rosera',)   0.0005306841490306527\n",
      "('Rudauli',)   0.0005299930955156637\n",
      "('Rudrapur',)   0.0005305880845196672\n",
      "('Rupnagar',)   0.00029541618448143615\n",
      "('Sabalgarh',)   0.00018856140894167283\n",
      "('Sadabad',)   0.00036988338530304245\n",
      "('Sadasivpet',)   0.0005611689056231266\n",
      "('Sadulpur',)   0.0003667489586860718\n",
      "('Safidon',)   9.146144531212357e-05\n",
      "('Sagar',)   0.0007328031206301155\n",
      "('Sagara',)   0.00013619234979363835\n",
      "('Sagwara',)   0.0003259883419872506\n",
      "('Saharanpur',)   0.0004984121385370883\n",
      "('Saharsa',)   0.0004506701126510785\n",
      "('Sahaswan',)   0.0008000501458957401\n",
      "('Sahibganj',)   0.0007569271306961764\n",
      "('Sailu',)   0.0006941663198052365\n",
      "('Sainthia',)   0.0006344285698294098\n",
      "('Salaya',)   0.00012675278413067323\n",
      "('Salem',)   0.0003662584646689523\n",
      "('Salur',)   0.00027210275172475046\n",
      "('Samalkot',)   1.803844433845308e-05\n",
      "('Samana',)   0.0006853857534923905\n",
      "('Samastipur',)   0.0007292471321960841\n",
      "('Sambalpur',)   0.00021345068712387463\n",
      "('Sambhal',)   0.0007267525272516813\n",
      "('Sanand',)   0.00044572263768216354\n",
      "('Sanawad',)   0.0006609468245026993\n",
      "('Sandila',)   0.00027327738162977703\n",
      "('Sanduru',)   0.0007111493737517369\n",
      "('Sangamner',)   0.00045598271275386896\n",
      "('Sangareddy',)   5.354708924996058e-05\n",
      "('Sangaria',)   0.0005918824493145056\n",
      "('Sangli',)   0.0006467647166311581\n",
      "('Sangole',)   0.0001230100389041319\n",
      "('Sangrur',)   0.00045126766324542797\n",
      "('Sankarankoil',)   0.00038754768343140513\n",
      "('Sankari',)   0.0006640959965422563\n",
      "('Sankeshwara',)   0.0009419189225311354\n",
      "('Santipur',)   0.00046831614706965396\n",
      "('Sarangpur',)   0.0004430097877727671\n",
      "('Sardarshahar',)   0.00026348556761829583\n",
      "('Sardhana',)   0.0008778848200602166\n",
      "('Sarni',)   0.00036857787264191964\n",
      "('Sasaram',)   0.0009729709342634932\n",
      "('Sasvad',)   0.00023990131579752338\n",
      "('Satana',)   0.0005073746075167723\n",
      "('Satara',)   0.0006942001877185733\n",
      "('Sathyamangalam',)   0.00033334310204991203\n",
      "('Satna',)   2.139180796387741e-05\n",
      "('Sattenapalle',)   0.0004599364081008755\n",
      "('Sattur',)   0.0002160275569444069\n",
      "('Saunda',)   0.0007957270112199546\n",
      "('Saundatti-Yellamma',)   0.00010478404308874746\n",
      "('Savanur',)   9.73390940636595e-05\n",
      "('Savarkundla',)   0.0004011125212457389\n",
      "('Savner',)   0.0004019764418298221\n",
      "('Sawai Madhopur',)   9.301098201656144e-05\n",
      "('Sedam',)   0.00044332222717852974\n",
      "('Sehore',)   0.0005397623529977819\n",
      "('Sendhwa',)   0.00037644060585986826\n",
      "('Seohara',)   0.00048286966473070405\n",
      "('Seoni',)   0.000993230562971124\n",
      "('Seoni-Malwa',)   0.000368495872940991\n",
      "('Shahabad',)   0.00015473406169950928\n",
      "('Shahabad Hardoi',)   0.00024244970852084973\n",
      "('Shahabad Rampur',)   0.0007816166360574149\n",
      "('Shahade',)   0.00032324208979193496\n",
      "('Shahbad',)   0.0006136455521812288\n",
      "('Shahdol',)   0.0009970585542810838\n",
      "('Shahjahanpur',)   0.0006276828807214371\n",
      "('Shahpur',)   0.0007764207307617222\n",
      "('Shahpura',)   0.000916209088883784\n",
      "('Shajapur',)   0.00043796521071452944\n",
      "('Shamli',)   0.0004297256611166959\n",
      "('Shamsabad Agra',)   0.0008068809825844595\n",
      "('Shegaon',)   0.0004872986282059737\n",
      "('Sheikhpura',)   0.0008458069731091792\n",
      "('Shenkottai',)   0.000385816936470566\n",
      "('Sheopur',)   0.0004263366192739593\n",
      "('Sherghati',)   3.0296273783515542e-05\n",
      "('Sherkot',)   0.0007609654289168237\n",
      "('Shikaripur',)   0.00035622617572256455\n",
      "('Shikarpur Bulandshahr',)   0.0004236253284295486\n",
      "('Shikohabad',)   0.0012216189605680323\n",
      "('Shillong',)   0.00023480066940023654\n",
      "('Shimla',)   0.0008296672815589394\n",
      "('Shirdi',)   0.0008742548987635564\n",
      "('Shirpur-Warwade',)   0.00031306065411091185\n",
      "('Shirur',)   0.0005359150972484437\n",
      "('Shivamogga',)   0.0003772997919184723\n",
      "('Shivpuri',)   0.0006991861230881918\n",
      "('Sholingur',)   0.0009185274836859973\n",
      "('Shoranur',)   0.00045593112197282065\n",
      "('Shrigonda',)   0.0003906792481794343\n",
      "('Shrirampur',)   0.00012109248277539683\n",
      "('Shujalpur',)   0.00011643078292952705\n",
      "('Siana',)   0.0004911258101293313\n",
      "('Sibsagar',)   0.0009244085777171555\n",
      "('Siddipet',)   0.00044860792119016176\n",
      "('Sidhi',)   0.0004514670685190207\n",
      "('Sidhpur',)   0.0008867737626720929\n",
      "('Sidlaghatta',)   0.00041113962396530654\n",
      "('Sihor',)   0.00030014109469747824\n",
      "('Sihora',)   0.0005961919768044236\n",
      "('Sikandra Rao',)   0.00040137429863647365\n",
      "('Sikandrabad',)   0.0005178845171378309\n",
      "('Sikar',)   0.0005049249120704573\n",
      "('Silchar',)   0.0007094208736705384\n",
      "('Siliguri',)   0.00016088037605084505\n",
      "('Sillod',)   0.0005517913387822174\n",
      "('Simdega',)   0.000585520418274397\n",
      "('Sindhagi',)   0.0009385776172606472\n",
      "('Sindhnur',)   0.0006264861819051627\n",
      "('Singrauli',)   0.0006322293398951333\n",
      "('Sinnar',)   0.0009851607349182165\n",
      "('Sira',)   0.0004382221838002472\n",
      "('Sircilla',)   0.0003780950143099898\n",
      "('Sirhind Fatehgarh Sahib',)   0.0005001872955433307\n",
      "('Sirkali',)   0.0005683928711175643\n",
      "('Sirohi',)   0.0005792877680073863\n",
      "('Sironj',)   0.0003662978556645657\n",
      "('Sirsa',)   0.0011398072222650274\n",
      "('Sirsaganj',)   5.065765232366374e-05\n",
      "('Sirsi',)   0.0004206293199921109\n",
      "('Siruguppa',)   0.00031866822668880296\n",
      "('Sitamarhi',)   0.0006859915063081953\n",
      "('Sitapur',)   0.000724880411919156\n",
      "('Sivaganga',)   0.0002648904107859645\n",
      "('Sivakasi',)   0.000425996552536106\n",
      "('Siwan',)   0.0005858684526287537\n",
      "('Sohna',)   0.00041944569989668575\n",
      "('Sojat',)   0.0004108610966183044\n",
      "('Solan',)   0.0005615710624961628\n",
      "('Solapur',)   0.0003393177471720384\n",
      "('Sonamukhi',)   0.0002434712497836268\n",
      "('Sonepur',)   0.0009095480850856585\n",
      "('Sonipat',)   0.0006923110160905714\n",
      "('Sopore',)   0.0003588784530063039\n",
      "('Soro',)   0.0006610242346218094\n",
      "('Soron',)   0.0010148474890548378\n",
      "('Sri Madhopur',)   0.0002371810421460146\n",
      "('Srikakulam',)   0.00026569778232304035\n",
      "('Srikalahasti',)   0.0004089374295819595\n",
      "('Srinagar',)   0.0005071584728654347\n",
      "('Srivilliputhur',)   0.0003462304296871038\n",
      "('Suar',)   0.0006145905904784116\n",
      "('Sugauli',)   0.0007756146976927552\n",
      "('Sujangarh',)   0.0007627445019641913\n",
      "('Sullurpeta',)   8.06747950778526e-05\n",
      "('Sultanganj',)   0.00042896666910987485\n",
      "('Sultanpur',)   0.0005802775246353576\n",
      "('Sumerpur',)   0.0004308097232997877\n",
      "('Sunabeda',)   0.001170576318052756\n",
      "('Sunam',)   0.0005324001935379255\n",
      "('Sundargarh',)   0.0003764773539979388\n",
      "('Supaul',)   0.0005731815616648462\n",
      "('Surandai',)   0.00032301680715464897\n",
      "('Surapura',)   0.0002371391736605166\n",
      "('Surat',)   0.009537905231708844\n",
      "('Suratgarh',)   0.0003065850027269768\n",
      "('Suri',)   1.4775690674828934e-05\n",
      "('Suryapet',)   0.00041418785683178667\n",
      "('Tadepalligudem',)   0.00020398549972887442\n",
      "('Tadpatri',)   0.000609826591070738\n",
      "('Taki',)   6.250626144809064e-05\n",
      "('Talaja',)   0.0007046784056920607\n",
      "('Talcher',)   0.0004921387168419107\n",
      "('Talegaon Dabhade',)   0.000753508972949144\n",
      "('Talikota',)   0.00038315291419348707\n",
      "('Taliparamba',)   0.0005898366113184427\n",
      "('Talode',)   0.000509220346815876\n",
      "('Tamluk',)   0.0004375483942951203\n",
      "('Tanda',)   0.0006658699678082342\n",
      "('Tandur',)   0.0007996905763505368\n",
      "('Tanuku',)   0.0012013573566418683\n",
      "('Tarakeswar',)   0.0008761782904532246\n",
      "('Taranagar',)   0.0002281915922621308\n",
      "('Tarikere',)   0.00014351825689869085\n",
      "('Tarn Taran',)   0.0003859453387473089\n",
      "('Tasgaon',)   0.001006698946515312\n",
      "('Tekkalakote',)   0.000417047977898223\n",
      "('Tenali',)   0.00043521162272825895\n",
      "('Tenkasi',)   0.00047045094066686257\n",
      "('Terdal',)   0.0005715378386884749\n",
      "('Tezpur',)   0.00019314953586643439\n",
      "('Thakurdwara',)   0.00026148929120825006\n",
      "('Thana Bhawan',)   0.0008519437413140664\n",
      "('Thane',)   0.0005500421715621462\n",
      "('Thanesar',)   0.00012486202958548995\n",
      "('Thangadh',)   0.0005478515241571934\n",
      "('Thanjavur',)   0.000601485766328718\n",
      "('Tharad',)   0.0007865852467088388\n",
      "('Tharamangalam',)   0.0008919811370483141\n",
      "('Theni Allinagaram',)   0.0001789638189777604\n",
      "('Thirumangalam',)   0.0009968700682799175\n",
      "('Thiruvalla',)   0.0003285166618163516\n",
      "('Thiruvallur',)   0.0006190554259604714\n",
      "('Thiruvananthapuram',)   0.0003407895003821768\n",
      "('Thiruvarur',)   0.0009238551711764023\n",
      "('Thodupuzha',)   0.00025115135159102276\n",
      "('Thoubal',)   0.0014673004055986464\n",
      "('Thrissur',)   0.0006039702928312444\n",
      "('Thuraiyur',)   0.0002920759017546211\n",
      "('Tikamgarh',)   0.0009403250719253426\n",
      "('Tilda Newra',)   0.0007645700623387831\n",
      "('Tilhar',)   0.0007540189479490593\n",
      "('Tindivanam',)   0.0004299921193150198\n",
      "('Tinsukia',)   0.00018155787698755823\n",
      "('Tiptur',)   0.0003242261226271626\n",
      "('Tiruchendur',)   0.0005368150962215306\n",
      "('Tiruchengode',)   0.0006215677606027101\n",
      "('Tiruchirappalli',)   0.0005216265423066094\n",
      "('Tirukalukundram',)   0.0009937192277312313\n",
      "('Tirukkoyilur',)   0.00023990121260672445\n",
      "('Tirunelveli',)   0.0003132094543698748\n",
      "('Tirupathur',)   0.00019381510759084244\n",
      "('Tirupati',)   0.00021957952550603885\n",
      "('Tiruppur',)   0.0006056189711457825\n",
      "('Tirur',)   0.00017467448622285854\n",
      "('Tiruttani',)   0.0004180984290789432\n",
      "('Tiruvannamalai',)   0.0004957981880724792\n",
      "('Tiruvethipuram',)   0.0004271379031487673\n",
      "('Tiruvuru',)   0.0006277438955902119\n",
      "('Titlagarh',)   0.0005233698243649262\n",
      "('Tohana',)   0.000970854491035611\n",
      "('Tonk',)   0.0004925530856641141\n",
      "('Tuensang',)   0.0003822564376004342\n",
      "('Tuljapur',)   0.00041312865910658297\n",
      "('Tumkur',)   0.000514110780742411\n",
      "('Tumsar',)   0.0009888566709430194\n",
      "('Tundla',)   0.0002756003751462791\n",
      "('Tuni',)   0.0002789841198663806\n",
      "('Tura',)   0.0008514729859111284\n",
      "('Uchgaon',)   0.0005800864507268969\n",
      "('Udaipur',)   0.0012022210138919614\n",
      "('Udaipurwati',)   0.0008194851806956011\n",
      "('Udgir',)   0.0013052776616046845\n",
      "('Udhagamandalam',)   0.0010858307426263826\n",
      "('Udhampur',)   0.0006043102673900936\n",
      "('Udumalaipettai',)   0.00039092019109392357\n",
      "('Udupi',)   0.0007612264503278282\n",
      "('Ujhani',)   0.00047882623121515457\n",
      "('Ujjain',)   0.0006092092477964421\n",
      "('Umarga',)   0.0004493041596528503\n",
      "('Umaria',)   6.550067750413411e-05\n",
      "('Umarkhed',)   0.0004120994541985093\n",
      "('Umbergaon',)   9.236845542224551e-05\n",
      "('Umred',)   0.0006899070183072214\n",
      "('Umreth',)   7.909430353772753e-05\n",
      "('Una',)   0.0003947328000797981\n",
      "('Unjha',)   0.0005454285423279501\n",
      "('Unnao',)   0.0005988793607431927\n",
      "('Upleta',)   0.0005113918832065803\n",
      "('Uran',)   0.00035990137682888676\n",
      "('Uran Islampur',)   0.00022860101777472694\n",
      "('Uravakonda',)   0.0011045559069868419\n",
      "('Usilampatti',)   0.0005057117350562102\n",
      "('Uthamapalayam',)   0.00045652665598596353\n",
      "('Utraula',)   0.0006814379554631205\n",
      "('Vadakkuvalliyur',)   0.00032153398430945094\n",
      "('Vadalur',)   0.00045625605553721506\n",
      "('Vadipatti',)   0.00010718832438900894\n",
      "('Vadnagar',)   0.0004957718743043816\n",
      "('Vadodara',)   0.000502662100233949\n",
      "('Vaijapur',)   0.00041563908436019053\n",
      "('Valparai',)   0.0005240290471121189\n",
      "('Valsad',)   0.0006931269795285003\n",
      "('Vandavasi',)   0.00034969422580520223\n",
      "('Vaniyambadi',)   0.0003457086664290214\n",
      "('Vapi',)   0.0010431720984947549\n",
      "('Varanasi',)   8.43944958194548e-06\n",
      "('Varkala',)   0.00014021099008185484\n",
      "('Vasai-Virar',)   0.0005037740000082015\n",
      "('Vatakara',)   0.0004882298783708695\n",
      "('Vedaranyam',)   0.00020660303521705586\n",
      "('Vellakoil',)   0.0007574929541653061\n",
      "('Vellore',)   0.00013105003357944282\n",
      "('Venkatagiri',)   0.00048748149664114266\n",
      "('Veraval',)   0.0007727585664831607\n",
      "('Vidisha',)   0.00042765718528487475\n",
      "('Vijainagar Ajmer',)   0.0002924919877304371\n",
      "('Vijayapura',)   0.000998838455453453\n",
      "('Vijayawada',)   3.880094146418944e-05\n",
      "('Vikarabad',)   0.00011982494580575919\n",
      "('Vikramasingapuram',)   0.0001631591463529349\n",
      "('Viluppuram',)   8.296087425460375e-05\n",
      "('Vinukonda',)   0.00047278331260015383\n",
      "('Viramgam',)   0.0009030877983004772\n",
      "('Virudhachalam',)   0.00039400791074165384\n",
      "('Virudhunagar',)   0.0004923803908114001\n",
      "('Visakhapatnam',)   0.000685169878370953\n",
      "('Visnagar',)   0.000836936218266003\n",
      "('Vita',)   0.0\n",
      "('Vizianagaram',)   0.0002602869228892109\n",
      "('Vrindavan',)   0.00044926421595716735\n",
      "('Vyara',)   0.0007259120540650886\n",
      "('Wadgaon Road',)   0.000510871945583087\n",
      "('Wadhwan',)   0.00021583061404780983\n",
      "('Wadi',)   0.0007500292545438991\n",
      "('Wai',)   0.00031502967468010864\n",
      "('Wanaparthy',)   7.394661956061287e-05\n",
      "('Wani',)   2.9025164664705964e-05\n",
      "('Wankaner',)   0.00017091224692810853\n",
      "('Warangal',)   0.0002398944035071642\n",
      "('Wardha',)   0.00033521103462758403\n",
      "('Warisaliganj',)   5.5174486115494684e-05\n",
      "('Warora',)   0.0007432406823238616\n",
      "('Washim',)   0.00047998718238997213\n",
      "('Wokha',)   0.00050111193752561\n",
      "('Yadgir',)   0.0005251347327086757\n",
      "('Yamunanagar',)   0.0007999872644553353\n",
      "('Yanam',)   0.0006380792714128839\n",
      "('Yavatmal',)   0.00044943635025206964\n",
      "('Yawal',)   0.0002823985034784747\n",
      "('Yellandu',)   0.0008802768071025873\n",
      "('Yemmiganur',)   0.00027841089670138116\n",
      "('Yerraguntla',)   0.0003949985753982161\n",
      "('Yevla',)   5.725154715735808e-05\n",
      "('Zaidpur',)   0.0009310135282155809\n",
      "('Zamania',)   0.000593384001008615\n",
      "('Zira',)   0.0008578341333994788\n",
      "('Zirakpur',)   0.00030546301872494424\n",
      "('Zunheboto',)   0.00011269352284188482\n",
      "('Gold',)   0.03430731078925763\n",
      "('Platinum',)   0.031012676116126296\n",
      "('Signature',)   0.03432344213648784\n",
      "('Silver',)   0.03481347372078534\n",
      "Year   0.0696843819322865\n",
      "Months   0.17198782068234875\n",
      "Genders   0.008801634294901262\n"
     ]
    },
    {
     "data": {
      "text/plain": [
       "' Most IMportant feature is  - Months '"
      ]
     },
     "execution_count": 111,
     "metadata": {},
     "output_type": "execute_result"
    }
   ],
   "source": [
    "''' Seeing the most important features '''\n",
    "imp = forest_reg.feature_importances_\n",
    "col = X_train.columns\n",
    "\n",
    "for i in range( len(col) ) :\n",
    "    print(col[i] , \" \" , imp[i])\n",
    "\n",
    "''' Most IMportant feature is  - Months '''\n"
   ]
  },
  {
   "cell_type": "code",
   "execution_count": 112,
   "metadata": {},
   "outputs": [
    {
     "name": "stdout",
     "output_type": "stream",
     "text": [
      " the RMSE training error for Rand FOrest is 91786.39068615848\n"
     ]
    }
   ],
   "source": [
    "''' Find training error - MSE (y , y_hat) '''\n",
    "\n",
    "y_train_rand = forest_reg.predict( X_train )\n",
    "\n",
    "from sklearn.metrics import mean_squared_error\n",
    "\n",
    "error = mean_squared_error( y_train , y_train_rand)\n",
    "error = np.sqrt( error )\n",
    "\n",
    "print( f\" the RMSE training error for Rand FOrest is {error }\")\n",
    "\n"
   ]
  },
  {
   "cell_type": "code",
   "execution_count": 113,
   "metadata": {},
   "outputs": [],
   "source": [
    "# ''' Find ANother form of trainig error , cross validation score '''\n",
    "# from sklearn.model_selection import cross_val_score\n",
    "\n",
    "# score = cross_val_score( forest_reg , X_train , y_train , cv = 5  , scoring = \"neg_mean_squared_error\" )\n",
    "\n",
    "# print(score)\n",
    "\n",
    "# print( f\" The average of these Negative mean squared error in cross validation is {score.mean()}\")\n",
    "# ''' nearer to 0 ( negative MSE ) is good '''\n"
   ]
  },
  {
   "cell_type": "code",
   "execution_count": 114,
   "metadata": {},
   "outputs": [
    {
     "name": "stdout",
     "output_type": "stream",
     "text": [
      " THe testing error(RMSE) for Random Forest Regressor model(before fine tuning) is = 106891.17497580533 \n",
      "-0.07458336798670162\n"
     ]
    }
   ],
   "source": [
    "''' Doing prediction on Test Data '''\n",
    "\n",
    "y_test_rand = forest_reg.predict( X_test)\n",
    "\n",
    "''' Testing error '''\n",
    "\n",
    "test_error = np.sqrt(mean_squared_error( y_test , y_test_rand ) )\n",
    "\n",
    "print(f\" THe testing error(RMSE) for Random Forest Regressor model(before fine tuning) is = {test_error} \")\n",
    "\n",
    "\n",
    "from sklearn.metrics import r2_score\n",
    "\n",
    "print( r2_score ( y_test , y_test_rand ))\n",
    "\n",
    "\n"
   ]
  },
  {
   "cell_type": "code",
   "execution_count": 115,
   "metadata": {},
   "outputs": [],
   "source": [
    "# ''' Fine tune the Model '''\n",
    "\n",
    "# ''' THe ONly hyper param I am concerned about  - No of decision trees in Random Forest , SO use Grid Search > Randomized Sarch '''\n",
    "\n",
    "# from sklearn.model_selection import GridSearchCV \n",
    "\n",
    "# params = [ { \"n_estimators\" : [ 500 , 1000 ]} , { \"n_estimators\" : [ 100 , 200 , 300 ]  , \"bootstrap \" : [False]} ] \n",
    "\n",
    "# grid_search = GridSearchCV( forest_reg , params , cv = 5 )\n",
    "\n",
    "# grid_search.fit( X_train , y_train)"
   ]
  },
  {
   "cell_type": "code",
   "execution_count": 117,
   "metadata": {},
   "outputs": [],
   "source": [
    "# '''  Drawing the Learnign Curve of Model - showing Training error and Validation error as a function of increasing dataset size '''\n",
    "\n",
    "# from sklearn.model_selection import train_test_split\n",
    "\n",
    "# X_t ,X_val , y_t, y_val = train_test_split( X_train[:100] , y_train[:100] , test_size=0.2 )\n",
    "\n",
    "\n",
    "# train_error =[]\n",
    "# val_error = []\n",
    "\n",
    "# for i in range(1 ,  len(X_t)) :\n",
    "#     X1 = X_t[:i]\n",
    "#     y1 = y_t[:i]\n",
    "#     forest_reg.fit(X1 , y1 )\n",
    "#     y_t_pred = forest_reg.predict(X1)\n",
    "\n",
    "#     y_val_pred = forest_reg.predict(X_val)\n",
    "    \n",
    "#     # validation set iss ame but as the model learns more , the validation score changes \n",
    "#     train_error.append( np.sqrt(mean_squared_error(y1 , y_t_pred)) )\n",
    "#     val_error.append( np.sqrt(mean_squared_error(y_val , y_val_pred)))\n",
    "\n",
    "# plt.plot ( range(1 , len(X_t)) , train_error , \"r--\" , label = \"Training_error \")\n",
    "# plt.plot( range( 1 , len(X_t)) , val_error , \"b--\" , label = \"Validation_error\")\n",
    "# plt.show()\n",
    "\n",
    "# ''' Model is highly underfitting , so MAybe , MAny outliers in data  '''\n",
    "# ''' After removing outliers , high improvement ( but model is highly overfitting now )'''\n",
    "\n",
    "\n"
   ]
  },
  {
   "cell_type": "code",
   "execution_count": 118,
   "metadata": {},
   "outputs": [
    {
     "data": {
      "text/html": [
       "<style>#sk-container-id-1 {color: black;}#sk-container-id-1 pre{padding: 0;}#sk-container-id-1 div.sk-toggleable {background-color: white;}#sk-container-id-1 label.sk-toggleable__label {cursor: pointer;display: block;width: 100%;margin-bottom: 0;padding: 0.3em;box-sizing: border-box;text-align: center;}#sk-container-id-1 label.sk-toggleable__label-arrow:before {content: \"▸\";float: left;margin-right: 0.25em;color: #696969;}#sk-container-id-1 label.sk-toggleable__label-arrow:hover:before {color: black;}#sk-container-id-1 div.sk-estimator:hover label.sk-toggleable__label-arrow:before {color: black;}#sk-container-id-1 div.sk-toggleable__content {max-height: 0;max-width: 0;overflow: hidden;text-align: left;background-color: #f0f8ff;}#sk-container-id-1 div.sk-toggleable__content pre {margin: 0.2em;color: black;border-radius: 0.25em;background-color: #f0f8ff;}#sk-container-id-1 input.sk-toggleable__control:checked~div.sk-toggleable__content {max-height: 200px;max-width: 100%;overflow: auto;}#sk-container-id-1 input.sk-toggleable__control:checked~label.sk-toggleable__label-arrow:before {content: \"▾\";}#sk-container-id-1 div.sk-estimator input.sk-toggleable__control:checked~label.sk-toggleable__label {background-color: #d4ebff;}#sk-container-id-1 div.sk-label input.sk-toggleable__control:checked~label.sk-toggleable__label {background-color: #d4ebff;}#sk-container-id-1 input.sk-hidden--visually {border: 0;clip: rect(1px 1px 1px 1px);clip: rect(1px, 1px, 1px, 1px);height: 1px;margin: -1px;overflow: hidden;padding: 0;position: absolute;width: 1px;}#sk-container-id-1 div.sk-estimator {font-family: monospace;background-color: #f0f8ff;border: 1px dotted black;border-radius: 0.25em;box-sizing: border-box;margin-bottom: 0.5em;}#sk-container-id-1 div.sk-estimator:hover {background-color: #d4ebff;}#sk-container-id-1 div.sk-parallel-item::after {content: \"\";width: 100%;border-bottom: 1px solid gray;flex-grow: 1;}#sk-container-id-1 div.sk-label:hover label.sk-toggleable__label {background-color: #d4ebff;}#sk-container-id-1 div.sk-serial::before {content: \"\";position: absolute;border-left: 1px solid gray;box-sizing: border-box;top: 0;bottom: 0;left: 50%;z-index: 0;}#sk-container-id-1 div.sk-serial {display: flex;flex-direction: column;align-items: center;background-color: white;padding-right: 0.2em;padding-left: 0.2em;position: relative;}#sk-container-id-1 div.sk-item {position: relative;z-index: 1;}#sk-container-id-1 div.sk-parallel {display: flex;align-items: stretch;justify-content: center;background-color: white;position: relative;}#sk-container-id-1 div.sk-item::before, #sk-container-id-1 div.sk-parallel-item::before {content: \"\";position: absolute;border-left: 1px solid gray;box-sizing: border-box;top: 0;bottom: 0;left: 50%;z-index: -1;}#sk-container-id-1 div.sk-parallel-item {display: flex;flex-direction: column;z-index: 1;position: relative;background-color: white;}#sk-container-id-1 div.sk-parallel-item:first-child::after {align-self: flex-end;width: 50%;}#sk-container-id-1 div.sk-parallel-item:last-child::after {align-self: flex-start;width: 50%;}#sk-container-id-1 div.sk-parallel-item:only-child::after {width: 0;}#sk-container-id-1 div.sk-dashed-wrapped {border: 1px dashed gray;margin: 0 0.4em 0.5em 0.4em;box-sizing: border-box;padding-bottom: 0.4em;background-color: white;}#sk-container-id-1 div.sk-label label {font-family: monospace;font-weight: bold;display: inline-block;line-height: 1.2em;}#sk-container-id-1 div.sk-label-container {text-align: center;}#sk-container-id-1 div.sk-container {/* jupyter's `normalize.less` sets `[hidden] { display: none; }` but bootstrap.min.css set `[hidden] { display: none !important; }` so we also need the `!important` here to be able to override the default hidden behavior on the sphinx rendered scikit-learn.org. See: https://github.com/scikit-learn/scikit-learn/issues/21755 */display: inline-block !important;position: relative;}#sk-container-id-1 div.sk-text-repr-fallback {display: none;}</style><div id=\"sk-container-id-1\" class=\"sk-top-container\"><div class=\"sk-text-repr-fallback\"><pre>SGDRegressor(l1_ratio=0.5, penalty=&#x27;elasticnet&#x27;)</pre><b>In a Jupyter environment, please rerun this cell to show the HTML representation or trust the notebook. <br />On GitHub, the HTML representation is unable to render, please try loading this page with nbviewer.org.</b></div><div class=\"sk-container\" hidden><div class=\"sk-item\"><div class=\"sk-estimator sk-toggleable\"><input class=\"sk-toggleable__control sk-hidden--visually\" id=\"sk-estimator-id-1\" type=\"checkbox\" checked><label for=\"sk-estimator-id-1\" class=\"sk-toggleable__label sk-toggleable__label-arrow\">SGDRegressor</label><div class=\"sk-toggleable__content\"><pre>SGDRegressor(l1_ratio=0.5, penalty=&#x27;elasticnet&#x27;)</pre></div></div></div></div></div>"
      ],
      "text/plain": [
       "SGDRegressor(l1_ratio=0.5, penalty='elasticnet')"
      ]
     },
     "execution_count": 118,
     "metadata": {},
     "output_type": "execute_result"
    }
   ],
   "source": [
    "from sklearn.linear_model import SGDRegressor \n",
    "\n",
    "''' Elastic Net -  weighted sum of Ridge and LAsso regularization to prevent Overfitting'''\n",
    "sgd = SGDRegressor( penalty = \"elasticnet\" , l1_ratio= 0.5 )\n",
    "sgd.fit( X_train, y_train)\n"
   ]
  },
  {
   "cell_type": "code",
   "execution_count": 119,
   "metadata": {},
   "outputs": [
    {
     "name": "stdout",
     "output_type": "stream",
     "text": [
      " The trainin error RMSE for ElasticNet regularzied Linear Model  -98681526706422.31\n"
     ]
    }
   ],
   "source": [
    "''' RMSE training error'''\n",
    "y_train_elas = sgd.predict( X_train )\n",
    "\n",
    "score_elas  = np.sqrt(mean_squared_error( y_train , y_train_elas) )\n",
    "\n",
    "print( f\" The trainin error RMSE for ElasticNet regularzied Linear Model  -{score_elas}\")"
   ]
  },
  {
   "cell_type": "code",
   "execution_count": null,
   "metadata": {},
   "outputs": [],
   "source": [
    "# ''' Find ANother form of trainig error , cross validation score '''\n",
    "\n",
    "\n",
    "# score = cross_val_score( sgd , X_train , y_train , cv = 5  , scoring = \"neg_mean_squared_error\" )\n",
    "\n",
    "# print(score)\n",
    "\n",
    "# print( f\" The average of these Negative mean squared error in cross validation is {score.mean()}\")\n",
    "# ''' nearer to 0 ( negative MSE ) is good '''\n"
   ]
  },
  {
   "cell_type": "code",
   "execution_count": 120,
   "metadata": {},
   "outputs": [
    {
     "name": "stdout",
     "output_type": "stream",
     "text": [
      " THe testing error(RMSE) for SGDRegressor with ElasticNet Regularization term added  model(before fine tuning) is = 98679297870540.27 \n",
      "-9.158166055980783e+17\n"
     ]
    }
   ],
   "source": [
    "y_hat_elas = sgd.predict(X_test)\n",
    "\n",
    "''' Testing error '''\n",
    "\n",
    "test_error = np.sqrt(mean_squared_error( y_test, y_hat_elas ) )\n",
    "\n",
    "print(f\" THe testing error(RMSE) for SGDRegressor with ElasticNet Regularization term added  model(before fine tuning) is = {test_error} \")\n",
    "\n",
    "\n",
    "'''  From R2 Score , we infer - SGD Regression  Model '''\n",
    "print( r2_score ( y_test, y_hat_elas ))\n",
    "\n"
   ]
  },
  {
   "cell_type": "code",
   "execution_count": null,
   "metadata": {},
   "outputs": [],
   "source": [
    "# '''  Drawing the Learnign Curve of Model - showing Training error and Validation error as a function of increasing dataset size '''\n",
    "\n",
    "\n",
    "\n",
    "# X_t ,X_val , y_t, y_val = train_test_split( X_train[:100] , y_train[:100] , test_size=0.2 )\n",
    "\n",
    "\n",
    "# train_error =[]\n",
    "# val_error = []\n",
    "\n",
    "# for i in range(1 ,  len(X_t)) :\n",
    "#     X1 = X_t[:i]\n",
    "#     y1 = y_t[:i]\n",
    "#     sgd.fit(X1 , y1 )\n",
    "#     y_t_pred = sgd.predict(X1)\n",
    "\n",
    "#     y_val_pred = sgd.predict(X_val)\n",
    "    \n",
    "#     # validation set issame but as the model learns more , the validation score changes \n",
    "#     train_error.append( np.sqrt(mean_squared_error(y1 , y_t_pred)) )\n",
    "#     val_error.append( np.sqrt(mean_squared_error(y_val , y_val_pred)))\n",
    "\n",
    "# plt.plot ( range(1 , len(X_t)) , train_error , \"r--\" , label = \"Training_error \")\n",
    "# plt.plot( range( 1 , len(X_t)) , val_error , \"b--\" , label = \"Validation_error\")\n",
    "# plt.show()\n",
    "\n",
    "# ''' Highly Overfitting - Without removing the dataset '''"
   ]
  },
  {
   "cell_type": "code",
   "execution_count": 121,
   "metadata": {},
   "outputs": [
    {
     "data": {
      "text/html": [
       "<style>#sk-container-id-2 {color: black;}#sk-container-id-2 pre{padding: 0;}#sk-container-id-2 div.sk-toggleable {background-color: white;}#sk-container-id-2 label.sk-toggleable__label {cursor: pointer;display: block;width: 100%;margin-bottom: 0;padding: 0.3em;box-sizing: border-box;text-align: center;}#sk-container-id-2 label.sk-toggleable__label-arrow:before {content: \"▸\";float: left;margin-right: 0.25em;color: #696969;}#sk-container-id-2 label.sk-toggleable__label-arrow:hover:before {color: black;}#sk-container-id-2 div.sk-estimator:hover label.sk-toggleable__label-arrow:before {color: black;}#sk-container-id-2 div.sk-toggleable__content {max-height: 0;max-width: 0;overflow: hidden;text-align: left;background-color: #f0f8ff;}#sk-container-id-2 div.sk-toggleable__content pre {margin: 0.2em;color: black;border-radius: 0.25em;background-color: #f0f8ff;}#sk-container-id-2 input.sk-toggleable__control:checked~div.sk-toggleable__content {max-height: 200px;max-width: 100%;overflow: auto;}#sk-container-id-2 input.sk-toggleable__control:checked~label.sk-toggleable__label-arrow:before {content: \"▾\";}#sk-container-id-2 div.sk-estimator input.sk-toggleable__control:checked~label.sk-toggleable__label {background-color: #d4ebff;}#sk-container-id-2 div.sk-label input.sk-toggleable__control:checked~label.sk-toggleable__label {background-color: #d4ebff;}#sk-container-id-2 input.sk-hidden--visually {border: 0;clip: rect(1px 1px 1px 1px);clip: rect(1px, 1px, 1px, 1px);height: 1px;margin: -1px;overflow: hidden;padding: 0;position: absolute;width: 1px;}#sk-container-id-2 div.sk-estimator {font-family: monospace;background-color: #f0f8ff;border: 1px dotted black;border-radius: 0.25em;box-sizing: border-box;margin-bottom: 0.5em;}#sk-container-id-2 div.sk-estimator:hover {background-color: #d4ebff;}#sk-container-id-2 div.sk-parallel-item::after {content: \"\";width: 100%;border-bottom: 1px solid gray;flex-grow: 1;}#sk-container-id-2 div.sk-label:hover label.sk-toggleable__label {background-color: #d4ebff;}#sk-container-id-2 div.sk-serial::before {content: \"\";position: absolute;border-left: 1px solid gray;box-sizing: border-box;top: 0;bottom: 0;left: 50%;z-index: 0;}#sk-container-id-2 div.sk-serial {display: flex;flex-direction: column;align-items: center;background-color: white;padding-right: 0.2em;padding-left: 0.2em;position: relative;}#sk-container-id-2 div.sk-item {position: relative;z-index: 1;}#sk-container-id-2 div.sk-parallel {display: flex;align-items: stretch;justify-content: center;background-color: white;position: relative;}#sk-container-id-2 div.sk-item::before, #sk-container-id-2 div.sk-parallel-item::before {content: \"\";position: absolute;border-left: 1px solid gray;box-sizing: border-box;top: 0;bottom: 0;left: 50%;z-index: -1;}#sk-container-id-2 div.sk-parallel-item {display: flex;flex-direction: column;z-index: 1;position: relative;background-color: white;}#sk-container-id-2 div.sk-parallel-item:first-child::after {align-self: flex-end;width: 50%;}#sk-container-id-2 div.sk-parallel-item:last-child::after {align-self: flex-start;width: 50%;}#sk-container-id-2 div.sk-parallel-item:only-child::after {width: 0;}#sk-container-id-2 div.sk-dashed-wrapped {border: 1px dashed gray;margin: 0 0.4em 0.5em 0.4em;box-sizing: border-box;padding-bottom: 0.4em;background-color: white;}#sk-container-id-2 div.sk-label label {font-family: monospace;font-weight: bold;display: inline-block;line-height: 1.2em;}#sk-container-id-2 div.sk-label-container {text-align: center;}#sk-container-id-2 div.sk-container {/* jupyter's `normalize.less` sets `[hidden] { display: none; }` but bootstrap.min.css set `[hidden] { display: none !important; }` so we also need the `!important` here to be able to override the default hidden behavior on the sphinx rendered scikit-learn.org. See: https://github.com/scikit-learn/scikit-learn/issues/21755 */display: inline-block !important;position: relative;}#sk-container-id-2 div.sk-text-repr-fallback {display: none;}</style><div id=\"sk-container-id-2\" class=\"sk-top-container\"><div class=\"sk-text-repr-fallback\"><pre>SVR()</pre><b>In a Jupyter environment, please rerun this cell to show the HTML representation or trust the notebook. <br />On GitHub, the HTML representation is unable to render, please try loading this page with nbviewer.org.</b></div><div class=\"sk-container\" hidden><div class=\"sk-item\"><div class=\"sk-estimator sk-toggleable\"><input class=\"sk-toggleable__control sk-hidden--visually\" id=\"sk-estimator-id-2\" type=\"checkbox\" checked><label for=\"sk-estimator-id-2\" class=\"sk-toggleable__label sk-toggleable__label-arrow\">SVR</label><div class=\"sk-toggleable__content\"><pre>SVR()</pre></div></div></div></div></div>"
      ],
      "text/plain": [
       "SVR()"
      ]
     },
     "execution_count": 121,
     "metadata": {},
     "output_type": "execute_result"
    }
   ],
   "source": [
    "from sklearn.svm import SVR\n",
    "\n",
    "# fit a NOn Linear Regression model on data\n",
    "''' Radial Basis FUnction Kernel '''\n",
    "\n",
    "svr_rbf = SVR(  kernel=\"rbf\" )\n",
    "# do wide margin regression \n",
    "svr_rbf.fit( X_train , y_train)"
   ]
  },
  {
   "cell_type": "code",
   "execution_count": 122,
   "metadata": {},
   "outputs": [
    {
     "name": "stdout",
     "output_type": "stream",
     "text": [
      " The trainin error RMSE for SVR  with simialrity function of RBF Model  -103099.0761218269\n"
     ]
    }
   ],
   "source": [
    "''' RMSE training error'''\n",
    "y_train_rbf = svr_rbf.predict( X_train )\n",
    "\n",
    "score_rbf  = np.sqrt(mean_squared_error( y_train  , y_train_rbf) )\n",
    "\n",
    "print( f\" The trainin error RMSE for SVR  with simialrity function of RBF Model  -{score_rbf}\")"
   ]
  },
  {
   "cell_type": "code",
   "execution_count": 123,
   "metadata": {},
   "outputs": [
    {
     "name": "stdout",
     "output_type": "stream",
     "text": [
      " THe testing error(MSE) for SVR RBF for non linear regresion (before fine tuning) is = 10632717236.077177 \n",
      " R2 score for  SVM Non Linear Regressor is -1.5588234887342622e-06\n"
     ]
    }
   ],
   "source": [
    "y_pred_rbf = svr_rbf.predict( X_test )\n",
    "\n",
    "''' Testing error '''\n",
    "\n",
    "test_error_rbf = mean_squared_error( y_test , y_pred_rbf )\n",
    "\n",
    "print(f\" THe testing error(MSE) for SVR RBF for non linear regresion (before fine tuning) is = {test_error_rbf} \")\n",
    "\n",
    "score = r2_score( y_test , y_pred_rbf)\n",
    "\n",
    "print( f\" R2 score for  SVM Non Linear Regressor is {score}\")\n",
    "\n"
   ]
  },
  {
   "cell_type": "code",
   "execution_count": null,
   "metadata": {},
   "outputs": [],
   "source": [
    "# # fit a NOn Linear Regression model on data\n",
    "# ''' Poly Kernel '''\n",
    "\n",
    "# svr_poly = SVR(  kernel=\"poly\" )\n",
    "\n",
    "# svr_poly.fit( X_train , y_train)"
   ]
  },
  {
   "cell_type": "code",
   "execution_count": null,
   "metadata": {},
   "outputs": [],
   "source": [
    "# ''' Linear SVM , ( fitting amargin , wide street Find ANother form of trainig error , cross validation score '''\n",
    "\n",
    "\n",
    "# score = cross_val_score( Lin_svm , X_train , y_train , cv = 5  , scoring = \"neg_mean_squared_error\" )\n",
    "\n",
    "# print(score)\n",
    "\n",
    "# print( f\" The average of these Negative mean squared error in cross validation is {score.mean()}\")\n",
    "# ''' nearer to 0 ( negative MSE ) is good '''\n"
   ]
  },
  {
   "cell_type": "code",
   "execution_count": null,
   "metadata": {},
   "outputs": [],
   "source": [
    "# y_pred_svr = svr.predict( X_test )\n"
   ]
  },
  {
   "cell_type": "code",
   "execution_count": null,
   "metadata": {},
   "outputs": [],
   "source": [
    "# ''' Testing error '''\n",
    "\n",
    "# test_error = mean_squared_error( y_test , y_pred_svr )\n",
    "\n",
    "# print(f\" THe testing error(MSE) for SVR  model(before fine tuning) is = {test_error} \")\n",
    "\n",
    "# ''' Inference , testing error too high ( Very Wrong Predictions )'''"
   ]
  },
  {
   "cell_type": "code",
   "execution_count": null,
   "metadata": {},
   "outputs": [],
   "source": [
    "# score = r2_score( y_test , y_pred_svm)\n",
    "\n",
    "# print( f\" R2 score for linear SVM Regressor is {score}\")\n",
    "# '''  Alittle Better'''"
   ]
  },
  {
   "cell_type": "code",
   "execution_count": 124,
   "metadata": {},
   "outputs": [],
   "source": [
    "''' Making Ensemble of HYperparam Tuned Model '''\n",
    "\n",
    "def transaction_predictor( x , weight_1 , weight_2 , weight_3 ): # weights of model \n",
    "    # x - feature instance \n",
    "    pred1 =  weight_1 * forest_reg.predict( x)\n",
    "    pred2 =  weight_2 * sgd.predict( x)\n",
    "    pred3 =  weight_3 *svr_rbf.predict( x)\n",
    "\n",
    "    return (pred1+pred2+pred3)/3\n"
   ]
  },
  {
   "cell_type": "code",
   "execution_count": 125,
   "metadata": {},
   "outputs": [
    {
     "data": {
      "text/plain": [
       "-2.543935046965736e+16"
      ]
     },
     "execution_count": 125,
     "metadata": {},
     "output_type": "execute_result"
    }
   ],
   "source": [
    "y_t = transaction_predictor( X_test , 0.2 , 0.5 , 0.3 )\n",
    "\n",
    "r2_score( y_test , y_t )"
   ]
  },
  {
   "cell_type": "code",
   "execution_count": 126,
   "metadata": {},
   "outputs": [
    {
     "data": {
      "text/plain": [
       "' Pickling the Model and Running the Streamlit function '"
      ]
     },
     "execution_count": 126,
     "metadata": {},
     "output_type": "execute_result"
    }
   ],
   "source": [
    "''' OUtlier specifiv models '''"
   ]
  },
  {
   "cell_type": "code",
   "execution_count": 127,
   "metadata": {},
   "outputs": [
    {
     "data": {
      "text/html": [
       "<style>#sk-container-id-3 {color: black;}#sk-container-id-3 pre{padding: 0;}#sk-container-id-3 div.sk-toggleable {background-color: white;}#sk-container-id-3 label.sk-toggleable__label {cursor: pointer;display: block;width: 100%;margin-bottom: 0;padding: 0.3em;box-sizing: border-box;text-align: center;}#sk-container-id-3 label.sk-toggleable__label-arrow:before {content: \"▸\";float: left;margin-right: 0.25em;color: #696969;}#sk-container-id-3 label.sk-toggleable__label-arrow:hover:before {color: black;}#sk-container-id-3 div.sk-estimator:hover label.sk-toggleable__label-arrow:before {color: black;}#sk-container-id-3 div.sk-toggleable__content {max-height: 0;max-width: 0;overflow: hidden;text-align: left;background-color: #f0f8ff;}#sk-container-id-3 div.sk-toggleable__content pre {margin: 0.2em;color: black;border-radius: 0.25em;background-color: #f0f8ff;}#sk-container-id-3 input.sk-toggleable__control:checked~div.sk-toggleable__content {max-height: 200px;max-width: 100%;overflow: auto;}#sk-container-id-3 input.sk-toggleable__control:checked~label.sk-toggleable__label-arrow:before {content: \"▾\";}#sk-container-id-3 div.sk-estimator input.sk-toggleable__control:checked~label.sk-toggleable__label {background-color: #d4ebff;}#sk-container-id-3 div.sk-label input.sk-toggleable__control:checked~label.sk-toggleable__label {background-color: #d4ebff;}#sk-container-id-3 input.sk-hidden--visually {border: 0;clip: rect(1px 1px 1px 1px);clip: rect(1px, 1px, 1px, 1px);height: 1px;margin: -1px;overflow: hidden;padding: 0;position: absolute;width: 1px;}#sk-container-id-3 div.sk-estimator {font-family: monospace;background-color: #f0f8ff;border: 1px dotted black;border-radius: 0.25em;box-sizing: border-box;margin-bottom: 0.5em;}#sk-container-id-3 div.sk-estimator:hover {background-color: #d4ebff;}#sk-container-id-3 div.sk-parallel-item::after {content: \"\";width: 100%;border-bottom: 1px solid gray;flex-grow: 1;}#sk-container-id-3 div.sk-label:hover label.sk-toggleable__label {background-color: #d4ebff;}#sk-container-id-3 div.sk-serial::before {content: \"\";position: absolute;border-left: 1px solid gray;box-sizing: border-box;top: 0;bottom: 0;left: 50%;z-index: 0;}#sk-container-id-3 div.sk-serial {display: flex;flex-direction: column;align-items: center;background-color: white;padding-right: 0.2em;padding-left: 0.2em;position: relative;}#sk-container-id-3 div.sk-item {position: relative;z-index: 1;}#sk-container-id-3 div.sk-parallel {display: flex;align-items: stretch;justify-content: center;background-color: white;position: relative;}#sk-container-id-3 div.sk-item::before, #sk-container-id-3 div.sk-parallel-item::before {content: \"\";position: absolute;border-left: 1px solid gray;box-sizing: border-box;top: 0;bottom: 0;left: 50%;z-index: -1;}#sk-container-id-3 div.sk-parallel-item {display: flex;flex-direction: column;z-index: 1;position: relative;background-color: white;}#sk-container-id-3 div.sk-parallel-item:first-child::after {align-self: flex-end;width: 50%;}#sk-container-id-3 div.sk-parallel-item:last-child::after {align-self: flex-start;width: 50%;}#sk-container-id-3 div.sk-parallel-item:only-child::after {width: 0;}#sk-container-id-3 div.sk-dashed-wrapped {border: 1px dashed gray;margin: 0 0.4em 0.5em 0.4em;box-sizing: border-box;padding-bottom: 0.4em;background-color: white;}#sk-container-id-3 div.sk-label label {font-family: monospace;font-weight: bold;display: inline-block;line-height: 1.2em;}#sk-container-id-3 div.sk-label-container {text-align: center;}#sk-container-id-3 div.sk-container {/* jupyter's `normalize.less` sets `[hidden] { display: none; }` but bootstrap.min.css set `[hidden] { display: none !important; }` so we also need the `!important` here to be able to override the default hidden behavior on the sphinx rendered scikit-learn.org. See: https://github.com/scikit-learn/scikit-learn/issues/21755 */display: inline-block !important;position: relative;}#sk-container-id-3 div.sk-text-repr-fallback {display: none;}</style><div id=\"sk-container-id-3\" class=\"sk-top-container\"><div class=\"sk-text-repr-fallback\"><pre>RandomForestRegressor()</pre><b>In a Jupyter environment, please rerun this cell to show the HTML representation or trust the notebook. <br />On GitHub, the HTML representation is unable to render, please try loading this page with nbviewer.org.</b></div><div class=\"sk-container\" hidden><div class=\"sk-item\"><div class=\"sk-estimator sk-toggleable\"><input class=\"sk-toggleable__control sk-hidden--visually\" id=\"sk-estimator-id-3\" type=\"checkbox\" checked><label for=\"sk-estimator-id-3\" class=\"sk-toggleable__label sk-toggleable__label-arrow\">RandomForestRegressor</label><div class=\"sk-toggleable__content\"><pre>RandomForestRegressor()</pre></div></div></div></div></div>"
      ],
      "text/plain": [
       "RandomForestRegressor()"
      ]
     },
     "execution_count": 127,
     "metadata": {},
     "output_type": "execute_result"
    }
   ],
   "source": [
    "''' Training NEw Variations of these 3 ML models on outlier removed dataset '''\n",
    "\n",
    "\n",
    "forest_reg_out = RandomForestRegressor( n_estimators = 100 , bootstrap = True   )\n",
    "\n",
    "forest_reg_out.fit( X_train_out , y_train_out )\n"
   ]
  },
  {
   "cell_type": "code",
   "execution_count": 137,
   "metadata": {},
   "outputs": [
    {
     "name": "stdout",
     "output_type": "stream",
     "text": [
      " No outlier ,THe testing error(RMSE) for Random Forest Regressor model(before fine tuning) is = 91848.83353330081 \n",
      "-0.1099201147057931\n"
     ]
    }
   ],
   "source": [
    "''' Doing prediction on Test Data '''\n",
    "\n",
    "y_test_rand_out = forest_reg_out.predict( X_test_out )\n",
    "\n",
    "''' Testing error '''\n",
    "\n",
    "test_error = np.sqrt(mean_squared_error( y_test_out , y_test_rand_out ) )\n",
    "\n",
    "print(f\" No outlier ,THe testing error(RMSE) for Random Forest Regressor model(before fine tuning) is = {test_error} \")\n",
    "\n",
    "\n",
    "print( r2_score ( y_test_out  , y_test_rand_out ))\n",
    "\n",
    "\n"
   ]
  },
  {
   "cell_type": "code",
   "execution_count": 130,
   "metadata": {},
   "outputs": [
    {
     "data": {
      "text/html": [
       "<style>#sk-container-id-4 {color: black;}#sk-container-id-4 pre{padding: 0;}#sk-container-id-4 div.sk-toggleable {background-color: white;}#sk-container-id-4 label.sk-toggleable__label {cursor: pointer;display: block;width: 100%;margin-bottom: 0;padding: 0.3em;box-sizing: border-box;text-align: center;}#sk-container-id-4 label.sk-toggleable__label-arrow:before {content: \"▸\";float: left;margin-right: 0.25em;color: #696969;}#sk-container-id-4 label.sk-toggleable__label-arrow:hover:before {color: black;}#sk-container-id-4 div.sk-estimator:hover label.sk-toggleable__label-arrow:before {color: black;}#sk-container-id-4 div.sk-toggleable__content {max-height: 0;max-width: 0;overflow: hidden;text-align: left;background-color: #f0f8ff;}#sk-container-id-4 div.sk-toggleable__content pre {margin: 0.2em;color: black;border-radius: 0.25em;background-color: #f0f8ff;}#sk-container-id-4 input.sk-toggleable__control:checked~div.sk-toggleable__content {max-height: 200px;max-width: 100%;overflow: auto;}#sk-container-id-4 input.sk-toggleable__control:checked~label.sk-toggleable__label-arrow:before {content: \"▾\";}#sk-container-id-4 div.sk-estimator input.sk-toggleable__control:checked~label.sk-toggleable__label {background-color: #d4ebff;}#sk-container-id-4 div.sk-label input.sk-toggleable__control:checked~label.sk-toggleable__label {background-color: #d4ebff;}#sk-container-id-4 input.sk-hidden--visually {border: 0;clip: rect(1px 1px 1px 1px);clip: rect(1px, 1px, 1px, 1px);height: 1px;margin: -1px;overflow: hidden;padding: 0;position: absolute;width: 1px;}#sk-container-id-4 div.sk-estimator {font-family: monospace;background-color: #f0f8ff;border: 1px dotted black;border-radius: 0.25em;box-sizing: border-box;margin-bottom: 0.5em;}#sk-container-id-4 div.sk-estimator:hover {background-color: #d4ebff;}#sk-container-id-4 div.sk-parallel-item::after {content: \"\";width: 100%;border-bottom: 1px solid gray;flex-grow: 1;}#sk-container-id-4 div.sk-label:hover label.sk-toggleable__label {background-color: #d4ebff;}#sk-container-id-4 div.sk-serial::before {content: \"\";position: absolute;border-left: 1px solid gray;box-sizing: border-box;top: 0;bottom: 0;left: 50%;z-index: 0;}#sk-container-id-4 div.sk-serial {display: flex;flex-direction: column;align-items: center;background-color: white;padding-right: 0.2em;padding-left: 0.2em;position: relative;}#sk-container-id-4 div.sk-item {position: relative;z-index: 1;}#sk-container-id-4 div.sk-parallel {display: flex;align-items: stretch;justify-content: center;background-color: white;position: relative;}#sk-container-id-4 div.sk-item::before, #sk-container-id-4 div.sk-parallel-item::before {content: \"\";position: absolute;border-left: 1px solid gray;box-sizing: border-box;top: 0;bottom: 0;left: 50%;z-index: -1;}#sk-container-id-4 div.sk-parallel-item {display: flex;flex-direction: column;z-index: 1;position: relative;background-color: white;}#sk-container-id-4 div.sk-parallel-item:first-child::after {align-self: flex-end;width: 50%;}#sk-container-id-4 div.sk-parallel-item:last-child::after {align-self: flex-start;width: 50%;}#sk-container-id-4 div.sk-parallel-item:only-child::after {width: 0;}#sk-container-id-4 div.sk-dashed-wrapped {border: 1px dashed gray;margin: 0 0.4em 0.5em 0.4em;box-sizing: border-box;padding-bottom: 0.4em;background-color: white;}#sk-container-id-4 div.sk-label label {font-family: monospace;font-weight: bold;display: inline-block;line-height: 1.2em;}#sk-container-id-4 div.sk-label-container {text-align: center;}#sk-container-id-4 div.sk-container {/* jupyter's `normalize.less` sets `[hidden] { display: none; }` but bootstrap.min.css set `[hidden] { display: none !important; }` so we also need the `!important` here to be able to override the default hidden behavior on the sphinx rendered scikit-learn.org. See: https://github.com/scikit-learn/scikit-learn/issues/21755 */display: inline-block !important;position: relative;}#sk-container-id-4 div.sk-text-repr-fallback {display: none;}</style><div id=\"sk-container-id-4\" class=\"sk-top-container\"><div class=\"sk-text-repr-fallback\"><pre>SGDRegressor(l1_ratio=0.5, penalty=&#x27;elasticnet&#x27;)</pre><b>In a Jupyter environment, please rerun this cell to show the HTML representation or trust the notebook. <br />On GitHub, the HTML representation is unable to render, please try loading this page with nbviewer.org.</b></div><div class=\"sk-container\" hidden><div class=\"sk-item\"><div class=\"sk-estimator sk-toggleable\"><input class=\"sk-toggleable__control sk-hidden--visually\" id=\"sk-estimator-id-4\" type=\"checkbox\" checked><label for=\"sk-estimator-id-4\" class=\"sk-toggleable__label sk-toggleable__label-arrow\">SGDRegressor</label><div class=\"sk-toggleable__content\"><pre>SGDRegressor(l1_ratio=0.5, penalty=&#x27;elasticnet&#x27;)</pre></div></div></div></div></div>"
      ],
      "text/plain": [
       "SGDRegressor(l1_ratio=0.5, penalty='elasticnet')"
      ]
     },
     "execution_count": 130,
     "metadata": {},
     "output_type": "execute_result"
    }
   ],
   "source": [
    "sgd_out = SGDRegressor( penalty = \"elasticnet\" , l1_ratio= 0.5 )\n",
    "sgd_out.fit( X_train_out, y_train_out )\n"
   ]
  },
  {
   "cell_type": "code",
   "execution_count": 135,
   "metadata": {},
   "outputs": [
    {
     "name": "stdout",
     "output_type": "stream",
     "text": [
      " THe testing error(RMSE) for SGDRegressor with ElasticNet Regularization term added  model(before fine tuning) is = 138248300783678.48 \n",
      "-2.514571771030604e+18\n"
     ]
    }
   ],
   "source": [
    "y_hat_elas_out = sgd_out.predict(X_test_out)\n",
    "\n",
    "''' Testing error '''\n",
    "\n",
    "test_error = np.sqrt(mean_squared_error( y_test_out, y_hat_elas_out ) )\n",
    "\n",
    "print(f\" THe testing error(RMSE) for SGDRegressor with ElasticNet Regularization term added  model(before fine tuning) is = {test_error} \")\n",
    "\n",
    "\n",
    "'''  From R2 Score , we infer - SGD Regression  Model '''\n",
    "print( r2_score ( y_test_out, y_hat_elas_out ))\n",
    "\n"
   ]
  },
  {
   "cell_type": "code",
   "execution_count": 132,
   "metadata": {},
   "outputs": [
    {
     "data": {
      "text/html": [
       "<style>#sk-container-id-5 {color: black;}#sk-container-id-5 pre{padding: 0;}#sk-container-id-5 div.sk-toggleable {background-color: white;}#sk-container-id-5 label.sk-toggleable__label {cursor: pointer;display: block;width: 100%;margin-bottom: 0;padding: 0.3em;box-sizing: border-box;text-align: center;}#sk-container-id-5 label.sk-toggleable__label-arrow:before {content: \"▸\";float: left;margin-right: 0.25em;color: #696969;}#sk-container-id-5 label.sk-toggleable__label-arrow:hover:before {color: black;}#sk-container-id-5 div.sk-estimator:hover label.sk-toggleable__label-arrow:before {color: black;}#sk-container-id-5 div.sk-toggleable__content {max-height: 0;max-width: 0;overflow: hidden;text-align: left;background-color: #f0f8ff;}#sk-container-id-5 div.sk-toggleable__content pre {margin: 0.2em;color: black;border-radius: 0.25em;background-color: #f0f8ff;}#sk-container-id-5 input.sk-toggleable__control:checked~div.sk-toggleable__content {max-height: 200px;max-width: 100%;overflow: auto;}#sk-container-id-5 input.sk-toggleable__control:checked~label.sk-toggleable__label-arrow:before {content: \"▾\";}#sk-container-id-5 div.sk-estimator input.sk-toggleable__control:checked~label.sk-toggleable__label {background-color: #d4ebff;}#sk-container-id-5 div.sk-label input.sk-toggleable__control:checked~label.sk-toggleable__label {background-color: #d4ebff;}#sk-container-id-5 input.sk-hidden--visually {border: 0;clip: rect(1px 1px 1px 1px);clip: rect(1px, 1px, 1px, 1px);height: 1px;margin: -1px;overflow: hidden;padding: 0;position: absolute;width: 1px;}#sk-container-id-5 div.sk-estimator {font-family: monospace;background-color: #f0f8ff;border: 1px dotted black;border-radius: 0.25em;box-sizing: border-box;margin-bottom: 0.5em;}#sk-container-id-5 div.sk-estimator:hover {background-color: #d4ebff;}#sk-container-id-5 div.sk-parallel-item::after {content: \"\";width: 100%;border-bottom: 1px solid gray;flex-grow: 1;}#sk-container-id-5 div.sk-label:hover label.sk-toggleable__label {background-color: #d4ebff;}#sk-container-id-5 div.sk-serial::before {content: \"\";position: absolute;border-left: 1px solid gray;box-sizing: border-box;top: 0;bottom: 0;left: 50%;z-index: 0;}#sk-container-id-5 div.sk-serial {display: flex;flex-direction: column;align-items: center;background-color: white;padding-right: 0.2em;padding-left: 0.2em;position: relative;}#sk-container-id-5 div.sk-item {position: relative;z-index: 1;}#sk-container-id-5 div.sk-parallel {display: flex;align-items: stretch;justify-content: center;background-color: white;position: relative;}#sk-container-id-5 div.sk-item::before, #sk-container-id-5 div.sk-parallel-item::before {content: \"\";position: absolute;border-left: 1px solid gray;box-sizing: border-box;top: 0;bottom: 0;left: 50%;z-index: -1;}#sk-container-id-5 div.sk-parallel-item {display: flex;flex-direction: column;z-index: 1;position: relative;background-color: white;}#sk-container-id-5 div.sk-parallel-item:first-child::after {align-self: flex-end;width: 50%;}#sk-container-id-5 div.sk-parallel-item:last-child::after {align-self: flex-start;width: 50%;}#sk-container-id-5 div.sk-parallel-item:only-child::after {width: 0;}#sk-container-id-5 div.sk-dashed-wrapped {border: 1px dashed gray;margin: 0 0.4em 0.5em 0.4em;box-sizing: border-box;padding-bottom: 0.4em;background-color: white;}#sk-container-id-5 div.sk-label label {font-family: monospace;font-weight: bold;display: inline-block;line-height: 1.2em;}#sk-container-id-5 div.sk-label-container {text-align: center;}#sk-container-id-5 div.sk-container {/* jupyter's `normalize.less` sets `[hidden] { display: none; }` but bootstrap.min.css set `[hidden] { display: none !important; }` so we also need the `!important` here to be able to override the default hidden behavior on the sphinx rendered scikit-learn.org. See: https://github.com/scikit-learn/scikit-learn/issues/21755 */display: inline-block !important;position: relative;}#sk-container-id-5 div.sk-text-repr-fallback {display: none;}</style><div id=\"sk-container-id-5\" class=\"sk-top-container\"><div class=\"sk-text-repr-fallback\"><pre>SVR()</pre><b>In a Jupyter environment, please rerun this cell to show the HTML representation or trust the notebook. <br />On GitHub, the HTML representation is unable to render, please try loading this page with nbviewer.org.</b></div><div class=\"sk-container\" hidden><div class=\"sk-item\"><div class=\"sk-estimator sk-toggleable\"><input class=\"sk-toggleable__control sk-hidden--visually\" id=\"sk-estimator-id-5\" type=\"checkbox\" checked><label for=\"sk-estimator-id-5\" class=\"sk-toggleable__label sk-toggleable__label-arrow\">SVR</label><div class=\"sk-toggleable__content\"><pre>SVR()</pre></div></div></div></div></div>"
      ],
      "text/plain": [
       "SVR()"
      ]
     },
     "execution_count": 132,
     "metadata": {},
     "output_type": "execute_result"
    }
   ],
   "source": [
    "svr_rbf_out = SVR(  kernel=\"rbf\" )\n",
    "\n",
    "svr_rbf_out.fit( X_train_out  , y_train_out )"
   ]
  },
  {
   "cell_type": "code",
   "execution_count": 136,
   "metadata": {},
   "outputs": [
    {
     "name": "stdout",
     "output_type": "stream",
     "text": [
      " THe testing error(MSE) for SVR RBF for non linear regresion (before fine tuning) is = 7607332661.095556 \n",
      " R2 score for  SVM Non Linear Regressor is -0.0008680817481128145\n"
     ]
    }
   ],
   "source": [
    "y_pred_rbf_out = svr_rbf.predict( X_test_out )\n",
    "\n",
    "''' Testing error '''\n",
    "\n",
    "test_error_rbf = mean_squared_error( y_test_out , y_pred_rbf_out )\n",
    "\n",
    "print(f\" THe testing error(MSE) for SVR RBF for non linear regresion (before fine tuning) is = {test_error_rbf} \")\n",
    "\n",
    "score = r2_score( y_test_out , y_pred_rbf_out)\n",
    "\n",
    "print( f\" R2 score for  SVM Non Linear Regressor is {score}\")\n",
    "\n"
   ]
  },
  {
   "cell_type": "code",
   "execution_count": 138,
   "metadata": {},
   "outputs": [
    {
     "data": {
      "text/plain": [
       "-6.286429427680643e+17"
      ]
     },
     "execution_count": 138,
     "metadata": {},
     "output_type": "execute_result"
    }
   ],
   "source": [
    "''' Making Ensemble of HYperparam Tuned Model '''\n",
    "\n",
    "def transaction_predictor( x , weight_1 , weight_2 , weight_3 ): # weights of model \n",
    "    # x - feature instance \n",
    "    pred1 =  weight_1 * forest_reg_out.predict( x)\n",
    "    pred2 =  weight_2 * sgd_out.predict( x)\n",
    "    pred3 =  weight_3 *svr_rbf_out.predict( x)\n",
    "\n",
    "    return (pred1+pred2+pred3)\n",
    "\n",
    "\n",
    "y_t = transaction_predictor( X_test_out , 0.2 , 0.5 , 0.3 )\n",
    "\n",
    "r2_score( y_test_out , y_t )"
   ]
  },
  {
   "cell_type": "code",
   "execution_count": 139,
   "metadata": {},
   "outputs": [],
   "source": [
    "''' Pickling the Model and Running the Streamlit function '''\n",
    "\n",
    "with open('forest_reg.pkl', 'wb') as file:\n",
    "    pickle.dump(forest_reg_out , file)\n",
    "\n"
   ]
  },
  {
   "cell_type": "code",
   "execution_count": 140,
   "metadata": {},
   "outputs": [
    {
     "name": "stdout",
     "output_type": "stream",
     "text": [
      "^C\n"
     ]
    }
   ],
   "source": [
    "import streamlit as st \n",
    "!streamlit run test.py "
   ]
  },
  {
   "cell_type": "code",
   "execution_count": null,
   "metadata": {},
   "outputs": [],
   "source": [
    "data.to_csv('daily.csv')  # For Tiem Series Forecasting "
   ]
  },
  {
   "cell_type": "code",
   "execution_count": null,
   "metadata": {},
   "outputs": [],
   "source": []
  }
 ],
 "metadata": {
  "kernelspec": {
   "display_name": "Python 3",
   "language": "python",
   "name": "python3"
  },
  "language_info": {
   "codemirror_mode": {
    "name": "ipython",
    "version": 3
   },
   "file_extension": ".py",
   "mimetype": "text/x-python",
   "name": "python",
   "nbconvert_exporter": "python",
   "pygments_lexer": "ipython3",
   "version": "3.8.2"
  }
 },
 "nbformat": 4,
 "nbformat_minor": 2
}
