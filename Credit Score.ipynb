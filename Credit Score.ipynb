{
 "cells": [
  {
   "cell_type": "code",
   "execution_count": 1,
   "metadata": {},
   "outputs": [],
   "source": [
    "import warnings \n",
    "warnings.filterwarnings('ignore')\n",
    "\n",
    "import numpy as np \n",
    "import pandas as pd \n",
    "import matplotlib.pyplot as plt \n",
    "import seaborn as sns \n",
    "from mpl_toolkits import mplot3d\n",
    "import pickle # convert model into bytestream\n",
    "\n",
    "pd.options.mode.chained_assignment = None "
   ]
  },
  {
   "cell_type": "code",
   "execution_count": 2,
   "metadata": {},
   "outputs": [],
   "source": [
    "data = pd.read_csv('D:\\This Project\\Credit Spend\\CreditCards.csv')"
   ]
  },
  {
   "cell_type": "code",
   "execution_count": 3,
   "metadata": {},
   "outputs": [
    {
     "data": {
      "text/plain": [
       "' \\ngiven ->> amount of transaction at one go for a person \\n\\nAim ->  to predict transaction for a person in particular month , gender , card type \\n\\n    -> cluster customers based on card type , amount and gender and give reminder of saving and amount to\\n save to customers spending more frequently \\n\\n \\nNEW AIMS - Include YOur Knowledge about Quants( how Credits , Equities work in market ) \\n      -  Also uae a RNN to analyze transctino amnt of indiviudla users and do future prediction basedon prev transaction (RNN)\\n'"
      ]
     },
     "execution_count": 3,
     "metadata": {},
     "output_type": "execute_result"
    }
   ],
   "source": [
    "''' \n",
    "given ->> amount of transaction at one go for a person \n",
    "\n",
    "Aim ->  to predict transaction for a person in particular month , gender , card type \n",
    "\n",
    "    -> cluster customers based on card type , amount and gender and give reminder of saving and amount to\n",
    " save to customers spending more frequently \n",
    "\n",
    " \n",
    "NEW AIMS - Include YOur Knowledge about Quants( how Credits , Equities work in market ) \n",
    "      -  Also uae a RNN to analyze transctino amnt of indiviudla users and do future prediction basedon prev transaction (RNN)\n",
    "'''"
   ]
  },
  {
   "cell_type": "code",
   "execution_count": 4,
   "metadata": {},
   "outputs": [
    {
     "name": "stdout",
     "output_type": "stream",
     "text": [
      "<class 'pandas.core.frame.DataFrame'>\n",
      "RangeIndex: 26054 entries, 0 to 26053\n",
      "Data columns (total 9 columns):\n",
      " #   Column     Non-Null Count  Dtype  \n",
      "---  ------     --------------  -----  \n",
      " 0   index      26052 non-null  float64\n",
      " 1   City       26052 non-null  object \n",
      " 2   Date       26054 non-null  object \n",
      " 3   Card Type  26052 non-null  object \n",
      " 4   Exp Type   26052 non-null  object \n",
      " 5   Gender     26052 non-null  object \n",
      " 6   Amount     26052 non-null  float64\n",
      " 7   Year       26052 non-null  float64\n",
      " 8   Month      26052 non-null  object \n",
      "dtypes: float64(3), object(6)\n",
      "memory usage: 1.8+ MB\n"
     ]
    }
   ],
   "source": [
    "data.info()\n",
    "\n",
    "''' 2 rows are empty '''\n",
    "\n",
    "data.dropna( inplace = True )"
   ]
  },
  {
   "cell_type": "code",
   "execution_count": 5,
   "metadata": {},
   "outputs": [
    {
     "data": {
      "text/plain": [
       "'  Numericla attributes only'"
      ]
     },
     "execution_count": 5,
     "metadata": {},
     "output_type": "execute_result"
    }
   ],
   "source": [
    "data.describe() \n",
    "'''  Numericla attributes only'''"
   ]
  },
  {
   "cell_type": "code",
   "execution_count": 6,
   "metadata": {},
   "outputs": [],
   "source": [
    "''' Removing 'India' name from City  and adding a new field of cities '''\n",
    "\n",
    "\n",
    "def extract_city ( col ) :\n",
    "    cities = []\n",
    "    rows = len(col) \n",
    "    for i in range(rows ) :\n",
    "\n",
    "        st = data.loc[i]['City']\n",
    "        city = st.split(',')[0]\n",
    "        cities.append(city )\n",
    "    \n",
    "    return cities \n",
    "\n",
    "cities = extract_city( data['City'])\n",
    "\n",
    "data.drop( 'City' , axis=1 , inplace= True )"
   ]
  },
  {
   "cell_type": "code",
   "execution_count": 7,
   "metadata": {},
   "outputs": [],
   "source": [
    "'''  Adding this new field of only cities ''' \n",
    "\n",
    "data['Cities'] = cities \n"
   ]
  },
  {
   "cell_type": "code",
   "execution_count": 8,
   "metadata": {},
   "outputs": [],
   "source": [
    "''' Dropping the Date & Index Column since Month ( festivities) are already given '''\n",
    "\n",
    "data = data.drop( ['Date' , 'index' ] , axis = 1 )\n"
   ]
  },
  {
   "cell_type": "code",
   "execution_count": 9,
   "metadata": {},
   "outputs": [
    {
     "data": {
      "text/html": [
       "<div>\n",
       "<style scoped>\n",
       "    .dataframe tbody tr th:only-of-type {\n",
       "        vertical-align: middle;\n",
       "    }\n",
       "\n",
       "    .dataframe tbody tr th {\n",
       "        vertical-align: top;\n",
       "    }\n",
       "\n",
       "    .dataframe thead th {\n",
       "        text-align: right;\n",
       "    }\n",
       "</style>\n",
       "<table border=\"1\" class=\"dataframe\">\n",
       "  <thead>\n",
       "    <tr style=\"text-align: right;\">\n",
       "      <th></th>\n",
       "      <th>Card Type</th>\n",
       "      <th>Exp Type</th>\n",
       "      <th>Gender</th>\n",
       "      <th>Amount</th>\n",
       "      <th>Year</th>\n",
       "      <th>Month</th>\n",
       "      <th>Cities</th>\n",
       "    </tr>\n",
       "  </thead>\n",
       "  <tbody>\n",
       "    <tr>\n",
       "      <th>0</th>\n",
       "      <td>Gold</td>\n",
       "      <td>Bills</td>\n",
       "      <td>F</td>\n",
       "      <td>82475.0</td>\n",
       "      <td>2014.0</td>\n",
       "      <td>October</td>\n",
       "      <td>Delhi</td>\n",
       "    </tr>\n",
       "    <tr>\n",
       "      <th>1</th>\n",
       "      <td>Platinum</td>\n",
       "      <td>Bills</td>\n",
       "      <td>F</td>\n",
       "      <td>32555.0</td>\n",
       "      <td>2014.0</td>\n",
       "      <td>August</td>\n",
       "      <td>Greater Mumbai</td>\n",
       "    </tr>\n",
       "    <tr>\n",
       "      <th>2</th>\n",
       "      <td>Silver</td>\n",
       "      <td>Bills</td>\n",
       "      <td>F</td>\n",
       "      <td>101738.0</td>\n",
       "      <td>2014.0</td>\n",
       "      <td>August</td>\n",
       "      <td>Bengaluru</td>\n",
       "    </tr>\n",
       "    <tr>\n",
       "      <th>3</th>\n",
       "      <td>Signature</td>\n",
       "      <td>Bills</td>\n",
       "      <td>F</td>\n",
       "      <td>123424.0</td>\n",
       "      <td>2014.0</td>\n",
       "      <td>April</td>\n",
       "      <td>Greater Mumbai</td>\n",
       "    </tr>\n",
       "    <tr>\n",
       "      <th>4</th>\n",
       "      <td>Gold</td>\n",
       "      <td>Bills</td>\n",
       "      <td>F</td>\n",
       "      <td>171574.0</td>\n",
       "      <td>2015.0</td>\n",
       "      <td>May</td>\n",
       "      <td>Bengaluru</td>\n",
       "    </tr>\n",
       "  </tbody>\n",
       "</table>\n",
       "</div>"
      ],
      "text/plain": [
       "   Card Type Exp Type Gender    Amount    Year    Month          Cities\n",
       "0       Gold    Bills      F   82475.0  2014.0  October           Delhi\n",
       "1   Platinum    Bills      F   32555.0  2014.0   August  Greater Mumbai\n",
       "2     Silver    Bills      F  101738.0  2014.0   August       Bengaluru\n",
       "3  Signature    Bills      F  123424.0  2014.0    April  Greater Mumbai\n",
       "4       Gold    Bills      F  171574.0  2015.0      May       Bengaluru"
      ]
     },
     "execution_count": 9,
     "metadata": {},
     "output_type": "execute_result"
    }
   ],
   "source": [
    "data.head()"
   ]
  },
  {
   "cell_type": "code",
   "execution_count": 10,
   "metadata": {},
   "outputs": [
    {
     "name": "stdout",
     "output_type": "stream",
     "text": [
      " Per month , there have been , Average 2171.0 transactions \n"
     ]
    }
   ],
   "source": [
    "''' Some inferences from the RAW dataset '''\n",
    "\n",
    "'''  Average amount of transactions per month FOr all population  '''\n",
    "\n",
    "avg_trans_month = len( data['Amount']) / 12 \n",
    "\n",
    "print( f\" Per month , there have been , Average {avg_trans_month} transactions \" )\n",
    "\n"
   ]
  },
  {
   "cell_type": "code",
   "execution_count": 11,
   "metadata": {},
   "outputs": [
    {
     "data": {
      "text/html": [
       "<div>\n",
       "<style scoped>\n",
       "    .dataframe tbody tr th:only-of-type {\n",
       "        vertical-align: middle;\n",
       "    }\n",
       "\n",
       "    .dataframe tbody tr th {\n",
       "        vertical-align: top;\n",
       "    }\n",
       "\n",
       "    .dataframe thead th {\n",
       "        text-align: right;\n",
       "    }\n",
       "</style>\n",
       "<table border=\"1\" class=\"dataframe\">\n",
       "  <thead>\n",
       "    <tr style=\"text-align: right;\">\n",
       "      <th></th>\n",
       "      <th>Card Type</th>\n",
       "      <th>Exp Type</th>\n",
       "      <th>Gender</th>\n",
       "      <th>Amount</th>\n",
       "      <th>Year</th>\n",
       "      <th>Month</th>\n",
       "      <th>Cities</th>\n",
       "    </tr>\n",
       "  </thead>\n",
       "  <tbody>\n",
       "    <tr>\n",
       "      <th>0</th>\n",
       "      <td>Gold</td>\n",
       "      <td>Bills</td>\n",
       "      <td>F</td>\n",
       "      <td>82475.0</td>\n",
       "      <td>2014.0</td>\n",
       "      <td>October</td>\n",
       "      <td>Delhi</td>\n",
       "    </tr>\n",
       "    <tr>\n",
       "      <th>1</th>\n",
       "      <td>Platinum</td>\n",
       "      <td>Bills</td>\n",
       "      <td>F</td>\n",
       "      <td>32555.0</td>\n",
       "      <td>2014.0</td>\n",
       "      <td>August</td>\n",
       "      <td>Greater Mumbai</td>\n",
       "    </tr>\n",
       "    <tr>\n",
       "      <th>2</th>\n",
       "      <td>Silver</td>\n",
       "      <td>Bills</td>\n",
       "      <td>F</td>\n",
       "      <td>101738.0</td>\n",
       "      <td>2014.0</td>\n",
       "      <td>August</td>\n",
       "      <td>Bengaluru</td>\n",
       "    </tr>\n",
       "    <tr>\n",
       "      <th>3</th>\n",
       "      <td>Signature</td>\n",
       "      <td>Bills</td>\n",
       "      <td>F</td>\n",
       "      <td>123424.0</td>\n",
       "      <td>2014.0</td>\n",
       "      <td>April</td>\n",
       "      <td>Greater Mumbai</td>\n",
       "    </tr>\n",
       "    <tr>\n",
       "      <th>4</th>\n",
       "      <td>Gold</td>\n",
       "      <td>Bills</td>\n",
       "      <td>F</td>\n",
       "      <td>171574.0</td>\n",
       "      <td>2015.0</td>\n",
       "      <td>May</td>\n",
       "      <td>Bengaluru</td>\n",
       "    </tr>\n",
       "  </tbody>\n",
       "</table>\n",
       "</div>"
      ],
      "text/plain": [
       "   Card Type Exp Type Gender    Amount    Year    Month          Cities\n",
       "0       Gold    Bills      F   82475.0  2014.0  October           Delhi\n",
       "1   Platinum    Bills      F   32555.0  2014.0   August  Greater Mumbai\n",
       "2     Silver    Bills      F  101738.0  2014.0   August       Bengaluru\n",
       "3  Signature    Bills      F  123424.0  2014.0    April  Greater Mumbai\n",
       "4       Gold    Bills      F  171574.0  2015.0      May       Bengaluru"
      ]
     },
     "execution_count": 11,
     "metadata": {},
     "output_type": "execute_result"
    }
   ],
   "source": [
    "data.head()"
   ]
  },
  {
   "cell_type": "code",
   "execution_count": 12,
   "metadata": {},
   "outputs": [
    {
     "data": {
      "image/png": "[encoded data removed]",
      "text/plain": [
       "<Figure size 1200x500 with 1 Axes>"
      ]
     },
     "metadata": {},
     "output_type": "display_data"
    }
   ],
   "source": [
    "'''  Seeinf Expense made  MOnth-Wise '''\n",
    "\n",
    "data['Month'].hist(bins  =50 ,  figsize  = (12 , 5))\n",
    "plt.show()"
   ]
  },
  {
   "cell_type": "code",
   "execution_count": 13,
   "metadata": {},
   "outputs": [
    {
     "data": {
      "image/png": "[encoded data removed]",
      "text/plain": [
       "<Figure size 640x480 with 1 Axes>"
      ]
     },
     "metadata": {},
     "output_type": "display_data"
    },
    {
     "data": {
      "text/plain": [
       "Card Type\n",
       "Silver       6840\n",
       "Signature    6447\n",
       "Platinum     6398\n",
       "Gold         6367\n",
       "Name: count, dtype: int64"
      ]
     },
     "execution_count": 13,
     "metadata": {},
     "output_type": "execute_result"
    }
   ],
   "source": [
    "data.plot( kind  = 'scatter' , x = 'Card Type' , y = 'Amount')\n",
    "\n",
    "plt.show()\n",
    "\n",
    "data['Card Type'].value_counts()"
   ]
  },
  {
   "cell_type": "code",
   "execution_count": 14,
   "metadata": {},
   "outputs": [
    {
     "data": {
      "image/png": "[encoded data removed]",
      "text/plain": [
       "<Figure size 640x480 with 1 Axes>"
      ]
     },
     "metadata": {},
     "output_type": "display_data"
    },
    {
     "data": {
      "text/plain": [
       "' HIhest Amount of Transactions have been made from the Platinum Card > Gold Card \\nInference ->  Platinum Card is More Powerful .\\n'"
      ]
     },
     "execution_count": 14,
     "metadata": {},
     "output_type": "execute_result"
    }
   ],
   "source": [
    "''' More than 5.0 lakh ruppes transaction from the Card Type '''\n",
    "\n",
    "df2 = data[  data['Amount'] >= 500000]\n",
    "\n",
    "df2.plot( kind  = 'scatter' , x = 'Card Type' , y = 'Amount')\n",
    "\n",
    "plt.show()\n",
    "\n",
    "df2['Card Type'].value_counts()\n",
    "\n",
    "''' HIhest Amount of Transactions have been made from the Platinum Card > Gold Card \n",
    "Inference ->  Platinum Card is More Powerful .\n",
    "'''\n"
   ]
  },
  {
   "cell_type": "code",
   "execution_count": 15,
   "metadata": {},
   "outputs": [
    {
     "data": {
      "text/plain": [
       "' Inference  -  1 LAkh to 3 Lakhs transactions are highest '"
      ]
     },
     "execution_count": 15,
     "metadata": {},
     "output_type": "execute_result"
    },
    {
     "data": {
      "image/png": "[encoded data removed]",
      "text/plain": [
       "<Figure size 640x480 with 1 Axes>"
      ]
     },
     "metadata": {},
     "output_type": "display_data"
    }
   ],
   "source": [
    "''' Categorise the Amount of Transaction and see Which range amount has been drawn more '''\n",
    "data1 = data.copy()\n",
    "data1['Amount'] = pd.cut( data1['Amount'] , bins = [ 0 , 100000 ,  200000 ,  300000 ,  400000 ,  500000 ,  600000 ,  700000 ,  800000 ,  900000 , np.inf] ,\n",
    "                          labels = [1,2,3,4,5,6,7,8,9,10])\n",
    "from sklearn.preprocessing import MinMaxScaler\n",
    "\n",
    "min_max = MinMaxScaler()\n",
    "min_max.fit_transform(data1[['Amount']] ) \n",
    "\n",
    "data1['Amount'].hist( bins = 20 )\n",
    "\n",
    "''' Inference  -  1 LAkh to 3 Lakhs transactions are highest '''"
   ]
  },
  {
   "cell_type": "code",
   "execution_count": 16,
   "metadata": {},
   "outputs": [],
   "source": [
    "''' Dummy data '''\n",
    "dummy = data.copy() \n"
   ]
  },
  {
   "cell_type": "code",
   "execution_count": 17,
   "metadata": {},
   "outputs": [
    {
     "data": {
      "text/plain": [
       "' DO feature Scaling after splititng the Dataset '"
      ]
     },
     "execution_count": 17,
     "metadata": {},
     "output_type": "execute_result"
    }
   ],
   "source": [
    "# '''  Standarizing the amount Data ( making variance  = 1) and seeing its dsitrbution )( Amount  -> Continuous Random Variable )'''\n",
    "\n",
    "# from sklearn.preprocessing import StandardScaler \n",
    "\n",
    "# std_scale = StandardScaler()\n",
    "\n",
    "# dummy['Amount']  = std_scale.fit_transform( dummy[['Amount']])\n",
    "\n",
    "\n",
    "''' DO feature Scaling after splititng the Dataset '''"
   ]
  },
  {
   "cell_type": "code",
   "execution_count": 18,
   "metadata": {},
   "outputs": [
    {
     "data": {
      "image/png": "[encoded data removed]",
      "text/plain": [
       "<Figure size 500x500 with 1 Axes>"
      ]
     },
     "metadata": {},
     "output_type": "display_data"
    },
    {
     "data": {
      "text/plain": [
       "' pdf is higly skewed ( right / positive skewed ) Since people exxpending high Amount of money is usually less in a normal society \\nmost are middle class ( mean > median) , so use median to represent data since its least affected by outliers or spread of data  '"
      ]
     },
     "execution_count": 18,
     "metadata": {},
     "output_type": "execute_result"
    }
   ],
   "source": [
    "''' Visualizing the pdf of Scaled Amount  '''\n",
    "\n",
    "# dummy['Amount'].hist ( bins  = 100 )\n",
    "sns.displot( dummy['Amount'] , bins = 100  )\n",
    "plt.show()\n",
    "\n",
    "''' pdf is higly skewed ( right / positive skewed ) Since people exxpending high Amount of money is usually less in a normal society \n",
    "most are middle class ( mean > median) , so use median to represent data since its least affected by outliers or spread of data  '''"
   ]
  },
  {
   "cell_type": "code",
   "execution_count": 19,
   "metadata": {},
   "outputs": [],
   "source": [
    "'''  Use Ordinal Encoder to encode Months , since they have rwaaltion b/w them  '''\n",
    "from sklearn.preprocessing import OrdinalEncoder\n",
    "\n",
    "\n",
    "def ordinal_encode( col , data , newColName   ) : \n",
    "    ord_encode = OrdinalEncoder()\n",
    "    newCol = ord_encode.fit_transform( data[[ col ]])\n",
    "    newCols   = pd.DataFrame ( newCol, columns  = [ newColName] )\n",
    "    data  = pd.concat( [data , newCols ] , axis =1 )\n",
    "    data = data.drop( col  , axis = 1 )\n",
    "    return data \n",
    "\n",
    "data  = ordinal_encode( 'Month' , data , 'Months' )\n",
    "data = ordinal_encode('Gender' , data , 'Genders')\n",
    "\n",
    "# data = ordinal_encode( 'Exp Type' , data  , 'Exp Type')\n",
    "data.drop( ['Exp Type'] ,axis =1 , inplace=  True  )"
   ]
  },
  {
   "cell_type": "code",
   "execution_count": 20,
   "metadata": {},
   "outputs": [],
   "source": [
    "'''Doing Onr-Hot-encoding on the cattegorical data ( Card , Gender  )'''\n",
    "\n",
    "from sklearn.preprocessing import OneHotEncoder \n",
    "\n",
    "\n",
    "def one_hot_encode ( col , data ) :\n",
    "    encoder = OneHotEncoder( sparse = False )\n",
    "    df1 = encoder.fit_transform( data[[ col ]] )\n",
    "    encoded_df = pd.DataFrame ( df1 , columns  = encoder.categories_)\n",
    "    data = pd.concat( [ encoded_df , data ] , axis =1 )\n",
    "    data.drop( [ col ] , axis =1 , inplace = True )\n",
    "    return data \n",
    "\n",
    "\n",
    "data = one_hot_encode( 'Card Type' , data )\n",
    "data  = one_hot_encode( 'Cities' , data )\n",
    "\n"
   ]
  },
  {
   "cell_type": "code",
   "execution_count": 21,
   "metadata": {},
   "outputs": [
    {
     "data": {
      "image/png": "[encoded data removed]",
      "text/plain": [
       "<Figure size 640x480 with 2 Axes>"
      ]
     },
     "metadata": {},
     "output_type": "display_data"
    },
    {
     "name": "stdout",
     "output_type": "stream",
     "text": [
      "(Achalpur,)     0.003987\n",
      "(Adilabad,)     0.003904\n",
      "(Adityapur,)    0.000626\n",
      "(Adoni,)        0.003360\n",
      "(Adoor,)       -0.010161\n",
      "                  ...   \n",
      "(Silver,)      -0.000204\n",
      "Amount          1.000000\n",
      "Year            0.009809\n",
      "Months         -0.007141\n",
      "Genders        -0.048928\n",
      "Name: Amount, Length: 994, dtype: float64\n"
     ]
    }
   ],
   "source": [
    "''' To find the Most important feature , we use Correlation Matrix \n",
    "and find correaltion of Amount( target var) wrt each column \n",
    "'''\n",
    "\n",
    "corr = data.corr()\n",
    "\n",
    "sns.heatmap( corr[['Amount']].transpose()  , vmin = -1 , vmax =1 )\n",
    "\n",
    "plt.show()\n",
    "\n",
    "print( corr['Amount'])"
   ]
  },
  {
   "cell_type": "code",
   "execution_count": 22,
   "metadata": {},
   "outputs": [
    {
     "data": {
      "image/png": "[encoded data removed]",
      "text/plain": [
       "<Figure size 640x480 with 1 Axes>"
      ]
     },
     "metadata": {},
     "output_type": "display_data"
    }
   ],
   "source": [
    "''' Set axes system to 3D '''\n",
    "ax= plt.axes( projection = '3d')\n",
    "\n",
    "''' Specify the quantiy on X , Y , Z axes '''\n",
    "\n",
    "x = data['Months'] \n",
    "y = data['Genders']\n",
    "z = data['Amount']\n",
    "\n",
    "''' c =x + y changes color theme . Why ?  '''\n",
    "ax.scatter( x , y , z , c =x + y  )\n",
    "\n",
    "ax.set_xlabel('Months ')\n",
    "ax.set_ylabel('Genders')\n",
    "ax.set_zlabel('Amount')\n",
    "\n",
    "''' Zoomed out to see Z label '''\n",
    "ax.set_box_aspect(aspect=None, zoom=0.8)\n",
    "\n",
    "''' Gender 0 : Female    AND 1: MAle -> Females spent a lot more Money '''\n",
    "\n",
    "plt.show()"
   ]
  },
  {
   "cell_type": "code",
   "execution_count": 23,
   "metadata": {},
   "outputs": [
    {
     "data": {
      "text/plain": [
       "'  Large Number of outliers in Transaction amount but less than novelties ( normal data )\\n\\n   But removing them is NOT a good choice here as they might indicate abnormal transactions ( might also help in fraud detection parallely)\\n   or some transaction for unique part of population \\n   \\n'"
      ]
     },
     "execution_count": 23,
     "metadata": {},
     "output_type": "execute_result"
    },
    {
     "data": {
      "image/png": "[encoded data removed]",
      "text/plain": [
       "<Figure size 640x480 with 1 Axes>"
      ]
     },
     "metadata": {},
     "output_type": "display_data"
    }
   ],
   "source": [
    "''' FInding if there are outliers in the Amount column '''\n",
    "\n",
    "sns.boxplot( data['Amount'])\n",
    "sns.stripplot( data['Amount'] , color  = \"red\" )\n",
    "\n",
    "'''  Large Number of outliers in Transaction amount but less than novelties ( normal data )\n",
    "\n",
    "   But removing them is NOT a good choice here as they might indicate abnormal transactions ( might also help in fraud detection parallely)\n",
    "   or some transaction for unique part of population \n",
    "   \n",
    "'''\n",
    "\n"
   ]
  },
  {
   "cell_type": "code",
   "execution_count": 24,
   "metadata": {},
   "outputs": [
    {
     "data": {
      "text/plain": [
       "' Data_out - Without Outlier DF\\n    Data = With Outlier DF \\n'"
      ]
     },
     "execution_count": 24,
     "metadata": {},
     "output_type": "execute_result"
    }
   ],
   "source": [
    "# ist Quantile \n",
    "q1 = data['Amount'].quantile( 0.25 )\n",
    "#3  quantile \n",
    "q3 = data['Amount'].quantile( 0.75 )\n",
    "\n",
    "iqr = q3 - q1  \n",
    "\n",
    "low_lim = q1 - 1.75* iqr \n",
    "upp_lim = q3 + 1.75*iqr \n",
    "\n",
    "\n",
    "''' Removing Outliers in data   ( OPTIONAL - more experimentation ) '''\n",
    "\n",
    "data_out = data [ data['Amount'] <= upp_lim ]\n",
    "# Sucne , outlier after upper bound \n",
    "#data_out = data_out [ data['Amount'] >= low_lim ]\n",
    "''' Data_out - Without Outlier DF\n",
    "    Data = With Outlier DF \n",
    "'''\n"
   ]
  },
  {
   "cell_type": "code",
   "execution_count": 25,
   "metadata": {},
   "outputs": [
    {
     "data": {
      "text/plain": [
       "(26052, 994)"
      ]
     },
     "execution_count": 25,
     "metadata": {},
     "output_type": "execute_result"
    }
   ],
   "source": [
    "data.shape"
   ]
  },
  {
   "cell_type": "code",
   "execution_count": 26,
   "metadata": {},
   "outputs": [],
   "source": [
    "''' The Amount column has large varations in the data '''\n",
    "\n",
    "data.columns  = data.columns.astype(str)"
   ]
  },
  {
   "cell_type": "code",
   "execution_count": 27,
   "metadata": {},
   "outputs": [
    {
     "data": {
      "text/html": [
       "<div>\n",
       "<style scoped>\n",
       "    .dataframe tbody tr th:only-of-type {\n",
       "        vertical-align: middle;\n",
       "    }\n",
       "\n",
       "    .dataframe tbody tr th {\n",
       "        vertical-align: top;\n",
       "    }\n",
       "\n",
       "    .dataframe thead th {\n",
       "        text-align: right;\n",
       "    }\n",
       "</style>\n",
       "<table border=\"1\" class=\"dataframe\">\n",
       "  <thead>\n",
       "    <tr style=\"text-align: right;\">\n",
       "      <th></th>\n",
       "      <th>('Achalpur',)</th>\n",
       "      <th>('Adilabad',)</th>\n",
       "      <th>('Adityapur',)</th>\n",
       "      <th>('Adoni',)</th>\n",
       "      <th>('Adoor',)</th>\n",
       "      <th>('Afzalpur',)</th>\n",
       "      <th>('Agartala',)</th>\n",
       "      <th>('Agra',)</th>\n",
       "      <th>('Ahmedabad',)</th>\n",
       "      <th>('Ahmednagar',)</th>\n",
       "      <th>...</th>\n",
       "      <th>('Zirakpur',)</th>\n",
       "      <th>('Zunheboto',)</th>\n",
       "      <th>('Gold',)</th>\n",
       "      <th>('Platinum',)</th>\n",
       "      <th>('Signature',)</th>\n",
       "      <th>('Silver',)</th>\n",
       "      <th>Amount</th>\n",
       "      <th>Year</th>\n",
       "      <th>Months</th>\n",
       "      <th>Genders</th>\n",
       "    </tr>\n",
       "  </thead>\n",
       "  <tbody>\n",
       "    <tr>\n",
       "      <th>0</th>\n",
       "      <td>0.0</td>\n",
       "      <td>0.0</td>\n",
       "      <td>0.0</td>\n",
       "      <td>0.0</td>\n",
       "      <td>0.0</td>\n",
       "      <td>0.0</td>\n",
       "      <td>0.0</td>\n",
       "      <td>0.0</td>\n",
       "      <td>0.0</td>\n",
       "      <td>0.0</td>\n",
       "      <td>...</td>\n",
       "      <td>0.0</td>\n",
       "      <td>0.0</td>\n",
       "      <td>1.0</td>\n",
       "      <td>0.0</td>\n",
       "      <td>0.0</td>\n",
       "      <td>0.0</td>\n",
       "      <td>82475.0</td>\n",
       "      <td>2014.0</td>\n",
       "      <td>10.0</td>\n",
       "      <td>0.0</td>\n",
       "    </tr>\n",
       "    <tr>\n",
       "      <th>1</th>\n",
       "      <td>0.0</td>\n",
       "      <td>0.0</td>\n",
       "      <td>0.0</td>\n",
       "      <td>0.0</td>\n",
       "      <td>0.0</td>\n",
       "      <td>0.0</td>\n",
       "      <td>0.0</td>\n",
       "      <td>0.0</td>\n",
       "      <td>0.0</td>\n",
       "      <td>0.0</td>\n",
       "      <td>...</td>\n",
       "      <td>0.0</td>\n",
       "      <td>0.0</td>\n",
       "      <td>0.0</td>\n",
       "      <td>1.0</td>\n",
       "      <td>0.0</td>\n",
       "      <td>0.0</td>\n",
       "      <td>32555.0</td>\n",
       "      <td>2014.0</td>\n",
       "      <td>1.0</td>\n",
       "      <td>0.0</td>\n",
       "    </tr>\n",
       "    <tr>\n",
       "      <th>2</th>\n",
       "      <td>0.0</td>\n",
       "      <td>0.0</td>\n",
       "      <td>0.0</td>\n",
       "      <td>0.0</td>\n",
       "      <td>0.0</td>\n",
       "      <td>0.0</td>\n",
       "      <td>0.0</td>\n",
       "      <td>0.0</td>\n",
       "      <td>0.0</td>\n",
       "      <td>0.0</td>\n",
       "      <td>...</td>\n",
       "      <td>0.0</td>\n",
       "      <td>0.0</td>\n",
       "      <td>0.0</td>\n",
       "      <td>0.0</td>\n",
       "      <td>0.0</td>\n",
       "      <td>1.0</td>\n",
       "      <td>101738.0</td>\n",
       "      <td>2014.0</td>\n",
       "      <td>1.0</td>\n",
       "      <td>0.0</td>\n",
       "    </tr>\n",
       "    <tr>\n",
       "      <th>3</th>\n",
       "      <td>0.0</td>\n",
       "      <td>0.0</td>\n",
       "      <td>0.0</td>\n",
       "      <td>0.0</td>\n",
       "      <td>0.0</td>\n",
       "      <td>0.0</td>\n",
       "      <td>0.0</td>\n",
       "      <td>0.0</td>\n",
       "      <td>0.0</td>\n",
       "      <td>0.0</td>\n",
       "      <td>...</td>\n",
       "      <td>0.0</td>\n",
       "      <td>0.0</td>\n",
       "      <td>0.0</td>\n",
       "      <td>0.0</td>\n",
       "      <td>1.0</td>\n",
       "      <td>0.0</td>\n",
       "      <td>123424.0</td>\n",
       "      <td>2014.0</td>\n",
       "      <td>0.0</td>\n",
       "      <td>0.0</td>\n",
       "    </tr>\n",
       "    <tr>\n",
       "      <th>4</th>\n",
       "      <td>0.0</td>\n",
       "      <td>0.0</td>\n",
       "      <td>0.0</td>\n",
       "      <td>0.0</td>\n",
       "      <td>0.0</td>\n",
       "      <td>0.0</td>\n",
       "      <td>0.0</td>\n",
       "      <td>0.0</td>\n",
       "      <td>0.0</td>\n",
       "      <td>0.0</td>\n",
       "      <td>...</td>\n",
       "      <td>0.0</td>\n",
       "      <td>0.0</td>\n",
       "      <td>1.0</td>\n",
       "      <td>0.0</td>\n",
       "      <td>0.0</td>\n",
       "      <td>0.0</td>\n",
       "      <td>171574.0</td>\n",
       "      <td>2015.0</td>\n",
       "      <td>8.0</td>\n",
       "      <td>0.0</td>\n",
       "    </tr>\n",
       "  </tbody>\n",
       "</table>\n",
       "<p>5 rows × 994 columns</p>\n",
       "</div>"
      ],
      "text/plain": [
       "   ('Achalpur',)  ('Adilabad',)  ('Adityapur',)  ('Adoni',)  ('Adoor',)  \\\n",
       "0            0.0            0.0             0.0         0.0         0.0   \n",
       "1            0.0            0.0             0.0         0.0         0.0   \n",
       "2            0.0            0.0             0.0         0.0         0.0   \n",
       "3            0.0            0.0             0.0         0.0         0.0   \n",
       "4            0.0            0.0             0.0         0.0         0.0   \n",
       "\n",
       "   ('Afzalpur',)  ('Agartala',)  ('Agra',)  ('Ahmedabad',)  ('Ahmednagar',)  \\\n",
       "0            0.0            0.0        0.0             0.0              0.0   \n",
       "1            0.0            0.0        0.0             0.0              0.0   \n",
       "2            0.0            0.0        0.0             0.0              0.0   \n",
       "3            0.0            0.0        0.0             0.0              0.0   \n",
       "4            0.0            0.0        0.0             0.0              0.0   \n",
       "\n",
       "   ...  ('Zirakpur',)  ('Zunheboto',)  ('Gold',)  ('Platinum',)  \\\n",
       "0  ...            0.0             0.0        1.0            0.0   \n",
       "1  ...            0.0             0.0        0.0            1.0   \n",
       "2  ...            0.0             0.0        0.0            0.0   \n",
       "3  ...            0.0             0.0        0.0            0.0   \n",
       "4  ...            0.0             0.0        1.0            0.0   \n",
       "\n",
       "   ('Signature',)  ('Silver',)    Amount    Year  Months  Genders  \n",
       "0             0.0          0.0   82475.0  2014.0    10.0      0.0  \n",
       "1             0.0          0.0   32555.0  2014.0     1.0      0.0  \n",
       "2             0.0          1.0  101738.0  2014.0     1.0      0.0  \n",
       "3             1.0          0.0  123424.0  2014.0     0.0      0.0  \n",
       "4             0.0          0.0  171574.0  2015.0     8.0      0.0  \n",
       "\n",
       "[5 rows x 994 columns]"
      ]
     },
     "execution_count": 27,
     "metadata": {},
     "output_type": "execute_result"
    }
   ],
   "source": [
    "data.head()"
   ]
  },
  {
   "cell_type": "code",
   "execution_count": 28,
   "metadata": {},
   "outputs": [
    {
     "data": {
      "image/png": "[encoded data removed]",
      "text/plain": [
       "<Figure size 640x480 with 1 Axes>"
      ]
     },
     "metadata": {},
     "output_type": "display_data"
    },
    {
     "data": {
      "text/plain": [
       "' Optimum No of CLuster according to Silhoutter Score metric of kMEans ->   '"
      ]
     },
     "execution_count": 28,
     "metadata": {},
     "output_type": "execute_result"
    }
   ],
   "source": [
    "''' SINce , ONe Hot encoded Cities Vector was very sparse and too large , SO , losing them meant also losing a lot \n",
    "of useful demographic Info , Hence , performed KMeans CLustering to give a LAbel( with high importance of Columns of Cities )\n",
    "and assigned LAbesl based on the Citiies . \n",
    "'''\n",
    "\n",
    "''' Selecting BEst No of CLuters to form Based on Silhoutte Score (b-a)/max(a,b)'''\n",
    "\n",
    "\n",
    "from sklearn.cluster import KMeans \n",
    "from sklearn.metrics import silhouette_score \n",
    "\n",
    "score = []\n",
    "cluster=[]\n",
    "\n",
    "for i in range( 2 , 5 , 1   ) :\n",
    "    kmeans1 = KMeans(n_clusters=  i )\n",
    "    kmeans1.fit( data )\n",
    "    score.append(  silhouette_score(data , kmeans1.labels_))\n",
    "    cluster.append( i )\n",
    "\n",
    "plt.plot( cluster , score )\n",
    "plt.show()\n",
    "\n",
    "\n",
    "''' Optimum No of CLuster according to Silhoutter Score metric of kMEans ->   '''\n",
    "\n"
   ]
  },
  {
   "cell_type": "code",
   "execution_count": 29,
   "metadata": {},
   "outputs": [
    {
     "data": {
      "text/html": [
       "<div>\n",
       "<style scoped>\n",
       "    .dataframe tbody tr th:only-of-type {\n",
       "        vertical-align: middle;\n",
       "    }\n",
       "\n",
       "    .dataframe tbody tr th {\n",
       "        vertical-align: top;\n",
       "    }\n",
       "\n",
       "    .dataframe thead th {\n",
       "        text-align: right;\n",
       "    }\n",
       "</style>\n",
       "<table border=\"1\" class=\"dataframe\">\n",
       "  <thead>\n",
       "    <tr style=\"text-align: right;\">\n",
       "      <th></th>\n",
       "      <th>('Gold',)</th>\n",
       "      <th>('Platinum',)</th>\n",
       "      <th>('Signature',)</th>\n",
       "      <th>('Silver',)</th>\n",
       "      <th>Amount</th>\n",
       "      <th>Year</th>\n",
       "      <th>Months</th>\n",
       "      <th>Genders</th>\n",
       "      <th>City</th>\n",
       "    </tr>\n",
       "  </thead>\n",
       "  <tbody>\n",
       "    <tr>\n",
       "      <th>0</th>\n",
       "      <td>1.0</td>\n",
       "      <td>0.0</td>\n",
       "      <td>0.0</td>\n",
       "      <td>0.0</td>\n",
       "      <td>82475.0</td>\n",
       "      <td>2014.0</td>\n",
       "      <td>10.0</td>\n",
       "      <td>0.0</td>\n",
       "      <td>0</td>\n",
       "    </tr>\n",
       "    <tr>\n",
       "      <th>1</th>\n",
       "      <td>0.0</td>\n",
       "      <td>1.0</td>\n",
       "      <td>0.0</td>\n",
       "      <td>0.0</td>\n",
       "      <td>32555.0</td>\n",
       "      <td>2014.0</td>\n",
       "      <td>1.0</td>\n",
       "      <td>0.0</td>\n",
       "      <td>0</td>\n",
       "    </tr>\n",
       "    <tr>\n",
       "      <th>2</th>\n",
       "      <td>0.0</td>\n",
       "      <td>0.0</td>\n",
       "      <td>0.0</td>\n",
       "      <td>1.0</td>\n",
       "      <td>101738.0</td>\n",
       "      <td>2014.0</td>\n",
       "      <td>1.0</td>\n",
       "      <td>0.0</td>\n",
       "      <td>0</td>\n",
       "    </tr>\n",
       "    <tr>\n",
       "      <th>3</th>\n",
       "      <td>0.0</td>\n",
       "      <td>0.0</td>\n",
       "      <td>1.0</td>\n",
       "      <td>0.0</td>\n",
       "      <td>123424.0</td>\n",
       "      <td>2014.0</td>\n",
       "      <td>0.0</td>\n",
       "      <td>0.0</td>\n",
       "      <td>0</td>\n",
       "    </tr>\n",
       "    <tr>\n",
       "      <th>4</th>\n",
       "      <td>1.0</td>\n",
       "      <td>0.0</td>\n",
       "      <td>0.0</td>\n",
       "      <td>0.0</td>\n",
       "      <td>171574.0</td>\n",
       "      <td>2015.0</td>\n",
       "      <td>8.0</td>\n",
       "      <td>0.0</td>\n",
       "      <td>1</td>\n",
       "    </tr>\n",
       "  </tbody>\n",
       "</table>\n",
       "</div>"
      ],
      "text/plain": [
       "   ('Gold',)  ('Platinum',)  ('Signature',)  ('Silver',)    Amount    Year  \\\n",
       "0        1.0            0.0             0.0          0.0   82475.0  2014.0   \n",
       "1        0.0            1.0             0.0          0.0   32555.0  2014.0   \n",
       "2        0.0            0.0             0.0          1.0  101738.0  2014.0   \n",
       "3        0.0            0.0             1.0          0.0  123424.0  2014.0   \n",
       "4        1.0            0.0             0.0          0.0  171574.0  2015.0   \n",
       "\n",
       "   Months  Genders  City  \n",
       "0    10.0      0.0     0  \n",
       "1     1.0      0.0     0  \n",
       "2     1.0      0.0     0  \n",
       "3     0.0      0.0     0  \n",
       "4     8.0      0.0     1  "
      ]
     },
     "execution_count": 29,
     "metadata": {},
     "output_type": "execute_result"
    }
   ],
   "source": [
    "\n",
    "\n",
    "\n",
    "''' Optimum CLuster = 3 From silhouette diagram '''\n",
    "kmeans = KMeans( n_clusters = 3  )\n",
    "\n",
    "# data.columns  = data.columns.astype(str )\n",
    "\n",
    "kmeans.fit( data )\n",
    "\n",
    "data['City']  = kmeans.labels_\n",
    "\n",
    "data = data.iloc[ : , 986: ]\n",
    "data.head()"
   ]
  },
  {
   "cell_type": "code",
   "execution_count": 83,
   "metadata": {},
   "outputs": [],
   "source": [
    "data.columns  = data.columns.astype(str)\n",
    "\n",
    "'''  Train Test split on the dataset and make sure the test dataset has NO sampling bias ( use Stratified Sampling Technique )\n",
    "     Target Variable -  Amount \n",
    "\n",
    "     and Based on Correaltion matrix , most important features are  -  BIlls and Gender \n",
    "     But by intutuin , I think Months , BIlls and Gender are good features to ccorealte column of Amount with \n",
    "     hence , \n",
    "     Most Important Feature I selected -  Months ( earlier I selected Gender bby intution)\n",
    "\n",
    "     But by Using feature importance of Random Forest and intutuion selected Months \n",
    "\n",
    "     Now , we split the data based on 'Months ' and this column is almost balanced \n",
    "\n",
    "'''\n",
    "\n",
    "''' No nned to categorise since Gender is ALREADY a catgorical column '''\n",
    "'''   Just split the data based on data variation in 'Months' Column  ( hence , NO SAMPLING BIAS )'''\n",
    "\n",
    "\n",
    "''' splis =1 ( since ONLY train and  test data )' and generate same train and test indexes everytime ( random_state  = 42 )\n",
    "and use .loc to pick those returned indices \n",
    "'''\n",
    "\n",
    "\n",
    "from sklearn.model_selection import StratifiedShuffleSplit  # returs the train and test index based on actual variations \n",
    "\n",
    "a = StratifiedShuffleSplit ( n_splits =1  , test_size = 0.1 , random_state= 42 )\n",
    "\n",
    "for train_index , test_index  in a.split( data , data['Months']) :\n",
    "    strat_train_set = data.loc[ train_index ] \n",
    "    strat_test_set = data.loc[ test_index]\n",
    "    \n"
   ]
  },
  {
   "cell_type": "code",
   "execution_count": 84,
   "metadata": {},
   "outputs": [],
   "source": [
    "# Scaling Data with NO Outliers \n",
    "\n",
    "from sklearn.preprocessing import StandardScaler\n",
    "\n",
    "\n",
    "''' FIRST SPLIT INTO TRAIN-TEST(NOT FEATURE LALBELS ) AND THEN DO SCALING'''\n",
    "scale_two_train = StandardScaler( )\n",
    "scale_two_train.fit_transform( strat_train_set)\n",
    "\n",
    "\n",
    "scale_two_test = StandardScaler( )\n",
    "scale_two_test.fit_transform( strat_test_set)\n",
    "\n",
    "\n",
    "''' Features and labels Sepration '''\n",
    "\n",
    "\n",
    "X_train , y_train = strat_train_set.drop( ['Amount'] , axis =1 ) , strat_train_set['Amount']\n",
    "\n",
    "X_test , y_test= strat_test_set.drop( ['Amount'] , axis =1 ) , strat_test_set['Amount']\n"
   ]
  },
  {
   "cell_type": "code",
   "execution_count": 37,
   "metadata": {},
   "outputs": [],
   "source": [
    "# ''' COnverting all column NAMES to string '''\n",
    "\n",
    "# X_train.columns  = X_train.columns.astype(str)\n",
    "\n",
    "# X_test.columns  = X_test.columns.astype(str)\n",
    "\n",
    "# X_train_out.columns  = X_train_out.columns.astype(str)\n",
    "\n",
    "# X_test_out.columns  = X_test_out .columns.astype(str)\n"
   ]
  },
  {
   "cell_type": "code",
   "execution_count": 85,
   "metadata": {},
   "outputs": [
    {
     "data": {
      "text/plain": [
       "' bootstrap = False , the whole data is sued to build Decison tree othwrwise , uses sampling with repalcement \\n\\n '"
      ]
     },
     "execution_count": 85,
     "metadata": {},
     "output_type": "execute_result"
    }
   ],
   "source": [
    "'''  Now making some assumptions about the data and choosing the ML model '''\n",
    "\n",
    "from sklearn.ensemble import RandomForestRegressor \n",
    "\n",
    "forest_reg = RandomForestRegressor( n_estimators = 100 , bootstrap = True   )\n",
    "\n",
    "forest_reg.fit( X_train , y_train )\n",
    "\n",
    "''' bootstrap = False , the whole data is sued to build Decison tree othwrwise , uses sampling with repalcement \n",
    "\n",
    " '''"
   ]
  },
  {
   "cell_type": "code",
   "execution_count": 86,
   "metadata": {},
   "outputs": [
    {
     "name": "stdout",
     "output_type": "stream",
     "text": [
      "('Gold',)   0.0015659928241698708\n",
      "('Platinum',)   0.0013726573487548416\n",
      "('Signature',)   0.0013332017189205435\n",
      "('Silver',)   0.0012659323871077072\n",
      "Year   0.0033092140436839913\n",
      "Months   0.009156402175565828\n",
      "Genders   0.0009565500152680076\n",
      "City   0.9810400494865292\n"
     ]
    },
    {
     "data": {
      "text/plain": [
       "' Most IMportant feature is  - Months '"
      ]
     },
     "execution_count": 86,
     "metadata": {},
     "output_type": "execute_result"
    }
   ],
   "source": [
    "''' Seeing the most important features '''\n",
    "imp = forest_reg.feature_importances_\n",
    "col = X_train.columns\n",
    "\n",
    "for i in range( len(col) ) :\n",
    "    print(col[i] , \" \" , imp[i])\n",
    "\n",
    "''' Most IMportant feature is  - Months '''\n"
   ]
  },
  {
   "cell_type": "code",
   "execution_count": 87,
   "metadata": {},
   "outputs": [
    {
     "name": "stdout",
     "output_type": "stream",
     "text": [
      " the RMSE training error for Rand FOrest is 45191.607292489934\n"
     ]
    }
   ],
   "source": [
    "''' Find training error - MSE (y , y_hat) '''\n",
    "\n",
    "y_train_rand = forest_reg.predict( X_train )\n",
    "\n",
    "from sklearn.metrics import mean_squared_error\n",
    "\n",
    "error = mean_squared_error( y_train , y_train_rand)\n",
    "error = np.sqrt( error )\n",
    "\n",
    "print( f\" the RMSE training error for Rand FOrest is {error }\")\n",
    "\n"
   ]
  },
  {
   "cell_type": "code",
   "execution_count": 41,
   "metadata": {},
   "outputs": [],
   "source": [
    "# ''' Find ANother form of trainig error , cross validation score '''\n",
    "# from sklearn.model_selection import cross_val_score\n",
    "\n",
    "# score = cross_val_score( forest_reg , X_train , y_train , cv = 5  , scoring = \"neg_mean_squared_error\" )\n",
    "\n",
    "# print(score)\n",
    "\n",
    "# print( f\" The average of these Negative mean squared error in cross validation is {score.mean()}\")\n",
    "# ''' nearer to 0 ( negative MSE ) is good '''\n"
   ]
  },
  {
   "cell_type": "code",
   "execution_count": 88,
   "metadata": {},
   "outputs": [
    {
     "name": "stdout",
     "output_type": "stream",
     "text": [
      " THe testing error(RMSE) for Random Forest Regressor model(before fine tuning) is = 47301.326292494814 \n",
      "0.7895722319057626\n"
     ]
    }
   ],
   "source": [
    "''' Doing prediction on Test Data '''\n",
    "\n",
    "y_test_rand = forest_reg.predict( X_test)\n",
    "\n",
    "''' Testing error '''\n",
    "\n",
    "test_error = np.sqrt(mean_squared_error( y_test , y_test_rand ) )\n",
    "\n",
    "print(f\" THe testing error(RMSE) for Random Forest Regressor model(before fine tuning) is = {test_error} \")\n",
    "\n",
    "\n",
    "from sklearn.metrics import r2_score\n",
    "\n",
    "print( r2_score ( y_test , y_test_rand ))\n",
    "\n",
    "\n"
   ]
  },
  {
   "cell_type": "code",
   "execution_count": 43,
   "metadata": {},
   "outputs": [],
   "source": [
    "# ''' Fine tune the Model '''\n",
    "\n",
    "# ''' THe ONly hyper param I am concerned about  - No of decision trees in Random Forest , SO use Grid Search > Randomized Sarch '''\n",
    "\n",
    "# from sklearn.model_selection import GridSearchCV \n",
    "\n",
    "# params = [ { \"n_estimators\" : [ 500 , 1000 ]} , { \"n_estimators\" : [ 100 , 200 , 300 ]  , \"bootstrap \" : [False]} ] \n",
    "\n",
    "# grid_search = GridSearchCV( forest_reg , params , cv = 5 )\n",
    "\n",
    "# grid_search.fit( X_train , y_train)"
   ]
  },
  {
   "cell_type": "code",
   "execution_count": 44,
   "metadata": {},
   "outputs": [],
   "source": [
    "# '''  Drawing the Learnign Curve of Model - showing Training error and Validation error as a function of increasing dataset size '''\n",
    "\n",
    "# from sklearn.model_selection import train_test_split\n",
    "\n",
    "# X_t ,X_val , y_t, y_val = train_test_split( X_train[:100] , y_train[:100] , test_size=0.2 )\n",
    "\n",
    "\n",
    "# train_error =[]\n",
    "# val_error = []\n",
    "\n",
    "# for i in range(1 ,  len(X_t)) :\n",
    "#     X1 = X_t[:i]\n",
    "#     y1 = y_t[:i]\n",
    "#     forest_reg.fit(X1 , y1 )\n",
    "#     y_t_pred = forest_reg.predict(X1)\n",
    "\n",
    "#     y_val_pred = forest_reg.predict(X_val)\n",
    "    \n",
    "#     # validation set iss ame but as the model learns more , the validation score changes \n",
    "#     train_error.append( np.sqrt(mean_squared_error(y1 , y_t_pred)) )\n",
    "#     val_error.append( np.sqrt(mean_squared_error(y_val , y_val_pred)))\n",
    "\n",
    "# plt.plot ( range(1 , len(X_t)) , train_error , \"r--\" , label = \"Training_error \")\n",
    "# plt.plot( range( 1 , len(X_t)) , val_error , \"b--\" , label = \"Validation_error\")\n",
    "# plt.show()\n",
    "\n",
    "# ''' Model is highly underfitting , so MAybe , MAny outliers in data  '''\n",
    "# ''' After removing outliers , high improvement ( but model is highly overfitting now )'''\n",
    "\n",
    "\n"
   ]
  },
  {
   "cell_type": "code",
   "execution_count": 89,
   "metadata": {},
   "outputs": [
    {
     "data": {
      "text/html": [
       "<style>#sk-container-id-9 {color: black;}#sk-container-id-9 pre{padding: 0;}#sk-container-id-9 div.sk-toggleable {background-color: white;}#sk-container-id-9 label.sk-toggleable__label {cursor: pointer;display: block;width: 100%;margin-bottom: 0;padding: 0.3em;box-sizing: border-box;text-align: center;}#sk-container-id-9 label.sk-toggleable__label-arrow:before {content: \"▸\";float: left;margin-right: 0.25em;color: #696969;}#sk-container-id-9 label.sk-toggleable__label-arrow:hover:before {color: black;}#sk-container-id-9 div.sk-estimator:hover label.sk-toggleable__label-arrow:before {color: black;}#sk-container-id-9 div.sk-toggleable__content {max-height: 0;max-width: 0;overflow: hidden;text-align: left;background-color: #f0f8ff;}#sk-container-id-9 div.sk-toggleable__content pre {margin: 0.2em;color: black;border-radius: 0.25em;background-color: #f0f8ff;}#sk-container-id-9 input.sk-toggleable__control:checked~div.sk-toggleable__content {max-height: 200px;max-width: 100%;overflow: auto;}#sk-container-id-9 input.sk-toggleable__control:checked~label.sk-toggleable__label-arrow:before {content: \"▾\";}#sk-container-id-9 div.sk-estimator input.sk-toggleable__control:checked~label.sk-toggleable__label {background-color: #d4ebff;}#sk-container-id-9 div.sk-label input.sk-toggleable__control:checked~label.sk-toggleable__label {background-color: #d4ebff;}#sk-container-id-9 input.sk-hidden--visually {border: 0;clip: rect(1px 1px 1px 1px);clip: rect(1px, 1px, 1px, 1px);height: 1px;margin: -1px;overflow: hidden;padding: 0;position: absolute;width: 1px;}#sk-container-id-9 div.sk-estimator {font-family: monospace;background-color: #f0f8ff;border: 1px dotted black;border-radius: 0.25em;box-sizing: border-box;margin-bottom: 0.5em;}#sk-container-id-9 div.sk-estimator:hover {background-color: #d4ebff;}#sk-container-id-9 div.sk-parallel-item::after {content: \"\";width: 100%;border-bottom: 1px solid gray;flex-grow: 1;}#sk-container-id-9 div.sk-label:hover label.sk-toggleable__label {background-color: #d4ebff;}#sk-container-id-9 div.sk-serial::before {content: \"\";position: absolute;border-left: 1px solid gray;box-sizing: border-box;top: 0;bottom: 0;left: 50%;z-index: 0;}#sk-container-id-9 div.sk-serial {display: flex;flex-direction: column;align-items: center;background-color: white;padding-right: 0.2em;padding-left: 0.2em;position: relative;}#sk-container-id-9 div.sk-item {position: relative;z-index: 1;}#sk-container-id-9 div.sk-parallel {display: flex;align-items: stretch;justify-content: center;background-color: white;position: relative;}#sk-container-id-9 div.sk-item::before, #sk-container-id-9 div.sk-parallel-item::before {content: \"\";position: absolute;border-left: 1px solid gray;box-sizing: border-box;top: 0;bottom: 0;left: 50%;z-index: -1;}#sk-container-id-9 div.sk-parallel-item {display: flex;flex-direction: column;z-index: 1;position: relative;background-color: white;}#sk-container-id-9 div.sk-parallel-item:first-child::after {align-self: flex-end;width: 50%;}#sk-container-id-9 div.sk-parallel-item:last-child::after {align-self: flex-start;width: 50%;}#sk-container-id-9 div.sk-parallel-item:only-child::after {width: 0;}#sk-container-id-9 div.sk-dashed-wrapped {border: 1px dashed gray;margin: 0 0.4em 0.5em 0.4em;box-sizing: border-box;padding-bottom: 0.4em;background-color: white;}#sk-container-id-9 div.sk-label label {font-family: monospace;font-weight: bold;display: inline-block;line-height: 1.2em;}#sk-container-id-9 div.sk-label-container {text-align: center;}#sk-container-id-9 div.sk-container {/* jupyter's `normalize.less` sets `[hidden] { display: none; }` but bootstrap.min.css set `[hidden] { display: none !important; }` so we also need the `!important` here to be able to override the default hidden behavior on the sphinx rendered scikit-learn.org. See: https://github.com/scikit-learn/scikit-learn/issues/21755 */display: inline-block !important;position: relative;}#sk-container-id-9 div.sk-text-repr-fallback {display: none;}</style><div id=\"sk-container-id-9\" class=\"sk-top-container\"><div class=\"sk-text-repr-fallback\"><pre>SGDRegressor(l1_ratio=0.5, penalty=&#x27;elasticnet&#x27;)</pre><b>In a Jupyter environment, please rerun this cell to show the HTML representation or trust the notebook. <br />On GitHub, the HTML representation is unable to render, please try loading this page with nbviewer.org.</b></div><div class=\"sk-container\" hidden><div class=\"sk-item\"><div class=\"sk-estimator sk-toggleable\"><input class=\"sk-toggleable__control sk-hidden--visually\" id=\"sk-estimator-id-9\" type=\"checkbox\" checked><label for=\"sk-estimator-id-9\" class=\"sk-toggleable__label sk-toggleable__label-arrow\">SGDRegressor</label><div class=\"sk-toggleable__content\"><pre>SGDRegressor(l1_ratio=0.5, penalty=&#x27;elasticnet&#x27;)</pre></div></div></div></div></div>"
      ],
      "text/plain": [
       "SGDRegressor(l1_ratio=0.5, penalty='elasticnet')"
      ]
     },
     "execution_count": 89,
     "metadata": {},
     "output_type": "execute_result"
    }
   ],
   "source": [
    "from sklearn.linear_model import SGDRegressor \n",
    "\n",
    "''' Elastic Net -  weighted sum of Ridge and LAsso regularization to prevent Overfitting'''\n",
    "sgd = SGDRegressor( penalty = \"elasticnet\" , l1_ratio= 0.5 )\n",
    "sgd.fit( X_train, y_train)\n"
   ]
  },
  {
   "cell_type": "code",
   "execution_count": 90,
   "metadata": {},
   "outputs": [
    {
     "name": "stdout",
     "output_type": "stream",
     "text": [
      " The trainin error RMSE for ElasticNet regularzied Linear Model  -85824988630669.69\n"
     ]
    }
   ],
   "source": [
    "''' RMSE training error'''\n",
    "y_train_elas = sgd.predict( X_train )\n",
    "\n",
    "score_elas  = np.sqrt(mean_squared_error( y_train , y_train_elas) )\n",
    "\n",
    "print( f\" The trainin error RMSE for ElasticNet regularzied Linear Model  -{score_elas}\")"
   ]
  },
  {
   "cell_type": "code",
   "execution_count": 47,
   "metadata": {},
   "outputs": [],
   "source": [
    "# ''' Find ANother form of trainig error , cross validation score '''\n",
    "\n",
    "\n",
    "# score = cross_val_score( sgd , X_train , y_train , cv = 5  , scoring = \"neg_mean_squared_error\" )\n",
    "\n",
    "# print(score)\n",
    "\n",
    "# print( f\" The average of these Negative mean squared error in cross validation is {score.mean()}\")\n",
    "# ''' nearer to 0 ( negative MSE ) is good '''\n"
   ]
  },
  {
   "cell_type": "code",
   "execution_count": 91,
   "metadata": {},
   "outputs": [
    {
     "name": "stdout",
     "output_type": "stream",
     "text": [
      " THe testing error(RMSE) for SGDRegressor with ElasticNet Regularization term added  model(before fine tuning) is = 85822448305628.64 \n",
      "-6.927207741106679e+17\n"
     ]
    }
   ],
   "source": [
    "y_hat_elas = sgd.predict(X_test)\n",
    "\n",
    "''' Testing error '''\n",
    "\n",
    "test_error = np.sqrt(mean_squared_error( y_test, y_hat_elas ) )\n",
    "\n",
    "print(f\" THe testing error(RMSE) for SGDRegressor with ElasticNet Regularization term added  model(before fine tuning) is = {test_error} \")\n",
    "\n",
    "\n",
    "'''  From R2 Score , we infer - SGD Regression  Model '''\n",
    "print( r2_score ( y_test, y_hat_elas ))\n",
    "\n"
   ]
  },
  {
   "cell_type": "code",
   "execution_count": 49,
   "metadata": {},
   "outputs": [],
   "source": [
    "# '''  Drawing the Learnign Curve of Model - showing Training error and Validation error as a function of increasing dataset size '''\n",
    "\n",
    "\n",
    "\n",
    "# X_t ,X_val , y_t, y_val = train_test_split( X_train[:100] , y_train[:100] , test_size=0.2 )\n",
    "\n",
    "\n",
    "# train_error =[]\n",
    "# val_error = []\n",
    "\n",
    "# for i in range(1 ,  len(X_t)) :\n",
    "#     X1 = X_t[:i]\n",
    "#     y1 = y_t[:i]\n",
    "#     sgd.fit(X1 , y1 )\n",
    "#     y_t_pred = sgd.predict(X1)\n",
    "\n",
    "#     y_val_pred = sgd.predict(X_val)\n",
    "    \n",
    "#     # validation set issame but as the model learns more , the validation score changes \n",
    "#     train_error.append( np.sqrt(mean_squared_error(y1 , y_t_pred)) )\n",
    "#     val_error.append( np.sqrt(mean_squared_error(y_val , y_val_pred)))\n",
    "\n",
    "# plt.plot ( range(1 , len(X_t)) , train_error , \"r--\" , label = \"Training_error \")\n",
    "# plt.plot( range( 1 , len(X_t)) , val_error , \"b--\" , label = \"Validation_error\")\n",
    "# plt.show()\n",
    "\n",
    "# ''' Highly Overfitting - Without removing the dataset '''"
   ]
  },
  {
   "cell_type": "code",
   "execution_count": 92,
   "metadata": {},
   "outputs": [
    {
     "data": {
      "text/html": [
       "<style>#sk-container-id-10 {color: black;}#sk-container-id-10 pre{padding: 0;}#sk-container-id-10 div.sk-toggleable {background-color: white;}#sk-container-id-10 label.sk-toggleable__label {cursor: pointer;display: block;width: 100%;margin-bottom: 0;padding: 0.3em;box-sizing: border-box;text-align: center;}#sk-container-id-10 label.sk-toggleable__label-arrow:before {content: \"▸\";float: left;margin-right: 0.25em;color: #696969;}#sk-container-id-10 label.sk-toggleable__label-arrow:hover:before {color: black;}#sk-container-id-10 div.sk-estimator:hover label.sk-toggleable__label-arrow:before {color: black;}#sk-container-id-10 div.sk-toggleable__content {max-height: 0;max-width: 0;overflow: hidden;text-align: left;background-color: #f0f8ff;}#sk-container-id-10 div.sk-toggleable__content pre {margin: 0.2em;color: black;border-radius: 0.25em;background-color: #f0f8ff;}#sk-container-id-10 input.sk-toggleable__control:checked~div.sk-toggleable__content {max-height: 200px;max-width: 100%;overflow: auto;}#sk-container-id-10 input.sk-toggleable__control:checked~label.sk-toggleable__label-arrow:before {content: \"▾\";}#sk-container-id-10 div.sk-estimator input.sk-toggleable__control:checked~label.sk-toggleable__label {background-color: #d4ebff;}#sk-container-id-10 div.sk-label input.sk-toggleable__control:checked~label.sk-toggleable__label {background-color: #d4ebff;}#sk-container-id-10 input.sk-hidden--visually {border: 0;clip: rect(1px 1px 1px 1px);clip: rect(1px, 1px, 1px, 1px);height: 1px;margin: -1px;overflow: hidden;padding: 0;position: absolute;width: 1px;}#sk-container-id-10 div.sk-estimator {font-family: monospace;background-color: #f0f8ff;border: 1px dotted black;border-radius: 0.25em;box-sizing: border-box;margin-bottom: 0.5em;}#sk-container-id-10 div.sk-estimator:hover {background-color: #d4ebff;}#sk-container-id-10 div.sk-parallel-item::after {content: \"\";width: 100%;border-bottom: 1px solid gray;flex-grow: 1;}#sk-container-id-10 div.sk-label:hover label.sk-toggleable__label {background-color: #d4ebff;}#sk-container-id-10 div.sk-serial::before {content: \"\";position: absolute;border-left: 1px solid gray;box-sizing: border-box;top: 0;bottom: 0;left: 50%;z-index: 0;}#sk-container-id-10 div.sk-serial {display: flex;flex-direction: column;align-items: center;background-color: white;padding-right: 0.2em;padding-left: 0.2em;position: relative;}#sk-container-id-10 div.sk-item {position: relative;z-index: 1;}#sk-container-id-10 div.sk-parallel {display: flex;align-items: stretch;justify-content: center;background-color: white;position: relative;}#sk-container-id-10 div.sk-item::before, #sk-container-id-10 div.sk-parallel-item::before {content: \"\";position: absolute;border-left: 1px solid gray;box-sizing: border-box;top: 0;bottom: 0;left: 50%;z-index: -1;}#sk-container-id-10 div.sk-parallel-item {display: flex;flex-direction: column;z-index: 1;position: relative;background-color: white;}#sk-container-id-10 div.sk-parallel-item:first-child::after {align-self: flex-end;width: 50%;}#sk-container-id-10 div.sk-parallel-item:last-child::after {align-self: flex-start;width: 50%;}#sk-container-id-10 div.sk-parallel-item:only-child::after {width: 0;}#sk-container-id-10 div.sk-dashed-wrapped {border: 1px dashed gray;margin: 0 0.4em 0.5em 0.4em;box-sizing: border-box;padding-bottom: 0.4em;background-color: white;}#sk-container-id-10 div.sk-label label {font-family: monospace;font-weight: bold;display: inline-block;line-height: 1.2em;}#sk-container-id-10 div.sk-label-container {text-align: center;}#sk-container-id-10 div.sk-container {/* jupyter's `normalize.less` sets `[hidden] { display: none; }` but bootstrap.min.css set `[hidden] { display: none !important; }` so we also need the `!important` here to be able to override the default hidden behavior on the sphinx rendered scikit-learn.org. See: https://github.com/scikit-learn/scikit-learn/issues/21755 */display: inline-block !important;position: relative;}#sk-container-id-10 div.sk-text-repr-fallback {display: none;}</style><div id=\"sk-container-id-10\" class=\"sk-top-container\"><div class=\"sk-text-repr-fallback\"><pre>SVR()</pre><b>In a Jupyter environment, please rerun this cell to show the HTML representation or trust the notebook. <br />On GitHub, the HTML representation is unable to render, please try loading this page with nbviewer.org.</b></div><div class=\"sk-container\" hidden><div class=\"sk-item\"><div class=\"sk-estimator sk-toggleable\"><input class=\"sk-toggleable__control sk-hidden--visually\" id=\"sk-estimator-id-10\" type=\"checkbox\" checked><label for=\"sk-estimator-id-10\" class=\"sk-toggleable__label sk-toggleable__label-arrow\">SVR</label><div class=\"sk-toggleable__content\"><pre>SVR()</pre></div></div></div></div></div>"
      ],
      "text/plain": [
       "SVR()"
      ]
     },
     "execution_count": 92,
     "metadata": {},
     "output_type": "execute_result"
    }
   ],
   "source": [
    "from sklearn.svm import SVR\n",
    "\n",
    "# fit a NOn Linear Regression model on data\n",
    "''' Radial Basis FUnction Kernel '''\n",
    "\n",
    "svr_rbf = SVR(  kernel=\"rbf\" )\n",
    "# do wide margin regression \n",
    "svr_rbf.fit( X_train , y_train)"
   ]
  },
  {
   "cell_type": "code",
   "execution_count": 93,
   "metadata": {},
   "outputs": [
    {
     "name": "stdout",
     "output_type": "stream",
     "text": [
      " The trainin error RMSE for SVR  with simialrity function of RBF Model  -103099.07335922126\n"
     ]
    }
   ],
   "source": [
    "''' RMSE training error'''\n",
    "y_train_rbf = svr_rbf.predict( X_train )\n",
    "\n",
    "score_rbf  = np.sqrt(mean_squared_error( y_train  , y_train_rbf) )\n",
    "\n",
    "print( f\" The trainin error RMSE for SVR  with simialrity function of RBF Model = {score_rbf}\")"
   ]
  },
  {
   "cell_type": "code",
   "execution_count": 94,
   "metadata": {},
   "outputs": [
    {
     "name": "stdout",
     "output_type": "stream",
     "text": [
      " THe testing error(MSE) for SVR RBF for non linear regresion (before fine tuning) is = 10632716643.72202 \n",
      " R2 score for  SVM Non Linear Regressor is -1.5031127924558518e-06\n"
     ]
    }
   ],
   "source": [
    "y_pred_rbf = svr_rbf.predict( X_test )\n",
    "\n",
    "''' Testing error '''\n",
    "\n",
    "test_error_rbf = mean_squared_error( y_test , y_pred_rbf )\n",
    "\n",
    "print(f\" THe testing error(MSE) for SVR RBF for non linear regresion (before fine tuning) is = {test_error_rbf} \")\n",
    "\n",
    "score = r2_score( y_test , y_pred_rbf)\n",
    "\n",
    "print( f\" R2 score for  SVM Non Linear Regressor is {score}\")\n",
    "\n"
   ]
  },
  {
   "cell_type": "code",
   "execution_count": 53,
   "metadata": {},
   "outputs": [],
   "source": [
    "# # fit a NOn Linear Regression model on data\n",
    "# ''' Poly Kernel '''\n",
    "\n",
    "# svr_poly = SVR(  kernel=\"poly\" )\n",
    "\n",
    "# svr_poly.fit( X_train , y_train)"
   ]
  },
  {
   "cell_type": "code",
   "execution_count": 54,
   "metadata": {},
   "outputs": [],
   "source": [
    "# ''' Linear SVM , ( fitting amargin , wide street Find ANother form of trainig error , cross validation score '''\n",
    "\n",
    "\n",
    "# score = cross_val_score( Lin_svm , X_train , y_train , cv = 5  , scoring = \"neg_mean_squared_error\" )\n",
    "\n",
    "# print(score)\n",
    "\n",
    "# print( f\" The average of these Negative mean squared error in cross validation is {score.mean()}\")\n",
    "# ''' nearer to 0 ( negative MSE ) is good '''\n"
   ]
  },
  {
   "cell_type": "code",
   "execution_count": 55,
   "metadata": {},
   "outputs": [],
   "source": [
    "# y_pred_svr = svr.predict( X_test )\n"
   ]
  },
  {
   "cell_type": "code",
   "execution_count": 56,
   "metadata": {},
   "outputs": [],
   "source": [
    "# ''' Testing error '''\n",
    "\n",
    "# test_error = mean_squared_error( y_test , y_pred_svr )\n",
    "\n",
    "# print(f\" THe testing error(MSE) for SVR  model(before fine tuning) is = {test_error} \")\n",
    "\n",
    "# ''' Inference , testing error too high ( Very Wrong Predictions )'''"
   ]
  },
  {
   "cell_type": "code",
   "execution_count": 57,
   "metadata": {},
   "outputs": [],
   "source": [
    "# score = r2_score( y_test , y_pred_svm)\n",
    "\n",
    "# print( f\" R2 score for linear SVM Regressor is {score}\")\n",
    "# '''  Alittle Better'''"
   ]
  },
  {
   "cell_type": "code",
   "execution_count": 95,
   "metadata": {},
   "outputs": [],
   "source": [
    "''' Making Ensemble of HYperparam Tuned Model '''\n",
    "\n",
    "def transaction_predictor( x , weight_1 , weight_2 , weight_3 ): # weights of model \n",
    "    # x - feature instance \n",
    "    pred1 =  weight_1 * forest_reg.predict( x)\n",
    "    pred2 =  weight_2 * sgd.predict( x)\n",
    "    pred3 =  weight_3 *svr_rbf.predict( x)\n",
    "\n",
    "    return (pred1+pred2+pred3)/3\n"
   ]
  },
  {
   "cell_type": "code",
   "execution_count": 96,
   "metadata": {},
   "outputs": [
    {
     "data": {
      "text/plain": [
       "-192422409758869.7"
      ]
     },
     "execution_count": 96,
     "metadata": {},
     "output_type": "execute_result"
    }
   ],
   "source": [
    "y_t = transaction_predictor( X_test , 0.8 , 0.05, 0.15)\n",
    "\n",
    "r2_score( y_test , y_t )"
   ]
  },
  {
   "cell_type": "code",
   "execution_count": 71,
   "metadata": {},
   "outputs": [
    {
     "data": {
      "image/png": "[encoded data removed]",
      "text/plain": [
       "<Figure size 640x480 with 1 Axes>"
      ]
     },
     "metadata": {},
     "output_type": "display_data"
    },
    {
     "data": {
      "text/plain": [
       "' Optimum No of CLuster according to Silhoutter Score metric of kMEans ->   '"
      ]
     },
     "execution_count": 71,
     "metadata": {},
     "output_type": "execute_result"
    }
   ],
   "source": [
    "''' OUtlier specifiv models '''\n",
    "\n",
    "\n",
    "''' SINce , ONe Hot encoded Cities Vector was very sparse and too large , SO , losing them meant also losing a lot \n",
    "of useful demographic Info , Hence , performed KMeans CLustering to give a LAbel( with high importance of Columns of Cities )\n",
    "and assigned LAbesl based on the Citiies . \n",
    "'''\n",
    "\n",
    "''' Selecting BEst No of CLuters to form Based on Silhoutte Score (b-a)/max(a,b)'''\n",
    "\n",
    "\n",
    "\n",
    "score = []\n",
    "cluster=[]\n",
    "\n",
    "for i in range( 2 , 6 , 1   ) :\n",
    "    kmeans2 = KMeans(n_clusters=  i )\n",
    "    kmeans2.fit( data_out )\n",
    "    score.append(  silhouette_score(data_out , kmeans2.labels_))\n",
    "    cluster.append( i )\n",
    "\n",
    "plt.plot( cluster , score )\n",
    "plt.show()\n",
    "\n",
    "\n",
    "''' Optimum No of CLuster according to Silhoutter Score metric of kMEans ->   '''\n",
    "\n",
    "\n",
    "\n"
   ]
  },
  {
   "cell_type": "code",
   "execution_count": 72,
   "metadata": {},
   "outputs": [
    {
     "data": {
      "text/html": [
       "<div>\n",
       "<style scoped>\n",
       "    .dataframe tbody tr th:only-of-type {\n",
       "        vertical-align: middle;\n",
       "    }\n",
       "\n",
       "    .dataframe tbody tr th {\n",
       "        vertical-align: top;\n",
       "    }\n",
       "\n",
       "    .dataframe thead th {\n",
       "        text-align: right;\n",
       "    }\n",
       "</style>\n",
       "<table border=\"1\" class=\"dataframe\">\n",
       "  <thead>\n",
       "    <tr style=\"text-align: right;\">\n",
       "      <th></th>\n",
       "      <th>('Gold',)</th>\n",
       "      <th>('Platinum',)</th>\n",
       "      <th>('Signature',)</th>\n",
       "      <th>('Silver',)</th>\n",
       "      <th>Amount</th>\n",
       "      <th>Year</th>\n",
       "      <th>Months</th>\n",
       "      <th>Genders</th>\n",
       "      <th>City</th>\n",
       "    </tr>\n",
       "  </thead>\n",
       "  <tbody>\n",
       "    <tr>\n",
       "      <th>0</th>\n",
       "      <td>1.0</td>\n",
       "      <td>0.0</td>\n",
       "      <td>0.0</td>\n",
       "      <td>0.0</td>\n",
       "      <td>82475.0</td>\n",
       "      <td>2014.0</td>\n",
       "      <td>10.0</td>\n",
       "      <td>0.0</td>\n",
       "      <td>0</td>\n",
       "    </tr>\n",
       "    <tr>\n",
       "      <th>1</th>\n",
       "      <td>0.0</td>\n",
       "      <td>1.0</td>\n",
       "      <td>0.0</td>\n",
       "      <td>0.0</td>\n",
       "      <td>32555.0</td>\n",
       "      <td>2014.0</td>\n",
       "      <td>1.0</td>\n",
       "      <td>0.0</td>\n",
       "      <td>0</td>\n",
       "    </tr>\n",
       "    <tr>\n",
       "      <th>2</th>\n",
       "      <td>0.0</td>\n",
       "      <td>0.0</td>\n",
       "      <td>0.0</td>\n",
       "      <td>1.0</td>\n",
       "      <td>101738.0</td>\n",
       "      <td>2014.0</td>\n",
       "      <td>1.0</td>\n",
       "      <td>0.0</td>\n",
       "      <td>0</td>\n",
       "    </tr>\n",
       "    <tr>\n",
       "      <th>3</th>\n",
       "      <td>0.0</td>\n",
       "      <td>0.0</td>\n",
       "      <td>1.0</td>\n",
       "      <td>0.0</td>\n",
       "      <td>123424.0</td>\n",
       "      <td>2014.0</td>\n",
       "      <td>0.0</td>\n",
       "      <td>0.0</td>\n",
       "      <td>0</td>\n",
       "    </tr>\n",
       "    <tr>\n",
       "      <th>4</th>\n",
       "      <td>1.0</td>\n",
       "      <td>0.0</td>\n",
       "      <td>0.0</td>\n",
       "      <td>0.0</td>\n",
       "      <td>171574.0</td>\n",
       "      <td>2015.0</td>\n",
       "      <td>8.0</td>\n",
       "      <td>0.0</td>\n",
       "      <td>1</td>\n",
       "    </tr>\n",
       "  </tbody>\n",
       "</table>\n",
       "</div>"
      ],
      "text/plain": [
       "   ('Gold',)  ('Platinum',)  ('Signature',)  ('Silver',)    Amount    Year  \\\n",
       "0        1.0            0.0             0.0          0.0   82475.0  2014.0   \n",
       "1        0.0            1.0             0.0          0.0   32555.0  2014.0   \n",
       "2        0.0            0.0             0.0          1.0  101738.0  2014.0   \n",
       "3        0.0            0.0             1.0          0.0  123424.0  2014.0   \n",
       "4        1.0            0.0             0.0          0.0  171574.0  2015.0   \n",
       "\n",
       "   Months  Genders  City  \n",
       "0    10.0      0.0     0  \n",
       "1     1.0      0.0     0  \n",
       "2     1.0      0.0     0  \n",
       "3     0.0      0.0     0  \n",
       "4     8.0      0.0     1  "
      ]
     },
     "execution_count": 72,
     "metadata": {},
     "output_type": "execute_result"
    }
   ],
   "source": [
    "''' Optimum CLuster = 3 From silhouette diagram '''\n",
    "kmeans_ = KMeans( n_clusters = 2   )\n",
    "\n",
    "# data.columns  = data.columns.astype(str )\n",
    "\n",
    "kmeans_.fit( data_out )\n",
    "\n",
    "data_out['City']  = kmeans_.labels_\n",
    "\n",
    "data_out = data_out.iloc[ : , 986: ]\n",
    "data_out.head()"
   ]
  },
  {
   "cell_type": "code",
   "execution_count": 73,
   "metadata": {},
   "outputs": [],
   "source": [
    "''' Features and labels Sepration - BAsed on Data with no Outliers  '''\n",
    "\n",
    "b = StratifiedShuffleSplit ( n_splits =1  , test_size = 0.2 , random_state= 42 )\n",
    "\n",
    "data_out.columns  = data_out.columns.astype(str)\n",
    "\n",
    "for train_index , test_index  in b.split( data_out , data_out['Months']) :\n",
    "    strat_out_train_set = data_out.iloc[ train_index ] \n",
    "    strat_out_test_set = data_out.iloc[ test_index]\n",
    "    \n",
    "\n",
    "scale_two_train = StandardScaler( )\n",
    "scale_two_train.fit_transform( strat_out_train_set)\n",
    "\n",
    "\n",
    "scale_two_test = StandardScaler( )\n",
    "scale_two_test.fit_transform( strat_out_test_set)\n",
    "\n",
    "\n",
    "X_train_out , y_train_out = strat_out_train_set.drop( ['Amount'] , axis =1 ) , strat_out_train_set['Amount']\n",
    "\n",
    "X_test_out , y_test_out = strat_out_test_set.drop( ['Amount'] , axis =1 ) , strat_out_test_set['Amount']\n",
    "\n",
    "\n",
    "\n",
    "\n"
   ]
  },
  {
   "cell_type": "code",
   "execution_count": 74,
   "metadata": {},
   "outputs": [
    {
     "data": {
      "text/html": [
       "<style>#sk-container-id-6 {color: black;}#sk-container-id-6 pre{padding: 0;}#sk-container-id-6 div.sk-toggleable {background-color: white;}#sk-container-id-6 label.sk-toggleable__label {cursor: pointer;display: block;width: 100%;margin-bottom: 0;padding: 0.3em;box-sizing: border-box;text-align: center;}#sk-container-id-6 label.sk-toggleable__label-arrow:before {content: \"▸\";float: left;margin-right: 0.25em;color: #696969;}#sk-container-id-6 label.sk-toggleable__label-arrow:hover:before {color: black;}#sk-container-id-6 div.sk-estimator:hover label.sk-toggleable__label-arrow:before {color: black;}#sk-container-id-6 div.sk-toggleable__content {max-height: 0;max-width: 0;overflow: hidden;text-align: left;background-color: #f0f8ff;}#sk-container-id-6 div.sk-toggleable__content pre {margin: 0.2em;color: black;border-radius: 0.25em;background-color: #f0f8ff;}#sk-container-id-6 input.sk-toggleable__control:checked~div.sk-toggleable__content {max-height: 200px;max-width: 100%;overflow: auto;}#sk-container-id-6 input.sk-toggleable__control:checked~label.sk-toggleable__label-arrow:before {content: \"▾\";}#sk-container-id-6 div.sk-estimator input.sk-toggleable__control:checked~label.sk-toggleable__label {background-color: #d4ebff;}#sk-container-id-6 div.sk-label input.sk-toggleable__control:checked~label.sk-toggleable__label {background-color: #d4ebff;}#sk-container-id-6 input.sk-hidden--visually {border: 0;clip: rect(1px 1px 1px 1px);clip: rect(1px, 1px, 1px, 1px);height: 1px;margin: -1px;overflow: hidden;padding: 0;position: absolute;width: 1px;}#sk-container-id-6 div.sk-estimator {font-family: monospace;background-color: #f0f8ff;border: 1px dotted black;border-radius: 0.25em;box-sizing: border-box;margin-bottom: 0.5em;}#sk-container-id-6 div.sk-estimator:hover {background-color: #d4ebff;}#sk-container-id-6 div.sk-parallel-item::after {content: \"\";width: 100%;border-bottom: 1px solid gray;flex-grow: 1;}#sk-container-id-6 div.sk-label:hover label.sk-toggleable__label {background-color: #d4ebff;}#sk-container-id-6 div.sk-serial::before {content: \"\";position: absolute;border-left: 1px solid gray;box-sizing: border-box;top: 0;bottom: 0;left: 50%;z-index: 0;}#sk-container-id-6 div.sk-serial {display: flex;flex-direction: column;align-items: center;background-color: white;padding-right: 0.2em;padding-left: 0.2em;position: relative;}#sk-container-id-6 div.sk-item {position: relative;z-index: 1;}#sk-container-id-6 div.sk-parallel {display: flex;align-items: stretch;justify-content: center;background-color: white;position: relative;}#sk-container-id-6 div.sk-item::before, #sk-container-id-6 div.sk-parallel-item::before {content: \"\";position: absolute;border-left: 1px solid gray;box-sizing: border-box;top: 0;bottom: 0;left: 50%;z-index: -1;}#sk-container-id-6 div.sk-parallel-item {display: flex;flex-direction: column;z-index: 1;position: relative;background-color: white;}#sk-container-id-6 div.sk-parallel-item:first-child::after {align-self: flex-end;width: 50%;}#sk-container-id-6 div.sk-parallel-item:last-child::after {align-self: flex-start;width: 50%;}#sk-container-id-6 div.sk-parallel-item:only-child::after {width: 0;}#sk-container-id-6 div.sk-dashed-wrapped {border: 1px dashed gray;margin: 0 0.4em 0.5em 0.4em;box-sizing: border-box;padding-bottom: 0.4em;background-color: white;}#sk-container-id-6 div.sk-label label {font-family: monospace;font-weight: bold;display: inline-block;line-height: 1.2em;}#sk-container-id-6 div.sk-label-container {text-align: center;}#sk-container-id-6 div.sk-container {/* jupyter's `normalize.less` sets `[hidden] { display: none; }` but bootstrap.min.css set `[hidden] { display: none !important; }` so we also need the `!important` here to be able to override the default hidden behavior on the sphinx rendered scikit-learn.org. See: https://github.com/scikit-learn/scikit-learn/issues/21755 */display: inline-block !important;position: relative;}#sk-container-id-6 div.sk-text-repr-fallback {display: none;}</style><div id=\"sk-container-id-6\" class=\"sk-top-container\"><div class=\"sk-text-repr-fallback\"><pre>RandomForestRegressor()</pre><b>In a Jupyter environment, please rerun this cell to show the HTML representation or trust the notebook. <br />On GitHub, the HTML representation is unable to render, please try loading this page with nbviewer.org.</b></div><div class=\"sk-container\" hidden><div class=\"sk-item\"><div class=\"sk-estimator sk-toggleable\"><input class=\"sk-toggleable__control sk-hidden--visually\" id=\"sk-estimator-id-6\" type=\"checkbox\" checked><label for=\"sk-estimator-id-6\" class=\"sk-toggleable__label sk-toggleable__label-arrow\">RandomForestRegressor</label><div class=\"sk-toggleable__content\"><pre>RandomForestRegressor()</pre></div></div></div></div></div>"
      ],
      "text/plain": [
       "RandomForestRegressor()"
      ]
     },
     "execution_count": 74,
     "metadata": {},
     "output_type": "execute_result"
    }
   ],
   "source": [
    "''' Training NEw Variations of these 3 ML models on outlier removed dataset '''\n",
    "\n",
    "\n",
    "forest_reg_out = RandomForestRegressor( n_estimators = 100 , bootstrap = True   )\n",
    "\n",
    "forest_reg_out.fit( X_train_out , y_train_out )\n"
   ]
  },
  {
   "cell_type": "code",
   "execution_count": 75,
   "metadata": {},
   "outputs": [
    {
     "name": "stdout",
     "output_type": "stream",
     "text": [
      " No outlier ,THe testing error(RMSE) for Random Forest Regressor model(before fine tuning) is = 44147.29715735573 \n",
      "0.7435795421987914\n"
     ]
    }
   ],
   "source": [
    "''' Doing prediction on Test Data '''\n",
    "\n",
    "y_test_rand_out = forest_reg_out.predict( X_test_out )\n",
    "\n",
    "''' Testing error '''\n",
    "\n",
    "test_error = np.sqrt(mean_squared_error( y_test_out , y_test_rand_out ) )\n",
    "\n",
    "print(f\" No outlier ,THe testing error(RMSE) for Random Forest Regressor model(before fine tuning) is = {test_error} \")\n",
    "\n",
    "\n",
    "print( r2_score ( y_test_out  , y_test_rand_out ))\n",
    "\n",
    "\n"
   ]
  },
  {
   "cell_type": "code",
   "execution_count": 76,
   "metadata": {},
   "outputs": [
    {
     "data": {
      "text/html": [
       "<style>#sk-container-id-7 {color: black;}#sk-container-id-7 pre{padding: 0;}#sk-container-id-7 div.sk-toggleable {background-color: white;}#sk-container-id-7 label.sk-toggleable__label {cursor: pointer;display: block;width: 100%;margin-bottom: 0;padding: 0.3em;box-sizing: border-box;text-align: center;}#sk-container-id-7 label.sk-toggleable__label-arrow:before {content: \"▸\";float: left;margin-right: 0.25em;color: #696969;}#sk-container-id-7 label.sk-toggleable__label-arrow:hover:before {color: black;}#sk-container-id-7 div.sk-estimator:hover label.sk-toggleable__label-arrow:before {color: black;}#sk-container-id-7 div.sk-toggleable__content {max-height: 0;max-width: 0;overflow: hidden;text-align: left;background-color: #f0f8ff;}#sk-container-id-7 div.sk-toggleable__content pre {margin: 0.2em;color: black;border-radius: 0.25em;background-color: #f0f8ff;}#sk-container-id-7 input.sk-toggleable__control:checked~div.sk-toggleable__content {max-height: 200px;max-width: 100%;overflow: auto;}#sk-container-id-7 input.sk-toggleable__control:checked~label.sk-toggleable__label-arrow:before {content: \"▾\";}#sk-container-id-7 div.sk-estimator input.sk-toggleable__control:checked~label.sk-toggleable__label {background-color: #d4ebff;}#sk-container-id-7 div.sk-label input.sk-toggleable__control:checked~label.sk-toggleable__label {background-color: #d4ebff;}#sk-container-id-7 input.sk-hidden--visually {border: 0;clip: rect(1px 1px 1px 1px);clip: rect(1px, 1px, 1px, 1px);height: 1px;margin: -1px;overflow: hidden;padding: 0;position: absolute;width: 1px;}#sk-container-id-7 div.sk-estimator {font-family: monospace;background-color: #f0f8ff;border: 1px dotted black;border-radius: 0.25em;box-sizing: border-box;margin-bottom: 0.5em;}#sk-container-id-7 div.sk-estimator:hover {background-color: #d4ebff;}#sk-container-id-7 div.sk-parallel-item::after {content: \"\";width: 100%;border-bottom: 1px solid gray;flex-grow: 1;}#sk-container-id-7 div.sk-label:hover label.sk-toggleable__label {background-color: #d4ebff;}#sk-container-id-7 div.sk-serial::before {content: \"\";position: absolute;border-left: 1px solid gray;box-sizing: border-box;top: 0;bottom: 0;left: 50%;z-index: 0;}#sk-container-id-7 div.sk-serial {display: flex;flex-direction: column;align-items: center;background-color: white;padding-right: 0.2em;padding-left: 0.2em;position: relative;}#sk-container-id-7 div.sk-item {position: relative;z-index: 1;}#sk-container-id-7 div.sk-parallel {display: flex;align-items: stretch;justify-content: center;background-color: white;position: relative;}#sk-container-id-7 div.sk-item::before, #sk-container-id-7 div.sk-parallel-item::before {content: \"\";position: absolute;border-left: 1px solid gray;box-sizing: border-box;top: 0;bottom: 0;left: 50%;z-index: -1;}#sk-container-id-7 div.sk-parallel-item {display: flex;flex-direction: column;z-index: 1;position: relative;background-color: white;}#sk-container-id-7 div.sk-parallel-item:first-child::after {align-self: flex-end;width: 50%;}#sk-container-id-7 div.sk-parallel-item:last-child::after {align-self: flex-start;width: 50%;}#sk-container-id-7 div.sk-parallel-item:only-child::after {width: 0;}#sk-container-id-7 div.sk-dashed-wrapped {border: 1px dashed gray;margin: 0 0.4em 0.5em 0.4em;box-sizing: border-box;padding-bottom: 0.4em;background-color: white;}#sk-container-id-7 div.sk-label label {font-family: monospace;font-weight: bold;display: inline-block;line-height: 1.2em;}#sk-container-id-7 div.sk-label-container {text-align: center;}#sk-container-id-7 div.sk-container {/* jupyter's `normalize.less` sets `[hidden] { display: none; }` but bootstrap.min.css set `[hidden] { display: none !important; }` so we also need the `!important` here to be able to override the default hidden behavior on the sphinx rendered scikit-learn.org. See: https://github.com/scikit-learn/scikit-learn/issues/21755 */display: inline-block !important;position: relative;}#sk-container-id-7 div.sk-text-repr-fallback {display: none;}</style><div id=\"sk-container-id-7\" class=\"sk-top-container\"><div class=\"sk-text-repr-fallback\"><pre>SGDRegressor(l1_ratio=0.5, penalty=&#x27;elasticnet&#x27;)</pre><b>In a Jupyter environment, please rerun this cell to show the HTML representation or trust the notebook. <br />On GitHub, the HTML representation is unable to render, please try loading this page with nbviewer.org.</b></div><div class=\"sk-container\" hidden><div class=\"sk-item\"><div class=\"sk-estimator sk-toggleable\"><input class=\"sk-toggleable__control sk-hidden--visually\" id=\"sk-estimator-id-7\" type=\"checkbox\" checked><label for=\"sk-estimator-id-7\" class=\"sk-toggleable__label sk-toggleable__label-arrow\">SGDRegressor</label><div class=\"sk-toggleable__content\"><pre>SGDRegressor(l1_ratio=0.5, penalty=&#x27;elasticnet&#x27;)</pre></div></div></div></div></div>"
      ],
      "text/plain": [
       "SGDRegressor(l1_ratio=0.5, penalty='elasticnet')"
      ]
     },
     "execution_count": 76,
     "metadata": {},
     "output_type": "execute_result"
    }
   ],
   "source": [
    "sgd_out = SGDRegressor( penalty = \"elasticnet\" , l1_ratio= 0.5 )\n",
    "sgd_out.fit( X_train_out, y_train_out )\n"
   ]
  },
  {
   "cell_type": "code",
   "execution_count": 77,
   "metadata": {},
   "outputs": [
    {
     "name": "stdout",
     "output_type": "stream",
     "text": [
      " THe testing error(RMSE) for SGDRegressor with ElasticNet Regularization term added  model(before fine tuning) is = 1302358856434079.0 \n",
      "-2.2315456067368318e+20\n"
     ]
    }
   ],
   "source": [
    "y_hat_elas_out = sgd_out.predict(X_test_out)\n",
    "\n",
    "''' Testing error '''\n",
    "\n",
    "test_error = np.sqrt(mean_squared_error( y_test_out, y_hat_elas_out ) )\n",
    "\n",
    "print(f\" THe testing error(RMSE) for SGDRegressor with ElasticNet Regularization term added  model(before fine tuning) is = {test_error} \")\n",
    "\n",
    "\n",
    "'''  From R2 Score , we infer - SGD Regression  Model '''\n",
    "print( r2_score ( y_test_out, y_hat_elas_out ))\n",
    "\n"
   ]
  },
  {
   "cell_type": "code",
   "execution_count": 78,
   "metadata": {},
   "outputs": [
    {
     "data": {
      "text/html": [
       "<style>#sk-container-id-8 {color: black;}#sk-container-id-8 pre{padding: 0;}#sk-container-id-8 div.sk-toggleable {background-color: white;}#sk-container-id-8 label.sk-toggleable__label {cursor: pointer;display: block;width: 100%;margin-bottom: 0;padding: 0.3em;box-sizing: border-box;text-align: center;}#sk-container-id-8 label.sk-toggleable__label-arrow:before {content: \"▸\";float: left;margin-right: 0.25em;color: #696969;}#sk-container-id-8 label.sk-toggleable__label-arrow:hover:before {color: black;}#sk-container-id-8 div.sk-estimator:hover label.sk-toggleable__label-arrow:before {color: black;}#sk-container-id-8 div.sk-toggleable__content {max-height: 0;max-width: 0;overflow: hidden;text-align: left;background-color: #f0f8ff;}#sk-container-id-8 div.sk-toggleable__content pre {margin: 0.2em;color: black;border-radius: 0.25em;background-color: #f0f8ff;}#sk-container-id-8 input.sk-toggleable__control:checked~div.sk-toggleable__content {max-height: 200px;max-width: 100%;overflow: auto;}#sk-container-id-8 input.sk-toggleable__control:checked~label.sk-toggleable__label-arrow:before {content: \"▾\";}#sk-container-id-8 div.sk-estimator input.sk-toggleable__control:checked~label.sk-toggleable__label {background-color: #d4ebff;}#sk-container-id-8 div.sk-label input.sk-toggleable__control:checked~label.sk-toggleable__label {background-color: #d4ebff;}#sk-container-id-8 input.sk-hidden--visually {border: 0;clip: rect(1px 1px 1px 1px);clip: rect(1px, 1px, 1px, 1px);height: 1px;margin: -1px;overflow: hidden;padding: 0;position: absolute;width: 1px;}#sk-container-id-8 div.sk-estimator {font-family: monospace;background-color: #f0f8ff;border: 1px dotted black;border-radius: 0.25em;box-sizing: border-box;margin-bottom: 0.5em;}#sk-container-id-8 div.sk-estimator:hover {background-color: #d4ebff;}#sk-container-id-8 div.sk-parallel-item::after {content: \"\";width: 100%;border-bottom: 1px solid gray;flex-grow: 1;}#sk-container-id-8 div.sk-label:hover label.sk-toggleable__label {background-color: #d4ebff;}#sk-container-id-8 div.sk-serial::before {content: \"\";position: absolute;border-left: 1px solid gray;box-sizing: border-box;top: 0;bottom: 0;left: 50%;z-index: 0;}#sk-container-id-8 div.sk-serial {display: flex;flex-direction: column;align-items: center;background-color: white;padding-right: 0.2em;padding-left: 0.2em;position: relative;}#sk-container-id-8 div.sk-item {position: relative;z-index: 1;}#sk-container-id-8 div.sk-parallel {display: flex;align-items: stretch;justify-content: center;background-color: white;position: relative;}#sk-container-id-8 div.sk-item::before, #sk-container-id-8 div.sk-parallel-item::before {content: \"\";position: absolute;border-left: 1px solid gray;box-sizing: border-box;top: 0;bottom: 0;left: 50%;z-index: -1;}#sk-container-id-8 div.sk-parallel-item {display: flex;flex-direction: column;z-index: 1;position: relative;background-color: white;}#sk-container-id-8 div.sk-parallel-item:first-child::after {align-self: flex-end;width: 50%;}#sk-container-id-8 div.sk-parallel-item:last-child::after {align-self: flex-start;width: 50%;}#sk-container-id-8 div.sk-parallel-item:only-child::after {width: 0;}#sk-container-id-8 div.sk-dashed-wrapped {border: 1px dashed gray;margin: 0 0.4em 0.5em 0.4em;box-sizing: border-box;padding-bottom: 0.4em;background-color: white;}#sk-container-id-8 div.sk-label label {font-family: monospace;font-weight: bold;display: inline-block;line-height: 1.2em;}#sk-container-id-8 div.sk-label-container {text-align: center;}#sk-container-id-8 div.sk-container {/* jupyter's `normalize.less` sets `[hidden] { display: none; }` but bootstrap.min.css set `[hidden] { display: none !important; }` so we also need the `!important` here to be able to override the default hidden behavior on the sphinx rendered scikit-learn.org. See: https://github.com/scikit-learn/scikit-learn/issues/21755 */display: inline-block !important;position: relative;}#sk-container-id-8 div.sk-text-repr-fallback {display: none;}</style><div id=\"sk-container-id-8\" class=\"sk-top-container\"><div class=\"sk-text-repr-fallback\"><pre>SVR()</pre><b>In a Jupyter environment, please rerun this cell to show the HTML representation or trust the notebook. <br />On GitHub, the HTML representation is unable to render, please try loading this page with nbviewer.org.</b></div><div class=\"sk-container\" hidden><div class=\"sk-item\"><div class=\"sk-estimator sk-toggleable\"><input class=\"sk-toggleable__control sk-hidden--visually\" id=\"sk-estimator-id-8\" type=\"checkbox\" checked><label for=\"sk-estimator-id-8\" class=\"sk-toggleable__label sk-toggleable__label-arrow\">SVR</label><div class=\"sk-toggleable__content\"><pre>SVR()</pre></div></div></div></div></div>"
      ],
      "text/plain": [
       "SVR()"
      ]
     },
     "execution_count": 78,
     "metadata": {},
     "output_type": "execute_result"
    }
   ],
   "source": [
    "svr_rbf_out = SVR(  kernel=\"rbf\" )\n",
    "\n",
    "svr_rbf_out.fit( X_train_out  , y_train_out )"
   ]
  },
  {
   "cell_type": "code",
   "execution_count": 79,
   "metadata": {},
   "outputs": [
    {
     "name": "stdout",
     "output_type": "stream",
     "text": [
      " THe testing error(MSE) for SVR RBF for non linear regresion (before fine tuning) is = 7607332144.009529 \n",
      " R2 score for  SVM Non Linear Regressor is -0.0008680137170533619\n"
     ]
    }
   ],
   "source": [
    "y_pred_rbf_out = svr_rbf.predict( X_test_out )\n",
    "\n",
    "''' Testing error '''\n",
    "\n",
    "test_error_rbf = mean_squared_error( y_test_out , y_pred_rbf_out )\n",
    "\n",
    "print(f\" THe testing error(MSE) for SVR RBF for non linear regresion (before fine tuning) is = {test_error_rbf} \")\n",
    "\n",
    "score = r2_score( y_test_out , y_pred_rbf_out)\n",
    "\n",
    "print( f\" R2 score for  SVM Non Linear Regressor is {score}\")\n",
    "\n"
   ]
  },
  {
   "cell_type": "code",
   "execution_count": 82,
   "metadata": {},
   "outputs": [
    {
     "data": {
      "text/plain": [
       "-6.198737738985236e+16"
      ]
     },
     "execution_count": 82,
     "metadata": {},
     "output_type": "execute_result"
    }
   ],
   "source": [
    "''' Making Ensemble of HYperparam Tuned Model '''\n",
    "\n",
    "def transaction_predictor( x , weight_1 , weight_2 , weight_3 ): # weights of model \n",
    "    # x - feature instance \n",
    "    pred1 =  weight_1 * forest_reg_out.predict( x)\n",
    "    pred2 =  weight_2 * sgd_out.predict( x)\n",
    "    pred3 =  weight_3 *svr_rbf_out.predict( x)\n",
    "\n",
    "    return (pred1+pred2+pred3)/3\n",
    "\n",
    "\n",
    "y_t = transaction_predictor( X_test_out , 0.9 , 0.05 , 0.05 )\n",
    "\n",
    "r2_score( y_test_out , y_t )"
   ]
  },
  {
   "cell_type": "code",
   "execution_count": 97,
   "metadata": {},
   "outputs": [],
   "source": [
    "''' Pickling the Model and Running the Streamlit function '''\n",
    "\n",
    "with open('forest_reg.pkl', 'wb') as file:\n",
    "    pickle.dump(forest_reg , file)\n",
    "\n"
   ]
  },
  {
   "cell_type": "code",
   "execution_count": 10,
   "metadata": {},
   "outputs": [
    {
     "name": "stdout",
     "output_type": "stream",
     "text": [
      "^C\n"
     ]
    }
   ],
   "source": [
    "import streamlit as st \n",
    "!streamlit run test.py "
   ]
  },
  {
   "cell_type": "code",
   "execution_count": null,
   "metadata": {},
   "outputs": [],
   "source": [
    "data.to_csv('daily.csv')  # For Tiem Series Forecasting "
   ]
  },
  {
   "cell_type": "code",
   "execution_count": null,
   "metadata": {},
   "outputs": [],
   "source": []
  },
  {
   "cell_type": "code",
   "execution_count": null,
   "metadata": {},
   "outputs": [],
   "source": []
  }
 ],
 "metadata": {
  "kernelspec": {
   "display_name": "Python 3",
   "language": "python",
   "name": "python3"
  },
  "language_info": {
   "codemirror_mode": {
    "name": "ipython",
    "version": 3
   },
   "file_extension": ".py",
   "mimetype": "text/x-python",
   "name": "python",
   "nbconvert_exporter": "python",
   "pygments_lexer": "ipython3",
   "version": "3.8.2"
  }
 },
 "nbformat": 4,
 "nbformat_minor": 2
}
