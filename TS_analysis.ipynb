{
 "cells": [
  {
   "cell_type": "code",
   "execution_count": 328,
   "metadata": {},
   "outputs": [],
   "source": [
    "import numpy as np \n",
    "import pandas as pd \n",
    "import matplotlib.pyplot as plt \n",
    "import seaborn as sns \n",
    "from mpl_toolkits import mplot3d\n",
    "import pickle # convert model into bytestream\n",
    "\n",
    "pd.options.mode.chained_assignment = None "
   ]
  },
  {
   "cell_type": "code",
   "execution_count": 329,
   "metadata": {},
   "outputs": [],
   "source": [
    "ts_data = pd.read_csv(\"D:\\This Project\\Credit Spend\\daily.csv\")"
   ]
  },
  {
   "cell_type": "code",
   "execution_count": 330,
   "metadata": {},
   "outputs": [
    {
     "data": {
      "text/html": [
       "<div>\n",
       "<style scoped>\n",
       "    .dataframe tbody tr th:only-of-type {\n",
       "        vertical-align: middle;\n",
       "    }\n",
       "\n",
       "    .dataframe tbody tr th {\n",
       "        vertical-align: top;\n",
       "    }\n",
       "\n",
       "    .dataframe thead th {\n",
       "        text-align: right;\n",
       "    }\n",
       "</style>\n",
       "<table border=\"1\" class=\"dataframe\">\n",
       "  <thead>\n",
       "    <tr style=\"text-align: right;\">\n",
       "      <th></th>\n",
       "      <th>Date</th>\n",
       "      <th>Mode</th>\n",
       "      <th>Category</th>\n",
       "      <th>Subcategory</th>\n",
       "      <th>Note</th>\n",
       "      <th>Amount</th>\n",
       "      <th>Income/Expense</th>\n",
       "      <th>Currency</th>\n",
       "    </tr>\n",
       "  </thead>\n",
       "  <tbody>\n",
       "    <tr>\n",
       "      <th>0</th>\n",
       "      <td>20/09/2018 12:04:08</td>\n",
       "      <td>Cash</td>\n",
       "      <td>Transportation</td>\n",
       "      <td>Train</td>\n",
       "      <td>2 Place 5 to Place 0</td>\n",
       "      <td>30.0</td>\n",
       "      <td>Expense</td>\n",
       "      <td>INR</td>\n",
       "    </tr>\n",
       "    <tr>\n",
       "      <th>1</th>\n",
       "      <td>20/09/2018 12:03:15</td>\n",
       "      <td>Cash</td>\n",
       "      <td>Food</td>\n",
       "      <td>snacks</td>\n",
       "      <td>Idli medu Vada mix 2 plates</td>\n",
       "      <td>60.0</td>\n",
       "      <td>Expense</td>\n",
       "      <td>INR</td>\n",
       "    </tr>\n",
       "    <tr>\n",
       "      <th>2</th>\n",
       "      <td>19/09/2018</td>\n",
       "      <td>Saving Bank account 1</td>\n",
       "      <td>subscription</td>\n",
       "      <td>Netflix</td>\n",
       "      <td>1 month subscription</td>\n",
       "      <td>199.0</td>\n",
       "      <td>Expense</td>\n",
       "      <td>INR</td>\n",
       "    </tr>\n",
       "    <tr>\n",
       "      <th>3</th>\n",
       "      <td>17/09/2018 23:41:17</td>\n",
       "      <td>Saving Bank account 1</td>\n",
       "      <td>subscription</td>\n",
       "      <td>Mobile Service Provider</td>\n",
       "      <td>Data booster pack</td>\n",
       "      <td>19.0</td>\n",
       "      <td>Expense</td>\n",
       "      <td>INR</td>\n",
       "    </tr>\n",
       "    <tr>\n",
       "      <th>4</th>\n",
       "      <td>16/09/2018 17:15:08</td>\n",
       "      <td>Cash</td>\n",
       "      <td>Festivals</td>\n",
       "      <td>Ganesh Pujan</td>\n",
       "      <td>Ganesh idol</td>\n",
       "      <td>251.0</td>\n",
       "      <td>Expense</td>\n",
       "      <td>INR</td>\n",
       "    </tr>\n",
       "  </tbody>\n",
       "</table>\n",
       "</div>"
      ],
      "text/plain": [
       "                  Date                   Mode  ... Income/Expense Currency\n",
       "0  20/09/2018 12:04:08                   Cash  ...        Expense      INR\n",
       "1  20/09/2018 12:03:15                   Cash  ...        Expense      INR\n",
       "2           19/09/2018  Saving Bank account 1  ...        Expense      INR\n",
       "3  17/09/2018 23:41:17  Saving Bank account 1  ...        Expense      INR\n",
       "4  16/09/2018 17:15:08                   Cash  ...        Expense      INR\n",
       "\n",
       "[5 rows x 8 columns]"
      ]
     },
     "execution_count": 330,
     "metadata": {},
     "output_type": "execute_result"
    }
   ],
   "source": [
    "ts_data.head()"
   ]
  },
  {
   "cell_type": "code",
   "execution_count": 331,
   "metadata": {},
   "outputs": [
    {
     "data": {
      "text/html": [
       "<div>\n",
       "<style scoped>\n",
       "    .dataframe tbody tr th:only-of-type {\n",
       "        vertical-align: middle;\n",
       "    }\n",
       "\n",
       "    .dataframe tbody tr th {\n",
       "        vertical-align: top;\n",
       "    }\n",
       "\n",
       "    .dataframe thead th {\n",
       "        text-align: right;\n",
       "    }\n",
       "</style>\n",
       "<table border=\"1\" class=\"dataframe\">\n",
       "  <thead>\n",
       "    <tr style=\"text-align: right;\">\n",
       "      <th></th>\n",
       "      <th>Date</th>\n",
       "      <th>Mode</th>\n",
       "      <th>Category</th>\n",
       "      <th>Subcategory</th>\n",
       "      <th>Note</th>\n",
       "      <th>Amount</th>\n",
       "      <th>Income/Expense</th>\n",
       "      <th>Currency</th>\n",
       "    </tr>\n",
       "  </thead>\n",
       "  <tbody>\n",
       "    <tr>\n",
       "      <th>229</th>\n",
       "      <td>24/06/2018 13:31:06</td>\n",
       "      <td>Cash</td>\n",
       "      <td>Transportation</td>\n",
       "      <td>Train</td>\n",
       "      <td>2 Place 5 to Place 0</td>\n",
       "      <td>30.0</td>\n",
       "      <td>Expense</td>\n",
       "      <td>INR</td>\n",
       "    </tr>\n",
       "  </tbody>\n",
       "</table>\n",
       "</div>"
      ],
      "text/plain": [
       "                    Date  Mode        Category  ... Amount Income/Expense  Currency\n",
       "229  24/06/2018 13:31:06  Cash  Transportation  ...   30.0        Expense       INR\n",
       "\n",
       "[1 rows x 8 columns]"
      ]
     },
     "execution_count": 331,
     "metadata": {},
     "output_type": "execute_result"
    }
   ],
   "source": [
    "ts_data.sample()"
   ]
  },
  {
   "cell_type": "code",
   "execution_count": 332,
   "metadata": {},
   "outputs": [
    {
     "name": "stdout",
     "output_type": "stream",
     "text": [
      "<class 'pandas.core.frame.DataFrame'>\n",
      "RangeIndex: 2461 entries, 0 to 2460\n",
      "Data columns (total 8 columns):\n",
      " #   Column          Non-Null Count  Dtype  \n",
      "---  ------          --------------  -----  \n",
      " 0   Date            2461 non-null   object \n",
      " 1   Mode            2461 non-null   object \n",
      " 2   Category        2461 non-null   object \n",
      " 3   Subcategory     1826 non-null   object \n",
      " 4   Note            1940 non-null   object \n",
      " 5   Amount          2461 non-null   float64\n",
      " 6   Income/Expense  2461 non-null   object \n",
      " 7   Currency        2461 non-null   object \n",
      "dtypes: float64(1), object(7)\n",
      "memory usage: 153.9+ KB\n"
     ]
    }
   ],
   "source": [
    "ts_data.info()\n",
    "\n"
   ]
  },
  {
   "cell_type": "code",
   "execution_count": 333,
   "metadata": {},
   "outputs": [],
   "source": [
    "ts_data.dropna( inplace = True )\n"
   ]
  },
  {
   "cell_type": "code",
   "execution_count": 334,
   "metadata": {},
   "outputs": [
    {
     "data": {
      "text/plain": [
       "'2018'"
      ]
     },
     "execution_count": 334,
     "metadata": {},
     "output_type": "execute_result"
    }
   ],
   "source": [
    "st = ts_data.iloc[0][0]\n",
    "st = st.split(' ')[0]\n",
    "st = st.split('/')[2]\n",
    "st"
   ]
  },
  {
   "cell_type": "code",
   "execution_count": 335,
   "metadata": {},
   "outputs": [
    {
     "data": {
      "text/plain": [
       "1563"
      ]
     },
     "execution_count": 335,
     "metadata": {},
     "output_type": "execute_result"
    }
   ],
   "source": [
    "len( ts_data['Date'])"
   ]
  },
  {
   "cell_type": "code",
   "execution_count": 336,
   "metadata": {},
   "outputs": [],
   "source": [
    "\n",
    "def extract_month ( data , col ) :\n",
    "    months = []\n",
    "    rows = len(data[col]) \n",
    "    for i in range(rows ) :\n",
    "\n",
    "        st = data.iloc[i][col]\n",
    "        month_= st.split(' ')[0]\n",
    "        month = month_.split('/')[1]\n",
    "        months.append( int(month) )\n",
    "    \n",
    "    return months \n",
    "\n",
    "Month = extract_month( ts_data , 'Date')\n",
    "\n",
    "ts_data.drop( 'Date' , axis=1 , inplace= True )"
   ]
  },
  {
   "cell_type": "code",
   "execution_count": 337,
   "metadata": {},
   "outputs": [],
   "source": [
    "ts_data['Months'] = Month"
   ]
  },
  {
   "cell_type": "code",
   "execution_count": 338,
   "metadata": {},
   "outputs": [
    {
     "data": {
      "text/plain": [
       "Months\n",
       "3     188\n",
       "5     173\n",
       "1     149\n",
       "7     148\n",
       "2     147\n",
       "8     132\n",
       "11    125\n",
       "4     114\n",
       "6     112\n",
       "12    112\n",
       "9      94\n",
       "10     69\n",
       "Name: count, dtype: int64"
      ]
     },
     "execution_count": 338,
     "metadata": {},
     "output_type": "execute_result"
    }
   ],
   "source": [
    "''' Cheking Imbalance '''\n",
    "ts_data['Months'].value_counts()"
   ]
  },
  {
   "cell_type": "code",
   "execution_count": null,
   "metadata": {},
   "outputs": [],
   "source": []
  },
  {
   "cell_type": "code",
   "execution_count": 339,
   "metadata": {},
   "outputs": [
    {
     "data": {
      "text/plain": [
       "'  Sort the months column and go further then ONLY '"
      ]
     },
     "execution_count": 339,
     "metadata": {},
     "output_type": "execute_result"
    }
   ],
   "source": [
    "'''  Sort the months column and go further then ONLY '''"
   ]
  },
  {
   "cell_type": "code",
   "execution_count": 340,
   "metadata": {},
   "outputs": [
    {
     "data": {
      "text/plain": [
       "array([[-0.17721915,  0.88544374],\n",
       "       [-0.16525486,  0.88544374],\n",
       "       [-0.10982036,  0.88544374],\n",
       "       ...,\n",
       "       [ 0.02059032, -1.16702235],\n",
       "       [-0.17123701, -1.16702235],\n",
       "       [-0.17562391, -1.16702235]])"
      ]
     },
     "execution_count": 340,
     "metadata": {},
     "output_type": "execute_result"
    }
   ],
   "source": [
    "''' USe feature scaling for better results , GIve 2D input lo\\ike OHE'''\n",
    "\n",
    "from sklearn.preprocessing import StandardScaler\n",
    "\n",
    "std = StandardScaler()\n",
    "std.fit_transform(  ts_data[['Amount' , 'Months']] )\n"
   ]
  },
  {
   "cell_type": "code",
   "execution_count": 341,
   "metadata": {},
   "outputs": [],
   "source": [
    "X = pd.DataFrame(ts_data['Months'])\n",
    "\n",
    "y = pd.DataFrame(ts_data[ 'Amount'])\n",
    "\n"
   ]
  },
  {
   "cell_type": "code",
   "execution_count": 342,
   "metadata": {},
   "outputs": [],
   "source": [
    "mu = np.mean(y)\n",
    "std_ = np.std(y)\n"
   ]
  },
  {
   "cell_type": "code",
   "execution_count": 343,
   "metadata": {},
   "outputs": [
    {
     "data": {
      "text/html": [
       "<style>#sk-container-id-4 {color: black;}#sk-container-id-4 pre{padding: 0;}#sk-container-id-4 div.sk-toggleable {background-color: white;}#sk-container-id-4 label.sk-toggleable__label {cursor: pointer;display: block;width: 100%;margin-bottom: 0;padding: 0.3em;box-sizing: border-box;text-align: center;}#sk-container-id-4 label.sk-toggleable__label-arrow:before {content: \"▸\";float: left;margin-right: 0.25em;color: #696969;}#sk-container-id-4 label.sk-toggleable__label-arrow:hover:before {color: black;}#sk-container-id-4 div.sk-estimator:hover label.sk-toggleable__label-arrow:before {color: black;}#sk-container-id-4 div.sk-toggleable__content {max-height: 0;max-width: 0;overflow: hidden;text-align: left;background-color: #f0f8ff;}#sk-container-id-4 div.sk-toggleable__content pre {margin: 0.2em;color: black;border-radius: 0.25em;background-color: #f0f8ff;}#sk-container-id-4 input.sk-toggleable__control:checked~div.sk-toggleable__content {max-height: 200px;max-width: 100%;overflow: auto;}#sk-container-id-4 input.sk-toggleable__control:checked~label.sk-toggleable__label-arrow:before {content: \"▾\";}#sk-container-id-4 div.sk-estimator input.sk-toggleable__control:checked~label.sk-toggleable__label {background-color: #d4ebff;}#sk-container-id-4 div.sk-label input.sk-toggleable__control:checked~label.sk-toggleable__label {background-color: #d4ebff;}#sk-container-id-4 input.sk-hidden--visually {border: 0;clip: rect(1px 1px 1px 1px);clip: rect(1px, 1px, 1px, 1px);height: 1px;margin: -1px;overflow: hidden;padding: 0;position: absolute;width: 1px;}#sk-container-id-4 div.sk-estimator {font-family: monospace;background-color: #f0f8ff;border: 1px dotted black;border-radius: 0.25em;box-sizing: border-box;margin-bottom: 0.5em;}#sk-container-id-4 div.sk-estimator:hover {background-color: #d4ebff;}#sk-container-id-4 div.sk-parallel-item::after {content: \"\";width: 100%;border-bottom: 1px solid gray;flex-grow: 1;}#sk-container-id-4 div.sk-label:hover label.sk-toggleable__label {background-color: #d4ebff;}#sk-container-id-4 div.sk-serial::before {content: \"\";position: absolute;border-left: 1px solid gray;box-sizing: border-box;top: 0;bottom: 0;left: 50%;z-index: 0;}#sk-container-id-4 div.sk-serial {display: flex;flex-direction: column;align-items: center;background-color: white;padding-right: 0.2em;padding-left: 0.2em;position: relative;}#sk-container-id-4 div.sk-item {position: relative;z-index: 1;}#sk-container-id-4 div.sk-parallel {display: flex;align-items: stretch;justify-content: center;background-color: white;position: relative;}#sk-container-id-4 div.sk-item::before, #sk-container-id-4 div.sk-parallel-item::before {content: \"\";position: absolute;border-left: 1px solid gray;box-sizing: border-box;top: 0;bottom: 0;left: 50%;z-index: -1;}#sk-container-id-4 div.sk-parallel-item {display: flex;flex-direction: column;z-index: 1;position: relative;background-color: white;}#sk-container-id-4 div.sk-parallel-item:first-child::after {align-self: flex-end;width: 50%;}#sk-container-id-4 div.sk-parallel-item:last-child::after {align-self: flex-start;width: 50%;}#sk-container-id-4 div.sk-parallel-item:only-child::after {width: 0;}#sk-container-id-4 div.sk-dashed-wrapped {border: 1px dashed gray;margin: 0 0.4em 0.5em 0.4em;box-sizing: border-box;padding-bottom: 0.4em;background-color: white;}#sk-container-id-4 div.sk-label label {font-family: monospace;font-weight: bold;display: inline-block;line-height: 1.2em;}#sk-container-id-4 div.sk-label-container {text-align: center;}#sk-container-id-4 div.sk-container {/* jupyter's `normalize.less` sets `[hidden] { display: none; }` but bootstrap.min.css set `[hidden] { display: none !important; }` so we also need the `!important` here to be able to override the default hidden behavior on the sphinx rendered scikit-learn.org. See: https://github.com/scikit-learn/scikit-learn/issues/21755 */display: inline-block !important;position: relative;}#sk-container-id-4 div.sk-text-repr-fallback {display: none;}</style><div id=\"sk-container-id-4\" class=\"sk-top-container\"><div class=\"sk-text-repr-fallback\"><pre>GaussianMixture(n_components=6)</pre><b>In a Jupyter environment, please rerun this cell to show the HTML representation or trust the notebook. <br />On GitHub, the HTML representation is unable to render, please try loading this page with nbviewer.org.</b></div><div class=\"sk-container\" hidden><div class=\"sk-item\"><div class=\"sk-estimator sk-toggleable\"><input class=\"sk-toggleable__control sk-hidden--visually\" id=\"sk-estimator-id-4\" type=\"checkbox\" checked><label for=\"sk-estimator-id-4\" class=\"sk-toggleable__label sk-toggleable__label-arrow\">GaussianMixture</label><div class=\"sk-toggleable__content\"><pre>GaussianMixture(n_components=6)</pre></div></div></div></div></div>"
      ],
      "text/plain": [
       "GaussianMixture(n_components=6)"
      ]
     },
     "execution_count": 343,
     "metadata": {},
     "output_type": "execute_result"
    }
   ],
   "source": [
    "from sklearn.mixture import GaussianMixture \n",
    "\n",
    "gmm = GaussianMixture(n_components= 6)\n",
    "gmm.fit(X, y)"
   ]
  },
  {
   "cell_type": "code",
   "execution_count": 344,
   "metadata": {},
   "outputs": [
    {
     "data": {
      "text/plain": [
       "' Sampling new datapoit to OVERSAMPLE MINORITY CONTINUOIS VALUE \\nSMOTE can only be sued for cat. data '"
      ]
     },
     "execution_count": 344,
     "metadata": {},
     "output_type": "execute_result"
    }
   ],
   "source": [
    "y1,x1 = gmm.sample( n_samples=10)\n",
    "''' Sampling new datapoit to OVERSAMPLE MINORITY CONTINUOIS VALUE \n",
    "SMOTE can only be sued for cat. data '''"
   ]
  },
  {
   "cell_type": "code",
   "execution_count": null,
   "metadata": {},
   "outputs": [],
   "source": []
  },
  {
   "cell_type": "code",
   "execution_count": 345,
   "metadata": {},
   "outputs": [],
   "source": [
    "from sklearn.model_selection import train_test_split\n",
    "\n",
    "X_train , X_test , y_train , y_test  = X[:1553], X[1553:] , y[:1553] , y[1553:]"
   ]
  },
  {
   "cell_type": "code",
   "execution_count": 346,
   "metadata": {},
   "outputs": [
    {
     "data": {
      "text/plain": [
       "(1,)"
      ]
     },
     "execution_count": 346,
     "metadata": {},
     "output_type": "execute_result"
    }
   ],
   "source": [
    "X_train.iloc[0].shape"
   ]
  },
  {
   "cell_type": "code",
   "execution_count": 347,
   "metadata": {},
   "outputs": [],
   "source": [
    "\n",
    "from tensorflow import keras \n",
    "from keras.layers import Dense  , LSTM \n",
    "# Model \n",
    "\n",
    "rnn = keras.models.Sequential([\n",
    "    LSTM( units =50 , activation =\"relu\" , input_shape = (1 , 1 ) , return_sequences=True) , \n",
    "    LSTM( units= 50 , activation='relu' ), \n",
    "    # LSTM( units= 50 , activation='relu' ), \n",
    "    Dense(1 )\n",
    "])\n",
    "\n",
    "rnn.compile( loss= 'mse' , optimizer='sgd' , metrics='mse')"
   ]
  },
  {
   "cell_type": "code",
   "execution_count": 348,
   "metadata": {},
   "outputs": [
    {
     "data": {
      "text/plain": [
       "Months    9\n",
       "Name: 0, dtype: int64"
      ]
     },
     "execution_count": 348,
     "metadata": {},
     "output_type": "execute_result"
    }
   ],
   "source": [
    "X.iloc[0]"
   ]
  },
  {
   "cell_type": "code",
   "execution_count": 349,
   "metadata": {},
   "outputs": [
    {
     "name": "stdout",
     "output_type": "stream",
     "text": [
      "Epoch 1/200\n",
      "49/49 [==============================] - 2s 2ms/step - loss: 6816277.0000 - mse: 6816277.0000\n",
      "Epoch 2/200\n",
      "49/49 [==============================] - 0s 2ms/step - loss: 6352845.0000 - mse: 6352845.0000\n",
      "Epoch 3/200\n",
      "49/49 [==============================] - 0s 2ms/step - loss: 6331498.0000 - mse: 6331498.0000\n",
      "Epoch 4/200\n",
      "49/49 [==============================] - 0s 2ms/step - loss: 6329289.5000 - mse: 6329289.5000\n",
      "Epoch 5/200\n",
      "49/49 [==============================] - 0s 2ms/step - loss: 6330146.5000 - mse: 6330146.5000\n",
      "Epoch 6/200\n",
      "49/49 [==============================] - 0s 2ms/step - loss: 6333136.5000 - mse: 6333136.5000\n",
      "Epoch 7/200\n",
      "49/49 [==============================] - 0s 2ms/step - loss: 6330693.0000 - mse: 6330693.0000\n",
      "Epoch 8/200\n",
      "49/49 [==============================] - 0s 2ms/step - loss: 6330108.0000 - mse: 6330108.0000\n",
      "Epoch 9/200\n",
      "49/49 [==============================] - 0s 2ms/step - loss: 6330577.5000 - mse: 6330577.5000\n",
      "Epoch 10/200\n",
      "49/49 [==============================] - 0s 2ms/step - loss: 6329768.5000 - mse: 6329768.5000\n",
      "Epoch 11/200\n",
      "49/49 [==============================] - 0s 2ms/step - loss: 6328592.5000 - mse: 6328592.5000\n",
      "Epoch 12/200\n",
      "49/49 [==============================] - 0s 2ms/step - loss: 6330408.0000 - mse: 6330408.0000\n",
      "Epoch 13/200\n",
      "49/49 [==============================] - 0s 2ms/step - loss: 6330039.0000 - mse: 6330039.0000\n",
      "Epoch 14/200\n",
      "49/49 [==============================] - 0s 2ms/step - loss: 6331425.5000 - mse: 6331425.5000\n",
      "Epoch 15/200\n",
      "49/49 [==============================] - 0s 2ms/step - loss: 6329770.0000 - mse: 6329770.0000\n",
      "Epoch 16/200\n",
      "49/49 [==============================] - 0s 2ms/step - loss: 6331580.0000 - mse: 6331580.0000\n",
      "Epoch 17/200\n",
      "49/49 [==============================] - 0s 2ms/step - loss: 6329151.0000 - mse: 6329151.0000\n",
      "Epoch 18/200\n",
      "49/49 [==============================] - 0s 2ms/step - loss: 6331465.0000 - mse: 6331465.0000\n",
      "Epoch 19/200\n",
      "49/49 [==============================] - 0s 2ms/step - loss: 6330840.0000 - mse: 6330840.0000\n",
      "Epoch 20/200\n",
      "49/49 [==============================] - 0s 3ms/step - loss: 6329862.5000 - mse: 6329862.5000\n",
      "Epoch 21/200\n",
      "49/49 [==============================] - 1s 10ms/step - loss: 6330392.5000 - mse: 6330392.5000\n",
      "Epoch 22/200\n",
      "49/49 [==============================] - 0s 2ms/step - loss: 6331315.5000 - mse: 6331315.5000\n",
      "Epoch 23/200\n",
      "49/49 [==============================] - 0s 2ms/step - loss: 6330128.5000 - mse: 6330128.5000\n",
      "Epoch 24/200\n",
      "49/49 [==============================] - 0s 2ms/step - loss: 6329864.0000 - mse: 6329864.0000\n",
      "Epoch 25/200\n",
      "49/49 [==============================] - 0s 2ms/step - loss: 6330116.0000 - mse: 6330116.0000\n",
      "Epoch 26/200\n",
      "49/49 [==============================] - 0s 2ms/step - loss: 6329749.0000 - mse: 6329749.0000\n",
      "Epoch 27/200\n",
      "49/49 [==============================] - 0s 2ms/step - loss: 6330154.5000 - mse: 6330154.5000\n",
      "Epoch 28/200\n",
      "49/49 [==============================] - 0s 2ms/step - loss: 6330238.0000 - mse: 6330238.0000\n",
      "Epoch 29/200\n",
      "49/49 [==============================] - 0s 2ms/step - loss: 6330092.5000 - mse: 6330092.5000\n",
      "Epoch 30/200\n",
      "49/49 [==============================] - 0s 2ms/step - loss: 6330661.5000 - mse: 6330661.5000\n",
      "Epoch 31/200\n",
      "49/49 [==============================] - 0s 2ms/step - loss: 6327324.5000 - mse: 6327324.5000\n",
      "Epoch 32/200\n",
      "49/49 [==============================] - 0s 2ms/step - loss: 6330342.5000 - mse: 6330342.5000\n",
      "Epoch 33/200\n",
      "49/49 [==============================] - 0s 2ms/step - loss: 6328409.5000 - mse: 6328409.5000\n",
      "Epoch 34/200\n",
      "49/49 [==============================] - 0s 2ms/step - loss: 6332126.5000 - mse: 6332126.5000\n",
      "Epoch 35/200\n",
      "49/49 [==============================] - 0s 2ms/step - loss: 6332428.5000 - mse: 6332428.5000\n",
      "Epoch 36/200\n",
      "49/49 [==============================] - 0s 2ms/step - loss: 6330539.5000 - mse: 6330539.5000\n",
      "Epoch 37/200\n",
      "49/49 [==============================] - 0s 3ms/step - loss: 6329458.0000 - mse: 6329458.0000\n",
      "Epoch 38/200\n",
      "49/49 [==============================] - 0s 3ms/step - loss: 6330061.5000 - mse: 6330061.5000\n",
      "Epoch 39/200\n",
      "49/49 [==============================] - 0s 2ms/step - loss: 6330245.5000 - mse: 6330245.5000\n",
      "Epoch 40/200\n",
      "49/49 [==============================] - 0s 2ms/step - loss: 6329570.0000 - mse: 6329570.0000\n",
      "Epoch 41/200\n",
      "49/49 [==============================] - 0s 2ms/step - loss: 6331996.0000 - mse: 6331996.0000\n",
      "Epoch 42/200\n",
      "49/49 [==============================] - 0s 2ms/step - loss: 6330391.5000 - mse: 6330391.5000\n",
      "Epoch 43/200\n",
      "49/49 [==============================] - 0s 2ms/step - loss: 6331255.0000 - mse: 6331255.0000\n",
      "Epoch 44/200\n",
      "49/49 [==============================] - 0s 2ms/step - loss: 6329765.5000 - mse: 6329765.5000\n",
      "Epoch 45/200\n",
      "49/49 [==============================] - 0s 2ms/step - loss: 6331038.0000 - mse: 6331038.0000\n",
      "Epoch 46/200\n",
      "49/49 [==============================] - 0s 2ms/step - loss: 6330198.0000 - mse: 6330198.0000\n",
      "Epoch 47/200\n",
      "49/49 [==============================] - 0s 2ms/step - loss: 6330331.5000 - mse: 6330331.5000\n",
      "Epoch 48/200\n",
      "49/49 [==============================] - 0s 2ms/step - loss: 6330279.5000 - mse: 6330279.5000\n",
      "Epoch 49/200\n",
      "49/49 [==============================] - 0s 2ms/step - loss: 6329729.0000 - mse: 6329729.0000\n",
      "Epoch 50/200\n",
      "49/49 [==============================] - 0s 2ms/step - loss: 6330566.5000 - mse: 6330566.5000\n",
      "Epoch 51/200\n",
      "49/49 [==============================] - 0s 2ms/step - loss: 6331805.5000 - mse: 6331805.5000\n",
      "Epoch 52/200\n",
      "49/49 [==============================] - 0s 2ms/step - loss: 6329851.0000 - mse: 6329851.0000\n",
      "Epoch 53/200\n",
      "49/49 [==============================] - 0s 2ms/step - loss: 6328812.0000 - mse: 6328812.0000\n",
      "Epoch 54/200\n",
      "49/49 [==============================] - 0s 2ms/step - loss: 6330547.5000 - mse: 6330547.5000\n",
      "Epoch 55/200\n",
      "49/49 [==============================] - 0s 3ms/step - loss: 6330864.0000 - mse: 6330864.0000\n",
      "Epoch 56/200\n",
      "49/49 [==============================] - 0s 2ms/step - loss: 6329852.5000 - mse: 6329852.5000\n",
      "Epoch 57/200\n",
      "49/49 [==============================] - 0s 2ms/step - loss: 6329547.0000 - mse: 6329547.0000\n",
      "Epoch 58/200\n",
      "49/49 [==============================] - 0s 2ms/step - loss: 6330229.5000 - mse: 6330229.5000\n",
      "Epoch 59/200\n",
      "49/49 [==============================] - 0s 2ms/step - loss: 6330351.5000 - mse: 6330351.5000\n",
      "Epoch 60/200\n",
      "49/49 [==============================] - 0s 2ms/step - loss: 6330384.0000 - mse: 6330384.0000\n",
      "Epoch 61/200\n",
      "49/49 [==============================] - 0s 2ms/step - loss: 6330076.0000 - mse: 6330076.0000\n",
      "Epoch 62/200\n",
      "49/49 [==============================] - 0s 2ms/step - loss: 6330088.5000 - mse: 6330088.5000\n",
      "Epoch 63/200\n",
      "49/49 [==============================] - 0s 2ms/step - loss: 6330029.0000 - mse: 6330029.0000\n",
      "Epoch 64/200\n",
      "49/49 [==============================] - 0s 2ms/step - loss: 6329860.5000 - mse: 6329860.5000\n",
      "Epoch 65/200\n",
      "49/49 [==============================] - 0s 2ms/step - loss: 6329824.0000 - mse: 6329824.0000\n",
      "Epoch 66/200\n",
      "49/49 [==============================] - 0s 2ms/step - loss: 6329953.5000 - mse: 6329953.5000\n",
      "Epoch 67/200\n",
      "49/49 [==============================] - 0s 2ms/step - loss: 6329864.0000 - mse: 6329864.0000\n",
      "Epoch 68/200\n",
      "49/49 [==============================] - 0s 2ms/step - loss: 6331440.0000 - mse: 6331440.0000\n",
      "Epoch 69/200\n",
      "49/49 [==============================] - 0s 3ms/step - loss: 6329495.0000 - mse: 6329495.0000\n",
      "Epoch 70/200\n",
      "49/49 [==============================] - 0s 2ms/step - loss: 6329422.0000 - mse: 6329422.0000\n",
      "Epoch 71/200\n",
      "49/49 [==============================] - 0s 2ms/step - loss: 6329975.5000 - mse: 6329975.5000\n",
      "Epoch 72/200\n",
      "49/49 [==============================] - 0s 2ms/step - loss: 6334955.0000 - mse: 6334955.0000\n",
      "Epoch 73/200\n",
      "49/49 [==============================] - 0s 2ms/step - loss: 6330399.5000 - mse: 6330399.5000\n",
      "Epoch 74/200\n",
      "49/49 [==============================] - 0s 2ms/step - loss: 6330355.0000 - mse: 6330355.0000\n",
      "Epoch 75/200\n",
      "49/49 [==============================] - 0s 2ms/step - loss: 6329867.5000 - mse: 6329867.5000\n",
      "Epoch 76/200\n",
      "49/49 [==============================] - 0s 2ms/step - loss: 6330626.0000 - mse: 6330626.0000\n",
      "Epoch 77/200\n",
      "49/49 [==============================] - 0s 2ms/step - loss: 6329959.0000 - mse: 6329959.0000\n",
      "Epoch 78/200\n",
      "49/49 [==============================] - 0s 2ms/step - loss: 6330061.5000 - mse: 6330061.5000\n",
      "Epoch 79/200\n",
      "49/49 [==============================] - 0s 2ms/step - loss: 6329922.5000 - mse: 6329922.5000\n",
      "Epoch 80/200\n",
      "49/49 [==============================] - 0s 2ms/step - loss: 6331639.5000 - mse: 6331639.5000\n",
      "Epoch 81/200\n",
      "49/49 [==============================] - 0s 3ms/step - loss: 6330815.5000 - mse: 6330815.5000\n",
      "Epoch 82/200\n",
      "49/49 [==============================] - 0s 2ms/step - loss: 6329634.0000 - mse: 6329634.0000\n",
      "Epoch 83/200\n",
      "49/49 [==============================] - 0s 3ms/step - loss: 6329352.5000 - mse: 6329352.5000\n",
      "Epoch 84/200\n",
      "49/49 [==============================] - 0s 2ms/step - loss: 6329921.0000 - mse: 6329921.0000\n",
      "Epoch 85/200\n",
      "49/49 [==============================] - 0s 3ms/step - loss: 6330585.0000 - mse: 6330585.0000\n",
      "Epoch 86/200\n",
      "49/49 [==============================] - 0s 2ms/step - loss: 6330391.5000 - mse: 6330391.5000\n",
      "Epoch 87/200\n",
      "49/49 [==============================] - 0s 2ms/step - loss: 6330835.5000 - mse: 6330835.5000\n",
      "Epoch 88/200\n",
      "49/49 [==============================] - 0s 2ms/step - loss: 6330515.5000 - mse: 6330515.5000\n",
      "Epoch 89/200\n",
      "49/49 [==============================] - 0s 2ms/step - loss: 6329551.5000 - mse: 6329551.5000\n",
      "Epoch 90/200\n",
      "49/49 [==============================] - 0s 2ms/step - loss: 6328966.0000 - mse: 6328966.0000\n",
      "Epoch 91/200\n",
      "49/49 [==============================] - 0s 2ms/step - loss: 6330126.5000 - mse: 6330126.5000\n",
      "Epoch 92/200\n",
      "49/49 [==============================] - 0s 2ms/step - loss: 6329108.5000 - mse: 6329108.5000\n",
      "Epoch 93/200\n",
      "49/49 [==============================] - 0s 2ms/step - loss: 6331017.0000 - mse: 6331017.0000\n",
      "Epoch 94/200\n",
      "49/49 [==============================] - 0s 2ms/step - loss: 6329433.0000 - mse: 6329433.0000\n",
      "Epoch 95/200\n",
      "49/49 [==============================] - 0s 2ms/step - loss: 6331935.5000 - mse: 6331935.5000\n",
      "Epoch 96/200\n",
      "49/49 [==============================] - 0s 2ms/step - loss: 6330933.5000 - mse: 6330933.5000\n",
      "Epoch 97/200\n",
      "49/49 [==============================] - 0s 3ms/step - loss: 6329722.0000 - mse: 6329722.0000\n",
      "Epoch 98/200\n",
      "49/49 [==============================] - 0s 3ms/step - loss: 6330281.0000 - mse: 6330281.0000\n",
      "Epoch 99/200\n",
      "49/49 [==============================] - 0s 2ms/step - loss: 6329754.0000 - mse: 6329754.0000\n",
      "Epoch 100/200\n",
      "49/49 [==============================] - 0s 3ms/step - loss: 6329146.0000 - mse: 6329146.0000\n",
      "Epoch 101/200\n",
      "49/49 [==============================] - 0s 2ms/step - loss: 6329960.5000 - mse: 6329960.5000\n",
      "Epoch 102/200\n",
      "49/49 [==============================] - 0s 2ms/step - loss: 6329579.5000 - mse: 6329579.5000\n",
      "Epoch 103/200\n",
      "49/49 [==============================] - 0s 2ms/step - loss: 6330078.0000 - mse: 6330078.0000\n",
      "Epoch 104/200\n",
      "49/49 [==============================] - 0s 2ms/step - loss: 6329794.5000 - mse: 6329794.5000\n",
      "Epoch 105/200\n",
      "49/49 [==============================] - 0s 2ms/step - loss: 6329696.0000 - mse: 6329696.0000\n",
      "Epoch 106/200\n",
      "49/49 [==============================] - 0s 2ms/step - loss: 6330657.0000 - mse: 6330657.0000\n",
      "Epoch 107/200\n",
      "49/49 [==============================] - 0s 2ms/step - loss: 6330706.5000 - mse: 6330706.5000\n",
      "Epoch 108/200\n",
      "49/49 [==============================] - 0s 2ms/step - loss: 6329688.0000 - mse: 6329688.0000\n",
      "Epoch 109/200\n",
      "49/49 [==============================] - 0s 2ms/step - loss: 6331863.5000 - mse: 6331863.5000\n",
      "Epoch 110/200\n",
      "49/49 [==============================] - 0s 3ms/step - loss: 6329362.5000 - mse: 6329362.5000\n",
      "Epoch 111/200\n",
      "49/49 [==============================] - 0s 2ms/step - loss: 6330360.5000 - mse: 6330360.5000\n",
      "Epoch 112/200\n",
      "49/49 [==============================] - 0s 2ms/step - loss: 6329325.0000 - mse: 6329325.0000\n",
      "Epoch 113/200\n",
      "49/49 [==============================] - 0s 3ms/step - loss: 6329607.0000 - mse: 6329607.0000\n",
      "Epoch 114/200\n",
      "49/49 [==============================] - 0s 3ms/step - loss: 6330286.0000 - mse: 6330286.0000\n",
      "Epoch 115/200\n",
      "49/49 [==============================] - 0s 2ms/step - loss: 6331479.5000 - mse: 6331479.5000\n",
      "Epoch 116/200\n",
      "49/49 [==============================] - 0s 2ms/step - loss: 6330136.5000 - mse: 6330136.5000\n",
      "Epoch 117/200\n",
      "49/49 [==============================] - 0s 2ms/step - loss: 6330919.0000 - mse: 6330919.0000\n",
      "Epoch 118/200\n",
      "49/49 [==============================] - 0s 2ms/step - loss: 6330457.5000 - mse: 6330457.5000\n",
      "Epoch 119/200\n",
      "49/49 [==============================] - 0s 2ms/step - loss: 6330363.5000 - mse: 6330363.5000\n",
      "Epoch 120/200\n",
      "49/49 [==============================] - 0s 2ms/step - loss: 6329762.0000 - mse: 6329762.0000\n",
      "Epoch 121/200\n",
      "49/49 [==============================] - 0s 2ms/step - loss: 6329195.0000 - mse: 6329195.0000\n",
      "Epoch 122/200\n",
      "49/49 [==============================] - 0s 2ms/step - loss: 6330612.0000 - mse: 6330612.0000\n",
      "Epoch 123/200\n",
      "49/49 [==============================] - 0s 2ms/step - loss: 6329757.0000 - mse: 6329757.0000\n",
      "Epoch 124/200\n",
      "49/49 [==============================] - 0s 2ms/step - loss: 6329813.0000 - mse: 6329813.0000\n",
      "Epoch 125/200\n",
      "49/49 [==============================] - 0s 2ms/step - loss: 6330357.0000 - mse: 6330357.0000\n",
      "Epoch 126/200\n",
      "49/49 [==============================] - 0s 2ms/step - loss: 6330819.5000 - mse: 6330819.5000\n",
      "Epoch 127/200\n",
      "49/49 [==============================] - 0s 3ms/step - loss: 6330206.5000 - mse: 6330206.5000\n",
      "Epoch 128/200\n",
      "49/49 [==============================] - 0s 2ms/step - loss: 6329832.0000 - mse: 6329832.0000\n",
      "Epoch 129/200\n",
      "49/49 [==============================] - 0s 2ms/step - loss: 6330199.0000 - mse: 6330199.0000\n",
      "Epoch 130/200\n",
      "49/49 [==============================] - 0s 2ms/step - loss: 6331477.5000 - mse: 6331477.5000\n",
      "Epoch 131/200\n",
      "49/49 [==============================] - 0s 2ms/step - loss: 6329969.5000 - mse: 6329969.5000\n",
      "Epoch 132/200\n",
      "49/49 [==============================] - 0s 2ms/step - loss: 6330321.0000 - mse: 6330321.0000\n",
      "Epoch 133/200\n",
      "49/49 [==============================] - 0s 2ms/step - loss: 6330024.0000 - mse: 6330024.0000\n",
      "Epoch 134/200\n",
      "49/49 [==============================] - 0s 2ms/step - loss: 6329789.5000 - mse: 6329789.5000\n",
      "Epoch 135/200\n",
      "49/49 [==============================] - 0s 2ms/step - loss: 6330851.5000 - mse: 6330851.5000\n",
      "Epoch 136/200\n",
      "49/49 [==============================] - 0s 2ms/step - loss: 6330422.5000 - mse: 6330422.5000\n",
      "Epoch 137/200\n",
      "49/49 [==============================] - 0s 2ms/step - loss: 6329754.0000 - mse: 6329754.0000\n",
      "Epoch 138/200\n",
      "49/49 [==============================] - 0s 2ms/step - loss: 6329983.5000 - mse: 6329983.5000\n",
      "Epoch 139/200\n",
      "49/49 [==============================] - 0s 2ms/step - loss: 6329114.5000 - mse: 6329114.5000\n",
      "Epoch 140/200\n",
      "49/49 [==============================] - 0s 2ms/step - loss: 6329825.5000 - mse: 6329825.5000\n",
      "Epoch 141/200\n",
      "49/49 [==============================] - 0s 2ms/step - loss: 6332800.0000 - mse: 6332800.0000\n",
      "Epoch 142/200\n",
      "49/49 [==============================] - 0s 3ms/step - loss: 6330206.5000 - mse: 6330206.5000\n",
      "Epoch 143/200\n",
      "49/49 [==============================] - 0s 2ms/step - loss: 6329789.0000 - mse: 6329789.0000\n",
      "Epoch 144/200\n",
      "49/49 [==============================] - 0s 2ms/step - loss: 6330527.5000 - mse: 6330527.5000\n",
      "Epoch 145/200\n",
      "49/49 [==============================] - 0s 2ms/step - loss: 6330054.0000 - mse: 6330054.0000\n",
      "Epoch 146/200\n",
      "49/49 [==============================] - 0s 2ms/step - loss: 6331355.0000 - mse: 6331355.0000\n",
      "Epoch 147/200\n",
      "49/49 [==============================] - 0s 2ms/step - loss: 6330221.5000 - mse: 6330221.5000\n",
      "Epoch 148/200\n",
      "49/49 [==============================] - 0s 3ms/step - loss: 6330223.5000 - mse: 6330223.5000\n",
      "Epoch 149/200\n",
      "49/49 [==============================] - 0s 2ms/step - loss: 6330492.0000 - mse: 6330492.0000\n",
      "Epoch 150/200\n",
      "49/49 [==============================] - 0s 3ms/step - loss: 6329284.0000 - mse: 6329284.0000\n",
      "Epoch 151/200\n",
      "49/49 [==============================] - 0s 3ms/step - loss: 6331179.5000 - mse: 6331179.5000\n",
      "Epoch 152/200\n",
      "49/49 [==============================] - 0s 3ms/step - loss: 6330353.5000 - mse: 6330353.5000\n",
      "Epoch 153/200\n",
      "49/49 [==============================] - 0s 3ms/step - loss: 6331011.0000 - mse: 6331011.0000\n",
      "Epoch 154/200\n",
      "49/49 [==============================] - 0s 4ms/step - loss: 6329824.5000 - mse: 6329824.5000\n",
      "Epoch 155/200\n",
      "49/49 [==============================] - 0s 4ms/step - loss: 6331216.0000 - mse: 6331216.0000\n",
      "Epoch 156/200\n",
      "49/49 [==============================] - 0s 4ms/step - loss: 6329176.5000 - mse: 6329176.5000\n",
      "Epoch 157/200\n",
      "49/49 [==============================] - 0s 3ms/step - loss: 6330157.0000 - mse: 6330157.0000\n",
      "Epoch 158/200\n",
      "49/49 [==============================] - 0s 2ms/step - loss: 6329593.0000 - mse: 6329593.0000\n",
      "Epoch 159/200\n",
      "49/49 [==============================] - 0s 3ms/step - loss: 6329995.0000 - mse: 6329995.0000\n",
      "Epoch 160/200\n",
      "49/49 [==============================] - 0s 3ms/step - loss: 6330051.0000 - mse: 6330051.0000\n",
      "Epoch 161/200\n",
      "49/49 [==============================] - 0s 2ms/step - loss: 6330215.0000 - mse: 6330215.0000\n",
      "Epoch 162/200\n",
      "49/49 [==============================] - 0s 3ms/step - loss: 6330662.0000 - mse: 6330662.0000\n",
      "Epoch 163/200\n",
      "49/49 [==============================] - 0s 3ms/step - loss: 6329886.5000 - mse: 6329886.5000\n",
      "Epoch 164/200\n",
      "49/49 [==============================] - 0s 3ms/step - loss: 6329897.0000 - mse: 6329897.0000\n",
      "Epoch 165/200\n",
      "49/49 [==============================] - 0s 3ms/step - loss: 6331052.0000 - mse: 6331052.0000\n",
      "Epoch 166/200\n",
      "49/49 [==============================] - 0s 2ms/step - loss: 6329832.5000 - mse: 6329832.5000\n",
      "Epoch 167/200\n",
      "49/49 [==============================] - 0s 2ms/step - loss: 6330589.0000 - mse: 6330589.0000\n",
      "Epoch 168/200\n",
      "49/49 [==============================] - 0s 3ms/step - loss: 6329263.0000 - mse: 6329263.0000\n",
      "Epoch 169/200\n",
      "49/49 [==============================] - 0s 3ms/step - loss: 6329875.5000 - mse: 6329875.5000\n",
      "Epoch 170/200\n",
      "49/49 [==============================] - 0s 3ms/step - loss: 6329013.0000 - mse: 6329013.0000\n",
      "Epoch 171/200\n",
      "49/49 [==============================] - 0s 3ms/step - loss: 6329791.0000 - mse: 6329791.0000\n",
      "Epoch 172/200\n",
      "49/49 [==============================] - 0s 3ms/step - loss: 6330076.5000 - mse: 6330076.5000\n",
      "Epoch 173/200\n",
      "49/49 [==============================] - 0s 3ms/step - loss: 6329851.5000 - mse: 6329851.5000\n",
      "Epoch 174/200\n",
      "49/49 [==============================] - 0s 3ms/step - loss: 6331473.0000 - mse: 6331473.0000\n",
      "Epoch 175/200\n",
      "49/49 [==============================] - 0s 4ms/step - loss: 6330040.5000 - mse: 6330040.5000\n",
      "Epoch 176/200\n",
      "49/49 [==============================] - 0s 3ms/step - loss: 6330035.0000 - mse: 6330035.0000\n",
      "Epoch 177/200\n",
      "49/49 [==============================] - 0s 2ms/step - loss: 6329152.0000 - mse: 6329152.0000\n",
      "Epoch 178/200\n",
      "49/49 [==============================] - 0s 3ms/step - loss: 6331706.0000 - mse: 6331706.0000\n",
      "Epoch 179/200\n",
      "49/49 [==============================] - 0s 2ms/step - loss: 6328656.5000 - mse: 6328656.5000\n",
      "Epoch 180/200\n",
      "49/49 [==============================] - 0s 2ms/step - loss: 6330093.0000 - mse: 6330093.0000\n",
      "Epoch 181/200\n",
      "49/49 [==============================] - 0s 2ms/step - loss: 6331133.5000 - mse: 6331133.5000\n",
      "Epoch 182/200\n",
      "49/49 [==============================] - 0s 2ms/step - loss: 6329770.0000 - mse: 6329770.0000\n",
      "Epoch 183/200\n",
      "49/49 [==============================] - 0s 2ms/step - loss: 6330524.5000 - mse: 6330524.5000\n",
      "Epoch 184/200\n",
      "49/49 [==============================] - 0s 3ms/step - loss: 6330109.5000 - mse: 6330109.5000\n",
      "Epoch 185/200\n",
      "49/49 [==============================] - 0s 2ms/step - loss: 6330252.0000 - mse: 6330252.0000\n",
      "Epoch 186/200\n",
      "49/49 [==============================] - 0s 2ms/step - loss: 6329959.0000 - mse: 6329959.0000\n",
      "Epoch 187/200\n",
      "49/49 [==============================] - 0s 3ms/step - loss: 6329933.5000 - mse: 6329933.5000\n",
      "Epoch 188/200\n",
      "49/49 [==============================] - 0s 2ms/step - loss: 6330266.5000 - mse: 6330266.5000\n",
      "Epoch 189/200\n",
      "49/49 [==============================] - 0s 2ms/step - loss: 6329912.5000 - mse: 6329912.5000\n",
      "Epoch 190/200\n",
      "49/49 [==============================] - 0s 2ms/step - loss: 6329428.5000 - mse: 6329428.5000\n",
      "Epoch 191/200\n",
      "49/49 [==============================] - 0s 2ms/step - loss: 6331592.5000 - mse: 6331592.5000\n",
      "Epoch 192/200\n",
      "49/49 [==============================] - 0s 2ms/step - loss: 6330189.5000 - mse: 6330189.5000\n",
      "Epoch 193/200\n",
      "49/49 [==============================] - 0s 2ms/step - loss: 6329798.5000 - mse: 6329798.5000\n",
      "Epoch 194/200\n",
      "49/49 [==============================] - 0s 2ms/step - loss: 6330623.0000 - mse: 6330623.0000\n",
      "Epoch 195/200\n",
      "49/49 [==============================] - 0s 2ms/step - loss: 6329999.0000 - mse: 6329999.0000\n",
      "Epoch 196/200\n",
      "49/49 [==============================] - 0s 2ms/step - loss: 6330867.0000 - mse: 6330867.0000\n",
      "Epoch 197/200\n",
      "49/49 [==============================] - 0s 3ms/step - loss: 6329679.0000 - mse: 6329679.0000\n",
      "Epoch 198/200\n",
      "49/49 [==============================] - 0s 3ms/step - loss: 6329260.5000 - mse: 6329260.5000\n",
      "Epoch 199/200\n",
      "49/49 [==============================] - 0s 3ms/step - loss: 6331377.5000 - mse: 6331377.5000\n",
      "Epoch 200/200\n",
      "49/49 [==============================] - 0s 3ms/step - loss: 6331480.5000 - mse: 6331480.5000\n"
     ]
    },
    {
     "data": {
      "text/plain": [
       "<keras.src.callbacks.History at 0x1b2544b5520>"
      ]
     },
     "execution_count": 349,
     "metadata": {},
     "output_type": "execute_result"
    }
   ],
   "source": [
    "rnn.fit( X_train , y_train  ,  epochs =200)"
   ]
  },
  {
   "cell_type": "code",
   "execution_count": 350,
   "metadata": {},
   "outputs": [
    {
     "name": "stdout",
     "output_type": "stream",
     "text": [
      "1/1 [==============================] - 0s 325ms/step\n"
     ]
    },
    {
     "data": {
      "text/plain": [
       "-6.08914604336478"
      ]
     },
     "execution_count": 350,
     "metadata": {},
     "output_type": "execute_result"
    }
   ],
   "source": [
    "y_pred = rnn.predict( X_test )\n",
    "from sklearn.metrics import r2_score\n",
    "\n",
    "score = r2_score( y_test , y_pred) \n",
    "score"
   ]
  },
  {
   "cell_type": "code",
   "execution_count": 358,
   "metadata": {},
   "outputs": [
    {
     "data": {
      "text/plain": [
       "' Print in actual val , NOT scientific notation'"
      ]
     },
     "execution_count": 358,
     "metadata": {},
     "output_type": "execute_result"
    }
   ],
   "source": [
    "np.set_printoptions(suppress=True, formatter={'float_kind':'{:0.2f}'.format})\n",
    "''' Print in actual val , NOT scientific notation'''"
   ]
  },
  {
   "cell_type": "code",
   "execution_count": 360,
   "metadata": {},
   "outputs": [
    {
     "name": "stdout",
     "output_type": "stream",
     "text": [
      "1/1 [==============================] - 0s 22ms/step\n"
     ]
    }
   ],
   "source": [
    "y_1 = rnn.predict(X_train[:1])\n",
    "val = y_1[0][0]\n",
    "val=  val*std_ + mu \n",
    "\n"
   ]
  },
  {
   "cell_type": "code",
   "execution_count": 361,
   "metadata": {},
   "outputs": [
    {
     "name": "stdout",
     "output_type": "stream",
     "text": [
      "Predicted Transcation - Amount    1.162697e+06\n",
      "dtype: float64 INR\n"
     ]
    }
   ],
   "source": [
    "print(f\"Predicted Transcation - {val} INR\")"
   ]
  },
  {
   "cell_type": "code",
   "execution_count": null,
   "metadata": {},
   "outputs": [],
   "source": []
  }
 ],
 "metadata": {
  "kernelspec": {
   "display_name": "Python 3",
   "language": "python",
   "name": "python3"
  },
  "language_info": {
   "codemirror_mode": {
    "name": "ipython",
    "version": 3
   },
   "file_extension": ".py",
   "mimetype": "text/x-python",
   "name": "python",
   "nbconvert_exporter": "python",
   "pygments_lexer": "ipython3",
   "version": "3.8.2"
  }
 },
 "nbformat": 4,
 "nbformat_minor": 2
}
