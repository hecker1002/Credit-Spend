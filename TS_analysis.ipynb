{
 "cells": [
  {
   "cell_type": "code",
   "execution_count": 1,
   "metadata": {},
   "outputs": [],
   "source": [
    "import numpy as np \n",
    "import pandas as pd \n",
    "import matplotlib.pyplot as plt \n",
    "import seaborn as sns \n",
    "from mpl_toolkits import mplot3d\n",
    "import pickle # convert model into bytestream\n",
    "\n",
    "pd.options.mode.chained_assignment = None "
   ]
  },
  {
   "cell_type": "code",
   "execution_count": 2,
   "metadata": {},
   "outputs": [],
   "source": [
    "ts_data = pd.read_csv(\"D:\\This Project\\Credit Spend\\daily.csv\")"
   ]
  },
  {
   "cell_type": "code",
   "execution_count": 3,
   "metadata": {},
   "outputs": [
    {
     "data": {
      "text/html": [
       "<div>\n",
       "<style scoped>\n",
       "    .dataframe tbody tr th:only-of-type {\n",
       "        vertical-align: middle;\n",
       "    }\n",
       "\n",
       "    .dataframe tbody tr th {\n",
       "        vertical-align: top;\n",
       "    }\n",
       "\n",
       "    .dataframe thead th {\n",
       "        text-align: right;\n",
       "    }\n",
       "</style>\n",
       "<table border=\"1\" class=\"dataframe\">\n",
       "  <thead>\n",
       "    <tr style=\"text-align: right;\">\n",
       "      <th></th>\n",
       "      <th>Date</th>\n",
       "      <th>Mode</th>\n",
       "      <th>Category</th>\n",
       "      <th>Subcategory</th>\n",
       "      <th>Note</th>\n",
       "      <th>Amount</th>\n",
       "      <th>Income/Expense</th>\n",
       "      <th>Currency</th>\n",
       "    </tr>\n",
       "  </thead>\n",
       "  <tbody>\n",
       "    <tr>\n",
       "      <th>0</th>\n",
       "      <td>20/09/2018 12:04:08</td>\n",
       "      <td>Cash</td>\n",
       "      <td>Transportation</td>\n",
       "      <td>Train</td>\n",
       "      <td>2 Place 5 to Place 0</td>\n",
       "      <td>30.0</td>\n",
       "      <td>Expense</td>\n",
       "      <td>INR</td>\n",
       "    </tr>\n",
       "    <tr>\n",
       "      <th>1</th>\n",
       "      <td>20/09/2018 12:03:15</td>\n",
       "      <td>Cash</td>\n",
       "      <td>Food</td>\n",
       "      <td>snacks</td>\n",
       "      <td>Idli medu Vada mix 2 plates</td>\n",
       "      <td>60.0</td>\n",
       "      <td>Expense</td>\n",
       "      <td>INR</td>\n",
       "    </tr>\n",
       "    <tr>\n",
       "      <th>2</th>\n",
       "      <td>19/09/2018</td>\n",
       "      <td>Saving Bank account 1</td>\n",
       "      <td>subscription</td>\n",
       "      <td>Netflix</td>\n",
       "      <td>1 month subscription</td>\n",
       "      <td>199.0</td>\n",
       "      <td>Expense</td>\n",
       "      <td>INR</td>\n",
       "    </tr>\n",
       "    <tr>\n",
       "      <th>3</th>\n",
       "      <td>17/09/2018 23:41:17</td>\n",
       "      <td>Saving Bank account 1</td>\n",
       "      <td>subscription</td>\n",
       "      <td>Mobile Service Provider</td>\n",
       "      <td>Data booster pack</td>\n",
       "      <td>19.0</td>\n",
       "      <td>Expense</td>\n",
       "      <td>INR</td>\n",
       "    </tr>\n",
       "    <tr>\n",
       "      <th>4</th>\n",
       "      <td>16/09/2018 17:15:08</td>\n",
       "      <td>Cash</td>\n",
       "      <td>Festivals</td>\n",
       "      <td>Ganesh Pujan</td>\n",
       "      <td>Ganesh idol</td>\n",
       "      <td>251.0</td>\n",
       "      <td>Expense</td>\n",
       "      <td>INR</td>\n",
       "    </tr>\n",
       "  </tbody>\n",
       "</table>\n",
       "</div>"
      ],
      "text/plain": [
       "                  Date                   Mode        Category  \\\n",
       "0  20/09/2018 12:04:08                   Cash  Transportation   \n",
       "1  20/09/2018 12:03:15                   Cash            Food   \n",
       "2           19/09/2018  Saving Bank account 1    subscription   \n",
       "3  17/09/2018 23:41:17  Saving Bank account 1    subscription   \n",
       "4  16/09/2018 17:15:08                   Cash       Festivals   \n",
       "\n",
       "               Subcategory                         Note  Amount  \\\n",
       "0                    Train         2 Place 5 to Place 0    30.0   \n",
       "1                   snacks  Idli medu Vada mix 2 plates    60.0   \n",
       "2                  Netflix         1 month subscription   199.0   \n",
       "3  Mobile Service Provider            Data booster pack    19.0   \n",
       "4             Ganesh Pujan                  Ganesh idol   251.0   \n",
       "\n",
       "  Income/Expense Currency  \n",
       "0        Expense      INR  \n",
       "1        Expense      INR  \n",
       "2        Expense      INR  \n",
       "3        Expense      INR  \n",
       "4        Expense      INR  "
      ]
     },
     "execution_count": 3,
     "metadata": {},
     "output_type": "execute_result"
    }
   ],
   "source": [
    "ts_data.head()"
   ]
  },
  {
   "cell_type": "code",
   "execution_count": 4,
   "metadata": {},
   "outputs": [
    {
     "data": {
      "text/html": [
       "<div>\n",
       "<style scoped>\n",
       "    .dataframe tbody tr th:only-of-type {\n",
       "        vertical-align: middle;\n",
       "    }\n",
       "\n",
       "    .dataframe tbody tr th {\n",
       "        vertical-align: top;\n",
       "    }\n",
       "\n",
       "    .dataframe thead th {\n",
       "        text-align: right;\n",
       "    }\n",
       "</style>\n",
       "<table border=\"1\" class=\"dataframe\">\n",
       "  <thead>\n",
       "    <tr style=\"text-align: right;\">\n",
       "      <th></th>\n",
       "      <th>Date</th>\n",
       "      <th>Mode</th>\n",
       "      <th>Category</th>\n",
       "      <th>Subcategory</th>\n",
       "      <th>Note</th>\n",
       "      <th>Amount</th>\n",
       "      <th>Income/Expense</th>\n",
       "      <th>Currency</th>\n",
       "    </tr>\n",
       "  </thead>\n",
       "  <tbody>\n",
       "    <tr>\n",
       "      <th>676</th>\n",
       "      <td>31/12/2017 13:25:39</td>\n",
       "      <td>Cash</td>\n",
       "      <td>Food</td>\n",
       "      <td>Bread</td>\n",
       "      <td>Flatbread 24 pcs</td>\n",
       "      <td>30.0</td>\n",
       "      <td>Expense</td>\n",
       "      <td>INR</td>\n",
       "    </tr>\n",
       "  </tbody>\n",
       "</table>\n",
       "</div>"
      ],
      "text/plain": [
       "                    Date  Mode Category Subcategory              Note  Amount  \\\n",
       "676  31/12/2017 13:25:39  Cash     Food       Bread  Flatbread 24 pcs    30.0   \n",
       "\n",
       "    Income/Expense Currency  \n",
       "676        Expense      INR  "
      ]
     },
     "execution_count": 4,
     "metadata": {},
     "output_type": "execute_result"
    }
   ],
   "source": [
    "ts_data.sample()"
   ]
  },
  {
   "cell_type": "code",
   "execution_count": 5,
   "metadata": {},
   "outputs": [
    {
     "name": "stdout",
     "output_type": "stream",
     "text": [
      "<class 'pandas.core.frame.DataFrame'>\n",
      "RangeIndex: 2461 entries, 0 to 2460\n",
      "Data columns (total 8 columns):\n",
      " #   Column          Non-Null Count  Dtype  \n",
      "---  ------          --------------  -----  \n",
      " 0   Date            2461 non-null   object \n",
      " 1   Mode            2461 non-null   object \n",
      " 2   Category        2461 non-null   object \n",
      " 3   Subcategory     1826 non-null   object \n",
      " 4   Note            1940 non-null   object \n",
      " 5   Amount          2461 non-null   float64\n",
      " 6   Income/Expense  2461 non-null   object \n",
      " 7   Currency        2461 non-null   object \n",
      "dtypes: float64(1), object(7)\n",
      "memory usage: 153.9+ KB\n"
     ]
    }
   ],
   "source": [
    "ts_data.info()\n",
    "\n"
   ]
  },
  {
   "cell_type": "code",
   "execution_count": 6,
   "metadata": {},
   "outputs": [],
   "source": [
    "ts_data.dropna( inplace = True )\n"
   ]
  },
  {
   "cell_type": "code",
   "execution_count": 7,
   "metadata": {},
   "outputs": [
    {
     "data": {
      "text/plain": [
       "'2018'"
      ]
     },
     "execution_count": 7,
     "metadata": {},
     "output_type": "execute_result"
    }
   ],
   "source": [
    "st = ts_data.iloc[0][0]\n",
    "st = st.split(' ')[0]\n",
    "st = st.split('/')[2]\n",
    "st"
   ]
  },
  {
   "cell_type": "code",
   "execution_count": 8,
   "metadata": {},
   "outputs": [
    {
     "data": {
      "text/plain": [
       "1563"
      ]
     },
     "execution_count": 8,
     "metadata": {},
     "output_type": "execute_result"
    }
   ],
   "source": [
    "len( ts_data['Date'])"
   ]
  },
  {
   "cell_type": "code",
   "execution_count": 9,
   "metadata": {},
   "outputs": [],
   "source": [
    "\n",
    "def extract_month ( data , col ) :\n",
    "    months = []\n",
    "    rows = len(data[col]) \n",
    "    for i in range(rows ) :\n",
    "\n",
    "        st = data.iloc[i][col]\n",
    "        month_= st.split(' ')[0]\n",
    "        month = month_.split('/')[1]\n",
    "        months.append( int(month) )\n",
    "    \n",
    "    return months \n",
    "\n",
    "Month = extract_month( ts_data , 'Date')\n",
    "\n",
    "ts_data.drop( 'Date' , axis=1 , inplace= True )"
   ]
  },
  {
   "cell_type": "code",
   "execution_count": 10,
   "metadata": {},
   "outputs": [],
   "source": [
    "ts_data['Months'] = Month"
   ]
  },
  {
   "cell_type": "code",
   "execution_count": 11,
   "metadata": {},
   "outputs": [
    {
     "data": {
      "text/plain": [
       "Months\n",
       "3     188\n",
       "5     173\n",
       "1     149\n",
       "7     148\n",
       "2     147\n",
       "8     132\n",
       "11    125\n",
       "4     114\n",
       "6     112\n",
       "12    112\n",
       "9      94\n",
       "10     69\n",
       "Name: count, dtype: int64"
      ]
     },
     "execution_count": 11,
     "metadata": {},
     "output_type": "execute_result"
    }
   ],
   "source": [
    "''' Cheking Imbalance '''\n",
    "ts_data['Months'].value_counts()"
   ]
  },
  {
   "cell_type": "code",
   "execution_count": null,
   "metadata": {},
   "outputs": [],
   "source": []
  },
  {
   "cell_type": "code",
   "execution_count": 12,
   "metadata": {},
   "outputs": [
    {
     "data": {
      "text/plain": [
       "'  Sort the months column and go further then ONLY '"
      ]
     },
     "execution_count": 12,
     "metadata": {},
     "output_type": "execute_result"
    }
   ],
   "source": [
    "'''  Sort the months column and go further then ONLY '''"
   ]
  },
  {
   "cell_type": "code",
   "execution_count": 13,
   "metadata": {},
   "outputs": [
    {
     "data": {
      "text/plain": [
       "array([[-0.17721915,  0.88544374],\n",
       "       [-0.16525486,  0.88544374],\n",
       "       [-0.10982036,  0.88544374],\n",
       "       ...,\n",
       "       [ 0.02059032, -1.16702235],\n",
       "       [-0.17123701, -1.16702235],\n",
       "       [-0.17562391, -1.16702235]])"
      ]
     },
     "execution_count": 13,
     "metadata": {},
     "output_type": "execute_result"
    }
   ],
   "source": [
    "''' USe feature scaling for better results , GIve 2D input lo\\ike OHE'''\n",
    "\n",
    "from sklearn.preprocessing import StandardScaler\n",
    "\n",
    "std = StandardScaler()\n",
    "std.fit_transform(  ts_data[['Amount' , 'Months']] )\n"
   ]
  },
  {
   "cell_type": "code",
   "execution_count": 14,
   "metadata": {},
   "outputs": [],
   "source": [
    "X = pd.DataFrame(ts_data['Months'])\n",
    "\n",
    "y = pd.DataFrame(ts_data[ 'Amount'])\n",
    "\n"
   ]
  },
  {
   "cell_type": "code",
   "execution_count": 15,
   "metadata": {},
   "outputs": [],
   "source": [
    "mu = np.mean(y)\n",
    "std_ = np.std(y)\n"
   ]
  },
  {
   "cell_type": "code",
   "execution_count": 16,
   "metadata": {},
   "outputs": [
    {
     "data": {
      "text/html": [
       "<style>#sk-container-id-1 {color: black;}#sk-container-id-1 pre{padding: 0;}#sk-container-id-1 div.sk-toggleable {background-color: white;}#sk-container-id-1 label.sk-toggleable__label {cursor: pointer;display: block;width: 100%;margin-bottom: 0;padding: 0.3em;box-sizing: border-box;text-align: center;}#sk-container-id-1 label.sk-toggleable__label-arrow:before {content: \"▸\";float: left;margin-right: 0.25em;color: #696969;}#sk-container-id-1 label.sk-toggleable__label-arrow:hover:before {color: black;}#sk-container-id-1 div.sk-estimator:hover label.sk-toggleable__label-arrow:before {color: black;}#sk-container-id-1 div.sk-toggleable__content {max-height: 0;max-width: 0;overflow: hidden;text-align: left;background-color: #f0f8ff;}#sk-container-id-1 div.sk-toggleable__content pre {margin: 0.2em;color: black;border-radius: 0.25em;background-color: #f0f8ff;}#sk-container-id-1 input.sk-toggleable__control:checked~div.sk-toggleable__content {max-height: 200px;max-width: 100%;overflow: auto;}#sk-container-id-1 input.sk-toggleable__control:checked~label.sk-toggleable__label-arrow:before {content: \"▾\";}#sk-container-id-1 div.sk-estimator input.sk-toggleable__control:checked~label.sk-toggleable__label {background-color: #d4ebff;}#sk-container-id-1 div.sk-label input.sk-toggleable__control:checked~label.sk-toggleable__label {background-color: #d4ebff;}#sk-container-id-1 input.sk-hidden--visually {border: 0;clip: rect(1px 1px 1px 1px);clip: rect(1px, 1px, 1px, 1px);height: 1px;margin: -1px;overflow: hidden;padding: 0;position: absolute;width: 1px;}#sk-container-id-1 div.sk-estimator {font-family: monospace;background-color: #f0f8ff;border: 1px dotted black;border-radius: 0.25em;box-sizing: border-box;margin-bottom: 0.5em;}#sk-container-id-1 div.sk-estimator:hover {background-color: #d4ebff;}#sk-container-id-1 div.sk-parallel-item::after {content: \"\";width: 100%;border-bottom: 1px solid gray;flex-grow: 1;}#sk-container-id-1 div.sk-label:hover label.sk-toggleable__label {background-color: #d4ebff;}#sk-container-id-1 div.sk-serial::before {content: \"\";position: absolute;border-left: 1px solid gray;box-sizing: border-box;top: 0;bottom: 0;left: 50%;z-index: 0;}#sk-container-id-1 div.sk-serial {display: flex;flex-direction: column;align-items: center;background-color: white;padding-right: 0.2em;padding-left: 0.2em;position: relative;}#sk-container-id-1 div.sk-item {position: relative;z-index: 1;}#sk-container-id-1 div.sk-parallel {display: flex;align-items: stretch;justify-content: center;background-color: white;position: relative;}#sk-container-id-1 div.sk-item::before, #sk-container-id-1 div.sk-parallel-item::before {content: \"\";position: absolute;border-left: 1px solid gray;box-sizing: border-box;top: 0;bottom: 0;left: 50%;z-index: -1;}#sk-container-id-1 div.sk-parallel-item {display: flex;flex-direction: column;z-index: 1;position: relative;background-color: white;}#sk-container-id-1 div.sk-parallel-item:first-child::after {align-self: flex-end;width: 50%;}#sk-container-id-1 div.sk-parallel-item:last-child::after {align-self: flex-start;width: 50%;}#sk-container-id-1 div.sk-parallel-item:only-child::after {width: 0;}#sk-container-id-1 div.sk-dashed-wrapped {border: 1px dashed gray;margin: 0 0.4em 0.5em 0.4em;box-sizing: border-box;padding-bottom: 0.4em;background-color: white;}#sk-container-id-1 div.sk-label label {font-family: monospace;font-weight: bold;display: inline-block;line-height: 1.2em;}#sk-container-id-1 div.sk-label-container {text-align: center;}#sk-container-id-1 div.sk-container {/* jupyter's `normalize.less` sets `[hidden] { display: none; }` but bootstrap.min.css set `[hidden] { display: none !important; }` so we also need the `!important` here to be able to override the default hidden behavior on the sphinx rendered scikit-learn.org. See: https://github.com/scikit-learn/scikit-learn/issues/21755 */display: inline-block !important;position: relative;}#sk-container-id-1 div.sk-text-repr-fallback {display: none;}</style><div id=\"sk-container-id-1\" class=\"sk-top-container\"><div class=\"sk-text-repr-fallback\"><pre>GaussianMixture(n_components=6)</pre><b>In a Jupyter environment, please rerun this cell to show the HTML representation or trust the notebook. <br />On GitHub, the HTML representation is unable to render, please try loading this page with nbviewer.org.</b></div><div class=\"sk-container\" hidden><div class=\"sk-item\"><div class=\"sk-estimator sk-toggleable\"><input class=\"sk-toggleable__control sk-hidden--visually\" id=\"sk-estimator-id-1\" type=\"checkbox\" checked><label for=\"sk-estimator-id-1\" class=\"sk-toggleable__label sk-toggleable__label-arrow\">GaussianMixture</label><div class=\"sk-toggleable__content\"><pre>GaussianMixture(n_components=6)</pre></div></div></div></div></div>"
      ],
      "text/plain": [
       "GaussianMixture(n_components=6)"
      ]
     },
     "execution_count": 16,
     "metadata": {},
     "output_type": "execute_result"
    }
   ],
   "source": [
    "from sklearn.mixture import GaussianMixture \n",
    "\n",
    "gmm = GaussianMixture(n_components= 6)\n",
    "gmm.fit(X, y)"
   ]
  },
  {
   "cell_type": "code",
   "execution_count": 17,
   "metadata": {},
   "outputs": [
    {
     "data": {
      "text/plain": [
       "' Sampling new datapoit to OVERSAMPLE MINORITY CONTINUOIS VALUE \\nSMOTE can only be sued for cat. data '"
      ]
     },
     "execution_count": 17,
     "metadata": {},
     "output_type": "execute_result"
    }
   ],
   "source": [
    "y1,x1 = gmm.sample( n_samples=10)\n",
    "''' Sampling new datapoit to OVERSAMPLE MINORITY CONTINUOIS VALUE \n",
    "SMOTE can only be sued for cat. data '''"
   ]
  },
  {
   "cell_type": "code",
   "execution_count": 28,
   "metadata": {},
   "outputs": [
    {
     "data": {
      "text/html": [
       "<div>\n",
       "<style scoped>\n",
       "    .dataframe tbody tr th:only-of-type {\n",
       "        vertical-align: middle;\n",
       "    }\n",
       "\n",
       "    .dataframe tbody tr th {\n",
       "        vertical-align: top;\n",
       "    }\n",
       "\n",
       "    .dataframe thead th {\n",
       "        text-align: right;\n",
       "    }\n",
       "</style>\n",
       "<table border=\"1\" class=\"dataframe\">\n",
       "  <thead>\n",
       "    <tr style=\"text-align: right;\">\n",
       "      <th></th>\n",
       "      <th>Amount</th>\n",
       "    </tr>\n",
       "  </thead>\n",
       "  <tbody>\n",
       "    <tr>\n",
       "      <th>0</th>\n",
       "      <td>30.0</td>\n",
       "    </tr>\n",
       "    <tr>\n",
       "      <th>1</th>\n",
       "      <td>60.0</td>\n",
       "    </tr>\n",
       "    <tr>\n",
       "      <th>2</th>\n",
       "      <td>199.0</td>\n",
       "    </tr>\n",
       "    <tr>\n",
       "      <th>3</th>\n",
       "      <td>19.0</td>\n",
       "    </tr>\n",
       "    <tr>\n",
       "      <th>4</th>\n",
       "      <td>251.0</td>\n",
       "    </tr>\n",
       "    <tr>\n",
       "      <th>...</th>\n",
       "      <td>...</td>\n",
       "    </tr>\n",
       "    <tr>\n",
       "      <th>2312</th>\n",
       "      <td>40.0</td>\n",
       "    </tr>\n",
       "    <tr>\n",
       "      <th>2313</th>\n",
       "      <td>20.0</td>\n",
       "    </tr>\n",
       "    <tr>\n",
       "      <th>2314</th>\n",
       "      <td>80.0</td>\n",
       "    </tr>\n",
       "    <tr>\n",
       "      <th>2315</th>\n",
       "      <td>88.0</td>\n",
       "    </tr>\n",
       "    <tr>\n",
       "      <th>2319</th>\n",
       "      <td>55.0</td>\n",
       "    </tr>\n",
       "  </tbody>\n",
       "</table>\n",
       "<p>1553 rows × 1 columns</p>\n",
       "</div>"
      ],
      "text/plain": [
       "      Amount\n",
       "0       30.0\n",
       "1       60.0\n",
       "2      199.0\n",
       "3       19.0\n",
       "4      251.0\n",
       "...      ...\n",
       "2312    40.0\n",
       "2313    20.0\n",
       "2314    80.0\n",
       "2315    88.0\n",
       "2319    55.0\n",
       "\n",
       "[1553 rows x 1 columns]"
      ]
     },
     "execution_count": 28,
     "metadata": {},
     "output_type": "execute_result"
    }
   ],
   "source": [
    "y_train"
   ]
  },
  {
   "cell_type": "code",
   "execution_count": 18,
   "metadata": {},
   "outputs": [],
   "source": [
    "from sklearn.model_selection import train_test_split\n",
    "\n",
    "X_train , X_test , y_train , y_test  = X[:1553], X[1553:] , y[:1553] , y[1553:]"
   ]
  },
  {
   "cell_type": "code",
   "execution_count": 19,
   "metadata": {},
   "outputs": [
    {
     "data": {
      "text/plain": [
       "(1,)"
      ]
     },
     "execution_count": 19,
     "metadata": {},
     "output_type": "execute_result"
    }
   ],
   "source": [
    "X_train.iloc[0].shape"
   ]
  },
  {
   "cell_type": "code",
   "execution_count": 20,
   "metadata": {},
   "outputs": [],
   "source": [
    "\n",
    "from tensorflow import keras \n",
    "from keras.layers import Dense  , LSTM \n",
    "# Model \n",
    "\n",
    "rnn = keras.models.Sequential([\n",
    "    LSTM( units =50 , activation =\"relu\" , input_shape = (1 , 1 ) , return_sequences=True) , \n",
    "    LSTM( units= 50 , activation='relu' ), \n",
    "    # LSTM( units= 50 , activation='relu' ), \n",
    "    Dense(1 )\n",
    "])\n",
    "\n",
    "rnn.compile( loss= 'mse' , optimizer='sgd' , metrics='mse')"
   ]
  },
  {
   "cell_type": "code",
   "execution_count": 21,
   "metadata": {},
   "outputs": [
    {
     "data": {
      "text/plain": [
       "Months    9\n",
       "Name: 0, dtype: int64"
      ]
     },
     "execution_count": 21,
     "metadata": {},
     "output_type": "execute_result"
    }
   ],
   "source": [
    "X.iloc[0]"
   ]
  },
  {
   "cell_type": "code",
   "execution_count": 22,
   "metadata": {},
   "outputs": [
    {
     "name": "stdout",
     "output_type": "stream",
     "text": [
      "Epoch 1/200\n",
      "49/49 [==============================] - 2s 2ms/step - loss: 6535104.0000 - mse: 6535104.0000\n",
      "Epoch 2/200\n",
      "49/49 [==============================] - 0s 2ms/step - loss: 6350016.5000 - mse: 6350016.5000\n",
      "Epoch 3/200\n",
      "49/49 [==============================] - 0s 2ms/step - loss: 6333680.0000 - mse: 6333680.0000\n",
      "Epoch 4/200\n",
      "49/49 [==============================] - 0s 2ms/step - loss: 6330101.0000 - mse: 6330101.0000\n",
      "Epoch 5/200\n",
      "49/49 [==============================] - 0s 3ms/step - loss: 6328134.0000 - mse: 6328134.0000\n",
      "Epoch 6/200\n",
      "49/49 [==============================] - 0s 2ms/step - loss: 6331191.0000 - mse: 6331191.0000\n",
      "Epoch 7/200\n",
      "49/49 [==============================] - 0s 2ms/step - loss: 6329448.0000 - mse: 6329448.0000\n",
      "Epoch 8/200\n",
      "49/49 [==============================] - 0s 2ms/step - loss: 6329918.5000 - mse: 6329918.5000\n",
      "Epoch 9/200\n",
      "49/49 [==============================] - 0s 2ms/step - loss: 6329900.0000 - mse: 6329900.0000\n",
      "Epoch 10/200\n",
      "49/49 [==============================] - 0s 2ms/step - loss: 6331169.0000 - mse: 6331169.0000\n",
      "Epoch 11/200\n",
      "49/49 [==============================] - 0s 2ms/step - loss: 6331102.5000 - mse: 6331102.5000\n",
      "Epoch 12/200\n",
      "49/49 [==============================] - 0s 2ms/step - loss: 6330320.0000 - mse: 6330320.0000\n",
      "Epoch 13/200\n",
      "49/49 [==============================] - 0s 2ms/step - loss: 6330850.0000 - mse: 6330850.0000\n",
      "Epoch 14/200\n",
      "49/49 [==============================] - 0s 2ms/step - loss: 6332247.0000 - mse: 6332247.0000\n",
      "Epoch 15/200\n",
      "49/49 [==============================] - 0s 2ms/step - loss: 6329411.5000 - mse: 6329411.5000\n",
      "Epoch 16/200\n",
      "49/49 [==============================] - 0s 2ms/step - loss: 6330527.5000 - mse: 6330527.5000\n",
      "Epoch 17/200\n",
      "49/49 [==============================] - 0s 2ms/step - loss: 6330438.0000 - mse: 6330438.0000\n",
      "Epoch 18/200\n",
      "49/49 [==============================] - 0s 2ms/step - loss: 6329757.0000 - mse: 6329757.0000\n",
      "Epoch 19/200\n",
      "49/49 [==============================] - 0s 3ms/step - loss: 6330102.5000 - mse: 6330102.5000\n",
      "Epoch 20/200\n",
      "49/49 [==============================] - 0s 2ms/step - loss: 6328926.0000 - mse: 6328926.0000\n",
      "Epoch 21/200\n",
      "49/49 [==============================] - 0s 2ms/step - loss: 6330102.5000 - mse: 6330102.5000\n",
      "Epoch 22/200\n",
      "49/49 [==============================] - 0s 2ms/step - loss: 6330272.5000 - mse: 6330272.5000\n",
      "Epoch 23/200\n",
      "49/49 [==============================] - 0s 2ms/step - loss: 6330409.5000 - mse: 6330409.5000\n",
      "Epoch 24/200\n",
      "49/49 [==============================] - 0s 2ms/step - loss: 6330010.0000 - mse: 6330010.0000\n",
      "Epoch 25/200\n",
      "49/49 [==============================] - 0s 2ms/step - loss: 6330248.0000 - mse: 6330248.0000\n",
      "Epoch 26/200\n",
      "49/49 [==============================] - 0s 2ms/step - loss: 6330736.5000 - mse: 6330736.5000\n",
      "Epoch 27/200\n",
      "49/49 [==============================] - 0s 2ms/step - loss: 6330012.0000 - mse: 6330012.0000\n",
      "Epoch 28/200\n",
      "49/49 [==============================] - 0s 2ms/step - loss: 6329894.0000 - mse: 6329894.0000\n",
      "Epoch 29/200\n",
      "49/49 [==============================] - 0s 2ms/step - loss: 6331416.5000 - mse: 6331416.5000\n",
      "Epoch 30/200\n",
      "49/49 [==============================] - 0s 2ms/step - loss: 6329840.0000 - mse: 6329840.0000\n",
      "Epoch 31/200\n",
      "49/49 [==============================] - 0s 3ms/step - loss: 6329228.0000 - mse: 6329228.0000\n",
      "Epoch 32/200\n",
      "49/49 [==============================] - 0s 2ms/step - loss: 6329102.5000 - mse: 6329102.5000\n",
      "Epoch 33/200\n",
      "49/49 [==============================] - 0s 2ms/step - loss: 6330029.0000 - mse: 6330029.0000\n",
      "Epoch 34/200\n",
      "49/49 [==============================] - 0s 2ms/step - loss: 6329549.5000 - mse: 6329549.5000\n",
      "Epoch 35/200\n",
      "49/49 [==============================] - 0s 2ms/step - loss: 6330161.0000 - mse: 6330161.0000\n",
      "Epoch 36/200\n",
      "49/49 [==============================] - 0s 2ms/step - loss: 6329579.5000 - mse: 6329579.5000\n",
      "Epoch 37/200\n",
      "49/49 [==============================] - 0s 2ms/step - loss: 6329532.0000 - mse: 6329532.0000\n",
      "Epoch 38/200\n",
      "49/49 [==============================] - 0s 2ms/step - loss: 6330008.0000 - mse: 6330008.0000\n",
      "Epoch 39/200\n",
      "49/49 [==============================] - 0s 2ms/step - loss: 6330009.5000 - mse: 6330009.5000\n",
      "Epoch 40/200\n",
      "49/49 [==============================] - 0s 2ms/step - loss: 6329265.0000 - mse: 6329265.0000\n",
      "Epoch 41/200\n",
      "49/49 [==============================] - 0s 2ms/step - loss: 6329681.5000 - mse: 6329681.5000\n",
      "Epoch 42/200\n",
      "49/49 [==============================] - 0s 2ms/step - loss: 6329226.5000 - mse: 6329226.5000\n",
      "Epoch 43/200\n",
      "49/49 [==============================] - 0s 2ms/step - loss: 6329817.5000 - mse: 6329817.5000\n",
      "Epoch 44/200\n",
      "49/49 [==============================] - 0s 3ms/step - loss: 6331305.5000 - mse: 6331305.5000\n",
      "Epoch 45/200\n",
      "49/49 [==============================] - 0s 3ms/step - loss: 6331706.5000 - mse: 6331706.5000\n",
      "Epoch 46/200\n",
      "49/49 [==============================] - 0s 2ms/step - loss: 6330844.0000 - mse: 6330844.0000\n",
      "Epoch 47/200\n",
      "49/49 [==============================] - 0s 2ms/step - loss: 6329867.0000 - mse: 6329867.0000\n",
      "Epoch 48/200\n",
      "49/49 [==============================] - 0s 2ms/step - loss: 6330459.0000 - mse: 6330459.0000\n",
      "Epoch 49/200\n",
      "49/49 [==============================] - 0s 2ms/step - loss: 6330013.5000 - mse: 6330013.5000\n",
      "Epoch 50/200\n",
      "49/49 [==============================] - 0s 2ms/step - loss: 6329932.0000 - mse: 6329932.0000\n",
      "Epoch 51/200\n",
      "49/49 [==============================] - 0s 2ms/step - loss: 6328916.5000 - mse: 6328916.5000\n",
      "Epoch 52/200\n",
      "49/49 [==============================] - 0s 2ms/step - loss: 6330379.0000 - mse: 6330379.0000\n",
      "Epoch 53/200\n",
      "49/49 [==============================] - 0s 2ms/step - loss: 6330054.0000 - mse: 6330054.0000\n",
      "Epoch 54/200\n",
      "49/49 [==============================] - 0s 2ms/step - loss: 6330356.0000 - mse: 6330356.0000\n",
      "Epoch 55/200\n",
      "49/49 [==============================] - 0s 3ms/step - loss: 6330457.0000 - mse: 6330457.0000\n",
      "Epoch 56/200\n",
      "49/49 [==============================] - 0s 2ms/step - loss: 6329781.0000 - mse: 6329781.0000\n",
      "Epoch 57/200\n",
      "49/49 [==============================] - 0s 3ms/step - loss: 6330440.0000 - mse: 6330440.0000\n",
      "Epoch 58/200\n",
      "49/49 [==============================] - 0s 2ms/step - loss: 6329815.5000 - mse: 6329815.5000\n",
      "Epoch 59/200\n",
      "49/49 [==============================] - 0s 2ms/step - loss: 6331237.5000 - mse: 6331237.5000\n",
      "Epoch 60/200\n",
      "49/49 [==============================] - 0s 2ms/step - loss: 6330160.5000 - mse: 6330160.5000\n",
      "Epoch 61/200\n",
      "49/49 [==============================] - 0s 2ms/step - loss: 6329733.0000 - mse: 6329733.0000\n",
      "Epoch 62/200\n",
      "49/49 [==============================] - 0s 2ms/step - loss: 6331587.0000 - mse: 6331587.0000\n",
      "Epoch 63/200\n",
      "49/49 [==============================] - 0s 2ms/step - loss: 6330421.5000 - mse: 6330421.5000\n",
      "Epoch 64/200\n",
      "49/49 [==============================] - 0s 2ms/step - loss: 6330644.5000 - mse: 6330644.5000\n",
      "Epoch 65/200\n",
      "49/49 [==============================] - 0s 2ms/step - loss: 6330358.0000 - mse: 6330358.0000\n",
      "Epoch 66/200\n",
      "49/49 [==============================] - 0s 2ms/step - loss: 6330585.0000 - mse: 6330585.0000\n",
      "Epoch 67/200\n",
      "49/49 [==============================] - 0s 2ms/step - loss: 6330047.0000 - mse: 6330047.0000\n",
      "Epoch 68/200\n",
      "49/49 [==============================] - 0s 2ms/step - loss: 6330505.0000 - mse: 6330505.0000\n",
      "Epoch 69/200\n",
      "49/49 [==============================] - 0s 2ms/step - loss: 6329741.0000 - mse: 6329741.0000\n",
      "Epoch 70/200\n",
      "49/49 [==============================] - 0s 2ms/step - loss: 6330206.0000 - mse: 6330206.0000\n",
      "Epoch 71/200\n",
      "49/49 [==============================] - 0s 3ms/step - loss: 6331604.5000 - mse: 6331604.5000\n",
      "Epoch 72/200\n",
      "49/49 [==============================] - 0s 2ms/step - loss: 6330252.5000 - mse: 6330252.5000\n",
      "Epoch 73/200\n",
      "49/49 [==============================] - 0s 2ms/step - loss: 6330707.0000 - mse: 6330707.0000\n",
      "Epoch 74/200\n",
      "49/49 [==============================] - 0s 2ms/step - loss: 6329193.5000 - mse: 6329193.5000\n",
      "Epoch 75/200\n",
      "49/49 [==============================] - 0s 2ms/step - loss: 6329547.5000 - mse: 6329547.5000\n",
      "Epoch 76/200\n",
      "49/49 [==============================] - 0s 2ms/step - loss: 6331591.0000 - mse: 6331591.0000\n",
      "Epoch 77/200\n",
      "49/49 [==============================] - 0s 2ms/step - loss: 6330101.0000 - mse: 6330101.0000\n",
      "Epoch 78/200\n",
      "49/49 [==============================] - 0s 2ms/step - loss: 6329617.5000 - mse: 6329617.5000\n",
      "Epoch 79/200\n",
      "49/49 [==============================] - 0s 2ms/step - loss: 6330782.0000 - mse: 6330782.0000\n",
      "Epoch 80/200\n",
      "49/49 [==============================] - 0s 2ms/step - loss: 6330224.5000 - mse: 6330224.5000\n",
      "Epoch 81/200\n",
      "49/49 [==============================] - 0s 2ms/step - loss: 6330500.5000 - mse: 6330500.5000\n",
      "Epoch 82/200\n",
      "49/49 [==============================] - 0s 2ms/step - loss: 6329910.5000 - mse: 6329910.5000\n",
      "Epoch 83/200\n",
      "49/49 [==============================] - 0s 3ms/step - loss: 6330299.5000 - mse: 6330299.5000\n",
      "Epoch 84/200\n",
      "49/49 [==============================] - 0s 2ms/step - loss: 6331075.0000 - mse: 6331075.0000\n",
      "Epoch 85/200\n",
      "49/49 [==============================] - 0s 2ms/step - loss: 6329997.5000 - mse: 6329997.5000\n",
      "Epoch 86/200\n",
      "49/49 [==============================] - 0s 2ms/step - loss: 6332648.0000 - mse: 6332648.0000\n",
      "Epoch 87/200\n",
      "49/49 [==============================] - 0s 2ms/step - loss: 6330307.5000 - mse: 6330307.5000\n",
      "Epoch 88/200\n",
      "49/49 [==============================] - 0s 2ms/step - loss: 6330863.0000 - mse: 6330863.0000\n",
      "Epoch 89/200\n",
      "49/49 [==============================] - 0s 2ms/step - loss: 6330134.5000 - mse: 6330134.5000\n",
      "Epoch 90/200\n",
      "49/49 [==============================] - 0s 2ms/step - loss: 6329912.5000 - mse: 6329912.5000\n",
      "Epoch 91/200\n",
      "49/49 [==============================] - 0s 2ms/step - loss: 6329397.5000 - mse: 6329397.5000\n",
      "Epoch 92/200\n",
      "49/49 [==============================] - 0s 2ms/step - loss: 6328738.0000 - mse: 6328738.0000\n",
      "Epoch 93/200\n",
      "49/49 [==============================] - 0s 2ms/step - loss: 6330396.5000 - mse: 6330396.5000\n",
      "Epoch 94/200\n",
      "49/49 [==============================] - 0s 2ms/step - loss: 6330712.0000 - mse: 6330712.0000\n",
      "Epoch 95/200\n",
      "49/49 [==============================] - 0s 2ms/step - loss: 6329116.0000 - mse: 6329116.0000\n",
      "Epoch 96/200\n",
      "49/49 [==============================] - 0s 2ms/step - loss: 6328541.5000 - mse: 6328541.5000\n",
      "Epoch 97/200\n",
      "49/49 [==============================] - 0s 2ms/step - loss: 6330365.5000 - mse: 6330365.5000\n",
      "Epoch 98/200\n",
      "49/49 [==============================] - 0s 2ms/step - loss: 6331578.0000 - mse: 6331578.0000\n",
      "Epoch 99/200\n",
      "49/49 [==============================] - 0s 2ms/step - loss: 6330287.5000 - mse: 6330287.5000\n",
      "Epoch 100/200\n",
      "49/49 [==============================] - 0s 2ms/step - loss: 6329779.0000 - mse: 6329779.0000\n",
      "Epoch 101/200\n",
      "49/49 [==============================] - 0s 2ms/step - loss: 6330451.0000 - mse: 6330451.0000\n",
      "Epoch 102/200\n",
      "49/49 [==============================] - 0s 2ms/step - loss: 6330948.0000 - mse: 6330948.0000\n",
      "Epoch 103/200\n",
      "49/49 [==============================] - 0s 2ms/step - loss: 6328409.5000 - mse: 6328409.5000\n",
      "Epoch 104/200\n",
      "49/49 [==============================] - 0s 2ms/step - loss: 6329874.0000 - mse: 6329874.0000\n",
      "Epoch 105/200\n",
      "49/49 [==============================] - 0s 2ms/step - loss: 6330175.0000 - mse: 6330175.0000\n",
      "Epoch 106/200\n",
      "49/49 [==============================] - 0s 2ms/step - loss: 6329326.0000 - mse: 6329326.0000\n",
      "Epoch 107/200\n",
      "49/49 [==============================] - 0s 2ms/step - loss: 6329969.5000 - mse: 6329969.5000\n",
      "Epoch 108/200\n",
      "49/49 [==============================] - 0s 2ms/step - loss: 6330879.0000 - mse: 6330879.0000\n",
      "Epoch 109/200\n",
      "49/49 [==============================] - 0s 2ms/step - loss: 6329573.0000 - mse: 6329573.0000\n",
      "Epoch 110/200\n",
      "49/49 [==============================] - 0s 2ms/step - loss: 6330471.0000 - mse: 6330471.0000\n",
      "Epoch 111/200\n",
      "49/49 [==============================] - 0s 2ms/step - loss: 6328594.5000 - mse: 6328594.5000\n",
      "Epoch 112/200\n",
      "49/49 [==============================] - 0s 2ms/step - loss: 6330444.0000 - mse: 6330444.0000\n",
      "Epoch 113/200\n",
      "49/49 [==============================] - 0s 2ms/step - loss: 6330974.0000 - mse: 6330974.0000\n",
      "Epoch 114/200\n",
      "49/49 [==============================] - 0s 2ms/step - loss: 6331014.0000 - mse: 6331014.0000\n",
      "Epoch 115/200\n",
      "49/49 [==============================] - 0s 2ms/step - loss: 6331042.5000 - mse: 6331042.5000\n",
      "Epoch 116/200\n",
      "49/49 [==============================] - 0s 2ms/step - loss: 6330483.5000 - mse: 6330483.5000\n",
      "Epoch 117/200\n",
      "49/49 [==============================] - 0s 2ms/step - loss: 6330549.5000 - mse: 6330549.5000\n",
      "Epoch 118/200\n",
      "49/49 [==============================] - 0s 2ms/step - loss: 6330931.0000 - mse: 6330931.0000\n",
      "Epoch 119/200\n",
      "49/49 [==============================] - 0s 2ms/step - loss: 6330470.0000 - mse: 6330470.0000\n",
      "Epoch 120/200\n",
      "49/49 [==============================] - 0s 2ms/step - loss: 6329796.5000 - mse: 6329796.5000\n",
      "Epoch 121/200\n",
      "49/49 [==============================] - 0s 2ms/step - loss: 6329919.0000 - mse: 6329919.0000\n",
      "Epoch 122/200\n",
      "49/49 [==============================] - 0s 2ms/step - loss: 6329838.0000 - mse: 6329838.0000\n",
      "Epoch 123/200\n",
      "49/49 [==============================] - 0s 2ms/step - loss: 6329657.0000 - mse: 6329657.0000\n",
      "Epoch 124/200\n",
      "49/49 [==============================] - 0s 2ms/step - loss: 6330351.0000 - mse: 6330351.0000\n",
      "Epoch 125/200\n",
      "49/49 [==============================] - 0s 2ms/step - loss: 6325897.5000 - mse: 6325897.5000\n",
      "Epoch 126/200\n",
      "49/49 [==============================] - 0s 2ms/step - loss: 6330657.0000 - mse: 6330657.0000\n",
      "Epoch 127/200\n",
      "49/49 [==============================] - 0s 2ms/step - loss: 6330502.0000 - mse: 6330502.0000\n",
      "Epoch 128/200\n",
      "49/49 [==============================] - 0s 2ms/step - loss: 6331346.0000 - mse: 6331346.0000\n",
      "Epoch 129/200\n",
      "49/49 [==============================] - 0s 2ms/step - loss: 6330080.0000 - mse: 6330080.0000\n",
      "Epoch 130/200\n",
      "49/49 [==============================] - 0s 2ms/step - loss: 6329891.5000 - mse: 6329891.5000\n",
      "Epoch 131/200\n",
      "49/49 [==============================] - 0s 2ms/step - loss: 6330411.0000 - mse: 6330411.0000\n",
      "Epoch 132/200\n",
      "49/49 [==============================] - 0s 2ms/step - loss: 6330371.5000 - mse: 6330371.5000\n",
      "Epoch 133/200\n",
      "49/49 [==============================] - 0s 2ms/step - loss: 6329017.0000 - mse: 6329017.0000\n",
      "Epoch 134/200\n",
      "49/49 [==============================] - 0s 2ms/step - loss: 6330171.5000 - mse: 6330171.5000\n",
      "Epoch 135/200\n",
      "49/49 [==============================] - 0s 2ms/step - loss: 6330360.5000 - mse: 6330360.5000\n",
      "Epoch 136/200\n",
      "49/49 [==============================] - 0s 2ms/step - loss: 6330478.0000 - mse: 6330478.0000\n",
      "Epoch 137/200\n",
      "49/49 [==============================] - 0s 3ms/step - loss: 6330174.0000 - mse: 6330174.0000\n",
      "Epoch 138/200\n",
      "49/49 [==============================] - 0s 2ms/step - loss: 6330735.5000 - mse: 6330735.5000\n",
      "Epoch 139/200\n",
      "49/49 [==============================] - 0s 2ms/step - loss: 6330153.5000 - mse: 6330153.5000\n",
      "Epoch 140/200\n",
      "49/49 [==============================] - 0s 2ms/step - loss: 6330406.0000 - mse: 6330406.0000\n",
      "Epoch 141/200\n",
      "49/49 [==============================] - 0s 2ms/step - loss: 6330043.5000 - mse: 6330043.5000\n",
      "Epoch 142/200\n",
      "49/49 [==============================] - 0s 2ms/step - loss: 6329956.5000 - mse: 6329956.5000\n",
      "Epoch 143/200\n",
      "49/49 [==============================] - 0s 2ms/step - loss: 6331341.0000 - mse: 6331341.0000\n",
      "Epoch 144/200\n",
      "49/49 [==============================] - 0s 2ms/step - loss: 6332840.0000 - mse: 6332840.0000\n",
      "Epoch 145/200\n",
      "49/49 [==============================] - 0s 2ms/step - loss: 6332136.5000 - mse: 6332136.5000\n",
      "Epoch 146/200\n",
      "49/49 [==============================] - 0s 2ms/step - loss: 6330138.0000 - mse: 6330138.0000\n",
      "Epoch 147/200\n",
      "49/49 [==============================] - 0s 2ms/step - loss: 6329143.5000 - mse: 6329143.5000\n",
      "Epoch 148/200\n",
      "49/49 [==============================] - 0s 2ms/step - loss: 6329898.5000 - mse: 6329898.5000\n",
      "Epoch 149/200\n",
      "49/49 [==============================] - 0s 2ms/step - loss: 6329471.5000 - mse: 6329471.5000\n",
      "Epoch 150/200\n",
      "49/49 [==============================] - 0s 3ms/step - loss: 6330194.5000 - mse: 6330194.5000\n",
      "Epoch 151/200\n",
      "49/49 [==============================] - 0s 2ms/step - loss: 6330048.0000 - mse: 6330048.0000\n",
      "Epoch 152/200\n",
      "49/49 [==============================] - 0s 2ms/step - loss: 6330507.0000 - mse: 6330507.0000\n",
      "Epoch 153/200\n",
      "49/49 [==============================] - 0s 2ms/step - loss: 6329706.0000 - mse: 6329706.0000\n",
      "Epoch 154/200\n",
      "49/49 [==============================] - 0s 2ms/step - loss: 6329845.0000 - mse: 6329845.0000\n",
      "Epoch 155/200\n",
      "49/49 [==============================] - 0s 2ms/step - loss: 6329755.0000 - mse: 6329755.0000\n",
      "Epoch 156/200\n",
      "49/49 [==============================] - 0s 2ms/step - loss: 6330203.0000 - mse: 6330203.0000\n",
      "Epoch 157/200\n",
      "49/49 [==============================] - 0s 2ms/step - loss: 6330662.0000 - mse: 6330662.0000\n",
      "Epoch 158/200\n",
      "49/49 [==============================] - 0s 2ms/step - loss: 6329747.0000 - mse: 6329747.0000\n",
      "Epoch 159/200\n",
      "49/49 [==============================] - 0s 2ms/step - loss: 6328341.0000 - mse: 6328341.0000\n",
      "Epoch 160/200\n",
      "49/49 [==============================] - 0s 2ms/step - loss: 6330578.5000 - mse: 6330578.5000\n",
      "Epoch 161/200\n",
      "49/49 [==============================] - 0s 2ms/step - loss: 6330388.0000 - mse: 6330388.0000\n",
      "Epoch 162/200\n",
      "49/49 [==============================] - 0s 2ms/step - loss: 6327610.5000 - mse: 6327610.5000\n",
      "Epoch 163/200\n",
      "49/49 [==============================] - 0s 2ms/step - loss: 6330519.0000 - mse: 6330519.0000\n",
      "Epoch 164/200\n",
      "49/49 [==============================] - 0s 2ms/step - loss: 6329257.0000 - mse: 6329257.0000\n",
      "Epoch 165/200\n",
      "49/49 [==============================] - 0s 2ms/step - loss: 6330124.5000 - mse: 6330124.5000\n",
      "Epoch 166/200\n",
      "49/49 [==============================] - 0s 2ms/step - loss: 6329791.0000 - mse: 6329791.0000\n",
      "Epoch 167/200\n",
      "49/49 [==============================] - 0s 2ms/step - loss: 6330167.0000 - mse: 6330167.0000\n",
      "Epoch 168/200\n",
      "49/49 [==============================] - 0s 2ms/step - loss: 6329929.5000 - mse: 6329929.5000\n",
      "Epoch 169/200\n",
      "49/49 [==============================] - 0s 2ms/step - loss: 6329688.0000 - mse: 6329688.0000\n",
      "Epoch 170/200\n",
      "49/49 [==============================] - 0s 2ms/step - loss: 6330213.0000 - mse: 6330213.0000\n",
      "Epoch 171/200\n",
      "49/49 [==============================] - 0s 2ms/step - loss: 6331487.0000 - mse: 6331487.0000\n",
      "Epoch 172/200\n",
      "49/49 [==============================] - 0s 2ms/step - loss: 6330335.5000 - mse: 6330335.5000\n",
      "Epoch 173/200\n",
      "49/49 [==============================] - 0s 2ms/step - loss: 6328874.5000 - mse: 6328874.5000\n",
      "Epoch 174/200\n",
      "49/49 [==============================] - 0s 2ms/step - loss: 6330767.0000 - mse: 6330767.0000\n",
      "Epoch 175/200\n",
      "49/49 [==============================] - 0s 3ms/step - loss: 6330091.5000 - mse: 6330091.5000\n",
      "Epoch 176/200\n",
      "49/49 [==============================] - 0s 2ms/step - loss: 6330593.0000 - mse: 6330593.0000\n",
      "Epoch 177/200\n",
      "49/49 [==============================] - 0s 2ms/step - loss: 6329402.0000 - mse: 6329402.0000\n",
      "Epoch 178/200\n",
      "49/49 [==============================] - 0s 2ms/step - loss: 6328954.5000 - mse: 6328954.5000\n",
      "Epoch 179/200\n",
      "49/49 [==============================] - 0s 2ms/step - loss: 6330637.0000 - mse: 6330637.0000\n",
      "Epoch 180/200\n",
      "49/49 [==============================] - 0s 2ms/step - loss: 6330657.0000 - mse: 6330657.0000\n",
      "Epoch 181/200\n",
      "49/49 [==============================] - 0s 2ms/step - loss: 6331777.5000 - mse: 6331777.5000\n",
      "Epoch 182/200\n",
      "49/49 [==============================] - 0s 2ms/step - loss: 6329895.0000 - mse: 6329895.0000\n",
      "Epoch 183/200\n",
      "49/49 [==============================] - 0s 2ms/step - loss: 6330653.0000 - mse: 6330653.0000\n",
      "Epoch 184/200\n",
      "49/49 [==============================] - 0s 2ms/step - loss: 6330814.5000 - mse: 6330814.5000\n",
      "Epoch 185/200\n",
      "49/49 [==============================] - 0s 2ms/step - loss: 6330107.0000 - mse: 6330107.0000\n",
      "Epoch 186/200\n",
      "49/49 [==============================] - 0s 2ms/step - loss: 6331123.0000 - mse: 6331123.0000\n",
      "Epoch 187/200\n",
      "49/49 [==============================] - 0s 2ms/step - loss: 6330765.0000 - mse: 6330765.0000\n",
      "Epoch 188/200\n",
      "49/49 [==============================] - 0s 3ms/step - loss: 6333219.0000 - mse: 6333219.0000\n",
      "Epoch 189/200\n",
      "49/49 [==============================] - 0s 2ms/step - loss: 6330543.5000 - mse: 6330543.5000\n",
      "Epoch 190/200\n",
      "49/49 [==============================] - 0s 2ms/step - loss: 6329515.5000 - mse: 6329515.5000\n",
      "Epoch 191/200\n",
      "49/49 [==============================] - 0s 2ms/step - loss: 6330663.5000 - mse: 6330663.5000\n",
      "Epoch 192/200\n",
      "49/49 [==============================] - 0s 2ms/step - loss: 6329578.0000 - mse: 6329578.0000\n",
      "Epoch 193/200\n",
      "49/49 [==============================] - 0s 2ms/step - loss: 6329749.5000 - mse: 6329749.5000\n",
      "Epoch 194/200\n",
      "49/49 [==============================] - 0s 2ms/step - loss: 6330771.5000 - mse: 6330771.5000\n",
      "Epoch 195/200\n",
      "49/49 [==============================] - 0s 2ms/step - loss: 6330422.0000 - mse: 6330422.0000\n",
      "Epoch 196/200\n",
      "49/49 [==============================] - 0s 2ms/step - loss: 6330720.0000 - mse: 6330720.0000\n",
      "Epoch 197/200\n",
      "49/49 [==============================] - 0s 2ms/step - loss: 6330053.0000 - mse: 6330053.0000\n",
      "Epoch 198/200\n",
      "49/49 [==============================] - 0s 3ms/step - loss: 6330107.0000 - mse: 6330107.0000\n",
      "Epoch 199/200\n",
      "49/49 [==============================] - 0s 2ms/step - loss: 6330707.5000 - mse: 6330707.5000\n",
      "Epoch 200/200\n",
      "49/49 [==============================] - 0s 2ms/step - loss: 6330649.0000 - mse: 6330649.0000\n"
     ]
    },
    {
     "data": {
      "text/plain": [
       "<keras.src.callbacks.History at 0x2a6d620d100>"
      ]
     },
     "execution_count": 22,
     "metadata": {},
     "output_type": "execute_result"
    }
   ],
   "source": [
    "rnn.fit( X_train , y_train  ,  epochs =200)"
   ]
  },
  {
   "cell_type": "code",
   "execution_count": 23,
   "metadata": {},
   "outputs": [
    {
     "name": "stdout",
     "output_type": "stream",
     "text": [
      "1/1 [==============================] - 0s 374ms/step\n"
     ]
    },
    {
     "data": {
      "text/plain": [
       "-6.76413404579906"
      ]
     },
     "execution_count": 23,
     "metadata": {},
     "output_type": "execute_result"
    }
   ],
   "source": [
    "y_pred = rnn.predict( X_test )\n",
    "from sklearn.metrics import r2_score\n",
    "\n",
    "score = r2_score( y_test , y_pred) \n",
    "score"
   ]
  },
  {
   "cell_type": "code",
   "execution_count": 24,
   "metadata": {},
   "outputs": [
    {
     "data": {
      "text/plain": [
       "' Print in actual val , NOT scientific notation'"
      ]
     },
     "execution_count": 24,
     "metadata": {},
     "output_type": "execute_result"
    }
   ],
   "source": [
    "np.set_printoptions(suppress=True, formatter={'float_kind':'{:0.2f}'.format})\n",
    "''' Print in actual val , NOT scientific notation'''"
   ]
  },
  {
   "cell_type": "code",
   "execution_count": 25,
   "metadata": {},
   "outputs": [
    {
     "name": "stdout",
     "output_type": "stream",
     "text": [
      "1/1 [==============================] - 0s 30ms/step\n"
     ]
    }
   ],
   "source": [
    "y_1 = rnn.predict(X_train[:1])\n",
    "val = y_1[0][0]\n",
    "val=  val*std_ + mu \n",
    "\n"
   ]
  },
  {
   "cell_type": "code",
   "execution_count": 26,
   "metadata": {},
   "outputs": [
    {
     "name": "stdout",
     "output_type": "stream",
     "text": [
      "Predicted Transcation - Amount    1.212145e+06\n",
      "dtype: float64 INR\n"
     ]
    }
   ],
   "source": [
    "print(f\"Predicted Transcation - {val} INR\")"
   ]
  },
  {
   "cell_type": "code",
   "execution_count": null,
   "metadata": {},
   "outputs": [],
   "source": []
  }
 ],
 "metadata": {
  "kernelspec": {
   "display_name": "Python 3",
   "language": "python",
   "name": "python3"
  },
  "language_info": {
   "codemirror_mode": {
    "name": "ipython",
    "version": 3
   },
   "file_extension": ".py",
   "mimetype": "text/x-python",
   "name": "python",
   "nbconvert_exporter": "python",
   "pygments_lexer": "ipython3",
   "version": "3.8.2"
  }
 },
 "nbformat": 4,
 "nbformat_minor": 2
}
