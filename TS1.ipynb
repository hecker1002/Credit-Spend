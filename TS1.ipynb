{
 "cells": [
  {
   "cell_type": "code",
   "execution_count": 14,
   "metadata": {},
   "outputs": [],
   "source": [
    "import numpy as np \n",
    "import pandas as pd \n",
    "import matplotlib.pyplot as plt \n",
    "import seaborn as sns \n",
    "from mpl_toolkits import mplot3d\n",
    "import pickle # convert model into bytestream\n",
    "\n",
    "pd.options.mode.chained_assignment = None "
   ]
  },
  {
   "cell_type": "code",
   "execution_count": 15,
   "metadata": {},
   "outputs": [
    {
     "data": {
      "text/plain": [
       "' Try to make more features along with Months -X , labels = Amount like Crd and Gender '"
      ]
     },
     "execution_count": 15,
     "metadata": {},
     "output_type": "execute_result"
    }
   ],
   "source": [
    "ts_data = pd.read_csv(\"df2.csv\")\n",
    "\n",
    "\n",
    "\n",
    "''' Try to make more features along with Months -X , labels = Amount like Crd and Gender '''"
   ]
  },
  {
   "cell_type": "code",
   "execution_count": 16,
   "metadata": {},
   "outputs": [
    {
     "data": {
      "text/html": [
       "<div>\n",
       "<style scoped>\n",
       "    .dataframe tbody tr th:only-of-type {\n",
       "        vertical-align: middle;\n",
       "    }\n",
       "\n",
       "    .dataframe tbody tr th {\n",
       "        vertical-align: top;\n",
       "    }\n",
       "\n",
       "    .dataframe thead th {\n",
       "        text-align: right;\n",
       "    }\n",
       "</style>\n",
       "<table border=\"1\" class=\"dataframe\">\n",
       "  <thead>\n",
       "    <tr style=\"text-align: right;\">\n",
       "      <th></th>\n",
       "      <th>Unnamed: 0</th>\n",
       "      <th>('Gold',)</th>\n",
       "      <th>('Platinum',)</th>\n",
       "      <th>('Signature',)</th>\n",
       "      <th>('Silver',)</th>\n",
       "      <th>Amount</th>\n",
       "      <th>Year</th>\n",
       "      <th>Months</th>\n",
       "    </tr>\n",
       "  </thead>\n",
       "  <tbody>\n",
       "    <tr>\n",
       "      <th>0</th>\n",
       "      <td>0</td>\n",
       "      <td>1.0</td>\n",
       "      <td>0.0</td>\n",
       "      <td>0.0</td>\n",
       "      <td>0.0</td>\n",
       "      <td>82475.0</td>\n",
       "      <td>2014.0</td>\n",
       "      <td>10.0</td>\n",
       "    </tr>\n",
       "    <tr>\n",
       "      <th>1</th>\n",
       "      <td>1</td>\n",
       "      <td>0.0</td>\n",
       "      <td>1.0</td>\n",
       "      <td>0.0</td>\n",
       "      <td>0.0</td>\n",
       "      <td>32555.0</td>\n",
       "      <td>2014.0</td>\n",
       "      <td>1.0</td>\n",
       "    </tr>\n",
       "    <tr>\n",
       "      <th>2</th>\n",
       "      <td>2</td>\n",
       "      <td>0.0</td>\n",
       "      <td>0.0</td>\n",
       "      <td>0.0</td>\n",
       "      <td>1.0</td>\n",
       "      <td>101738.0</td>\n",
       "      <td>2014.0</td>\n",
       "      <td>1.0</td>\n",
       "    </tr>\n",
       "    <tr>\n",
       "      <th>3</th>\n",
       "      <td>3</td>\n",
       "      <td>0.0</td>\n",
       "      <td>0.0</td>\n",
       "      <td>1.0</td>\n",
       "      <td>0.0</td>\n",
       "      <td>123424.0</td>\n",
       "      <td>2014.0</td>\n",
       "      <td>0.0</td>\n",
       "    </tr>\n",
       "    <tr>\n",
       "      <th>4</th>\n",
       "      <td>4</td>\n",
       "      <td>1.0</td>\n",
       "      <td>0.0</td>\n",
       "      <td>0.0</td>\n",
       "      <td>0.0</td>\n",
       "      <td>171574.0</td>\n",
       "      <td>2015.0</td>\n",
       "      <td>8.0</td>\n",
       "    </tr>\n",
       "    <tr>\n",
       "      <th>...</th>\n",
       "      <td>...</td>\n",
       "      <td>...</td>\n",
       "      <td>...</td>\n",
       "      <td>...</td>\n",
       "      <td>...</td>\n",
       "      <td>...</td>\n",
       "      <td>...</td>\n",
       "      <td>...</td>\n",
       "    </tr>\n",
       "    <tr>\n",
       "      <th>26047</th>\n",
       "      <td>26047</td>\n",
       "      <td>0.0</td>\n",
       "      <td>0.0</td>\n",
       "      <td>0.0</td>\n",
       "      <td>1.0</td>\n",
       "      <td>128191.0</td>\n",
       "      <td>2014.0</td>\n",
       "      <td>6.0</td>\n",
       "    </tr>\n",
       "    <tr>\n",
       "      <th>26048</th>\n",
       "      <td>26048</td>\n",
       "      <td>0.0</td>\n",
       "      <td>0.0</td>\n",
       "      <td>1.0</td>\n",
       "      <td>0.0</td>\n",
       "      <td>246316.0</td>\n",
       "      <td>2014.0</td>\n",
       "      <td>1.0</td>\n",
       "    </tr>\n",
       "    <tr>\n",
       "      <th>26049</th>\n",
       "      <td>26049</td>\n",
       "      <td>0.0</td>\n",
       "      <td>0.0</td>\n",
       "      <td>0.0</td>\n",
       "      <td>1.0</td>\n",
       "      <td>265019.0</td>\n",
       "      <td>2015.0</td>\n",
       "      <td>4.0</td>\n",
       "    </tr>\n",
       "    <tr>\n",
       "      <th>26050</th>\n",
       "      <td>26050</td>\n",
       "      <td>0.0</td>\n",
       "      <td>0.0</td>\n",
       "      <td>0.0</td>\n",
       "      <td>1.0</td>\n",
       "      <td>88174.0</td>\n",
       "      <td>2014.0</td>\n",
       "      <td>11.0</td>\n",
       "    </tr>\n",
       "    <tr>\n",
       "      <th>26051</th>\n",
       "      <td>26051</td>\n",
       "      <td>0.0</td>\n",
       "      <td>0.0</td>\n",
       "      <td>1.0</td>\n",
       "      <td>0.0</td>\n",
       "      <td>184410.0</td>\n",
       "      <td>2013.0</td>\n",
       "      <td>10.0</td>\n",
       "    </tr>\n",
       "  </tbody>\n",
       "</table>\n",
       "<p>26052 rows × 8 columns</p>\n",
       "</div>"
      ],
      "text/plain": [
       "       Unnamed: 0  ('Gold',)  ('Platinum',)  ('Signature',)  ('Silver',)  \\\n",
       "0               0        1.0            0.0             0.0          0.0   \n",
       "1               1        0.0            1.0             0.0          0.0   \n",
       "2               2        0.0            0.0             0.0          1.0   \n",
       "3               3        0.0            0.0             1.0          0.0   \n",
       "4               4        1.0            0.0             0.0          0.0   \n",
       "...           ...        ...            ...             ...          ...   \n",
       "26047       26047        0.0            0.0             0.0          1.0   \n",
       "26048       26048        0.0            0.0             1.0          0.0   \n",
       "26049       26049        0.0            0.0             0.0          1.0   \n",
       "26050       26050        0.0            0.0             0.0          1.0   \n",
       "26051       26051        0.0            0.0             1.0          0.0   \n",
       "\n",
       "         Amount    Year  Months  \n",
       "0       82475.0  2014.0    10.0  \n",
       "1       32555.0  2014.0     1.0  \n",
       "2      101738.0  2014.0     1.0  \n",
       "3      123424.0  2014.0     0.0  \n",
       "4      171574.0  2015.0     8.0  \n",
       "...         ...     ...     ...  \n",
       "26047  128191.0  2014.0     6.0  \n",
       "26048  246316.0  2014.0     1.0  \n",
       "26049  265019.0  2015.0     4.0  \n",
       "26050   88174.0  2014.0    11.0  \n",
       "26051  184410.0  2013.0    10.0  \n",
       "\n",
       "[26052 rows x 8 columns]"
      ]
     },
     "execution_count": 16,
     "metadata": {},
     "output_type": "execute_result"
    }
   ],
   "source": [
    "ts_data"
   ]
  },
  {
   "cell_type": "code",
   "execution_count": 17,
   "metadata": {},
   "outputs": [],
   "source": [
    "# X = ts_data['Months']\n",
    "# y = ts_data['Amount']\n",
    "\n",
    "# ts_data = pd.concat( [X , y] , axis=1 )"
   ]
  },
  {
   "cell_type": "code",
   "execution_count": 18,
   "metadata": {},
   "outputs": [],
   "source": [
    "ts_data['Months'] = ts_data['Months'].map( lambda x : x+1 )\n",
    "ts_data = ts_data.iloc[: , 1:]\n",
    "ts_data.drop( ['Year'] , axis=1 , inplace = True )"
   ]
  },
  {
   "cell_type": "code",
   "execution_count": 19,
   "metadata": {},
   "outputs": [
    {
     "data": {
      "text/html": [
       "<div>\n",
       "<style scoped>\n",
       "    .dataframe tbody tr th:only-of-type {\n",
       "        vertical-align: middle;\n",
       "    }\n",
       "\n",
       "    .dataframe tbody tr th {\n",
       "        vertical-align: top;\n",
       "    }\n",
       "\n",
       "    .dataframe thead th {\n",
       "        text-align: right;\n",
       "    }\n",
       "</style>\n",
       "<table border=\"1\" class=\"dataframe\">\n",
       "  <thead>\n",
       "    <tr style=\"text-align: right;\">\n",
       "      <th></th>\n",
       "      <th>('Gold',)</th>\n",
       "      <th>('Platinum',)</th>\n",
       "      <th>('Signature',)</th>\n",
       "      <th>('Silver',)</th>\n",
       "      <th>Amount</th>\n",
       "      <th>Months</th>\n",
       "    </tr>\n",
       "  </thead>\n",
       "  <tbody>\n",
       "    <tr>\n",
       "      <th>7597</th>\n",
       "      <td>0.0</td>\n",
       "      <td>1.0</td>\n",
       "      <td>0.0</td>\n",
       "      <td>0.0</td>\n",
       "      <td>38605.0</td>\n",
       "      <td>1.0</td>\n",
       "    </tr>\n",
       "    <tr>\n",
       "      <th>20633</th>\n",
       "      <td>0.0</td>\n",
       "      <td>0.0</td>\n",
       "      <td>0.0</td>\n",
       "      <td>1.0</td>\n",
       "      <td>56241.0</td>\n",
       "      <td>1.0</td>\n",
       "    </tr>\n",
       "    <tr>\n",
       "      <th>3672</th>\n",
       "      <td>0.0</td>\n",
       "      <td>0.0</td>\n",
       "      <td>0.0</td>\n",
       "      <td>1.0</td>\n",
       "      <td>265602.0</td>\n",
       "      <td>1.0</td>\n",
       "    </tr>\n",
       "    <tr>\n",
       "      <th>8637</th>\n",
       "      <td>0.0</td>\n",
       "      <td>0.0</td>\n",
       "      <td>1.0</td>\n",
       "      <td>0.0</td>\n",
       "      <td>161903.0</td>\n",
       "      <td>1.0</td>\n",
       "    </tr>\n",
       "    <tr>\n",
       "      <th>8635</th>\n",
       "      <td>0.0</td>\n",
       "      <td>1.0</td>\n",
       "      <td>0.0</td>\n",
       "      <td>0.0</td>\n",
       "      <td>168156.0</td>\n",
       "      <td>1.0</td>\n",
       "    </tr>\n",
       "    <tr>\n",
       "      <th>...</th>\n",
       "      <td>...</td>\n",
       "      <td>...</td>\n",
       "      <td>...</td>\n",
       "      <td>...</td>\n",
       "      <td>...</td>\n",
       "      <td>...</td>\n",
       "    </tr>\n",
       "    <tr>\n",
       "      <th>6470</th>\n",
       "      <td>0.0</td>\n",
       "      <td>0.0</td>\n",
       "      <td>0.0</td>\n",
       "      <td>1.0</td>\n",
       "      <td>282037.0</td>\n",
       "      <td>12.0</td>\n",
       "    </tr>\n",
       "    <tr>\n",
       "      <th>18276</th>\n",
       "      <td>1.0</td>\n",
       "      <td>0.0</td>\n",
       "      <td>0.0</td>\n",
       "      <td>0.0</td>\n",
       "      <td>36435.0</td>\n",
       "      <td>12.0</td>\n",
       "    </tr>\n",
       "    <tr>\n",
       "      <th>18275</th>\n",
       "      <td>0.0</td>\n",
       "      <td>0.0</td>\n",
       "      <td>0.0</td>\n",
       "      <td>1.0</td>\n",
       "      <td>211523.0</td>\n",
       "      <td>12.0</td>\n",
       "    </tr>\n",
       "    <tr>\n",
       "      <th>11329</th>\n",
       "      <td>0.0</td>\n",
       "      <td>0.0</td>\n",
       "      <td>1.0</td>\n",
       "      <td>0.0</td>\n",
       "      <td>244637.0</td>\n",
       "      <td>12.0</td>\n",
       "    </tr>\n",
       "    <tr>\n",
       "      <th>11446</th>\n",
       "      <td>0.0</td>\n",
       "      <td>1.0</td>\n",
       "      <td>0.0</td>\n",
       "      <td>0.0</td>\n",
       "      <td>14761.0</td>\n",
       "      <td>12.0</td>\n",
       "    </tr>\n",
       "  </tbody>\n",
       "</table>\n",
       "<p>26052 rows × 6 columns</p>\n",
       "</div>"
      ],
      "text/plain": [
       "       ('Gold',)  ('Platinum',)  ('Signature',)  ('Silver',)    Amount  Months\n",
       "7597         0.0            1.0             0.0          0.0   38605.0     1.0\n",
       "20633        0.0            0.0             0.0          1.0   56241.0     1.0\n",
       "3672         0.0            0.0             0.0          1.0  265602.0     1.0\n",
       "8637         0.0            0.0             1.0          0.0  161903.0     1.0\n",
       "8635         0.0            1.0             0.0          0.0  168156.0     1.0\n",
       "...          ...            ...             ...          ...       ...     ...\n",
       "6470         0.0            0.0             0.0          1.0  282037.0    12.0\n",
       "18276        1.0            0.0             0.0          0.0   36435.0    12.0\n",
       "18275        0.0            0.0             0.0          1.0  211523.0    12.0\n",
       "11329        0.0            0.0             1.0          0.0  244637.0    12.0\n",
       "11446        0.0            1.0             0.0          0.0   14761.0    12.0\n",
       "\n",
       "[26052 rows x 6 columns]"
      ]
     },
     "execution_count": 19,
     "metadata": {},
     "output_type": "execute_result"
    }
   ],
   "source": [
    "ts_data.sort_values( by=['Months'])\n"
   ]
  },
  {
   "cell_type": "code",
   "execution_count": 20,
   "metadata": {},
   "outputs": [
    {
     "data": {
      "text/plain": [
       "array([[ 1.75832959, -0.57055385, -0.57344981, -0.59668039, -0.71740367,\n",
       "         1.3264225 ],\n",
       "       [-0.56872159,  1.75268293, -0.57344981, -0.59668039, -1.2017757 ,\n",
       "        -1.28856965],\n",
       "       [-0.56872159, -0.57055385, -0.57344981,  1.67593912, -0.53049544,\n",
       "        -1.28856965],\n",
       "       ...,\n",
       "       [-0.56872159, -0.57055385, -0.57344981,  1.67593912,  1.05381445,\n",
       "        -0.4169056 ],\n",
       "       [-0.56872159, -0.57055385, -0.57344981,  1.67593912, -0.66210647,\n",
       "         1.61697719],\n",
       "       [-0.56872159, -0.57055385,  1.74383178, -0.59668039,  0.27166811,\n",
       "         1.3264225 ]])"
      ]
     },
     "execution_count": 20,
     "metadata": {},
     "output_type": "execute_result"
    }
   ],
   "source": [
    "from sklearn.preprocessing import StandardScaler\n",
    "\n",
    "std = StandardScaler()\n",
    "std.fit_transform(ts_data)"
   ]
  },
  {
   "cell_type": "code",
   "execution_count": 21,
   "metadata": {},
   "outputs": [],
   "source": [
    "X = ts_data.drop( ['Amount'] , axis =1 )\n",
    "y = ts_data['Amount']\n",
    "\n",
    "from sklearn.model_selection import train_test_split\n",
    "\n",
    "X_train , X_test , y_train , y_test  = train_test_split( X , y , test_size=0.2 )\n"
   ]
  },
  {
   "cell_type": "code",
   "execution_count": 22,
   "metadata": {},
   "outputs": [],
   "source": [
    "from tensorflow import keras \n"
   ]
  },
  {
   "cell_type": "code",
   "execution_count": 23,
   "metadata": {},
   "outputs": [
    {
     "data": {
      "text/plain": [
       "(20841, 5)"
      ]
     },
     "execution_count": 23,
     "metadata": {},
     "output_type": "execute_result"
    }
   ],
   "source": [
    "X_train.shape"
   ]
  },
  {
   "cell_type": "code",
   "execution_count": 24,
   "metadata": {},
   "outputs": [],
   "source": [
    "rnn_model = keras.models.Sequential([\n",
    "    # Stacked LSTM \n",
    "    keras.layers.LSTM( units = 50 , activation =\"relu\" , input_shape=( 5 , 1 ) , return_sequences=True )\n",
    "    , keras.layers.LSTM( units=25 , activation=\"relu\" )\n",
    "    , keras.layers.Dense(1 )\n",
    "    \n",
    "])"
   ]
  },
  {
   "cell_type": "code",
   "execution_count": 25,
   "metadata": {},
   "outputs": [],
   "source": [
    "rnn_model.compile( loss='mse' , optimizer = 'adam' , metrics = 'mse')\n",
    "\n"
   ]
  },
  {
   "cell_type": "code",
   "execution_count": 26,
   "metadata": {},
   "outputs": [
    {
     "name": "stdout",
     "output_type": "stream",
     "text": [
      "Epoch 1/10\n",
      "587/587 [==============================] - 4s 4ms/step - loss: 16783485952.0000 - mse: 16783485952.0000 - val_loss: 9842884608.0000 - val_mse: 9842884608.0000\n",
      "Epoch 2/10\n",
      "587/587 [==============================] - 2s 3ms/step - loss: 10858214400.0000 - mse: 10858214400.0000 - val_loss: 9872788480.0000 - val_mse: 9872788480.0000\n",
      "Epoch 3/10\n",
      "587/587 [==============================] - 2s 3ms/step - loss: 10849775616.0000 - mse: 10849775616.0000 - val_loss: 9857196032.0000 - val_mse: 9857196032.0000\n",
      "Epoch 4/10\n",
      "587/587 [==============================] - 2s 3ms/step - loss: 10849246208.0000 - mse: 10849246208.0000 - val_loss: 10056398848.0000 - val_mse: 10056398848.0000\n",
      "Epoch 5/10\n",
      "587/587 [==============================] - 2s 3ms/step - loss: 10884263936.0000 - mse: 10884263936.0000 - val_loss: 9880558592.0000 - val_mse: 9880558592.0000\n",
      "Epoch 6/10\n",
      "587/587 [==============================] - 2s 3ms/step - loss: 10850293760.0000 - mse: 10850293760.0000 - val_loss: 9849285632.0000 - val_mse: 9849285632.0000\n",
      "Epoch 7/10\n",
      "587/587 [==============================] - 2s 3ms/step - loss: 10865709056.0000 - mse: 10865709056.0000 - val_loss: 9867752448.0000 - val_mse: 9867752448.0000\n",
      "Epoch 8/10\n",
      "587/587 [==============================] - 2s 3ms/step - loss: 10856054784.0000 - mse: 10856054784.0000 - val_loss: 9866012672.0000 - val_mse: 9866012672.0000\n",
      "Epoch 9/10\n",
      "587/587 [==============================] - 2s 3ms/step - loss: 10871589888.0000 - mse: 10871589888.0000 - val_loss: 9857704960.0000 - val_mse: 9857704960.0000\n",
      "Epoch 10/10\n",
      "587/587 [==============================] - 2s 3ms/step - loss: 10859555840.0000 - mse: 10859555840.0000 - val_loss: 9851194368.0000 - val_mse: 9851194368.0000\n"
     ]
    }
   ],
   "source": [
    "history  = rnn_model.fit(  X_train , y_train , epochs = 10 , validation_split = 0.1  )"
   ]
  },
  {
   "cell_type": "code",
   "execution_count": 27,
   "metadata": {},
   "outputs": [
    {
     "name": "stdout",
     "output_type": "stream",
     "text": [
      "163/163 [==============================] - 0s 1ms/step\n"
     ]
    }
   ],
   "source": [
    "y_pred_rnn = rnn_model.predict( X_test)"
   ]
  },
  {
   "cell_type": "code",
   "execution_count": 28,
   "metadata": {},
   "outputs": [
    {
     "data": {
      "text/plain": [
       "-0.00043236560195580864"
      ]
     },
     "execution_count": 28,
     "metadata": {},
     "output_type": "execute_result"
    }
   ],
   "source": [
    "from sklearn.metrics import r2_score \n",
    "\n",
    "r2_score( y_test  , y_pred_rnn )"
   ]
  },
  {
   "cell_type": "code",
   "execution_count": 32,
   "metadata": {},
   "outputs": [
    {
     "name": "stdout",
     "output_type": "stream",
     "text": [
      "1/1 [==============================] - 0s 17ms/step\n"
     ]
    },
    {
     "data": {
      "text/plain": [
       "array([[157412.38]], dtype=float32)"
      ]
     },
     "execution_count": 32,
     "metadata": {},
     "output_type": "execute_result"
    }
   ],
   "source": [
    "rnn_model.predict( X_train[:1])"
   ]
  },
  {
   "cell_type": "code",
   "execution_count": 34,
   "metadata": {},
   "outputs": [
    {
     "data": {
      "text/plain": [
       "24294    85945.0\n",
       "Name: Amount, dtype: float64"
      ]
     },
     "execution_count": 34,
     "metadata": {},
     "output_type": "execute_result"
    }
   ],
   "source": [
    "y_train[:1]"
   ]
  },
  {
   "cell_type": "code",
   "execution_count": 29,
   "metadata": {},
   "outputs": [
    {
     "data": {
      "image/png": "[encoded data removed]",
      "text/plain": [
       "<Figure size 640x480 with 1 Axes>"
      ]
     },
     "metadata": {},
     "output_type": "display_data"
    }
   ],
   "source": [
    "pd.DataFrame(history.history).plot()\n",
    "plt.show()"
   ]
  },
  {
   "cell_type": "code",
   "execution_count": null,
   "metadata": {},
   "outputs": [],
   "source": []
  }
 ],
 "metadata": {
  "kernelspec": {
   "display_name": "Python 3",
   "language": "python",
   "name": "python3"
  },
  "language_info": {
   "codemirror_mode": {
    "name": "ipython",
    "version": 3
   },
   "file_extension": ".py",
   "mimetype": "text/x-python",
   "name": "python",
   "nbconvert_exporter": "python",
   "pygments_lexer": "ipython3",
   "version": "3.8.2"
  }
 },
 "nbformat": 4,
 "nbformat_minor": 2
}
