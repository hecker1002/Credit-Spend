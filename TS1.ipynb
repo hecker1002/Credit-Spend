{
 "cells": [
  {
   "cell_type": "code",
   "execution_count": 1,
   "metadata": {},
   "outputs": [],
   "source": [
    "import numpy as np \n",
    "import pandas as pd \n",
    "import matplotlib.pyplot as plt \n",
    "import seaborn as sns \n",
    "from mpl_toolkits import mplot3d\n",
    "import pickle # convert model into bytestream\n",
    "\n",
    "pd.options.mode.chained_assignment = None "
   ]
  },
  {
   "cell_type": "code",
   "execution_count": 2,
   "metadata": {},
   "outputs": [],
   "source": [
    "ts_data = pd.read_csv(\"df1.csv\")\n",
    "\n",
    "''' Try to make more features along with Months -X , labels = Amount like Crd and Gender '''"
   ]
  },
  {
   "cell_type": "code",
   "execution_count": 8,
   "metadata": {},
   "outputs": [],
   "source": [
    "X = ts_data['Months']\n",
    "y = ts_data['Amount']\n",
    "\n",
    "ts_data = pd.concat( [X , y] , axis=1 )"
   ]
  },
  {
   "cell_type": "code",
   "execution_count": 11,
   "metadata": {},
   "outputs": [
    {
     "data": {
      "text/html": [
       "<div>\n",
       "<style scoped>\n",
       "    .dataframe tbody tr th:only-of-type {\n",
       "        vertical-align: middle;\n",
       "    }\n",
       "\n",
       "    .dataframe tbody tr th {\n",
       "        vertical-align: top;\n",
       "    }\n",
       "\n",
       "    .dataframe thead th {\n",
       "        text-align: right;\n",
       "    }\n",
       "</style>\n",
       "<table border=\"1\" class=\"dataframe\">\n",
       "  <thead>\n",
       "    <tr style=\"text-align: right;\">\n",
       "      <th></th>\n",
       "      <th>Months</th>\n",
       "      <th>Amount</th>\n",
       "    </tr>\n",
       "  </thead>\n",
       "  <tbody>\n",
       "    <tr>\n",
       "      <th>7597</th>\n",
       "      <td>0.0</td>\n",
       "      <td>38605.0</td>\n",
       "    </tr>\n",
       "    <tr>\n",
       "      <th>20633</th>\n",
       "      <td>0.0</td>\n",
       "      <td>56241.0</td>\n",
       "    </tr>\n",
       "    <tr>\n",
       "      <th>3672</th>\n",
       "      <td>0.0</td>\n",
       "      <td>265602.0</td>\n",
       "    </tr>\n",
       "    <tr>\n",
       "      <th>8637</th>\n",
       "      <td>0.0</td>\n",
       "      <td>161903.0</td>\n",
       "    </tr>\n",
       "    <tr>\n",
       "      <th>8635</th>\n",
       "      <td>0.0</td>\n",
       "      <td>168156.0</td>\n",
       "    </tr>\n",
       "    <tr>\n",
       "      <th>...</th>\n",
       "      <td>...</td>\n",
       "      <td>...</td>\n",
       "    </tr>\n",
       "    <tr>\n",
       "      <th>6470</th>\n",
       "      <td>11.0</td>\n",
       "      <td>282037.0</td>\n",
       "    </tr>\n",
       "    <tr>\n",
       "      <th>18276</th>\n",
       "      <td>11.0</td>\n",
       "      <td>36435.0</td>\n",
       "    </tr>\n",
       "    <tr>\n",
       "      <th>18275</th>\n",
       "      <td>11.0</td>\n",
       "      <td>211523.0</td>\n",
       "    </tr>\n",
       "    <tr>\n",
       "      <th>11329</th>\n",
       "      <td>11.0</td>\n",
       "      <td>244637.0</td>\n",
       "    </tr>\n",
       "    <tr>\n",
       "      <th>11446</th>\n",
       "      <td>11.0</td>\n",
       "      <td>14761.0</td>\n",
       "    </tr>\n",
       "  </tbody>\n",
       "</table>\n",
       "<p>26052 rows × 2 columns</p>\n",
       "</div>"
      ],
      "text/plain": [
       "       Months    Amount\n",
       "7597      0.0   38605.0\n",
       "20633     0.0   56241.0\n",
       "3672      0.0  265602.0\n",
       "8637      0.0  161903.0\n",
       "8635      0.0  168156.0\n",
       "...       ...       ...\n",
       "6470     11.0  282037.0\n",
       "18276    11.0   36435.0\n",
       "18275    11.0  211523.0\n",
       "11329    11.0  244637.0\n",
       "11446    11.0   14761.0\n",
       "\n",
       "[26052 rows x 2 columns]"
      ]
     },
     "execution_count": 11,
     "metadata": {},
     "output_type": "execute_result"
    }
   ],
   "source": [
    "ts_data.sort_values( by=['Months'])"
   ]
  },
  {
   "cell_type": "code",
   "execution_count": 29,
   "metadata": {},
   "outputs": [
    {
     "data": {
      "text/plain": [
       "array([[ 1.3264225 , -0.71740367],\n",
       "       [-1.28856965, -1.2017757 ],\n",
       "       [-1.28856965, -0.53049544],\n",
       "       ...,\n",
       "       [-0.4169056 ,  1.05381445],\n",
       "       [ 1.61697719, -0.66210647],\n",
       "       [ 1.3264225 ,  0.27166811]])"
      ]
     },
     "execution_count": 29,
     "metadata": {},
     "output_type": "execute_result"
    }
   ],
   "source": [
    "from sklearn.preprocessing import StandardScaler\n",
    "\n",
    "std = StandardScaler()\n",
    "std.fit_transform(ts_data)"
   ]
  },
  {
   "cell_type": "code",
   "execution_count": 30,
   "metadata": {},
   "outputs": [],
   "source": [
    "X = ts_data['Months']\n",
    "y = ts_data['Amount']\n",
    "\n",
    "from sklearn.model_selection import train_test_split\n",
    "\n",
    "X_train , X_test , y_train , y_test  = train_test_split( X , y , test_size=0.2 )\n"
   ]
  },
  {
   "cell_type": "code",
   "execution_count": 12,
   "metadata": {},
   "outputs": [],
   "source": [
    "from tensorflow import keras \n"
   ]
  },
  {
   "cell_type": "code",
   "execution_count": 31,
   "metadata": {},
   "outputs": [],
   "source": [
    "rnn_model = keras.models.Sequential([\n",
    "    # Stacked LSTM \n",
    "    keras.layers.LSTM( units = 50 , activation =\"relu\" , input_shape=(1  , 1 ) , return_sequences=True )\n",
    "    , keras.layers.LSTM( units=25 , activation=\"relu\" )\n",
    "    , keras.layers.Dense(1 )\n",
    "    \n",
    "])"
   ]
  },
  {
   "cell_type": "code",
   "execution_count": 32,
   "metadata": {},
   "outputs": [],
   "source": [
    "rnn_model.compile( loss='mse' , optimizer = 'adam' , metrics = 'mse')\n",
    "\n"
   ]
  },
  {
   "cell_type": "code",
   "execution_count": 33,
   "metadata": {},
   "outputs": [
    {
     "name": "stdout",
     "output_type": "stream",
     "text": [
      "Epoch 1/10\n"
     ]
    },
    {
     "name": "stdout",
     "output_type": "stream",
     "text": [
      "652/652 [==============================] - 4s 2ms/step - loss: 35009351680.0000 - mse: 35009351680.0000\n",
      "Epoch 2/10\n",
      "652/652 [==============================] - 2s 2ms/step - loss: 32761835520.0000 - mse: 32761835520.0000\n",
      "Epoch 3/10\n",
      "652/652 [==============================] - 2s 3ms/step - loss: 27316926464.0000 - mse: 27316926464.0000\n",
      "Epoch 4/10\n",
      "652/652 [==============================] - 2s 3ms/step - loss: 21045362688.0000 - mse: 21045362688.0000\n",
      "Epoch 5/10\n",
      "652/652 [==============================] - 2s 3ms/step - loss: 17266653184.0000 - mse: 17266653184.0000\n",
      "Epoch 6/10\n",
      "652/652 [==============================] - 2s 3ms/step - loss: 16180871168.0000 - mse: 16180871168.0000\n",
      "Epoch 7/10\n",
      "652/652 [==============================] - 2s 2ms/step - loss: 15938070528.0000 - mse: 15938070528.0000\n",
      "Epoch 8/10\n",
      "652/652 [==============================] - 2s 2ms/step - loss: 15752580096.0000 - mse: 15752580096.0000\n",
      "Epoch 9/10\n",
      "652/652 [==============================] - 2s 2ms/step - loss: 15553019904.0000 - mse: 15553019904.0000\n",
      "Epoch 10/10\n",
      "652/652 [==============================] - 2s 2ms/step - loss: 15339541504.0000 - mse: 15339541504.0000\n"
     ]
    }
   ],
   "source": [
    "history  = rnn_model.fit(  X_train , y_train , epochs = 10 )"
   ]
  },
  {
   "cell_type": "code",
   "execution_count": 34,
   "metadata": {},
   "outputs": [
    {
     "name": "stdout",
     "output_type": "stream",
     "text": [
      "163/163 [==============================] - 1s 1ms/step\n"
     ]
    }
   ],
   "source": [
    "y_pred_rnn = rnn_model.predict( X_test)"
   ]
  },
  {
   "cell_type": "code",
   "execution_count": 35,
   "metadata": {},
   "outputs": [
    {
     "data": {
      "text/plain": [
       "-0.43898026866615214"
      ]
     },
     "execution_count": 35,
     "metadata": {},
     "output_type": "execute_result"
    }
   ],
   "source": [
    "from sklearn.metrics import r2_score \n",
    "\n",
    "r2_score( y_test  , y_pred_rnn )"
   ]
  },
  {
   "cell_type": "code",
   "execution_count": null,
   "metadata": {},
   "outputs": [],
   "source": []
  }
 ],
 "metadata": {
  "kernelspec": {
   "display_name": "Python 3",
   "language": "python",
   "name": "python3"
  },
  "language_info": {
   "codemirror_mode": {
    "name": "ipython",
    "version": 3
   },
   "file_extension": ".py",
   "mimetype": "text/x-python",
   "name": "python",
   "nbconvert_exporter": "python",
   "pygments_lexer": "ipython3",
   "version": "3.8.2"
  }
 },
 "nbformat": 4,
 "nbformat_minor": 2
}
